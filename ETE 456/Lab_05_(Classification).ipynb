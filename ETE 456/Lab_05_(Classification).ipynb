{
  "nbformat": 4,
  "nbformat_minor": 0,
  "metadata": {
    "colab": {
      "name": "Lab-05_(Classification).ipynb",
      "provenance": [],
      "collapsed_sections": [],
      "authorship_tag": "ABX9TyOHIT/0fs4lvuJ/81OU2iA+",
      "include_colab_link": true
    },
    "kernelspec": {
      "name": "python3",
      "display_name": "Python 3"
    },
    "language_info": {
      "name": "python"
    },
    "widgets": {
      "application/vnd.jupyter.widget-state+json": {
        "be4d1bcd17f74eeaa2dc300b81d1e5d1": {
          "model_module": "@jupyter-widgets/controls",
          "model_name": "HBoxModel",
          "model_module_version": "1.5.0",
          "state": {
            "_view_name": "HBoxView",
            "_dom_classes": [],
            "_model_name": "HBoxModel",
            "_view_module": "@jupyter-widgets/controls",
            "_model_module_version": "1.5.0",
            "_view_count": null,
            "_view_module_version": "1.5.0",
            "box_style": "",
            "layout": "IPY_MODEL_aa030e2775ff45ae978e331e3fe932e7",
            "_model_module": "@jupyter-widgets/controls",
            "children": [
              "IPY_MODEL_5875b8efbf984c8fa4308a7772f88714",
              "IPY_MODEL_4ee79415f9ff45cbbbcbd7c3095a28ef",
              "IPY_MODEL_bf2e637b4f15413c892f569a4ce8bb24"
            ]
          }
        },
        "aa030e2775ff45ae978e331e3fe932e7": {
          "model_module": "@jupyter-widgets/base",
          "model_name": "LayoutModel",
          "model_module_version": "1.2.0",
          "state": {
            "_view_name": "LayoutView",
            "grid_template_rows": null,
            "right": null,
            "justify_content": null,
            "_view_module": "@jupyter-widgets/base",
            "overflow": null,
            "_model_module_version": "1.2.0",
            "_view_count": null,
            "flex_flow": null,
            "width": null,
            "min_width": null,
            "border": null,
            "align_items": null,
            "bottom": null,
            "_model_module": "@jupyter-widgets/base",
            "top": null,
            "grid_column": null,
            "overflow_y": null,
            "overflow_x": null,
            "grid_auto_flow": null,
            "grid_area": null,
            "grid_template_columns": null,
            "flex": null,
            "_model_name": "LayoutModel",
            "justify_items": null,
            "grid_row": null,
            "max_height": null,
            "align_content": null,
            "visibility": null,
            "align_self": null,
            "height": null,
            "min_height": null,
            "padding": null,
            "grid_auto_rows": null,
            "grid_gap": null,
            "max_width": null,
            "order": null,
            "_view_module_version": "1.2.0",
            "grid_template_areas": null,
            "object_position": null,
            "object_fit": null,
            "grid_auto_columns": null,
            "margin": null,
            "display": null,
            "left": null
          }
        },
        "5875b8efbf984c8fa4308a7772f88714": {
          "model_module": "@jupyter-widgets/controls",
          "model_name": "HTMLModel",
          "model_module_version": "1.5.0",
          "state": {
            "_view_name": "HTMLView",
            "style": "IPY_MODEL_cb3677a351374a0c8a637ded41145e35",
            "_dom_classes": [],
            "description": "",
            "_model_name": "HTMLModel",
            "placeholder": "​",
            "_view_module": "@jupyter-widgets/controls",
            "_model_module_version": "1.5.0",
            "value": "Render HTML: 100%",
            "_view_count": null,
            "_view_module_version": "1.5.0",
            "description_tooltip": null,
            "_model_module": "@jupyter-widgets/controls",
            "layout": "IPY_MODEL_76d1d23e19cd44a4b1872b8e59d8a14d"
          }
        },
        "4ee79415f9ff45cbbbcbd7c3095a28ef": {
          "model_module": "@jupyter-widgets/controls",
          "model_name": "FloatProgressModel",
          "model_module_version": "1.5.0",
          "state": {
            "_view_name": "ProgressView",
            "style": "IPY_MODEL_6ba6f273ba5b4caab5d089a6d2160587",
            "_dom_classes": [],
            "description": "",
            "_model_name": "FloatProgressModel",
            "bar_style": "success",
            "max": 1,
            "_view_module": "@jupyter-widgets/controls",
            "_model_module_version": "1.5.0",
            "value": 1,
            "_view_count": null,
            "_view_module_version": "1.5.0",
            "orientation": "horizontal",
            "min": 0,
            "description_tooltip": null,
            "_model_module": "@jupyter-widgets/controls",
            "layout": "IPY_MODEL_d00acf9c09a842c3b9e14bc2b709f33b"
          }
        },
        "bf2e637b4f15413c892f569a4ce8bb24": {
          "model_module": "@jupyter-widgets/controls",
          "model_name": "HTMLModel",
          "model_module_version": "1.5.0",
          "state": {
            "_view_name": "HTMLView",
            "style": "IPY_MODEL_47ea40d7db924a028e8cf334f5bc9ad3",
            "_dom_classes": [],
            "description": "",
            "_model_name": "HTMLModel",
            "placeholder": "​",
            "_view_module": "@jupyter-widgets/controls",
            "_model_module_version": "1.5.0",
            "value": " 1/1 [00:01&lt;00:00,  1.12s/it]",
            "_view_count": null,
            "_view_module_version": "1.5.0",
            "description_tooltip": null,
            "_model_module": "@jupyter-widgets/controls",
            "layout": "IPY_MODEL_b97bd396f5c842a2b109fb86d1046f0a"
          }
        },
        "cb3677a351374a0c8a637ded41145e35": {
          "model_module": "@jupyter-widgets/controls",
          "model_name": "DescriptionStyleModel",
          "model_module_version": "1.5.0",
          "state": {
            "_view_name": "StyleView",
            "_model_name": "DescriptionStyleModel",
            "description_width": "",
            "_view_module": "@jupyter-widgets/base",
            "_model_module_version": "1.5.0",
            "_view_count": null,
            "_view_module_version": "1.2.0",
            "_model_module": "@jupyter-widgets/controls"
          }
        },
        "76d1d23e19cd44a4b1872b8e59d8a14d": {
          "model_module": "@jupyter-widgets/base",
          "model_name": "LayoutModel",
          "model_module_version": "1.2.0",
          "state": {
            "_view_name": "LayoutView",
            "grid_template_rows": null,
            "right": null,
            "justify_content": null,
            "_view_module": "@jupyter-widgets/base",
            "overflow": null,
            "_model_module_version": "1.2.0",
            "_view_count": null,
            "flex_flow": null,
            "width": null,
            "min_width": null,
            "border": null,
            "align_items": null,
            "bottom": null,
            "_model_module": "@jupyter-widgets/base",
            "top": null,
            "grid_column": null,
            "overflow_y": null,
            "overflow_x": null,
            "grid_auto_flow": null,
            "grid_area": null,
            "grid_template_columns": null,
            "flex": null,
            "_model_name": "LayoutModel",
            "justify_items": null,
            "grid_row": null,
            "max_height": null,
            "align_content": null,
            "visibility": null,
            "align_self": null,
            "height": null,
            "min_height": null,
            "padding": null,
            "grid_auto_rows": null,
            "grid_gap": null,
            "max_width": null,
            "order": null,
            "_view_module_version": "1.2.0",
            "grid_template_areas": null,
            "object_position": null,
            "object_fit": null,
            "grid_auto_columns": null,
            "margin": null,
            "display": null,
            "left": null
          }
        },
        "6ba6f273ba5b4caab5d089a6d2160587": {
          "model_module": "@jupyter-widgets/controls",
          "model_name": "ProgressStyleModel",
          "model_module_version": "1.5.0",
          "state": {
            "_view_name": "StyleView",
            "_model_name": "ProgressStyleModel",
            "description_width": "",
            "_view_module": "@jupyter-widgets/base",
            "_model_module_version": "1.5.0",
            "_view_count": null,
            "_view_module_version": "1.2.0",
            "bar_color": null,
            "_model_module": "@jupyter-widgets/controls"
          }
        },
        "d00acf9c09a842c3b9e14bc2b709f33b": {
          "model_module": "@jupyter-widgets/base",
          "model_name": "LayoutModel",
          "model_module_version": "1.2.0",
          "state": {
            "_view_name": "LayoutView",
            "grid_template_rows": null,
            "right": null,
            "justify_content": null,
            "_view_module": "@jupyter-widgets/base",
            "overflow": null,
            "_model_module_version": "1.2.0",
            "_view_count": null,
            "flex_flow": null,
            "width": null,
            "min_width": null,
            "border": null,
            "align_items": null,
            "bottom": null,
            "_model_module": "@jupyter-widgets/base",
            "top": null,
            "grid_column": null,
            "overflow_y": null,
            "overflow_x": null,
            "grid_auto_flow": null,
            "grid_area": null,
            "grid_template_columns": null,
            "flex": null,
            "_model_name": "LayoutModel",
            "justify_items": null,
            "grid_row": null,
            "max_height": null,
            "align_content": null,
            "visibility": null,
            "align_self": null,
            "height": null,
            "min_height": null,
            "padding": null,
            "grid_auto_rows": null,
            "grid_gap": null,
            "max_width": null,
            "order": null,
            "_view_module_version": "1.2.0",
            "grid_template_areas": null,
            "object_position": null,
            "object_fit": null,
            "grid_auto_columns": null,
            "margin": null,
            "display": null,
            "left": null
          }
        },
        "47ea40d7db924a028e8cf334f5bc9ad3": {
          "model_module": "@jupyter-widgets/controls",
          "model_name": "DescriptionStyleModel",
          "model_module_version": "1.5.0",
          "state": {
            "_view_name": "StyleView",
            "_model_name": "DescriptionStyleModel",
            "description_width": "",
            "_view_module": "@jupyter-widgets/base",
            "_model_module_version": "1.5.0",
            "_view_count": null,
            "_view_module_version": "1.2.0",
            "_model_module": "@jupyter-widgets/controls"
          }
        },
        "b97bd396f5c842a2b109fb86d1046f0a": {
          "model_module": "@jupyter-widgets/base",
          "model_name": "LayoutModel",
          "model_module_version": "1.2.0",
          "state": {
            "_view_name": "LayoutView",
            "grid_template_rows": null,
            "right": null,
            "justify_content": null,
            "_view_module": "@jupyter-widgets/base",
            "overflow": null,
            "_model_module_version": "1.2.0",
            "_view_count": null,
            "flex_flow": null,
            "width": null,
            "min_width": null,
            "border": null,
            "align_items": null,
            "bottom": null,
            "_model_module": "@jupyter-widgets/base",
            "top": null,
            "grid_column": null,
            "overflow_y": null,
            "overflow_x": null,
            "grid_auto_flow": null,
            "grid_area": null,
            "grid_template_columns": null,
            "flex": null,
            "_model_name": "LayoutModel",
            "justify_items": null,
            "grid_row": null,
            "max_height": null,
            "align_content": null,
            "visibility": null,
            "align_self": null,
            "height": null,
            "min_height": null,
            "padding": null,
            "grid_auto_rows": null,
            "grid_gap": null,
            "max_width": null,
            "order": null,
            "_view_module_version": "1.2.0",
            "grid_template_areas": null,
            "object_position": null,
            "object_fit": null,
            "grid_auto_columns": null,
            "margin": null,
            "display": null,
            "left": null
          }
        },
        "7239ca81716143f3bc035979da6e4f40": {
          "model_module": "@jupyter-widgets/controls",
          "model_name": "HBoxModel",
          "model_module_version": "1.5.0",
          "state": {
            "_view_name": "HBoxView",
            "_dom_classes": [],
            "_model_name": "HBoxModel",
            "_view_module": "@jupyter-widgets/controls",
            "_model_module_version": "1.5.0",
            "_view_count": null,
            "_view_module_version": "1.5.0",
            "box_style": "",
            "layout": "IPY_MODEL_1ea8959b7f0745dfa91a1a6704a28dee",
            "_model_module": "@jupyter-widgets/controls",
            "children": [
              "IPY_MODEL_094b0945f27b4306a173102c1eeb3695",
              "IPY_MODEL_68401862dd0d45c3a347efde000c42a5",
              "IPY_MODEL_2c05a49d49d54236a672290eb04ab901"
            ]
          }
        },
        "1ea8959b7f0745dfa91a1a6704a28dee": {
          "model_module": "@jupyter-widgets/base",
          "model_name": "LayoutModel",
          "model_module_version": "1.2.0",
          "state": {
            "_view_name": "LayoutView",
            "grid_template_rows": null,
            "right": null,
            "justify_content": null,
            "_view_module": "@jupyter-widgets/base",
            "overflow": null,
            "_model_module_version": "1.2.0",
            "_view_count": null,
            "flex_flow": null,
            "width": null,
            "min_width": null,
            "border": null,
            "align_items": null,
            "bottom": null,
            "_model_module": "@jupyter-widgets/base",
            "top": null,
            "grid_column": null,
            "overflow_y": null,
            "overflow_x": null,
            "grid_auto_flow": null,
            "grid_area": null,
            "grid_template_columns": null,
            "flex": null,
            "_model_name": "LayoutModel",
            "justify_items": null,
            "grid_row": null,
            "max_height": null,
            "align_content": null,
            "visibility": null,
            "align_self": null,
            "height": null,
            "min_height": null,
            "padding": null,
            "grid_auto_rows": null,
            "grid_gap": null,
            "max_width": null,
            "order": null,
            "_view_module_version": "1.2.0",
            "grid_template_areas": null,
            "object_position": null,
            "object_fit": null,
            "grid_auto_columns": null,
            "margin": null,
            "display": null,
            "left": null
          }
        },
        "094b0945f27b4306a173102c1eeb3695": {
          "model_module": "@jupyter-widgets/controls",
          "model_name": "HTMLModel",
          "model_module_version": "1.5.0",
          "state": {
            "_view_name": "HTMLView",
            "style": "IPY_MODEL_e54f8258704b4e90947b80f7da4e6a5c",
            "_dom_classes": [],
            "description": "",
            "_model_name": "HTMLModel",
            "placeholder": "​",
            "_view_module": "@jupyter-widgets/controls",
            "_model_module_version": "1.5.0",
            "value": "Export report to file: 100%",
            "_view_count": null,
            "_view_module_version": "1.5.0",
            "description_tooltip": null,
            "_model_module": "@jupyter-widgets/controls",
            "layout": "IPY_MODEL_bb01f8de0745461bb778388ccda1e4f9"
          }
        },
        "68401862dd0d45c3a347efde000c42a5": {
          "model_module": "@jupyter-widgets/controls",
          "model_name": "FloatProgressModel",
          "model_module_version": "1.5.0",
          "state": {
            "_view_name": "ProgressView",
            "style": "IPY_MODEL_d9b7cff2321848f0b5e935a89066ed49",
            "_dom_classes": [],
            "description": "",
            "_model_name": "FloatProgressModel",
            "bar_style": "success",
            "max": 1,
            "_view_module": "@jupyter-widgets/controls",
            "_model_module_version": "1.5.0",
            "value": 1,
            "_view_count": null,
            "_view_module_version": "1.5.0",
            "orientation": "horizontal",
            "min": 0,
            "description_tooltip": null,
            "_model_module": "@jupyter-widgets/controls",
            "layout": "IPY_MODEL_ae03a928b80c4785bed036bc645e3604"
          }
        },
        "2c05a49d49d54236a672290eb04ab901": {
          "model_module": "@jupyter-widgets/controls",
          "model_name": "HTMLModel",
          "model_module_version": "1.5.0",
          "state": {
            "_view_name": "HTMLView",
            "style": "IPY_MODEL_066a14f6a9044c249d058cc7de554e77",
            "_dom_classes": [],
            "description": "",
            "_model_name": "HTMLModel",
            "placeholder": "​",
            "_view_module": "@jupyter-widgets/controls",
            "_model_module_version": "1.5.0",
            "value": " 1/1 [00:00&lt;00:00, 20.24it/s]",
            "_view_count": null,
            "_view_module_version": "1.5.0",
            "description_tooltip": null,
            "_model_module": "@jupyter-widgets/controls",
            "layout": "IPY_MODEL_cc4f4e7832144f9c97fe39f3c8709643"
          }
        },
        "e54f8258704b4e90947b80f7da4e6a5c": {
          "model_module": "@jupyter-widgets/controls",
          "model_name": "DescriptionStyleModel",
          "model_module_version": "1.5.0",
          "state": {
            "_view_name": "StyleView",
            "_model_name": "DescriptionStyleModel",
            "description_width": "",
            "_view_module": "@jupyter-widgets/base",
            "_model_module_version": "1.5.0",
            "_view_count": null,
            "_view_module_version": "1.2.0",
            "_model_module": "@jupyter-widgets/controls"
          }
        },
        "bb01f8de0745461bb778388ccda1e4f9": {
          "model_module": "@jupyter-widgets/base",
          "model_name": "LayoutModel",
          "model_module_version": "1.2.0",
          "state": {
            "_view_name": "LayoutView",
            "grid_template_rows": null,
            "right": null,
            "justify_content": null,
            "_view_module": "@jupyter-widgets/base",
            "overflow": null,
            "_model_module_version": "1.2.0",
            "_view_count": null,
            "flex_flow": null,
            "width": null,
            "min_width": null,
            "border": null,
            "align_items": null,
            "bottom": null,
            "_model_module": "@jupyter-widgets/base",
            "top": null,
            "grid_column": null,
            "overflow_y": null,
            "overflow_x": null,
            "grid_auto_flow": null,
            "grid_area": null,
            "grid_template_columns": null,
            "flex": null,
            "_model_name": "LayoutModel",
            "justify_items": null,
            "grid_row": null,
            "max_height": null,
            "align_content": null,
            "visibility": null,
            "align_self": null,
            "height": null,
            "min_height": null,
            "padding": null,
            "grid_auto_rows": null,
            "grid_gap": null,
            "max_width": null,
            "order": null,
            "_view_module_version": "1.2.0",
            "grid_template_areas": null,
            "object_position": null,
            "object_fit": null,
            "grid_auto_columns": null,
            "margin": null,
            "display": null,
            "left": null
          }
        },
        "d9b7cff2321848f0b5e935a89066ed49": {
          "model_module": "@jupyter-widgets/controls",
          "model_name": "ProgressStyleModel",
          "model_module_version": "1.5.0",
          "state": {
            "_view_name": "StyleView",
            "_model_name": "ProgressStyleModel",
            "description_width": "",
            "_view_module": "@jupyter-widgets/base",
            "_model_module_version": "1.5.0",
            "_view_count": null,
            "_view_module_version": "1.2.0",
            "bar_color": null,
            "_model_module": "@jupyter-widgets/controls"
          }
        },
        "ae03a928b80c4785bed036bc645e3604": {
          "model_module": "@jupyter-widgets/base",
          "model_name": "LayoutModel",
          "model_module_version": "1.2.0",
          "state": {
            "_view_name": "LayoutView",
            "grid_template_rows": null,
            "right": null,
            "justify_content": null,
            "_view_module": "@jupyter-widgets/base",
            "overflow": null,
            "_model_module_version": "1.2.0",
            "_view_count": null,
            "flex_flow": null,
            "width": null,
            "min_width": null,
            "border": null,
            "align_items": null,
            "bottom": null,
            "_model_module": "@jupyter-widgets/base",
            "top": null,
            "grid_column": null,
            "overflow_y": null,
            "overflow_x": null,
            "grid_auto_flow": null,
            "grid_area": null,
            "grid_template_columns": null,
            "flex": null,
            "_model_name": "LayoutModel",
            "justify_items": null,
            "grid_row": null,
            "max_height": null,
            "align_content": null,
            "visibility": null,
            "align_self": null,
            "height": null,
            "min_height": null,
            "padding": null,
            "grid_auto_rows": null,
            "grid_gap": null,
            "max_width": null,
            "order": null,
            "_view_module_version": "1.2.0",
            "grid_template_areas": null,
            "object_position": null,
            "object_fit": null,
            "grid_auto_columns": null,
            "margin": null,
            "display": null,
            "left": null
          }
        },
        "066a14f6a9044c249d058cc7de554e77": {
          "model_module": "@jupyter-widgets/controls",
          "model_name": "DescriptionStyleModel",
          "model_module_version": "1.5.0",
          "state": {
            "_view_name": "StyleView",
            "_model_name": "DescriptionStyleModel",
            "description_width": "",
            "_view_module": "@jupyter-widgets/base",
            "_model_module_version": "1.5.0",
            "_view_count": null,
            "_view_module_version": "1.2.0",
            "_model_module": "@jupyter-widgets/controls"
          }
        },
        "cc4f4e7832144f9c97fe39f3c8709643": {
          "model_module": "@jupyter-widgets/base",
          "model_name": "LayoutModel",
          "model_module_version": "1.2.0",
          "state": {
            "_view_name": "LayoutView",
            "grid_template_rows": null,
            "right": null,
            "justify_content": null,
            "_view_module": "@jupyter-widgets/base",
            "overflow": null,
            "_model_module_version": "1.2.0",
            "_view_count": null,
            "flex_flow": null,
            "width": null,
            "min_width": null,
            "border": null,
            "align_items": null,
            "bottom": null,
            "_model_module": "@jupyter-widgets/base",
            "top": null,
            "grid_column": null,
            "overflow_y": null,
            "overflow_x": null,
            "grid_auto_flow": null,
            "grid_area": null,
            "grid_template_columns": null,
            "flex": null,
            "_model_name": "LayoutModel",
            "justify_items": null,
            "grid_row": null,
            "max_height": null,
            "align_content": null,
            "visibility": null,
            "align_self": null,
            "height": null,
            "min_height": null,
            "padding": null,
            "grid_auto_rows": null,
            "grid_gap": null,
            "max_width": null,
            "order": null,
            "_view_module_version": "1.2.0",
            "grid_template_areas": null,
            "object_position": null,
            "object_fit": null,
            "grid_auto_columns": null,
            "margin": null,
            "display": null,
            "left": null
          }
        },
        "eaef3c014a9941c2a963b03781de44b5": {
          "model_module": "@jupyter-widgets/controls",
          "model_name": "HBoxModel",
          "model_module_version": "1.5.0",
          "state": {
            "_view_name": "HBoxView",
            "_dom_classes": [],
            "_model_name": "HBoxModel",
            "_view_module": "@jupyter-widgets/controls",
            "_model_module_version": "1.5.0",
            "_view_count": null,
            "_view_module_version": "1.5.0",
            "box_style": "",
            "layout": "IPY_MODEL_3d7509b500fb4eeba2d55d4e6e2c3e82",
            "_model_module": "@jupyter-widgets/controls",
            "children": [
              "IPY_MODEL_f046610afa244946a3c3fd57261fe641",
              "IPY_MODEL_608a7d47b24248138d1b211e73c1d115",
              "IPY_MODEL_b3878136bb424e0fb172931a99153811"
            ]
          }
        },
        "3d7509b500fb4eeba2d55d4e6e2c3e82": {
          "model_module": "@jupyter-widgets/base",
          "model_name": "LayoutModel",
          "model_module_version": "1.2.0",
          "state": {
            "_view_name": "LayoutView",
            "grid_template_rows": null,
            "right": null,
            "justify_content": null,
            "_view_module": "@jupyter-widgets/base",
            "overflow": null,
            "_model_module_version": "1.2.0",
            "_view_count": null,
            "flex_flow": "row wrap",
            "width": "100%",
            "min_width": null,
            "border": null,
            "align_items": null,
            "bottom": null,
            "_model_module": "@jupyter-widgets/base",
            "top": null,
            "grid_column": null,
            "overflow_y": null,
            "overflow_x": null,
            "grid_auto_flow": null,
            "grid_area": null,
            "grid_template_columns": null,
            "flex": null,
            "_model_name": "LayoutModel",
            "justify_items": null,
            "grid_row": null,
            "max_height": null,
            "align_content": null,
            "visibility": null,
            "align_self": null,
            "height": null,
            "min_height": null,
            "padding": null,
            "grid_auto_rows": null,
            "grid_gap": null,
            "max_width": null,
            "order": null,
            "_view_module_version": "1.2.0",
            "grid_template_areas": null,
            "object_position": null,
            "object_fit": null,
            "grid_auto_columns": null,
            "margin": null,
            "display": "inline-flex",
            "left": null
          }
        },
        "f046610afa244946a3c3fd57261fe641": {
          "model_module": "@jupyter-widgets/controls",
          "model_name": "HTMLModel",
          "model_module_version": "1.5.0",
          "state": {
            "_view_name": "HTMLView",
            "style": "IPY_MODEL_2a85d15e187a4c12afe69140b1a90da0",
            "_dom_classes": [],
            "description": "",
            "_model_name": "HTMLModel",
            "placeholder": "​",
            "_view_module": "@jupyter-widgets/controls",
            "_model_module_version": "1.5.0",
            "value": "Done! Use &#x27;show&#x27; commands to display/save.   ",
            "_view_count": null,
            "_view_module_version": "1.5.0",
            "description_tooltip": null,
            "_model_module": "@jupyter-widgets/controls",
            "layout": "IPY_MODEL_a09d3b36e05e43019311abcf08ad59c0"
          }
        },
        "608a7d47b24248138d1b211e73c1d115": {
          "model_module": "@jupyter-widgets/controls",
          "model_name": "FloatProgressModel",
          "model_module_version": "1.5.0",
          "state": {
            "_view_name": "ProgressView",
            "style": "IPY_MODEL_9595174864f84917aafdb5d2b7bffa07",
            "_dom_classes": [],
            "description": "",
            "_model_name": "FloatProgressModel",
            "bar_style": "success",
            "max": 1,
            "_view_module": "@jupyter-widgets/controls",
            "_model_module_version": "1.5.0",
            "value": 1,
            "_view_count": null,
            "_view_module_version": "1.5.0",
            "orientation": "horizontal",
            "min": 0,
            "description_tooltip": null,
            "_model_module": "@jupyter-widgets/controls",
            "layout": "IPY_MODEL_f8ff9966e0f84a99baa2ef87d659ab1e"
          }
        },
        "b3878136bb424e0fb172931a99153811": {
          "model_module": "@jupyter-widgets/controls",
          "model_name": "HTMLModel",
          "model_module_version": "1.5.0",
          "state": {
            "_view_name": "HTMLView",
            "style": "IPY_MODEL_160d044925554252a39123235ac243ba",
            "_dom_classes": [],
            "description": "",
            "_model_name": "HTMLModel",
            "placeholder": "​",
            "_view_module": "@jupyter-widgets/controls",
            "_model_module_version": "1.5.0",
            "value": " [100%]   00:01 -&gt; (00:00 left)",
            "_view_count": null,
            "_view_module_version": "1.5.0",
            "description_tooltip": null,
            "_model_module": "@jupyter-widgets/controls",
            "layout": "IPY_MODEL_81a02718860c40ba876ea383f490408b"
          }
        },
        "2a85d15e187a4c12afe69140b1a90da0": {
          "model_module": "@jupyter-widgets/controls",
          "model_name": "DescriptionStyleModel",
          "model_module_version": "1.5.0",
          "state": {
            "_view_name": "StyleView",
            "_model_name": "DescriptionStyleModel",
            "description_width": "",
            "_view_module": "@jupyter-widgets/base",
            "_model_module_version": "1.5.0",
            "_view_count": null,
            "_view_module_version": "1.2.0",
            "_model_module": "@jupyter-widgets/controls"
          }
        },
        "a09d3b36e05e43019311abcf08ad59c0": {
          "model_module": "@jupyter-widgets/base",
          "model_name": "LayoutModel",
          "model_module_version": "1.2.0",
          "state": {
            "_view_name": "LayoutView",
            "grid_template_rows": null,
            "right": null,
            "justify_content": null,
            "_view_module": "@jupyter-widgets/base",
            "overflow": null,
            "_model_module_version": "1.2.0",
            "_view_count": null,
            "flex_flow": null,
            "width": null,
            "min_width": null,
            "border": null,
            "align_items": null,
            "bottom": null,
            "_model_module": "@jupyter-widgets/base",
            "top": null,
            "grid_column": null,
            "overflow_y": null,
            "overflow_x": null,
            "grid_auto_flow": null,
            "grid_area": null,
            "grid_template_columns": null,
            "flex": null,
            "_model_name": "LayoutModel",
            "justify_items": null,
            "grid_row": null,
            "max_height": null,
            "align_content": null,
            "visibility": null,
            "align_self": null,
            "height": null,
            "min_height": null,
            "padding": null,
            "grid_auto_rows": null,
            "grid_gap": null,
            "max_width": null,
            "order": null,
            "_view_module_version": "1.2.0",
            "grid_template_areas": null,
            "object_position": null,
            "object_fit": null,
            "grid_auto_columns": null,
            "margin": null,
            "display": null,
            "left": null
          }
        },
        "9595174864f84917aafdb5d2b7bffa07": {
          "model_module": "@jupyter-widgets/controls",
          "model_name": "ProgressStyleModel",
          "model_module_version": "1.5.0",
          "state": {
            "_view_name": "StyleView",
            "_model_name": "ProgressStyleModel",
            "description_width": "",
            "_view_module": "@jupyter-widgets/base",
            "_model_module_version": "1.5.0",
            "_view_count": null,
            "_view_module_version": "1.2.0",
            "bar_color": null,
            "_model_module": "@jupyter-widgets/controls"
          }
        },
        "f8ff9966e0f84a99baa2ef87d659ab1e": {
          "model_module": "@jupyter-widgets/base",
          "model_name": "LayoutModel",
          "model_module_version": "1.2.0",
          "state": {
            "_view_name": "LayoutView",
            "grid_template_rows": null,
            "right": null,
            "justify_content": null,
            "_view_module": "@jupyter-widgets/base",
            "overflow": null,
            "_model_module_version": "1.2.0",
            "_view_count": null,
            "flex_flow": null,
            "width": null,
            "min_width": null,
            "border": null,
            "align_items": null,
            "bottom": null,
            "_model_module": "@jupyter-widgets/base",
            "top": null,
            "grid_column": null,
            "overflow_y": null,
            "overflow_x": null,
            "grid_auto_flow": null,
            "grid_area": null,
            "grid_template_columns": null,
            "flex": "2",
            "_model_name": "LayoutModel",
            "justify_items": null,
            "grid_row": null,
            "max_height": null,
            "align_content": null,
            "visibility": null,
            "align_self": null,
            "height": null,
            "min_height": null,
            "padding": null,
            "grid_auto_rows": null,
            "grid_gap": null,
            "max_width": null,
            "order": null,
            "_view_module_version": "1.2.0",
            "grid_template_areas": null,
            "object_position": null,
            "object_fit": null,
            "grid_auto_columns": null,
            "margin": null,
            "display": null,
            "left": null
          }
        },
        "160d044925554252a39123235ac243ba": {
          "model_module": "@jupyter-widgets/controls",
          "model_name": "DescriptionStyleModel",
          "model_module_version": "1.5.0",
          "state": {
            "_view_name": "StyleView",
            "_model_name": "DescriptionStyleModel",
            "description_width": "",
            "_view_module": "@jupyter-widgets/base",
            "_model_module_version": "1.5.0",
            "_view_count": null,
            "_view_module_version": "1.2.0",
            "_model_module": "@jupyter-widgets/controls"
          }
        },
        "81a02718860c40ba876ea383f490408b": {
          "model_module": "@jupyter-widgets/base",
          "model_name": "LayoutModel",
          "model_module_version": "1.2.0",
          "state": {
            "_view_name": "LayoutView",
            "grid_template_rows": null,
            "right": null,
            "justify_content": null,
            "_view_module": "@jupyter-widgets/base",
            "overflow": null,
            "_model_module_version": "1.2.0",
            "_view_count": null,
            "flex_flow": null,
            "width": null,
            "min_width": null,
            "border": null,
            "align_items": null,
            "bottom": null,
            "_model_module": "@jupyter-widgets/base",
            "top": null,
            "grid_column": null,
            "overflow_y": null,
            "overflow_x": null,
            "grid_auto_flow": null,
            "grid_area": null,
            "grid_template_columns": null,
            "flex": null,
            "_model_name": "LayoutModel",
            "justify_items": null,
            "grid_row": null,
            "max_height": null,
            "align_content": null,
            "visibility": null,
            "align_self": null,
            "height": null,
            "min_height": null,
            "padding": null,
            "grid_auto_rows": null,
            "grid_gap": null,
            "max_width": null,
            "order": null,
            "_view_module_version": "1.2.0",
            "grid_template_areas": null,
            "object_position": null,
            "object_fit": null,
            "grid_auto_columns": null,
            "margin": null,
            "display": null,
            "left": null
          }
        }
      }
    }
  },
  "cells": [
    {
      "cell_type": "markdown",
      "metadata": {
        "id": "view-in-github",
        "colab_type": "text"
      },
      "source": [
        "<a href=\"https://colab.research.google.com/github/eftekhar-hossain/Teaching/blob/main/Lab_05_(Classification).ipynb\" target=\"_parent\"><img src=\"https://colab.research.google.com/assets/colab-badge.svg\" alt=\"Open In Colab\"/></a>"
      ]
    },
    {
      "cell_type": "markdown",
      "metadata": {
        "id": "Q30pJUgw60mX"
      },
      "source": [
        "#ETE-456 Machine Learning Sessional\n",
        "\n",
        "Lab-05: **Exploring different types of Classification Algorithms**\n",
        "\n",
        "> Objective: \n",
        " 1. *Apply various classification algorithms on a real world dataset.*\n",
        "\n"
      ]
    },
    {
      "cell_type": "markdown",
      "metadata": {
        "id": "X7oAKLiCFZXk"
      },
      "source": [
        "Different types of Regression Algorithm\n",
        "\n",
        "1. Logistic Regression\n",
        "2. K Nearest Neighbor (KNN) \n",
        "3. Decision Tree Classifier\n",
        "4. Random Forest Classifier\n",
        "5.  Naive Bayes\n",
        "6. Support Vector Machine (SVM) \n"
      ]
    },
    {
      "cell_type": "code",
      "metadata": {
        "id": "sr74smUBlWw7"
      },
      "source": [
        "import warnings\n",
        "warnings.filterwarnings(\"ignore\")"
      ],
      "execution_count": null,
      "outputs": []
    },
    {
      "cell_type": "markdown",
      "metadata": {
        "id": "ACPzUHjSiCsH"
      },
      "source": [
        "# Import the libraries"
      ]
    },
    {
      "cell_type": "code",
      "metadata": {
        "id": "O_zWgw13iDPA"
      },
      "source": [
        "import numpy as np        \n",
        "import pandas as pd     \n",
        "import matplotlib.pyplot as plt       \n",
        "\n",
        "# Machine learning libraries\n",
        "from sklearn.model_selection import train_test_split\n",
        "from sklearn.preprocessing import StandardScaler"
      ],
      "execution_count": null,
      "outputs": []
    },
    {
      "cell_type": "markdown",
      "metadata": {
        "id": "wzFjn82Q6fWp"
      },
      "source": [
        "#Logistic Regression"
      ]
    },
    {
      "cell_type": "markdown",
      "metadata": {
        "id": "KjNpONjqiK0f"
      },
      "source": [
        "##Dataset"
      ]
    },
    {
      "cell_type": "code",
      "metadata": {
        "id": "-l8pYv-dhhk9"
      },
      "source": [
        "# Download the data\n",
        "!wget -O Social_Network_Ads.csv https://www.dropbox.com/s/o8v5zpw972uwlxy/Social_Network_Ads.csv?dl=0"
      ],
      "execution_count": null,
      "outputs": []
    },
    {
      "cell_type": "markdown",
      "metadata": {
        "id": "pSQnZLEaNbIL"
      },
      "source": [
        "Based on Age and Estimated Salary can a person able to purchase a car?🚗"
      ]
    },
    {
      "cell_type": "code",
      "metadata": {
        "colab": {
          "base_uri": "https://localhost:8080/",
          "height": 423
        },
        "id": "pAob0RHGiRjq",
        "outputId": "e1a755b0-73ba-4598-e313-57a36c75f906"
      },
      "source": [
        "\"\"\"importing the dataset \"\"\"\n",
        "\n",
        "dataset = pd.read_csv('Social_Network_Ads.csv')\n",
        "dataset"
      ],
      "execution_count": null,
      "outputs": [
        {
          "output_type": "execute_result",
          "data": {
            "text/html": [
              "<div>\n",
              "<style scoped>\n",
              "    .dataframe tbody tr th:only-of-type {\n",
              "        vertical-align: middle;\n",
              "    }\n",
              "\n",
              "    .dataframe tbody tr th {\n",
              "        vertical-align: top;\n",
              "    }\n",
              "\n",
              "    .dataframe thead th {\n",
              "        text-align: right;\n",
              "    }\n",
              "</style>\n",
              "<table border=\"1\" class=\"dataframe\">\n",
              "  <thead>\n",
              "    <tr style=\"text-align: right;\">\n",
              "      <th></th>\n",
              "      <th>User ID</th>\n",
              "      <th>Gender</th>\n",
              "      <th>Age</th>\n",
              "      <th>EstimatedSalary</th>\n",
              "      <th>Purchased</th>\n",
              "    </tr>\n",
              "  </thead>\n",
              "  <tbody>\n",
              "    <tr>\n",
              "      <th>0</th>\n",
              "      <td>15624510</td>\n",
              "      <td>Male</td>\n",
              "      <td>19</td>\n",
              "      <td>19000</td>\n",
              "      <td>0</td>\n",
              "    </tr>\n",
              "    <tr>\n",
              "      <th>1</th>\n",
              "      <td>15810944</td>\n",
              "      <td>Male</td>\n",
              "      <td>35</td>\n",
              "      <td>20000</td>\n",
              "      <td>0</td>\n",
              "    </tr>\n",
              "    <tr>\n",
              "      <th>2</th>\n",
              "      <td>15668575</td>\n",
              "      <td>Female</td>\n",
              "      <td>26</td>\n",
              "      <td>43000</td>\n",
              "      <td>0</td>\n",
              "    </tr>\n",
              "    <tr>\n",
              "      <th>3</th>\n",
              "      <td>15603246</td>\n",
              "      <td>Female</td>\n",
              "      <td>27</td>\n",
              "      <td>57000</td>\n",
              "      <td>0</td>\n",
              "    </tr>\n",
              "    <tr>\n",
              "      <th>4</th>\n",
              "      <td>15804002</td>\n",
              "      <td>Male</td>\n",
              "      <td>19</td>\n",
              "      <td>76000</td>\n",
              "      <td>0</td>\n",
              "    </tr>\n",
              "    <tr>\n",
              "      <th>...</th>\n",
              "      <td>...</td>\n",
              "      <td>...</td>\n",
              "      <td>...</td>\n",
              "      <td>...</td>\n",
              "      <td>...</td>\n",
              "    </tr>\n",
              "    <tr>\n",
              "      <th>395</th>\n",
              "      <td>15691863</td>\n",
              "      <td>Female</td>\n",
              "      <td>46</td>\n",
              "      <td>41000</td>\n",
              "      <td>1</td>\n",
              "    </tr>\n",
              "    <tr>\n",
              "      <th>396</th>\n",
              "      <td>15706071</td>\n",
              "      <td>Male</td>\n",
              "      <td>51</td>\n",
              "      <td>23000</td>\n",
              "      <td>1</td>\n",
              "    </tr>\n",
              "    <tr>\n",
              "      <th>397</th>\n",
              "      <td>15654296</td>\n",
              "      <td>Female</td>\n",
              "      <td>50</td>\n",
              "      <td>20000</td>\n",
              "      <td>1</td>\n",
              "    </tr>\n",
              "    <tr>\n",
              "      <th>398</th>\n",
              "      <td>15755018</td>\n",
              "      <td>Male</td>\n",
              "      <td>36</td>\n",
              "      <td>33000</td>\n",
              "      <td>0</td>\n",
              "    </tr>\n",
              "    <tr>\n",
              "      <th>399</th>\n",
              "      <td>15594041</td>\n",
              "      <td>Female</td>\n",
              "      <td>49</td>\n",
              "      <td>36000</td>\n",
              "      <td>1</td>\n",
              "    </tr>\n",
              "  </tbody>\n",
              "</table>\n",
              "<p>400 rows × 5 columns</p>\n",
              "</div>"
            ],
            "text/plain": [
              "      User ID  Gender  Age  EstimatedSalary  Purchased\n",
              "0    15624510    Male   19            19000          0\n",
              "1    15810944    Male   35            20000          0\n",
              "2    15668575  Female   26            43000          0\n",
              "3    15603246  Female   27            57000          0\n",
              "4    15804002    Male   19            76000          0\n",
              "..        ...     ...  ...              ...        ...\n",
              "395  15691863  Female   46            41000          1\n",
              "396  15706071    Male   51            23000          1\n",
              "397  15654296  Female   50            20000          1\n",
              "398  15755018    Male   36            33000          0\n",
              "399  15594041  Female   49            36000          1\n",
              "\n",
              "[400 rows x 5 columns]"
            ]
          },
          "metadata": {},
          "execution_count": 4
        }
      ]
    },
    {
      "cell_type": "code",
      "metadata": {
        "colab": {
          "base_uri": "https://localhost:8080/"
        },
        "id": "yndEHKoXU8-7",
        "outputId": "0a4f658f-17c5-4e4b-a19c-a5a85234b17f"
      },
      "source": [
        "dataset['Age'].duplicated().sum()"
      ],
      "execution_count": null,
      "outputs": [
        {
          "output_type": "execute_result",
          "data": {
            "text/plain": [
              "357"
            ]
          },
          "metadata": {},
          "execution_count": 13
        }
      ]
    },
    {
      "cell_type": "code",
      "metadata": {
        "id": "ki4sp9QwiuEz"
      },
      "source": [
        "feature = dataset[['Age','EstimatedSalary']]  # for independent\n",
        "target = dataset[['Purchased']]   # for dependent"
      ],
      "execution_count": null,
      "outputs": []
    },
    {
      "cell_type": "code",
      "metadata": {
        "id": "4pOhP_o4jKsy"
      },
      "source": [
        "feature"
      ],
      "execution_count": null,
      "outputs": []
    },
    {
      "cell_type": "code",
      "metadata": {
        "id": "vZsulkurjM-H"
      },
      "source": [
        "target"
      ],
      "execution_count": null,
      "outputs": []
    },
    {
      "cell_type": "markdown",
      "metadata": {
        "id": "azmcrMicoru3"
      },
      "source": [
        "##Splitting the Dataset"
      ]
    },
    {
      "cell_type": "code",
      "metadata": {
        "id": "QLjV41K_oxSg"
      },
      "source": [
        "\"\"\"Spliting the Dataset into Training Set and Test Set \"\"\"\n",
        "\n",
        "X_train,X_test,y_train,y_test=train_test_split(feature,target,test_size = 0.2,random_state = 0)\n",
        "# random_state = 0 is select to get the same result"
      ],
      "execution_count": null,
      "outputs": []
    },
    {
      "cell_type": "code",
      "metadata": {
        "colab": {
          "base_uri": "https://localhost:8080/"
        },
        "id": "YDzGdXXrpBlc",
        "outputId": "c27286d8-af50-412f-9b50-a7d4a9c7b2ad"
      },
      "source": [
        "print(X_train.shape)\n",
        "print(X_test.shape)"
      ],
      "execution_count": null,
      "outputs": [
        {
          "output_type": "stream",
          "name": "stdout",
          "text": [
            "(320, 2)\n",
            "(80, 2)\n"
          ]
        }
      ]
    },
    {
      "cell_type": "code",
      "metadata": {
        "colab": {
          "base_uri": "https://localhost:8080/",
          "height": 423
        },
        "id": "kZJyLGIxInsG",
        "outputId": "0176490c-6f72-41b4-a0b0-4b9eb7f744ff"
      },
      "source": [
        "X_test"
      ],
      "execution_count": null,
      "outputs": [
        {
          "output_type": "execute_result",
          "data": {
            "text/html": [
              "<div>\n",
              "<style scoped>\n",
              "    .dataframe tbody tr th:only-of-type {\n",
              "        vertical-align: middle;\n",
              "    }\n",
              "\n",
              "    .dataframe tbody tr th {\n",
              "        vertical-align: top;\n",
              "    }\n",
              "\n",
              "    .dataframe thead th {\n",
              "        text-align: right;\n",
              "    }\n",
              "</style>\n",
              "<table border=\"1\" class=\"dataframe\">\n",
              "  <thead>\n",
              "    <tr style=\"text-align: right;\">\n",
              "      <th></th>\n",
              "      <th>Age</th>\n",
              "      <th>EstimatedSalary</th>\n",
              "    </tr>\n",
              "  </thead>\n",
              "  <tbody>\n",
              "    <tr>\n",
              "      <th>132</th>\n",
              "      <td>30</td>\n",
              "      <td>87000</td>\n",
              "    </tr>\n",
              "    <tr>\n",
              "      <th>309</th>\n",
              "      <td>38</td>\n",
              "      <td>50000</td>\n",
              "    </tr>\n",
              "    <tr>\n",
              "      <th>341</th>\n",
              "      <td>35</td>\n",
              "      <td>75000</td>\n",
              "    </tr>\n",
              "    <tr>\n",
              "      <th>196</th>\n",
              "      <td>30</td>\n",
              "      <td>79000</td>\n",
              "    </tr>\n",
              "    <tr>\n",
              "      <th>246</th>\n",
              "      <td>35</td>\n",
              "      <td>50000</td>\n",
              "    </tr>\n",
              "    <tr>\n",
              "      <th>...</th>\n",
              "      <td>...</td>\n",
              "      <td>...</td>\n",
              "    </tr>\n",
              "    <tr>\n",
              "      <th>14</th>\n",
              "      <td>18</td>\n",
              "      <td>82000</td>\n",
              "    </tr>\n",
              "    <tr>\n",
              "      <th>363</th>\n",
              "      <td>42</td>\n",
              "      <td>79000</td>\n",
              "    </tr>\n",
              "    <tr>\n",
              "      <th>304</th>\n",
              "      <td>40</td>\n",
              "      <td>60000</td>\n",
              "    </tr>\n",
              "    <tr>\n",
              "      <th>361</th>\n",
              "      <td>53</td>\n",
              "      <td>34000</td>\n",
              "    </tr>\n",
              "    <tr>\n",
              "      <th>329</th>\n",
              "      <td>47</td>\n",
              "      <td>107000</td>\n",
              "    </tr>\n",
              "  </tbody>\n",
              "</table>\n",
              "<p>80 rows × 2 columns</p>\n",
              "</div>"
            ],
            "text/plain": [
              "     Age  EstimatedSalary\n",
              "132   30            87000\n",
              "309   38            50000\n",
              "341   35            75000\n",
              "196   30            79000\n",
              "246   35            50000\n",
              "..   ...              ...\n",
              "14    18            82000\n",
              "363   42            79000\n",
              "304   40            60000\n",
              "361   53            34000\n",
              "329   47           107000\n",
              "\n",
              "[80 rows x 2 columns]"
            ]
          },
          "metadata": {},
          "execution_count": 8
        }
      ]
    },
    {
      "cell_type": "markdown",
      "metadata": {
        "id": "Y6hXmtYgOi2K"
      },
      "source": [
        "#Feature Scaling"
      ]
    },
    {
      "cell_type": "code",
      "metadata": {
        "id": "KZWjA9QSpJTJ"
      },
      "source": [
        "X_sc = StandardScaler()\n",
        "X_train = X_sc.fit_transform(X_train)\n",
        "X_test = X_sc.transform(X_test) "
      ],
      "execution_count": null,
      "outputs": []
    },
    {
      "cell_type": "markdown",
      "metadata": {
        "id": "cpP0gmLbOtgN"
      },
      "source": [
        "#Logistic Regression"
      ]
    },
    {
      "cell_type": "code",
      "metadata": {
        "id": "1axxobG26yVJ",
        "colab": {
          "base_uri": "https://localhost:8080/"
        },
        "outputId": "a4822ff3-6d1e-4619-c577-5cedaefd58c2"
      },
      "source": [
        "from sklearn.linear_model import LogisticRegression\n",
        "\n",
        "# Fitting Logistic Regression to the training dataset\n",
        "lr = LogisticRegression()\n",
        "\n",
        "lr.fit(X_train,y_train)\n"
      ],
      "execution_count": null,
      "outputs": [
        {
          "output_type": "stream",
          "name": "stderr",
          "text": [
            "/usr/local/lib/python3.7/dist-packages/sklearn/utils/validation.py:985: DataConversionWarning: A column-vector y was passed when a 1d array was expected. Please change the shape of y to (n_samples, ), for example using ravel().\n",
            "  y = column_or_1d(y, warn=True)\n"
          ]
        },
        {
          "output_type": "execute_result",
          "data": {
            "text/plain": [
              "LogisticRegression()"
            ]
          },
          "metadata": {},
          "execution_count": 15
        }
      ]
    },
    {
      "cell_type": "code",
      "metadata": {
        "id": "s2tgYFUEVr2N"
      },
      "source": [
        "# prediction\n",
        "y_pred = lr.predict(X_test)"
      ],
      "execution_count": null,
      "outputs": []
    },
    {
      "cell_type": "code",
      "metadata": {
        "id": "jgzOoydhO8ty"
      },
      "source": [
        "from sklearn.metrics import classification_report,confusion_matrix,accuracy_score,f1_score,precision_score,recall_score"
      ],
      "execution_count": null,
      "outputs": []
    },
    {
      "cell_type": "code",
      "metadata": {
        "id": "xH5NbUcnPQhD",
        "colab": {
          "base_uri": "https://localhost:8080/"
        },
        "outputId": "51cabb2a-c604-4bff-e367-bcc25ea976c9"
      },
      "source": [
        "# Making confusing matrix (actual,prediction)\n",
        "confusion_matrix(y_test,y_pred)"
      ],
      "execution_count": null,
      "outputs": [
        {
          "output_type": "execute_result",
          "data": {
            "text/plain": [
              "array([[57,  1],\n",
              "       [ 5, 17]])"
            ]
          },
          "metadata": {},
          "execution_count": 19
        }
      ]
    },
    {
      "cell_type": "code",
      "metadata": {
        "colab": {
          "base_uri": "https://localhost:8080/"
        },
        "id": "jptr8B6qO2bY",
        "outputId": "44756ac8-8588-4896-9c78-f5f86612bc34"
      },
      "source": [
        "# Making confusing matrix\n",
        "# it is used to check the accuracy of the classification\n",
        "print(classification_report(y_test,y_pred,target_names = ['No','Yes']))"
      ],
      "execution_count": null,
      "outputs": [
        {
          "output_type": "stream",
          "name": "stdout",
          "text": [
            "              precision    recall  f1-score   support\n",
            "\n",
            "          No       0.92      0.98      0.95        58\n",
            "         Yes       0.94      0.77      0.85        22\n",
            "\n",
            "    accuracy                           0.93        80\n",
            "   macro avg       0.93      0.88      0.90        80\n",
            "weighted avg       0.93      0.93      0.92        80\n",
            "\n"
          ]
        }
      ]
    },
    {
      "cell_type": "markdown",
      "metadata": {
        "id": "jkFqrtX1RWdP"
      },
      "source": [
        "#KNN Classifier"
      ]
    },
    {
      "cell_type": "code",
      "metadata": {
        "id": "OXgDuuOPRcMO",
        "colab": {
          "base_uri": "https://localhost:8080/"
        },
        "outputId": "7206bb1e-3319-41ba-b156-7abd73175899"
      },
      "source": [
        "from sklearn.neighbors import KNeighborsClassifier\n",
        "\n",
        "# Classifier Model\n",
        "classifier = KNeighborsClassifier(n_neighbors=5, metric = 'minkowski', p=2)\n",
        "classifier.fit(X_train,y_train)\n",
        "# Prediction\n",
        "y_pred = classifier.predict(X_test)"
      ],
      "execution_count": null,
      "outputs": [
        {
          "output_type": "stream",
          "name": "stderr",
          "text": [
            "/usr/local/lib/python3.7/dist-packages/sklearn/neighbors/_classification.py:198: DataConversionWarning: A column-vector y was passed when a 1d array was expected. Please change the shape of y to (n_samples,), for example using ravel().\n",
            "  return self._fit(X, y)\n"
          ]
        }
      ]
    },
    {
      "cell_type": "code",
      "metadata": {
        "colab": {
          "base_uri": "https://localhost:8080/"
        },
        "id": "WWdQMCIIRf7Z",
        "outputId": "58c6fbb8-a5f6-4acd-e79f-0d3ca7b075a3"
      },
      "source": [
        "# Making confusing matrix\n",
        "print(confusion_matrix(y_test,y_pred))\n",
        "\n",
        "# Making confusing matrix\n",
        "# it is used to check the accuracy of the classification\n",
        "print(classification_report(y_test,y_pred,target_names = ['No','Yes']))"
      ],
      "execution_count": null,
      "outputs": [
        {
          "output_type": "stream",
          "name": "stdout",
          "text": [
            "[[55  3]\n",
            " [ 1 21]]\n",
            "              precision    recall  f1-score   support\n",
            "\n",
            "          No       0.98      0.95      0.96        58\n",
            "         Yes       0.88      0.95      0.91        22\n",
            "\n",
            "    accuracy                           0.95        80\n",
            "   macro avg       0.93      0.95      0.94        80\n",
            "weighted avg       0.95      0.95      0.95        80\n",
            "\n"
          ]
        }
      ]
    },
    {
      "cell_type": "markdown",
      "metadata": {
        "id": "Ga4ELnJ_Rr7A"
      },
      "source": [
        "#SVM"
      ]
    },
    {
      "cell_type": "code",
      "metadata": {
        "id": "yd_Nn7zgRxn3",
        "colab": {
          "base_uri": "https://localhost:8080/"
        },
        "outputId": "175c0c88-be18-4109-f75b-6b4d96c0cc41"
      },
      "source": [
        "from sklearn.svm import SVC\n",
        "\n",
        "# Classifier Model\n",
        "classifier = SVC(kernel = 'linear', random_state = 0)\n",
        "classifier.fit(X_train,y_train)\n",
        "# Prediction\n",
        "y_pred = classifier.predict(X_test)"
      ],
      "execution_count": null,
      "outputs": [
        {
          "output_type": "stream",
          "name": "stderr",
          "text": [
            "/usr/local/lib/python3.7/dist-packages/sklearn/utils/validation.py:985: DataConversionWarning: A column-vector y was passed when a 1d array was expected. Please change the shape of y to (n_samples, ), for example using ravel().\n",
            "  y = column_or_1d(y, warn=True)\n"
          ]
        }
      ]
    },
    {
      "cell_type": "code",
      "metadata": {
        "colab": {
          "base_uri": "https://localhost:8080/"
        },
        "id": "0ZnpSttnR5qn",
        "outputId": "bd10d101-8a3c-449c-af54-5f09caefd83c"
      },
      "source": [
        "# Making confusing matrix\n",
        "print(confusion_matrix(y_test,y_pred))\n",
        "\n",
        "# Making confusing matrix\n",
        "# it is used to check the accuracy of the classification\n",
        "print(classification_report(y_test,y_pred,target_names = ['No','Yes']))"
      ],
      "execution_count": null,
      "outputs": [
        {
          "output_type": "stream",
          "name": "stdout",
          "text": [
            "[[57  1]\n",
            " [ 6 16]]\n",
            "              precision    recall  f1-score   support\n",
            "\n",
            "          No       0.90      0.98      0.94        58\n",
            "         Yes       0.94      0.73      0.82        22\n",
            "\n",
            "    accuracy                           0.91        80\n",
            "   macro avg       0.92      0.86      0.88        80\n",
            "weighted avg       0.91      0.91      0.91        80\n",
            "\n"
          ]
        }
      ]
    },
    {
      "cell_type": "markdown",
      "metadata": {
        "id": "1ovzSXhLR9Ij"
      },
      "source": [
        "#Decision Tree"
      ]
    },
    {
      "cell_type": "code",
      "metadata": {
        "id": "qhEiAJDYSD0m"
      },
      "source": [
        "from sklearn.tree import DecisionTreeClassifier\n",
        "# Classifier Model\n",
        "classifier = DecisionTreeClassifier(criterion = 'entropy', random_state = 0)\n",
        "classifier.fit(X_train,y_train)\n",
        "# Prediction\n",
        "y_pred = classifier.predict(X_test)"
      ],
      "execution_count": null,
      "outputs": []
    },
    {
      "cell_type": "code",
      "metadata": {
        "colab": {
          "base_uri": "https://localhost:8080/"
        },
        "id": "5uDwDsxqSPo3",
        "outputId": "8950ad1d-84e6-4af1-a7d2-26b8fe8ddbd9"
      },
      "source": [
        "# Making confusing matrix\n",
        "print(confusion_matrix(y_test,y_pred))\n",
        "\n",
        "# Making confusing matrix\n",
        "# it is used to check the accuracy of the classification\n",
        "print(classification_report(y_test,y_pred,target_names = ['No','Yes']))"
      ],
      "execution_count": null,
      "outputs": [
        {
          "output_type": "stream",
          "name": "stdout",
          "text": [
            "[[53  5]\n",
            " [ 3 19]]\n",
            "              precision    recall  f1-score   support\n",
            "\n",
            "          No       0.95      0.91      0.93        58\n",
            "         Yes       0.79      0.86      0.83        22\n",
            "\n",
            "    accuracy                           0.90        80\n",
            "   macro avg       0.87      0.89      0.88        80\n",
            "weighted avg       0.90      0.90      0.90        80\n",
            "\n"
          ]
        }
      ]
    },
    {
      "cell_type": "markdown",
      "metadata": {
        "id": "VAhedFevSAC3"
      },
      "source": [
        "#Random Forest"
      ]
    },
    {
      "cell_type": "code",
      "metadata": {
        "id": "C33micI1STkU"
      },
      "source": [
        "from sklearn.ensemble import RandomForestClassifier\n",
        "# Classifier Model\n",
        "classifier = RandomForestClassifier(n_estimators=10, criterion ='entropy', random_state = 0)\n",
        "classifier.fit(X_train,y_train)\n",
        "# Prediction\n",
        "y_pred = classifier.predict(X_test)\n"
      ],
      "execution_count": null,
      "outputs": []
    },
    {
      "cell_type": "code",
      "metadata": {
        "colab": {
          "base_uri": "https://localhost:8080/"
        },
        "id": "b4LjmU7CSZZ8",
        "outputId": "ad0a6920-2556-4045-cfa3-ed13c552b286"
      },
      "source": [
        "# Making confusing matrix\n",
        "print(confusion_matrix(y_test,y_pred))\n",
        "\n",
        "# Making confusing matrix\n",
        "# it is used to check the accuracy of the classification\n",
        "print(classification_report(y_test,y_pred,target_names = ['No','Yes']))"
      ],
      "execution_count": null,
      "outputs": [
        {
          "output_type": "stream",
          "name": "stdout",
          "text": [
            "[[54  4]\n",
            " [ 3 19]]\n",
            "              precision    recall  f1-score   support\n",
            "\n",
            "          No       0.95      0.93      0.94        58\n",
            "         Yes       0.83      0.86      0.84        22\n",
            "\n",
            "    accuracy                           0.91        80\n",
            "   macro avg       0.89      0.90      0.89        80\n",
            "weighted avg       0.91      0.91      0.91        80\n",
            "\n"
          ]
        }
      ]
    },
    {
      "cell_type": "markdown",
      "metadata": {
        "id": "yVnSHWLBSeeZ"
      },
      "source": [
        "#Naive Bayes"
      ]
    },
    {
      "cell_type": "code",
      "metadata": {
        "id": "PC5wrAHgSdyR"
      },
      "source": [
        "from sklearn.naive_bayes import GaussianNB\n",
        "\n",
        "# Classifier Model\n",
        "classifier = GaussianNB()\n",
        "classifier.fit(X_train,y_train)\n",
        "# Prediction\n",
        "y_pred = classifier.predict(X_test)"
      ],
      "execution_count": null,
      "outputs": []
    },
    {
      "cell_type": "code",
      "metadata": {
        "colab": {
          "base_uri": "https://localhost:8080/"
        },
        "id": "6FM_xCvDSqOU",
        "outputId": "829ac609-784d-42ee-fa10-de9a47ec5ada"
      },
      "source": [
        "# Making confusing matrix\n",
        "print(confusion_matrix(y_test,y_pred))\n",
        "\n",
        "# Making confusing matrix\n",
        "# it is used to check the accuracy of the classification\n",
        "print(classification_report(y_test,y_pred,target_names = ['No','Yes']))"
      ],
      "execution_count": null,
      "outputs": [
        {
          "output_type": "stream",
          "name": "stdout",
          "text": [
            "[[55  3]\n",
            " [ 4 18]]\n",
            "              precision    recall  f1-score   support\n",
            "\n",
            "          No       0.93      0.95      0.94        58\n",
            "         Yes       0.86      0.82      0.84        22\n",
            "\n",
            "    accuracy                           0.91        80\n",
            "   macro avg       0.89      0.88      0.89        80\n",
            "weighted avg       0.91      0.91      0.91        80\n",
            "\n"
          ]
        }
      ]
    },
    {
      "cell_type": "markdown",
      "metadata": {
        "id": "KMyoaDOjs8hF"
      },
      "source": [
        "#Reference\n",
        "\n",
        "\n",
        "1.   [SuperDataScience](https://www.superdatascience.com/pages/machine-learning)\n",
        "\n"
      ]
    },
    {
      "cell_type": "markdown",
      "metadata": {
        "id": "hgfcRsxMMtmb"
      },
      "source": [
        "#Stroke Prediction Dataset\n",
        "\n",
        "\n",
        "**Context**\n",
        "According to the World Health Organization (WHO) stroke is the 2nd leading cause of death globally, responsible for approximately 11% of total deaths.\n",
        "This dataset is used to predict whether a patient is likely to get stroke based on the input parameters like gender, age, various diseases, and smoking status. Each row in the data provides relavant information about the patient.\n",
        "\n",
        "**Attribute Information**\n",
        "1. id: unique identifier\n",
        "2. gender: \"Male\", \"Female\" or \"Other\"\n",
        "3. age: age of the patient\n",
        "4. hypertension: 0 if the patient doesn't have hypertension, 1 if the patient has hypertension\n",
        "5. heart_disease: 0 if the patient doesn't have any heart diseases, 1 if the patient has a heart disease\n",
        "6. ever_married: \"No\" or \"Yes\"\n",
        "7. work_type: \"children\", \"Govt_jov\", \"Never_worked\", \"Private\" or \"Self-employed\"\n",
        "8. Residence_type: \"Rural\" or \"Urban\"\n",
        "9. avg_glucose_level: average glucose level in blood\n",
        "10. bmi: body mass index\n",
        "11. smoking_status: \"formerly smoked\", \"never smoked\", \"smokes\" or \"Unknown\"*\n",
        "12. stroke: 1 if the patient had a stroke or 0 if not\n",
        "*Note: \"Unknown\" in smoking_status means that the information is unavailable for this patient\n"
      ]
    },
    {
      "cell_type": "markdown",
      "metadata": {
        "id": "Pev8837pNJio"
      },
      "source": [
        "**Task**\n",
        "\n",
        "Can you predict whether a patient is likely to get stroke?"
      ]
    },
    {
      "cell_type": "code",
      "metadata": {
        "id": "Hz4CQXbpLhNh"
      },
      "source": [
        "# Download the data\n",
        "!wget -O stroke-data.csv https://www.dropbox.com/s/zgburk3yces5tee/healthcare-dataset-stroke-data.csv?dl=0"
      ],
      "execution_count": null,
      "outputs": []
    },
    {
      "cell_type": "code",
      "metadata": {
        "colab": {
          "base_uri": "https://localhost:8080/",
          "height": 513
        },
        "id": "EkxpZFOOLhNi",
        "outputId": "54b9eafc-10f1-446d-ab39-204b89de3483"
      },
      "source": [
        "\"\"\"importing the dataset \"\"\"\n",
        "\n",
        "dataset = pd.read_csv('stroke-data.csv')\n",
        "dataset"
      ],
      "execution_count": null,
      "outputs": [
        {
          "output_type": "execute_result",
          "data": {
            "text/html": [
              "<div>\n",
              "<style scoped>\n",
              "    .dataframe tbody tr th:only-of-type {\n",
              "        vertical-align: middle;\n",
              "    }\n",
              "\n",
              "    .dataframe tbody tr th {\n",
              "        vertical-align: top;\n",
              "    }\n",
              "\n",
              "    .dataframe thead th {\n",
              "        text-align: right;\n",
              "    }\n",
              "</style>\n",
              "<table border=\"1\" class=\"dataframe\">\n",
              "  <thead>\n",
              "    <tr style=\"text-align: right;\">\n",
              "      <th></th>\n",
              "      <th>id</th>\n",
              "      <th>gender</th>\n",
              "      <th>age</th>\n",
              "      <th>hypertension</th>\n",
              "      <th>heart_disease</th>\n",
              "      <th>ever_married</th>\n",
              "      <th>work_type</th>\n",
              "      <th>Residence_type</th>\n",
              "      <th>avg_glucose_level</th>\n",
              "      <th>bmi</th>\n",
              "      <th>smoking_status</th>\n",
              "      <th>stroke</th>\n",
              "    </tr>\n",
              "  </thead>\n",
              "  <tbody>\n",
              "    <tr>\n",
              "      <th>0</th>\n",
              "      <td>9046</td>\n",
              "      <td>Male</td>\n",
              "      <td>67.0</td>\n",
              "      <td>0</td>\n",
              "      <td>1</td>\n",
              "      <td>Yes</td>\n",
              "      <td>Private</td>\n",
              "      <td>Urban</td>\n",
              "      <td>228.69</td>\n",
              "      <td>36.6</td>\n",
              "      <td>formerly smoked</td>\n",
              "      <td>1</td>\n",
              "    </tr>\n",
              "    <tr>\n",
              "      <th>1</th>\n",
              "      <td>51676</td>\n",
              "      <td>Female</td>\n",
              "      <td>61.0</td>\n",
              "      <td>0</td>\n",
              "      <td>0</td>\n",
              "      <td>Yes</td>\n",
              "      <td>Self-employed</td>\n",
              "      <td>Rural</td>\n",
              "      <td>202.21</td>\n",
              "      <td>NaN</td>\n",
              "      <td>never smoked</td>\n",
              "      <td>1</td>\n",
              "    </tr>\n",
              "    <tr>\n",
              "      <th>2</th>\n",
              "      <td>31112</td>\n",
              "      <td>Male</td>\n",
              "      <td>80.0</td>\n",
              "      <td>0</td>\n",
              "      <td>1</td>\n",
              "      <td>Yes</td>\n",
              "      <td>Private</td>\n",
              "      <td>Rural</td>\n",
              "      <td>105.92</td>\n",
              "      <td>32.5</td>\n",
              "      <td>never smoked</td>\n",
              "      <td>1</td>\n",
              "    </tr>\n",
              "    <tr>\n",
              "      <th>3</th>\n",
              "      <td>60182</td>\n",
              "      <td>Female</td>\n",
              "      <td>49.0</td>\n",
              "      <td>0</td>\n",
              "      <td>0</td>\n",
              "      <td>Yes</td>\n",
              "      <td>Private</td>\n",
              "      <td>Urban</td>\n",
              "      <td>171.23</td>\n",
              "      <td>34.4</td>\n",
              "      <td>smokes</td>\n",
              "      <td>1</td>\n",
              "    </tr>\n",
              "    <tr>\n",
              "      <th>4</th>\n",
              "      <td>1665</td>\n",
              "      <td>Female</td>\n",
              "      <td>79.0</td>\n",
              "      <td>1</td>\n",
              "      <td>0</td>\n",
              "      <td>Yes</td>\n",
              "      <td>Self-employed</td>\n",
              "      <td>Rural</td>\n",
              "      <td>174.12</td>\n",
              "      <td>24.0</td>\n",
              "      <td>never smoked</td>\n",
              "      <td>1</td>\n",
              "    </tr>\n",
              "    <tr>\n",
              "      <th>...</th>\n",
              "      <td>...</td>\n",
              "      <td>...</td>\n",
              "      <td>...</td>\n",
              "      <td>...</td>\n",
              "      <td>...</td>\n",
              "      <td>...</td>\n",
              "      <td>...</td>\n",
              "      <td>...</td>\n",
              "      <td>...</td>\n",
              "      <td>...</td>\n",
              "      <td>...</td>\n",
              "      <td>...</td>\n",
              "    </tr>\n",
              "    <tr>\n",
              "      <th>5105</th>\n",
              "      <td>18234</td>\n",
              "      <td>Female</td>\n",
              "      <td>80.0</td>\n",
              "      <td>1</td>\n",
              "      <td>0</td>\n",
              "      <td>Yes</td>\n",
              "      <td>Private</td>\n",
              "      <td>Urban</td>\n",
              "      <td>83.75</td>\n",
              "      <td>NaN</td>\n",
              "      <td>never smoked</td>\n",
              "      <td>0</td>\n",
              "    </tr>\n",
              "    <tr>\n",
              "      <th>5106</th>\n",
              "      <td>44873</td>\n",
              "      <td>Female</td>\n",
              "      <td>81.0</td>\n",
              "      <td>0</td>\n",
              "      <td>0</td>\n",
              "      <td>Yes</td>\n",
              "      <td>Self-employed</td>\n",
              "      <td>Urban</td>\n",
              "      <td>125.20</td>\n",
              "      <td>40.0</td>\n",
              "      <td>never smoked</td>\n",
              "      <td>0</td>\n",
              "    </tr>\n",
              "    <tr>\n",
              "      <th>5107</th>\n",
              "      <td>19723</td>\n",
              "      <td>Female</td>\n",
              "      <td>35.0</td>\n",
              "      <td>0</td>\n",
              "      <td>0</td>\n",
              "      <td>Yes</td>\n",
              "      <td>Self-employed</td>\n",
              "      <td>Rural</td>\n",
              "      <td>82.99</td>\n",
              "      <td>30.6</td>\n",
              "      <td>never smoked</td>\n",
              "      <td>0</td>\n",
              "    </tr>\n",
              "    <tr>\n",
              "      <th>5108</th>\n",
              "      <td>37544</td>\n",
              "      <td>Male</td>\n",
              "      <td>51.0</td>\n",
              "      <td>0</td>\n",
              "      <td>0</td>\n",
              "      <td>Yes</td>\n",
              "      <td>Private</td>\n",
              "      <td>Rural</td>\n",
              "      <td>166.29</td>\n",
              "      <td>25.6</td>\n",
              "      <td>formerly smoked</td>\n",
              "      <td>0</td>\n",
              "    </tr>\n",
              "    <tr>\n",
              "      <th>5109</th>\n",
              "      <td>44679</td>\n",
              "      <td>Female</td>\n",
              "      <td>44.0</td>\n",
              "      <td>0</td>\n",
              "      <td>0</td>\n",
              "      <td>Yes</td>\n",
              "      <td>Govt_job</td>\n",
              "      <td>Urban</td>\n",
              "      <td>85.28</td>\n",
              "      <td>26.2</td>\n",
              "      <td>Unknown</td>\n",
              "      <td>0</td>\n",
              "    </tr>\n",
              "  </tbody>\n",
              "</table>\n",
              "<p>5110 rows × 12 columns</p>\n",
              "</div>"
            ],
            "text/plain": [
              "         id  gender   age  ...   bmi   smoking_status stroke\n",
              "0      9046    Male  67.0  ...  36.6  formerly smoked      1\n",
              "1     51676  Female  61.0  ...   NaN     never smoked      1\n",
              "2     31112    Male  80.0  ...  32.5     never smoked      1\n",
              "3     60182  Female  49.0  ...  34.4           smokes      1\n",
              "4      1665  Female  79.0  ...  24.0     never smoked      1\n",
              "...     ...     ...   ...  ...   ...              ...    ...\n",
              "5105  18234  Female  80.0  ...   NaN     never smoked      0\n",
              "5106  44873  Female  81.0  ...  40.0     never smoked      0\n",
              "5107  19723  Female  35.0  ...  30.6     never smoked      0\n",
              "5108  37544    Male  51.0  ...  25.6  formerly smoked      0\n",
              "5109  44679  Female  44.0  ...  26.2          Unknown      0\n",
              "\n",
              "[5110 rows x 12 columns]"
            ]
          },
          "metadata": {},
          "execution_count": 28
        }
      ]
    },
    {
      "cell_type": "markdown",
      "metadata": {
        "id": "OLzzt-eb6ehO"
      },
      "source": [
        "#Exploratory Data Analysis\n",
        "\n",
        "1. Pandas Profiling\n",
        "2. Klib\n",
        "3. Sweet Viz\n",
        "4. Auto Viz"
      ]
    },
    {
      "cell_type": "markdown",
      "metadata": {
        "id": "zDzevLBW9hlm"
      },
      "source": [
        "##Pandas Profiling"
      ]
    },
    {
      "cell_type": "code",
      "metadata": {
        "id": "7-4nQ3B93QEU"
      },
      "source": [
        "!pip install pandas-profiling==2.8.0"
      ],
      "execution_count": null,
      "outputs": []
    },
    {
      "cell_type": "code",
      "metadata": {
        "id": "s17w_cgK3dnR"
      },
      "source": [
        "# # Standard Library Imports\n",
        "# from pathlib import Path\n",
        "\n",
        "# Installed packages\n",
        "import pandas as pd\n",
        "from ipywidgets import widgets\n",
        "\n",
        "# Our package\n",
        "from pandas_profiling import ProfileReport\n",
        "#from pandas_profiling.utils.cache import cache_file"
      ],
      "execution_count": null,
      "outputs": []
    },
    {
      "cell_type": "code",
      "metadata": {
        "id": "5wNVeehx3jiN"
      },
      "source": [
        "### To Create the Simple report quickly\n",
        "profile = ProfileReport(dataset, title='Pandas Profiling Report', explorative=True)"
      ],
      "execution_count": null,
      "outputs": []
    },
    {
      "cell_type": "code",
      "metadata": {
        "id": "A_Lt24_a3qgO"
      },
      "source": [
        "# The Notebook Widgets Interface\n",
        "profile.to_widgets()"
      ],
      "execution_count": null,
      "outputs": []
    },
    {
      "cell_type": "code",
      "metadata": {
        "colab": {
          "base_uri": "https://localhost:8080/",
          "height": 81,
          "referenced_widgets": [
            "be4d1bcd17f74eeaa2dc300b81d1e5d1",
            "aa030e2775ff45ae978e331e3fe932e7",
            "5875b8efbf984c8fa4308a7772f88714",
            "4ee79415f9ff45cbbbcbd7c3095a28ef",
            "bf2e637b4f15413c892f569a4ce8bb24",
            "cb3677a351374a0c8a637ded41145e35",
            "76d1d23e19cd44a4b1872b8e59d8a14d",
            "6ba6f273ba5b4caab5d089a6d2160587",
            "d00acf9c09a842c3b9e14bc2b709f33b",
            "47ea40d7db924a028e8cf334f5bc9ad3",
            "b97bd396f5c842a2b109fb86d1046f0a",
            "7239ca81716143f3bc035979da6e4f40",
            "1ea8959b7f0745dfa91a1a6704a28dee",
            "094b0945f27b4306a173102c1eeb3695",
            "68401862dd0d45c3a347efde000c42a5",
            "2c05a49d49d54236a672290eb04ab901",
            "e54f8258704b4e90947b80f7da4e6a5c",
            "bb01f8de0745461bb778388ccda1e4f9",
            "d9b7cff2321848f0b5e935a89066ed49",
            "ae03a928b80c4785bed036bc645e3604",
            "066a14f6a9044c249d058cc7de554e77",
            "cc4f4e7832144f9c97fe39f3c8709643"
          ]
        },
        "id": "Wqtk5E6Y4KnC",
        "outputId": "b2338f10-1ebc-4e6c-c57d-dd4a904c7282"
      },
      "source": [
        "# Or use the HTML report in an iframe\n",
        "profile.to_file(\"output.html\")"
      ],
      "execution_count": null,
      "outputs": [
        {
          "output_type": "display_data",
          "data": {
            "application/vnd.jupyter.widget-view+json": {
              "model_id": "be4d1bcd17f74eeaa2dc300b81d1e5d1",
              "version_minor": 0,
              "version_major": 2
            },
            "text/plain": [
              "Render HTML:   0%|          | 0/1 [00:00<?, ?it/s]"
            ]
          },
          "metadata": {}
        },
        {
          "output_type": "display_data",
          "data": {
            "application/vnd.jupyter.widget-view+json": {
              "model_id": "7239ca81716143f3bc035979da6e4f40",
              "version_minor": 0,
              "version_major": 2
            },
            "text/plain": [
              "Export report to file:   0%|          | 0/1 [00:00<?, ?it/s]"
            ]
          },
          "metadata": {}
        }
      ]
    },
    {
      "cell_type": "markdown",
      "metadata": {
        "id": "Tn4T_ZUk5ZAm"
      },
      "source": [
        "#Klib"
      ]
    },
    {
      "cell_type": "code",
      "metadata": {
        "id": "N1kqx2zuaPnd"
      },
      "source": [
        "! pip install klib"
      ],
      "execution_count": null,
      "outputs": []
    },
    {
      "cell_type": "code",
      "metadata": {
        "id": "SisvwBi75mjx"
      },
      "source": [
        "import klib"
      ],
      "execution_count": null,
      "outputs": []
    },
    {
      "cell_type": "code",
      "metadata": {
        "colab": {
          "base_uri": "https://localhost:8080/",
          "height": 269
        },
        "id": "9foK47Hp5bXb",
        "outputId": "ecd4b5d3-5623-4dc8-8c34-10a26f96c4cd"
      },
      "source": [
        "klib.corr_mat(dataset) # returns a color-encoded correlation matrix"
      ],
      "execution_count": null,
      "outputs": [
        {
          "output_type": "execute_result",
          "data": {
            "text/html": [
              "<style  type=\"text/css\" >\n",
              "#T_f0d4c8d2_50f1_11ec_a29b_0242ac1c0002row0_col0,#T_f0d4c8d2_50f1_11ec_a29b_0242ac1c0002row0_col1,#T_f0d4c8d2_50f1_11ec_a29b_0242ac1c0002row0_col2,#T_f0d4c8d2_50f1_11ec_a29b_0242ac1c0002row0_col4,#T_f0d4c8d2_50f1_11ec_a29b_0242ac1c0002row0_col5,#T_f0d4c8d2_50f1_11ec_a29b_0242ac1c0002row0_col6,#T_f0d4c8d2_50f1_11ec_a29b_0242ac1c0002row1_col0,#T_f0d4c8d2_50f1_11ec_a29b_0242ac1c0002row1_col1,#T_f0d4c8d2_50f1_11ec_a29b_0242ac1c0002row1_col2,#T_f0d4c8d2_50f1_11ec_a29b_0242ac1c0002row1_col3,#T_f0d4c8d2_50f1_11ec_a29b_0242ac1c0002row1_col4,#T_f0d4c8d2_50f1_11ec_a29b_0242ac1c0002row1_col5,#T_f0d4c8d2_50f1_11ec_a29b_0242ac1c0002row1_col6,#T_f0d4c8d2_50f1_11ec_a29b_0242ac1c0002row2_col0,#T_f0d4c8d2_50f1_11ec_a29b_0242ac1c0002row2_col1,#T_f0d4c8d2_50f1_11ec_a29b_0242ac1c0002row2_col2,#T_f0d4c8d2_50f1_11ec_a29b_0242ac1c0002row2_col3,#T_f0d4c8d2_50f1_11ec_a29b_0242ac1c0002row2_col4,#T_f0d4c8d2_50f1_11ec_a29b_0242ac1c0002row2_col5,#T_f0d4c8d2_50f1_11ec_a29b_0242ac1c0002row2_col6,#T_f0d4c8d2_50f1_11ec_a29b_0242ac1c0002row3_col1,#T_f0d4c8d2_50f1_11ec_a29b_0242ac1c0002row3_col2,#T_f0d4c8d2_50f1_11ec_a29b_0242ac1c0002row3_col3,#T_f0d4c8d2_50f1_11ec_a29b_0242ac1c0002row3_col4,#T_f0d4c8d2_50f1_11ec_a29b_0242ac1c0002row3_col5,#T_f0d4c8d2_50f1_11ec_a29b_0242ac1c0002row3_col6,#T_f0d4c8d2_50f1_11ec_a29b_0242ac1c0002row4_col0,#T_f0d4c8d2_50f1_11ec_a29b_0242ac1c0002row4_col1,#T_f0d4c8d2_50f1_11ec_a29b_0242ac1c0002row4_col2,#T_f0d4c8d2_50f1_11ec_a29b_0242ac1c0002row4_col3,#T_f0d4c8d2_50f1_11ec_a29b_0242ac1c0002row4_col4,#T_f0d4c8d2_50f1_11ec_a29b_0242ac1c0002row4_col5,#T_f0d4c8d2_50f1_11ec_a29b_0242ac1c0002row4_col6,#T_f0d4c8d2_50f1_11ec_a29b_0242ac1c0002row5_col0,#T_f0d4c8d2_50f1_11ec_a29b_0242ac1c0002row5_col1,#T_f0d4c8d2_50f1_11ec_a29b_0242ac1c0002row5_col2,#T_f0d4c8d2_50f1_11ec_a29b_0242ac1c0002row5_col3,#T_f0d4c8d2_50f1_11ec_a29b_0242ac1c0002row5_col4,#T_f0d4c8d2_50f1_11ec_a29b_0242ac1c0002row5_col5,#T_f0d4c8d2_50f1_11ec_a29b_0242ac1c0002row5_col6,#T_f0d4c8d2_50f1_11ec_a29b_0242ac1c0002row6_col0,#T_f0d4c8d2_50f1_11ec_a29b_0242ac1c0002row6_col1,#T_f0d4c8d2_50f1_11ec_a29b_0242ac1c0002row6_col2,#T_f0d4c8d2_50f1_11ec_a29b_0242ac1c0002row6_col3,#T_f0d4c8d2_50f1_11ec_a29b_0242ac1c0002row6_col4,#T_f0d4c8d2_50f1_11ec_a29b_0242ac1c0002row6_col5,#T_f0d4c8d2_50f1_11ec_a29b_0242ac1c0002row6_col6{\n",
              "            color:  None;\n",
              "        }#T_f0d4c8d2_50f1_11ec_a29b_0242ac1c0002row0_col3,#T_f0d4c8d2_50f1_11ec_a29b_0242ac1c0002row3_col0{\n",
              "            color:  #FF3344;\n",
              "        }</style><table id=\"T_f0d4c8d2_50f1_11ec_a29b_0242ac1c0002\" class=\"dataframe\"><thead>    <tr>        <th class=\"blank level0\" ></th>        <th class=\"col_heading level0 col0\" >id</th>        <th class=\"col_heading level0 col1\" >age</th>        <th class=\"col_heading level0 col2\" >hypertension</th>        <th class=\"col_heading level0 col3\" >heart_disease</th>        <th class=\"col_heading level0 col4\" >avg_glucose_level</th>        <th class=\"col_heading level0 col5\" >bmi</th>        <th class=\"col_heading level0 col6\" >stroke</th>    </tr></thead><tbody>\n",
              "                <tr>\n",
              "                        <th id=\"T_f0d4c8d2_50f1_11ec_a29b_0242ac1c0002level0_row0\" class=\"row_heading level0 row0\" >id</th>\n",
              "                        <td id=\"T_f0d4c8d2_50f1_11ec_a29b_0242ac1c0002row0_col0\" class=\"data row0 col0\" >1.00</td>\n",
              "                        <td id=\"T_f0d4c8d2_50f1_11ec_a29b_0242ac1c0002row0_col1\" class=\"data row0 col1\" >0.00</td>\n",
              "                        <td id=\"T_f0d4c8d2_50f1_11ec_a29b_0242ac1c0002row0_col2\" class=\"data row0 col2\" >0.00</td>\n",
              "                        <td id=\"T_f0d4c8d2_50f1_11ec_a29b_0242ac1c0002row0_col3\" class=\"data row0 col3\" >-0.00</td>\n",
              "                        <td id=\"T_f0d4c8d2_50f1_11ec_a29b_0242ac1c0002row0_col4\" class=\"data row0 col4\" >0.00</td>\n",
              "                        <td id=\"T_f0d4c8d2_50f1_11ec_a29b_0242ac1c0002row0_col5\" class=\"data row0 col5\" >0.00</td>\n",
              "                        <td id=\"T_f0d4c8d2_50f1_11ec_a29b_0242ac1c0002row0_col6\" class=\"data row0 col6\" >0.01</td>\n",
              "            </tr>\n",
              "            <tr>\n",
              "                        <th id=\"T_f0d4c8d2_50f1_11ec_a29b_0242ac1c0002level0_row1\" class=\"row_heading level0 row1\" >age</th>\n",
              "                        <td id=\"T_f0d4c8d2_50f1_11ec_a29b_0242ac1c0002row1_col0\" class=\"data row1 col0\" >0.00</td>\n",
              "                        <td id=\"T_f0d4c8d2_50f1_11ec_a29b_0242ac1c0002row1_col1\" class=\"data row1 col1\" >1.00</td>\n",
              "                        <td id=\"T_f0d4c8d2_50f1_11ec_a29b_0242ac1c0002row1_col2\" class=\"data row1 col2\" >0.28</td>\n",
              "                        <td id=\"T_f0d4c8d2_50f1_11ec_a29b_0242ac1c0002row1_col3\" class=\"data row1 col3\" >0.26</td>\n",
              "                        <td id=\"T_f0d4c8d2_50f1_11ec_a29b_0242ac1c0002row1_col4\" class=\"data row1 col4\" >0.24</td>\n",
              "                        <td id=\"T_f0d4c8d2_50f1_11ec_a29b_0242ac1c0002row1_col5\" class=\"data row1 col5\" >0.33</td>\n",
              "                        <td id=\"T_f0d4c8d2_50f1_11ec_a29b_0242ac1c0002row1_col6\" class=\"data row1 col6\" >0.25</td>\n",
              "            </tr>\n",
              "            <tr>\n",
              "                        <th id=\"T_f0d4c8d2_50f1_11ec_a29b_0242ac1c0002level0_row2\" class=\"row_heading level0 row2\" >hypertension</th>\n",
              "                        <td id=\"T_f0d4c8d2_50f1_11ec_a29b_0242ac1c0002row2_col0\" class=\"data row2 col0\" >0.00</td>\n",
              "                        <td id=\"T_f0d4c8d2_50f1_11ec_a29b_0242ac1c0002row2_col1\" class=\"data row2 col1\" >0.28</td>\n",
              "                        <td id=\"T_f0d4c8d2_50f1_11ec_a29b_0242ac1c0002row2_col2\" class=\"data row2 col2\" >1.00</td>\n",
              "                        <td id=\"T_f0d4c8d2_50f1_11ec_a29b_0242ac1c0002row2_col3\" class=\"data row2 col3\" >0.11</td>\n",
              "                        <td id=\"T_f0d4c8d2_50f1_11ec_a29b_0242ac1c0002row2_col4\" class=\"data row2 col4\" >0.17</td>\n",
              "                        <td id=\"T_f0d4c8d2_50f1_11ec_a29b_0242ac1c0002row2_col5\" class=\"data row2 col5\" >0.17</td>\n",
              "                        <td id=\"T_f0d4c8d2_50f1_11ec_a29b_0242ac1c0002row2_col6\" class=\"data row2 col6\" >0.13</td>\n",
              "            </tr>\n",
              "            <tr>\n",
              "                        <th id=\"T_f0d4c8d2_50f1_11ec_a29b_0242ac1c0002level0_row3\" class=\"row_heading level0 row3\" >heart_disease</th>\n",
              "                        <td id=\"T_f0d4c8d2_50f1_11ec_a29b_0242ac1c0002row3_col0\" class=\"data row3 col0\" >-0.00</td>\n",
              "                        <td id=\"T_f0d4c8d2_50f1_11ec_a29b_0242ac1c0002row3_col1\" class=\"data row3 col1\" >0.26</td>\n",
              "                        <td id=\"T_f0d4c8d2_50f1_11ec_a29b_0242ac1c0002row3_col2\" class=\"data row3 col2\" >0.11</td>\n",
              "                        <td id=\"T_f0d4c8d2_50f1_11ec_a29b_0242ac1c0002row3_col3\" class=\"data row3 col3\" >1.00</td>\n",
              "                        <td id=\"T_f0d4c8d2_50f1_11ec_a29b_0242ac1c0002row3_col4\" class=\"data row3 col4\" >0.16</td>\n",
              "                        <td id=\"T_f0d4c8d2_50f1_11ec_a29b_0242ac1c0002row3_col5\" class=\"data row3 col5\" >0.04</td>\n",
              "                        <td id=\"T_f0d4c8d2_50f1_11ec_a29b_0242ac1c0002row3_col6\" class=\"data row3 col6\" >0.13</td>\n",
              "            </tr>\n",
              "            <tr>\n",
              "                        <th id=\"T_f0d4c8d2_50f1_11ec_a29b_0242ac1c0002level0_row4\" class=\"row_heading level0 row4\" >avg_glucose_level</th>\n",
              "                        <td id=\"T_f0d4c8d2_50f1_11ec_a29b_0242ac1c0002row4_col0\" class=\"data row4 col0\" >0.00</td>\n",
              "                        <td id=\"T_f0d4c8d2_50f1_11ec_a29b_0242ac1c0002row4_col1\" class=\"data row4 col1\" >0.24</td>\n",
              "                        <td id=\"T_f0d4c8d2_50f1_11ec_a29b_0242ac1c0002row4_col2\" class=\"data row4 col2\" >0.17</td>\n",
              "                        <td id=\"T_f0d4c8d2_50f1_11ec_a29b_0242ac1c0002row4_col3\" class=\"data row4 col3\" >0.16</td>\n",
              "                        <td id=\"T_f0d4c8d2_50f1_11ec_a29b_0242ac1c0002row4_col4\" class=\"data row4 col4\" >1.00</td>\n",
              "                        <td id=\"T_f0d4c8d2_50f1_11ec_a29b_0242ac1c0002row4_col5\" class=\"data row4 col5\" >0.18</td>\n",
              "                        <td id=\"T_f0d4c8d2_50f1_11ec_a29b_0242ac1c0002row4_col6\" class=\"data row4 col6\" >0.13</td>\n",
              "            </tr>\n",
              "            <tr>\n",
              "                        <th id=\"T_f0d4c8d2_50f1_11ec_a29b_0242ac1c0002level0_row5\" class=\"row_heading level0 row5\" >bmi</th>\n",
              "                        <td id=\"T_f0d4c8d2_50f1_11ec_a29b_0242ac1c0002row5_col0\" class=\"data row5 col0\" >0.00</td>\n",
              "                        <td id=\"T_f0d4c8d2_50f1_11ec_a29b_0242ac1c0002row5_col1\" class=\"data row5 col1\" >0.33</td>\n",
              "                        <td id=\"T_f0d4c8d2_50f1_11ec_a29b_0242ac1c0002row5_col2\" class=\"data row5 col2\" >0.17</td>\n",
              "                        <td id=\"T_f0d4c8d2_50f1_11ec_a29b_0242ac1c0002row5_col3\" class=\"data row5 col3\" >0.04</td>\n",
              "                        <td id=\"T_f0d4c8d2_50f1_11ec_a29b_0242ac1c0002row5_col4\" class=\"data row5 col4\" >0.18</td>\n",
              "                        <td id=\"T_f0d4c8d2_50f1_11ec_a29b_0242ac1c0002row5_col5\" class=\"data row5 col5\" >1.00</td>\n",
              "                        <td id=\"T_f0d4c8d2_50f1_11ec_a29b_0242ac1c0002row5_col6\" class=\"data row5 col6\" >0.04</td>\n",
              "            </tr>\n",
              "            <tr>\n",
              "                        <th id=\"T_f0d4c8d2_50f1_11ec_a29b_0242ac1c0002level0_row6\" class=\"row_heading level0 row6\" >stroke</th>\n",
              "                        <td id=\"T_f0d4c8d2_50f1_11ec_a29b_0242ac1c0002row6_col0\" class=\"data row6 col0\" >0.01</td>\n",
              "                        <td id=\"T_f0d4c8d2_50f1_11ec_a29b_0242ac1c0002row6_col1\" class=\"data row6 col1\" >0.25</td>\n",
              "                        <td id=\"T_f0d4c8d2_50f1_11ec_a29b_0242ac1c0002row6_col2\" class=\"data row6 col2\" >0.13</td>\n",
              "                        <td id=\"T_f0d4c8d2_50f1_11ec_a29b_0242ac1c0002row6_col3\" class=\"data row6 col3\" >0.13</td>\n",
              "                        <td id=\"T_f0d4c8d2_50f1_11ec_a29b_0242ac1c0002row6_col4\" class=\"data row6 col4\" >0.13</td>\n",
              "                        <td id=\"T_f0d4c8d2_50f1_11ec_a29b_0242ac1c0002row6_col5\" class=\"data row6 col5\" >0.04</td>\n",
              "                        <td id=\"T_f0d4c8d2_50f1_11ec_a29b_0242ac1c0002row6_col6\" class=\"data row6 col6\" >1.00</td>\n",
              "            </tr>\n",
              "    </tbody></table>"
            ],
            "text/plain": [
              "<pandas.io.formats.style.Styler at 0x7eff7cab3fd0>"
            ]
          },
          "metadata": {},
          "execution_count": 10
        }
      ]
    },
    {
      "cell_type": "code",
      "metadata": {
        "colab": {
          "base_uri": "https://localhost:8080/",
          "height": 713
        },
        "id": "Gy9YL9-n5kkj",
        "outputId": "25a6dbd0-ff77-4095-cc39-ff48400a12fc"
      },
      "source": [
        "klib.corr_plot(dataset)"
      ],
      "execution_count": null,
      "outputs": [
        {
          "output_type": "execute_result",
          "data": {
            "text/plain": [
              "<matplotlib.axes._subplots.AxesSubplot at 0x7eff7baded50>"
            ]
          },
          "metadata": {},
          "execution_count": 12
        },
        {
          "output_type": "display_data",
          "data": {
            "image/png": "[encoded data removed]",
            "text/plain": [
              "<Figure size 864x720 with 2 Axes>"
            ]
          },
          "metadata": {
            "needs_background": "light"
          }
        }
      ]
    },
    {
      "cell_type": "markdown",
      "metadata": {
        "id": "5cgiiFLx6jY5"
      },
      "source": [
        "##SweetViz"
      ]
    },
    {
      "cell_type": "code",
      "metadata": {
        "id": "39Z0kLEj6nZx"
      },
      "source": [
        "!pip install sweetviz"
      ],
      "execution_count": null,
      "outputs": []
    },
    {
      "cell_type": "code",
      "metadata": {
        "colab": {
          "base_uri": "https://localhost:8080/",
          "height": 66,
          "referenced_widgets": [
            "eaef3c014a9941c2a963b03781de44b5",
            "3d7509b500fb4eeba2d55d4e6e2c3e82",
            "f046610afa244946a3c3fd57261fe641",
            "608a7d47b24248138d1b211e73c1d115",
            "b3878136bb424e0fb172931a99153811",
            "2a85d15e187a4c12afe69140b1a90da0",
            "a09d3b36e05e43019311abcf08ad59c0",
            "9595174864f84917aafdb5d2b7bffa07",
            "f8ff9966e0f84a99baa2ef87d659ab1e",
            "160d044925554252a39123235ac243ba",
            "81a02718860c40ba876ea383f490408b"
          ]
        },
        "id": "DhGLoxOQ6r53",
        "outputId": "5c3907b7-991f-43f1-bf7a-7888242a4266"
      },
      "source": [
        "import sweetviz as sv\n",
        "#Generating Sweetviz report\n",
        "report = sv.analyze(dataset)\n",
        "report.show_html(\"stock_report.html\") # specify a name for the report"
      ],
      "execution_count": null,
      "outputs": [
        {
          "output_type": "display_data",
          "data": {
            "application/vnd.jupyter.widget-view+json": {
              "model_id": "eaef3c014a9941c2a963b03781de44b5",
              "version_minor": 0,
              "version_major": 2
            },
            "text/plain": [
              "                                             |          | [  0%]   00:00 -> (? left)"
            ]
          },
          "metadata": {}
        },
        {
          "output_type": "stream",
          "name": "stdout",
          "text": [
            "Report stock_report.html was generated! NOTEBOOK/COLAB USERS: the web browser MAY not pop up, regardless, the report IS saved in your notebook/colab files.\n"
          ]
        }
      ]
    },
    {
      "cell_type": "markdown",
      "metadata": {
        "id": "NX87jAqG7IXA"
      },
      "source": [
        "#AutoViz"
      ]
    },
    {
      "cell_type": "code",
      "metadata": {
        "id": "J9F01wzW7bcT"
      },
      "source": [
        "!pip install autoviz"
      ],
      "execution_count": null,
      "outputs": []
    },
    {
      "cell_type": "code",
      "metadata": {
        "id": "AAlcGad-7I4Y"
      },
      "source": [
        "from autoviz.AutoViz_Class import AutoViz_Class\n",
        "AV = AutoViz_Class()\n"
      ],
      "execution_count": null,
      "outputs": []
    },
    {
      "cell_type": "code",
      "metadata": {
        "id": "jX5sQXnB8KQB"
      },
      "source": [
        "filename = \"stroke-data.csv\"\n",
        "sep = \",\"\n",
        "dft = AV.AutoViz(\n",
        "    filename,\n",
        "    sep=\",\",\n",
        "    depVar=\"\",\n",
        "    dfte=None,\n",
        "    header=0,\n",
        "    verbose=0,\n",
        "    lowess=False,\n",
        "    chart_format=\"png\",\n",
        "    max_rows_analyzed=150000,\n",
        "    max_cols_analyzed=30,\n",
        "    save_plot_dir=None\n",
        ")"
      ],
      "execution_count": null,
      "outputs": []
    }
  ]
}
