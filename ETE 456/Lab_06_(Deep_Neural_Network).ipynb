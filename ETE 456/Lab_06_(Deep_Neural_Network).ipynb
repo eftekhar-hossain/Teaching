{
  "nbformat": 4,
  "nbformat_minor": 0,
  "metadata": {
    "colab": {
      "name": "Lab-06_(Deep Neural Network).ipynb",
      "provenance": [],
      "collapsed_sections": [],
      "authorship_tag": "ABX9TyORJq9Lv7VtoBAlVracTm+T",
      "include_colab_link": true
    },
    "kernelspec": {
      "name": "python3",
      "display_name": "Python 3"
    },
    "language_info": {
      "name": "python"
    }
  },
  "cells": [
    {
      "cell_type": "markdown",
      "metadata": {
        "id": "view-in-github",
        "colab_type": "text"
      },
      "source": [
        "<a href=\"https://colab.research.google.com/github/eftekhar-hossain/Teaching/blob/main/Lab_06_(Deep_Neural_Network).ipynb\" target=\"_parent\"><img src=\"https://colab.research.google.com/assets/colab-badge.svg\" alt=\"Open In Colab\"/></a>"
      ]
    },
    {
      "cell_type": "markdown",
      "metadata": {
        "id": "Q30pJUgw60mX"
      },
      "source": [
        "#ETE-456 Machine Learning Sessional\n",
        "\n",
        "Lab-06: **Introduction to Deep Neural Network (DNN)**\n",
        "\n",
        "> Objective: \n",
        " 1. *Classification problems using Deep Neural Network.*\n",
        " 2. Develop DNN models using Tensorflow Framework\n",
        "\n"
      ]
    },
    {
      "cell_type": "code",
      "metadata": {
        "id": "sr74smUBlWw7"
      },
      "source": [
        "import warnings\n",
        "warnings.filterwarnings(\"ignore\")"
      ],
      "execution_count": null,
      "outputs": []
    },
    {
      "cell_type": "markdown",
      "metadata": {
        "id": "ACPzUHjSiCsH"
      },
      "source": [
        "# Import the libraries"
      ]
    },
    {
      "cell_type": "code",
      "metadata": {
        "id": "O_zWgw13iDPA"
      },
      "source": [
        "import numpy as np        \n",
        "import pandas as pd     \n",
        "import matplotlib.pyplot as plt       \n",
        "\n",
        "# Machine learning libraries\n",
        "from sklearn.model_selection import train_test_split\n",
        "from sklearn.preprocessing import StandardScaler"
      ],
      "execution_count": null,
      "outputs": []
    },
    {
      "cell_type": "markdown",
      "metadata": {
        "id": "KjNpONjqiK0f"
      },
      "source": [
        "##Dataset"
      ]
    },
    {
      "cell_type": "code",
      "metadata": {
        "id": "-l8pYv-dhhk9"
      },
      "source": [
        "# Download the data\n",
        "!wget -O Social_Network_Ads.csv https://www.dropbox.com/s/o8v5zpw972uwlxy/Social_Network_Ads.csv?dl=0"
      ],
      "execution_count": null,
      "outputs": []
    },
    {
      "cell_type": "markdown",
      "metadata": {
        "id": "pSQnZLEaNbIL"
      },
      "source": [
        "Based on Age and Estimated Salary can a person able to purchase a car?🚗"
      ]
    },
    {
      "cell_type": "code",
      "metadata": {
        "colab": {
          "base_uri": "https://localhost:8080/",
          "height": 423
        },
        "id": "pAob0RHGiRjq",
        "outputId": "361de9ca-45b8-4fed-fc8d-15194a2808e6"
      },
      "source": [
        "\"\"\"importing the dataset \"\"\"\n",
        "\n",
        "dataset = pd.read_csv('Social_Network_Ads.csv')\n",
        "dataset"
      ],
      "execution_count": null,
      "outputs": [
        {
          "output_type": "execute_result",
          "data": {
            "text/html": [
              "<div>\n",
              "<style scoped>\n",
              "    .dataframe tbody tr th:only-of-type {\n",
              "        vertical-align: middle;\n",
              "    }\n",
              "\n",
              "    .dataframe tbody tr th {\n",
              "        vertical-align: top;\n",
              "    }\n",
              "\n",
              "    .dataframe thead th {\n",
              "        text-align: right;\n",
              "    }\n",
              "</style>\n",
              "<table border=\"1\" class=\"dataframe\">\n",
              "  <thead>\n",
              "    <tr style=\"text-align: right;\">\n",
              "      <th></th>\n",
              "      <th>User ID</th>\n",
              "      <th>Gender</th>\n",
              "      <th>Age</th>\n",
              "      <th>EstimatedSalary</th>\n",
              "      <th>Purchased</th>\n",
              "    </tr>\n",
              "  </thead>\n",
              "  <tbody>\n",
              "    <tr>\n",
              "      <th>0</th>\n",
              "      <td>15624510</td>\n",
              "      <td>Male</td>\n",
              "      <td>19</td>\n",
              "      <td>19000</td>\n",
              "      <td>0</td>\n",
              "    </tr>\n",
              "    <tr>\n",
              "      <th>1</th>\n",
              "      <td>15810944</td>\n",
              "      <td>Male</td>\n",
              "      <td>35</td>\n",
              "      <td>20000</td>\n",
              "      <td>0</td>\n",
              "    </tr>\n",
              "    <tr>\n",
              "      <th>2</th>\n",
              "      <td>15668575</td>\n",
              "      <td>Female</td>\n",
              "      <td>26</td>\n",
              "      <td>43000</td>\n",
              "      <td>0</td>\n",
              "    </tr>\n",
              "    <tr>\n",
              "      <th>3</th>\n",
              "      <td>15603246</td>\n",
              "      <td>Female</td>\n",
              "      <td>27</td>\n",
              "      <td>57000</td>\n",
              "      <td>0</td>\n",
              "    </tr>\n",
              "    <tr>\n",
              "      <th>4</th>\n",
              "      <td>15804002</td>\n",
              "      <td>Male</td>\n",
              "      <td>19</td>\n",
              "      <td>76000</td>\n",
              "      <td>0</td>\n",
              "    </tr>\n",
              "    <tr>\n",
              "      <th>...</th>\n",
              "      <td>...</td>\n",
              "      <td>...</td>\n",
              "      <td>...</td>\n",
              "      <td>...</td>\n",
              "      <td>...</td>\n",
              "    </tr>\n",
              "    <tr>\n",
              "      <th>395</th>\n",
              "      <td>15691863</td>\n",
              "      <td>Female</td>\n",
              "      <td>46</td>\n",
              "      <td>41000</td>\n",
              "      <td>1</td>\n",
              "    </tr>\n",
              "    <tr>\n",
              "      <th>396</th>\n",
              "      <td>15706071</td>\n",
              "      <td>Male</td>\n",
              "      <td>51</td>\n",
              "      <td>23000</td>\n",
              "      <td>1</td>\n",
              "    </tr>\n",
              "    <tr>\n",
              "      <th>397</th>\n",
              "      <td>15654296</td>\n",
              "      <td>Female</td>\n",
              "      <td>50</td>\n",
              "      <td>20000</td>\n",
              "      <td>1</td>\n",
              "    </tr>\n",
              "    <tr>\n",
              "      <th>398</th>\n",
              "      <td>15755018</td>\n",
              "      <td>Male</td>\n",
              "      <td>36</td>\n",
              "      <td>33000</td>\n",
              "      <td>0</td>\n",
              "    </tr>\n",
              "    <tr>\n",
              "      <th>399</th>\n",
              "      <td>15594041</td>\n",
              "      <td>Female</td>\n",
              "      <td>49</td>\n",
              "      <td>36000</td>\n",
              "      <td>1</td>\n",
              "    </tr>\n",
              "  </tbody>\n",
              "</table>\n",
              "<p>400 rows × 5 columns</p>\n",
              "</div>"
            ],
            "text/plain": [
              "      User ID  Gender  Age  EstimatedSalary  Purchased\n",
              "0    15624510    Male   19            19000          0\n",
              "1    15810944    Male   35            20000          0\n",
              "2    15668575  Female   26            43000          0\n",
              "3    15603246  Female   27            57000          0\n",
              "4    15804002    Male   19            76000          0\n",
              "..        ...     ...  ...              ...        ...\n",
              "395  15691863  Female   46            41000          1\n",
              "396  15706071    Male   51            23000          1\n",
              "397  15654296  Female   50            20000          1\n",
              "398  15755018    Male   36            33000          0\n",
              "399  15594041  Female   49            36000          1\n",
              "\n",
              "[400 rows x 5 columns]"
            ]
          },
          "metadata": {},
          "execution_count": 53
        }
      ]
    },
    {
      "cell_type": "code",
      "metadata": {
        "id": "ki4sp9QwiuEz"
      },
      "source": [
        "feature = dataset[['Age','EstimatedSalary']]  # for independent\n",
        "target = dataset[['Purchased']]   # for dependent"
      ],
      "execution_count": null,
      "outputs": []
    },
    {
      "cell_type": "code",
      "metadata": {
        "id": "4pOhP_o4jKsy"
      },
      "source": [
        "feature"
      ],
      "execution_count": null,
      "outputs": []
    },
    {
      "cell_type": "code",
      "metadata": {
        "id": "vZsulkurjM-H"
      },
      "source": [
        "target"
      ],
      "execution_count": null,
      "outputs": []
    },
    {
      "cell_type": "markdown",
      "metadata": {
        "id": "azmcrMicoru3"
      },
      "source": [
        "##Splitting the Dataset"
      ]
    },
    {
      "cell_type": "code",
      "metadata": {
        "id": "QLjV41K_oxSg"
      },
      "source": [
        "\"\"\"Spliting the Dataset into Training Set and Test Set \"\"\"\n",
        "\n",
        "X_train,X_test,y_train,y_test=train_test_split(feature,target,test_size = 0.2,random_state = 0)\n",
        "# random_state = 0 is select to get the same result"
      ],
      "execution_count": null,
      "outputs": []
    },
    {
      "cell_type": "code",
      "metadata": {
        "colab": {
          "base_uri": "https://localhost:8080/"
        },
        "id": "YDzGdXXrpBlc",
        "outputId": "d2dd7879-7ac7-4d49-fe07-97ad4b4f99c6"
      },
      "source": [
        "print(X_train.shape)\n",
        "print(X_test.shape)"
      ],
      "execution_count": null,
      "outputs": [
        {
          "output_type": "stream",
          "name": "stdout",
          "text": [
            "(320, 2)\n",
            "(80, 2)\n"
          ]
        }
      ]
    },
    {
      "cell_type": "code",
      "metadata": {
        "colab": {
          "base_uri": "https://localhost:8080/",
          "height": 424
        },
        "id": "kZJyLGIxInsG",
        "outputId": "857da9c9-c907-4326-f05b-2359e7d709bc"
      },
      "source": [
        "X_test"
      ],
      "execution_count": null,
      "outputs": [
        {
          "output_type": "execute_result",
          "data": {
            "text/html": [
              "<div>\n",
              "<style scoped>\n",
              "    .dataframe tbody tr th:only-of-type {\n",
              "        vertical-align: middle;\n",
              "    }\n",
              "\n",
              "    .dataframe tbody tr th {\n",
              "        vertical-align: top;\n",
              "    }\n",
              "\n",
              "    .dataframe thead th {\n",
              "        text-align: right;\n",
              "    }\n",
              "</style>\n",
              "<table border=\"1\" class=\"dataframe\">\n",
              "  <thead>\n",
              "    <tr style=\"text-align: right;\">\n",
              "      <th></th>\n",
              "      <th>Age</th>\n",
              "      <th>EstimatedSalary</th>\n",
              "    </tr>\n",
              "  </thead>\n",
              "  <tbody>\n",
              "    <tr>\n",
              "      <th>132</th>\n",
              "      <td>30</td>\n",
              "      <td>87000</td>\n",
              "    </tr>\n",
              "    <tr>\n",
              "      <th>309</th>\n",
              "      <td>38</td>\n",
              "      <td>50000</td>\n",
              "    </tr>\n",
              "    <tr>\n",
              "      <th>341</th>\n",
              "      <td>35</td>\n",
              "      <td>75000</td>\n",
              "    </tr>\n",
              "    <tr>\n",
              "      <th>196</th>\n",
              "      <td>30</td>\n",
              "      <td>79000</td>\n",
              "    </tr>\n",
              "    <tr>\n",
              "      <th>246</th>\n",
              "      <td>35</td>\n",
              "      <td>50000</td>\n",
              "    </tr>\n",
              "    <tr>\n",
              "      <th>...</th>\n",
              "      <td>...</td>\n",
              "      <td>...</td>\n",
              "    </tr>\n",
              "    <tr>\n",
              "      <th>14</th>\n",
              "      <td>18</td>\n",
              "      <td>82000</td>\n",
              "    </tr>\n",
              "    <tr>\n",
              "      <th>363</th>\n",
              "      <td>42</td>\n",
              "      <td>79000</td>\n",
              "    </tr>\n",
              "    <tr>\n",
              "      <th>304</th>\n",
              "      <td>40</td>\n",
              "      <td>60000</td>\n",
              "    </tr>\n",
              "    <tr>\n",
              "      <th>361</th>\n",
              "      <td>53</td>\n",
              "      <td>34000</td>\n",
              "    </tr>\n",
              "    <tr>\n",
              "      <th>329</th>\n",
              "      <td>47</td>\n",
              "      <td>107000</td>\n",
              "    </tr>\n",
              "  </tbody>\n",
              "</table>\n",
              "<p>80 rows × 2 columns</p>\n",
              "</div>"
            ],
            "text/plain": [
              "     Age  EstimatedSalary\n",
              "132   30            87000\n",
              "309   38            50000\n",
              "341   35            75000\n",
              "196   30            79000\n",
              "246   35            50000\n",
              "..   ...              ...\n",
              "14    18            82000\n",
              "363   42            79000\n",
              "304   40            60000\n",
              "361   53            34000\n",
              "329   47           107000\n",
              "\n",
              "[80 rows x 2 columns]"
            ]
          },
          "metadata": {},
          "execution_count": 16
        }
      ]
    },
    {
      "cell_type": "markdown",
      "metadata": {
        "id": "Y6hXmtYgOi2K"
      },
      "source": [
        "#Feature Scaling"
      ]
    },
    {
      "cell_type": "code",
      "metadata": {
        "id": "KZWjA9QSpJTJ"
      },
      "source": [
        "X_sc = StandardScaler()\n",
        "X_train = X_sc.fit_transform(X_train)\n",
        "X_test = X_sc.transform(X_test) "
      ],
      "execution_count": null,
      "outputs": []
    },
    {
      "cell_type": "markdown",
      "metadata": {
        "id": "0S4QH_wod1Mh"
      },
      "source": [
        "#Neural Network"
      ]
    },
    {
      "cell_type": "markdown",
      "metadata": {
        "id": "n5NGsbjzHetl"
      },
      "source": [
        "**Building a Multilayer Neural Network with Tensorflow Keras**. \n",
        "\n",
        "\n",
        "Before training our model, we have to build it. Building the architecture of a neural network in Keras is done using the **Sequential class**. Layers can be added to whatever numbers you desire. \n",
        "\n",
        "First off, we will create a single hidden layer and see how the model performs. \n",
        "\n",
        "Since the data we are passing into the model has 1 features, we must define the input_dim parameter in the first layer and set it to 1. Our single hidden is set to have 15 nodes and then it’s passed to the output layer with just one node. Since it is a linear regression problem and the output is just one number, the final layer should have one node. \n",
        "\n",
        "In addition, the hidden layer has a ReLu activation function whereas the output function has a linear activation function. If you don’t know what activation functions are, I like to see them as ‘switches’ that are responsible for aggregating the weights of the nodes to give an output to the next node input. \n",
        "\n",
        "The code to build the neural network architecture is shown below. "
      ]
    },
    {
      "cell_type": "code",
      "metadata": {
        "id": "Qto4lD2gHetn"
      },
      "source": [
        "import tensorflow as tf\n",
        "from tensorflow.keras import Sequential\n",
        "from tensorflow.keras.layers import Dense"
      ],
      "execution_count": null,
      "outputs": []
    },
    {
      "cell_type": "code",
      "metadata": {
        "id": "FrpWvM7-Heto"
      },
      "source": [
        "#built the neural network architecture\n",
        "model = Sequential()\n",
        "model.add(Dense(20, input_dim=2, activation='relu'))\n",
        "model.add(Dense(10, activation='relu'))\n",
        "model.add(Dense(1, activation='sigmoid'))"
      ],
      "execution_count": null,
      "outputs": []
    },
    {
      "cell_type": "code",
      "metadata": {
        "colab": {
          "base_uri": "https://localhost:8080/"
        },
        "id": "6NPNqPsajxzA",
        "outputId": "35ffd7e4-3079-4b8e-e7ce-bcbe8ce295b7"
      },
      "source": [
        "model.summary()"
      ],
      "execution_count": null,
      "outputs": [
        {
          "output_type": "stream",
          "name": "stdout",
          "text": [
            "Model: \"sequential_5\"\n",
            "_________________________________________________________________\n",
            " Layer (type)                Output Shape              Param #   \n",
            "=================================================================\n",
            " dense_10 (Dense)            (None, 20)                60        \n",
            "                                                                 \n",
            " dense_11 (Dense)            (None, 10)                210       \n",
            "                                                                 \n",
            " dense_12 (Dense)            (None, 1)                 11        \n",
            "                                                                 \n",
            "=================================================================\n",
            "Total params: 281\n",
            "Trainable params: 281\n",
            "Non-trainable params: 0\n",
            "_________________________________________________________________\n"
          ]
        }
      ]
    },
    {
      "cell_type": "markdown",
      "metadata": {
        "id": "MwWApK7YHetp"
      },
      "source": [
        "The next step is to compile the model. We use an `Adam` optimizer with a **binary_crossentropy**. We defined the validation metrics to be **accuracy**."
      ]
    },
    {
      "cell_type": "code",
      "metadata": {
        "id": "Ic4VaFfXHetq"
      },
      "source": [
        "model.compile(loss='binary_crossentropy', optimizer='adam', metrics=['accuracy'])"
      ],
      "execution_count": null,
      "outputs": []
    },
    {
      "cell_type": "markdown",
      "metadata": {
        "id": "X0nSPhcaHetq"
      },
      "source": [
        "##Training the Model\n",
        "\n",
        "The model was trained on 200 epochs with a validation set of 20% of the train data. The validation set helps you check how well the model is learning during the training process, based on the loss function."
      ]
    },
    {
      "cell_type": "code",
      "metadata": {
        "colab": {
          "base_uri": "https://localhost:8080/"
        },
        "id": "ett-0jZAHetr",
        "outputId": "64a47e3d-4ac1-4405-af42-4d1bb40a06ab"
      },
      "source": [
        "#train the neural network on the train dataset\n",
        "history = model.fit(X_train, y_train, epochs=100, validation_split=0.1)"
      ],
      "execution_count": null,
      "outputs": [
        {
          "output_type": "stream",
          "name": "stdout",
          "text": [
            "Epoch 1/100\n",
            "9/9 [==============================] - 1s 20ms/step - loss: 0.5919 - accuracy: 0.7847 - val_loss: 0.5700 - val_accuracy: 0.8438\n",
            "Epoch 2/100\n",
            "9/9 [==============================] - 0s 4ms/step - loss: 0.5751 - accuracy: 0.8056 - val_loss: 0.5481 - val_accuracy: 0.8438\n",
            "Epoch 3/100\n",
            "9/9 [==============================] - 0s 4ms/step - loss: 0.5594 - accuracy: 0.8229 - val_loss: 0.5279 - val_accuracy: 0.9062\n",
            "Epoch 4/100\n",
            "9/9 [==============================] - 0s 4ms/step - loss: 0.5449 - accuracy: 0.8264 - val_loss: 0.5099 - val_accuracy: 0.9062\n",
            "Epoch 5/100\n",
            "9/9 [==============================] - 0s 4ms/step - loss: 0.5318 - accuracy: 0.8299 - val_loss: 0.4930 - val_accuracy: 0.9062\n",
            "Epoch 6/100\n",
            "9/9 [==============================] - 0s 4ms/step - loss: 0.5202 - accuracy: 0.8299 - val_loss: 0.4774 - val_accuracy: 0.9062\n",
            "Epoch 7/100\n",
            "9/9 [==============================] - 0s 4ms/step - loss: 0.5091 - accuracy: 0.8299 - val_loss: 0.4626 - val_accuracy: 0.9062\n",
            "Epoch 8/100\n",
            "9/9 [==============================] - 0s 4ms/step - loss: 0.4991 - accuracy: 0.8333 - val_loss: 0.4483 - val_accuracy: 0.9062\n",
            "Epoch 9/100\n",
            "9/9 [==============================] - 0s 4ms/step - loss: 0.4893 - accuracy: 0.8264 - val_loss: 0.4349 - val_accuracy: 0.9062\n",
            "Epoch 10/100\n",
            "9/9 [==============================] - 0s 4ms/step - loss: 0.4803 - accuracy: 0.8264 - val_loss: 0.4221 - val_accuracy: 0.9062\n",
            "Epoch 11/100\n",
            "9/9 [==============================] - 0s 4ms/step - loss: 0.4714 - accuracy: 0.8194 - val_loss: 0.4102 - val_accuracy: 0.9062\n",
            "Epoch 12/100\n",
            "9/9 [==============================] - 0s 4ms/step - loss: 0.4636 - accuracy: 0.8229 - val_loss: 0.3980 - val_accuracy: 0.9062\n",
            "Epoch 13/100\n",
            "9/9 [==============================] - 0s 4ms/step - loss: 0.4559 - accuracy: 0.8264 - val_loss: 0.3863 - val_accuracy: 0.9062\n",
            "Epoch 14/100\n",
            "9/9 [==============================] - 0s 4ms/step - loss: 0.4487 - accuracy: 0.8333 - val_loss: 0.3754 - val_accuracy: 0.9062\n",
            "Epoch 15/100\n",
            "9/9 [==============================] - 0s 4ms/step - loss: 0.4414 - accuracy: 0.8333 - val_loss: 0.3650 - val_accuracy: 0.9062\n",
            "Epoch 16/100\n",
            "9/9 [==============================] - 0s 4ms/step - loss: 0.4344 - accuracy: 0.8333 - val_loss: 0.3553 - val_accuracy: 0.9062\n",
            "Epoch 17/100\n",
            "9/9 [==============================] - 0s 4ms/step - loss: 0.4286 - accuracy: 0.8438 - val_loss: 0.3448 - val_accuracy: 0.9688\n",
            "Epoch 18/100\n",
            "9/9 [==============================] - 0s 4ms/step - loss: 0.4221 - accuracy: 0.8368 - val_loss: 0.3357 - val_accuracy: 0.9688\n",
            "Epoch 19/100\n",
            "9/9 [==============================] - 0s 4ms/step - loss: 0.4164 - accuracy: 0.8368 - val_loss: 0.3269 - val_accuracy: 0.9688\n",
            "Epoch 20/100\n",
            "9/9 [==============================] - 0s 5ms/step - loss: 0.4109 - accuracy: 0.8438 - val_loss: 0.3185 - val_accuracy: 0.9688\n",
            "Epoch 21/100\n",
            "9/9 [==============================] - 0s 5ms/step - loss: 0.4059 - accuracy: 0.8576 - val_loss: 0.3104 - val_accuracy: 0.9688\n",
            "Epoch 22/100\n",
            "9/9 [==============================] - 0s 4ms/step - loss: 0.4005 - accuracy: 0.8576 - val_loss: 0.3022 - val_accuracy: 0.9688\n",
            "Epoch 23/100\n",
            "9/9 [==============================] - 0s 5ms/step - loss: 0.3957 - accuracy: 0.8611 - val_loss: 0.2944 - val_accuracy: 0.9688\n",
            "Epoch 24/100\n",
            "9/9 [==============================] - 0s 4ms/step - loss: 0.3910 - accuracy: 0.8646 - val_loss: 0.2872 - val_accuracy: 0.9688\n",
            "Epoch 25/100\n",
            "9/9 [==============================] - 0s 4ms/step - loss: 0.3866 - accuracy: 0.8646 - val_loss: 0.2801 - val_accuracy: 0.9688\n",
            "Epoch 26/100\n",
            "9/9 [==============================] - 0s 4ms/step - loss: 0.3824 - accuracy: 0.8646 - val_loss: 0.2731 - val_accuracy: 0.9688\n",
            "Epoch 27/100\n",
            "9/9 [==============================] - 0s 4ms/step - loss: 0.3781 - accuracy: 0.8646 - val_loss: 0.2664 - val_accuracy: 0.9688\n",
            "Epoch 28/100\n",
            "9/9 [==============================] - 0s 4ms/step - loss: 0.3741 - accuracy: 0.8681 - val_loss: 0.2603 - val_accuracy: 0.9688\n",
            "Epoch 29/100\n",
            "9/9 [==============================] - 0s 4ms/step - loss: 0.3704 - accuracy: 0.8715 - val_loss: 0.2544 - val_accuracy: 0.9688\n",
            "Epoch 30/100\n",
            "9/9 [==============================] - 0s 4ms/step - loss: 0.3667 - accuracy: 0.8715 - val_loss: 0.2488 - val_accuracy: 0.9688\n",
            "Epoch 31/100\n",
            "9/9 [==============================] - 0s 4ms/step - loss: 0.3636 - accuracy: 0.8750 - val_loss: 0.2426 - val_accuracy: 0.9688\n",
            "Epoch 32/100\n",
            "9/9 [==============================] - 0s 5ms/step - loss: 0.3598 - accuracy: 0.8750 - val_loss: 0.2380 - val_accuracy: 0.9688\n",
            "Epoch 33/100\n",
            "9/9 [==============================] - 0s 5ms/step - loss: 0.3567 - accuracy: 0.8750 - val_loss: 0.2332 - val_accuracy: 1.0000\n",
            "Epoch 34/100\n",
            "9/9 [==============================] - 0s 4ms/step - loss: 0.3537 - accuracy: 0.8750 - val_loss: 0.2285 - val_accuracy: 1.0000\n",
            "Epoch 35/100\n",
            "9/9 [==============================] - 0s 4ms/step - loss: 0.3507 - accuracy: 0.8715 - val_loss: 0.2244 - val_accuracy: 1.0000\n",
            "Epoch 36/100\n",
            "9/9 [==============================] - 0s 4ms/step - loss: 0.3480 - accuracy: 0.8785 - val_loss: 0.2197 - val_accuracy: 1.0000\n",
            "Epoch 37/100\n",
            "9/9 [==============================] - 0s 5ms/step - loss: 0.3452 - accuracy: 0.8785 - val_loss: 0.2158 - val_accuracy: 1.0000\n",
            "Epoch 38/100\n",
            "9/9 [==============================] - 0s 5ms/step - loss: 0.3428 - accuracy: 0.8785 - val_loss: 0.2110 - val_accuracy: 1.0000\n",
            "Epoch 39/100\n",
            "9/9 [==============================] - 0s 5ms/step - loss: 0.3402 - accuracy: 0.8819 - val_loss: 0.2071 - val_accuracy: 1.0000\n",
            "Epoch 40/100\n",
            "9/9 [==============================] - 0s 4ms/step - loss: 0.3377 - accuracy: 0.8854 - val_loss: 0.2037 - val_accuracy: 1.0000\n",
            "Epoch 41/100\n",
            "9/9 [==============================] - 0s 5ms/step - loss: 0.3355 - accuracy: 0.8854 - val_loss: 0.1997 - val_accuracy: 1.0000\n",
            "Epoch 42/100\n",
            "9/9 [==============================] - 0s 5ms/step - loss: 0.3334 - accuracy: 0.8854 - val_loss: 0.1961 - val_accuracy: 1.0000\n",
            "Epoch 43/100\n",
            "9/9 [==============================] - 0s 4ms/step - loss: 0.3313 - accuracy: 0.8889 - val_loss: 0.1929 - val_accuracy: 1.0000\n",
            "Epoch 44/100\n",
            "9/9 [==============================] - 0s 4ms/step - loss: 0.3295 - accuracy: 0.8889 - val_loss: 0.1901 - val_accuracy: 1.0000\n",
            "Epoch 45/100\n",
            "9/9 [==============================] - 0s 4ms/step - loss: 0.3275 - accuracy: 0.8854 - val_loss: 0.1863 - val_accuracy: 1.0000\n",
            "Epoch 46/100\n",
            "9/9 [==============================] - 0s 5ms/step - loss: 0.3257 - accuracy: 0.8854 - val_loss: 0.1832 - val_accuracy: 1.0000\n",
            "Epoch 47/100\n",
            "9/9 [==============================] - 0s 4ms/step - loss: 0.3237 - accuracy: 0.8854 - val_loss: 0.1806 - val_accuracy: 1.0000\n",
            "Epoch 48/100\n",
            "9/9 [==============================] - 0s 5ms/step - loss: 0.3221 - accuracy: 0.8854 - val_loss: 0.1785 - val_accuracy: 1.0000\n",
            "Epoch 49/100\n",
            "9/9 [==============================] - 0s 4ms/step - loss: 0.3206 - accuracy: 0.8854 - val_loss: 0.1760 - val_accuracy: 1.0000\n",
            "Epoch 50/100\n",
            "9/9 [==============================] - 0s 5ms/step - loss: 0.3189 - accuracy: 0.8819 - val_loss: 0.1735 - val_accuracy: 1.0000\n",
            "Epoch 51/100\n",
            "9/9 [==============================] - 0s 4ms/step - loss: 0.3177 - accuracy: 0.8819 - val_loss: 0.1721 - val_accuracy: 1.0000\n",
            "Epoch 52/100\n",
            "9/9 [==============================] - 0s 4ms/step - loss: 0.3161 - accuracy: 0.8819 - val_loss: 0.1694 - val_accuracy: 1.0000\n",
            "Epoch 53/100\n",
            "9/9 [==============================] - 0s 4ms/step - loss: 0.3147 - accuracy: 0.8819 - val_loss: 0.1675 - val_accuracy: 1.0000\n",
            "Epoch 54/100\n",
            "9/9 [==============================] - 0s 4ms/step - loss: 0.3134 - accuracy: 0.8819 - val_loss: 0.1653 - val_accuracy: 1.0000\n",
            "Epoch 55/100\n",
            "9/9 [==============================] - 0s 5ms/step - loss: 0.3121 - accuracy: 0.8819 - val_loss: 0.1640 - val_accuracy: 1.0000\n",
            "Epoch 56/100\n",
            "9/9 [==============================] - 0s 4ms/step - loss: 0.3111 - accuracy: 0.8819 - val_loss: 0.1617 - val_accuracy: 1.0000\n",
            "Epoch 57/100\n",
            "9/9 [==============================] - 0s 4ms/step - loss: 0.3098 - accuracy: 0.8819 - val_loss: 0.1597 - val_accuracy: 1.0000\n",
            "Epoch 58/100\n",
            "9/9 [==============================] - 0s 4ms/step - loss: 0.3087 - accuracy: 0.8819 - val_loss: 0.1578 - val_accuracy: 1.0000\n",
            "Epoch 59/100\n",
            "9/9 [==============================] - 0s 5ms/step - loss: 0.3076 - accuracy: 0.8819 - val_loss: 0.1568 - val_accuracy: 1.0000\n",
            "Epoch 60/100\n",
            "9/9 [==============================] - 0s 5ms/step - loss: 0.3067 - accuracy: 0.8819 - val_loss: 0.1554 - val_accuracy: 1.0000\n",
            "Epoch 61/100\n",
            "9/9 [==============================] - 0s 5ms/step - loss: 0.3056 - accuracy: 0.8819 - val_loss: 0.1547 - val_accuracy: 1.0000\n",
            "Epoch 62/100\n",
            "9/9 [==============================] - 0s 4ms/step - loss: 0.3045 - accuracy: 0.8819 - val_loss: 0.1533 - val_accuracy: 1.0000\n",
            "Epoch 63/100\n",
            "9/9 [==============================] - 0s 4ms/step - loss: 0.3036 - accuracy: 0.8819 - val_loss: 0.1519 - val_accuracy: 1.0000\n",
            "Epoch 64/100\n",
            "9/9 [==============================] - 0s 4ms/step - loss: 0.3027 - accuracy: 0.8819 - val_loss: 0.1507 - val_accuracy: 1.0000\n",
            "Epoch 65/100\n",
            "9/9 [==============================] - 0s 5ms/step - loss: 0.3018 - accuracy: 0.8819 - val_loss: 0.1500 - val_accuracy: 1.0000\n",
            "Epoch 66/100\n",
            "9/9 [==============================] - 0s 5ms/step - loss: 0.3009 - accuracy: 0.8854 - val_loss: 0.1490 - val_accuracy: 1.0000\n",
            "Epoch 67/100\n",
            "9/9 [==============================] - 0s 5ms/step - loss: 0.3001 - accuracy: 0.8854 - val_loss: 0.1470 - val_accuracy: 1.0000\n",
            "Epoch 68/100\n",
            "9/9 [==============================] - 0s 5ms/step - loss: 0.2994 - accuracy: 0.8854 - val_loss: 0.1468 - val_accuracy: 1.0000\n",
            "Epoch 69/100\n",
            "9/9 [==============================] - 0s 4ms/step - loss: 0.2985 - accuracy: 0.8889 - val_loss: 0.1454 - val_accuracy: 1.0000\n",
            "Epoch 70/100\n",
            "9/9 [==============================] - 0s 4ms/step - loss: 0.2978 - accuracy: 0.8889 - val_loss: 0.1447 - val_accuracy: 1.0000\n",
            "Epoch 71/100\n",
            "9/9 [==============================] - 0s 4ms/step - loss: 0.2970 - accuracy: 0.8889 - val_loss: 0.1442 - val_accuracy: 1.0000\n",
            "Epoch 72/100\n",
            "9/9 [==============================] - 0s 5ms/step - loss: 0.2963 - accuracy: 0.8889 - val_loss: 0.1426 - val_accuracy: 1.0000\n",
            "Epoch 73/100\n",
            "9/9 [==============================] - 0s 4ms/step - loss: 0.2955 - accuracy: 0.8889 - val_loss: 0.1420 - val_accuracy: 1.0000\n",
            "Epoch 74/100\n",
            "9/9 [==============================] - 0s 5ms/step - loss: 0.2947 - accuracy: 0.8889 - val_loss: 0.1411 - val_accuracy: 1.0000\n",
            "Epoch 75/100\n",
            "9/9 [==============================] - 0s 4ms/step - loss: 0.2942 - accuracy: 0.8889 - val_loss: 0.1405 - val_accuracy: 1.0000\n",
            "Epoch 76/100\n",
            "9/9 [==============================] - 0s 5ms/step - loss: 0.2935 - accuracy: 0.8889 - val_loss: 0.1395 - val_accuracy: 1.0000\n",
            "Epoch 77/100\n",
            "9/9 [==============================] - 0s 5ms/step - loss: 0.2929 - accuracy: 0.8889 - val_loss: 0.1385 - val_accuracy: 1.0000\n",
            "Epoch 78/100\n",
            "9/9 [==============================] - 0s 5ms/step - loss: 0.2924 - accuracy: 0.8889 - val_loss: 0.1389 - val_accuracy: 1.0000\n",
            "Epoch 79/100\n",
            "9/9 [==============================] - 0s 4ms/step - loss: 0.2916 - accuracy: 0.8889 - val_loss: 0.1378 - val_accuracy: 1.0000\n",
            "Epoch 80/100\n",
            "9/9 [==============================] - 0s 4ms/step - loss: 0.2911 - accuracy: 0.8889 - val_loss: 0.1378 - val_accuracy: 1.0000\n",
            "Epoch 81/100\n",
            "9/9 [==============================] - 0s 5ms/step - loss: 0.2907 - accuracy: 0.8889 - val_loss: 0.1367 - val_accuracy: 1.0000\n",
            "Epoch 82/100\n",
            "9/9 [==============================] - 0s 4ms/step - loss: 0.2900 - accuracy: 0.8889 - val_loss: 0.1364 - val_accuracy: 1.0000\n",
            "Epoch 83/100\n",
            "9/9 [==============================] - 0s 5ms/step - loss: 0.2895 - accuracy: 0.8889 - val_loss: 0.1364 - val_accuracy: 1.0000\n",
            "Epoch 84/100\n",
            "9/9 [==============================] - 0s 5ms/step - loss: 0.2888 - accuracy: 0.8889 - val_loss: 0.1355 - val_accuracy: 1.0000\n",
            "Epoch 85/100\n",
            "9/9 [==============================] - 0s 4ms/step - loss: 0.2885 - accuracy: 0.8889 - val_loss: 0.1344 - val_accuracy: 1.0000\n",
            "Epoch 86/100\n",
            "9/9 [==============================] - 0s 4ms/step - loss: 0.2879 - accuracy: 0.8889 - val_loss: 0.1343 - val_accuracy: 1.0000\n",
            "Epoch 87/100\n",
            "9/9 [==============================] - 0s 5ms/step - loss: 0.2875 - accuracy: 0.8889 - val_loss: 0.1342 - val_accuracy: 1.0000\n",
            "Epoch 88/100\n",
            "9/9 [==============================] - 0s 5ms/step - loss: 0.2870 - accuracy: 0.8889 - val_loss: 0.1331 - val_accuracy: 1.0000\n",
            "Epoch 89/100\n",
            "9/9 [==============================] - 0s 5ms/step - loss: 0.2865 - accuracy: 0.8889 - val_loss: 0.1329 - val_accuracy: 1.0000\n",
            "Epoch 90/100\n",
            "9/9 [==============================] - 0s 6ms/step - loss: 0.2861 - accuracy: 0.8889 - val_loss: 0.1322 - val_accuracy: 1.0000\n",
            "Epoch 91/100\n",
            "9/9 [==============================] - 0s 5ms/step - loss: 0.2856 - accuracy: 0.8889 - val_loss: 0.1317 - val_accuracy: 1.0000\n",
            "Epoch 92/100\n",
            "9/9 [==============================] - 0s 5ms/step - loss: 0.2852 - accuracy: 0.8889 - val_loss: 0.1318 - val_accuracy: 1.0000\n",
            "Epoch 93/100\n",
            "9/9 [==============================] - 0s 5ms/step - loss: 0.2849 - accuracy: 0.8889 - val_loss: 0.1309 - val_accuracy: 1.0000\n",
            "Epoch 94/100\n",
            "9/9 [==============================] - 0s 5ms/step - loss: 0.2845 - accuracy: 0.8889 - val_loss: 0.1305 - val_accuracy: 1.0000\n",
            "Epoch 95/100\n",
            "9/9 [==============================] - 0s 5ms/step - loss: 0.2843 - accuracy: 0.8889 - val_loss: 0.1299 - val_accuracy: 1.0000\n",
            "Epoch 96/100\n",
            "9/9 [==============================] - 0s 8ms/step - loss: 0.2837 - accuracy: 0.8889 - val_loss: 0.1293 - val_accuracy: 1.0000\n",
            "Epoch 97/100\n",
            "9/9 [==============================] - 0s 5ms/step - loss: 0.2834 - accuracy: 0.8889 - val_loss: 0.1297 - val_accuracy: 1.0000\n",
            "Epoch 98/100\n",
            "9/9 [==============================] - 0s 5ms/step - loss: 0.2832 - accuracy: 0.8889 - val_loss: 0.1300 - val_accuracy: 1.0000\n",
            "Epoch 99/100\n",
            "9/9 [==============================] - 0s 5ms/step - loss: 0.2827 - accuracy: 0.8889 - val_loss: 0.1292 - val_accuracy: 1.0000\n",
            "Epoch 100/100\n",
            "9/9 [==============================] - 0s 4ms/step - loss: 0.2823 - accuracy: 0.8889 - val_loss: 0.1288 - val_accuracy: 1.0000\n"
          ]
        }
      ]
    },
    {
      "cell_type": "code",
      "metadata": {
        "colab": {
          "base_uri": "https://localhost:8080/",
          "height": 282
        },
        "id": "JlEtL6keHets",
        "outputId": "7ccc024e-afb7-4030-afac-163e65c82b11"
      },
      "source": [
        "#plot the loss and validation loss of the dataset\n",
        "history_df = pd.DataFrame(history.history)\n",
        "plt.plot(history_df['loss'], label='loss')\n",
        "plt.plot(history_df['val_loss'], label='val_loss')\n",
        "\n",
        "plt.legend()"
      ],
      "execution_count": null,
      "outputs": [
        {
          "output_type": "execute_result",
          "data": {
            "text/plain": [
              "<matplotlib.legend.Legend at 0x7f58195dbcd0>"
            ]
          },
          "metadata": {},
          "execution_count": 61
        },
        {
          "output_type": "display_data",
          "data": {
            "image/png": "[encoded data removed]",
            "text/plain": [
              "<Figure size 432x288 with 1 Axes>"
            ]
          },
          "metadata": {
            "needs_background": "light"
          }
        }
      ]
    },
    {
      "cell_type": "code",
      "metadata": {
        "colab": {
          "base_uri": "https://localhost:8080/",
          "height": 282
        },
        "id": "lRyodbRVIJmP",
        "outputId": "8bfbcf06-2216-4a4c-da11-86e0000a8d37"
      },
      "source": [
        "plt.plot(history_df['accuracy'], label='acc')\n",
        "plt.plot(history_df['val_accuracy'], label='val_acc')\n",
        "\n",
        "plt.legend()"
      ],
      "execution_count": null,
      "outputs": [
        {
          "output_type": "execute_result",
          "data": {
            "text/plain": [
              "<matplotlib.legend.Legend at 0x7f5819605210>"
            ]
          },
          "metadata": {},
          "execution_count": 62
        },
        {
          "output_type": "display_data",
          "data": {
            "image/png": "[encoded data removed]",
            "text/plain": [
              "<Figure size 432x288 with 1 Axes>"
            ]
          },
          "metadata": {
            "needs_background": "light"
          }
        }
      ]
    },
    {
      "cell_type": "code",
      "metadata": {
        "id": "JwANoviDIX-T"
      },
      "source": [
        "#Prediction\n",
        "y_pred = model.predict(X_test)\n"
      ],
      "execution_count": null,
      "outputs": []
    },
    {
      "cell_type": "code",
      "metadata": {
        "colab": {
          "base_uri": "https://localhost:8080/",
          "height": 423
        },
        "id": "Py-crm-0jfoO",
        "outputId": "9ec487ec-45e3-40bb-afc7-a06cb6f4eaf3"
      },
      "source": [
        "y_test"
      ],
      "execution_count": null,
      "outputs": [
        {
          "output_type": "execute_result",
          "data": {
            "text/html": [
              "<div>\n",
              "<style scoped>\n",
              "    .dataframe tbody tr th:only-of-type {\n",
              "        vertical-align: middle;\n",
              "    }\n",
              "\n",
              "    .dataframe tbody tr th {\n",
              "        vertical-align: top;\n",
              "    }\n",
              "\n",
              "    .dataframe thead th {\n",
              "        text-align: right;\n",
              "    }\n",
              "</style>\n",
              "<table border=\"1\" class=\"dataframe\">\n",
              "  <thead>\n",
              "    <tr style=\"text-align: right;\">\n",
              "      <th></th>\n",
              "      <th>Purchased</th>\n",
              "    </tr>\n",
              "  </thead>\n",
              "  <tbody>\n",
              "    <tr>\n",
              "      <th>132</th>\n",
              "      <td>0</td>\n",
              "    </tr>\n",
              "    <tr>\n",
              "      <th>309</th>\n",
              "      <td>0</td>\n",
              "    </tr>\n",
              "    <tr>\n",
              "      <th>341</th>\n",
              "      <td>0</td>\n",
              "    </tr>\n",
              "    <tr>\n",
              "      <th>196</th>\n",
              "      <td>0</td>\n",
              "    </tr>\n",
              "    <tr>\n",
              "      <th>246</th>\n",
              "      <td>0</td>\n",
              "    </tr>\n",
              "    <tr>\n",
              "      <th>...</th>\n",
              "      <td>...</td>\n",
              "    </tr>\n",
              "    <tr>\n",
              "      <th>14</th>\n",
              "      <td>0</td>\n",
              "    </tr>\n",
              "    <tr>\n",
              "      <th>363</th>\n",
              "      <td>0</td>\n",
              "    </tr>\n",
              "    <tr>\n",
              "      <th>304</th>\n",
              "      <td>0</td>\n",
              "    </tr>\n",
              "    <tr>\n",
              "      <th>361</th>\n",
              "      <td>1</td>\n",
              "    </tr>\n",
              "    <tr>\n",
              "      <th>329</th>\n",
              "      <td>1</td>\n",
              "    </tr>\n",
              "  </tbody>\n",
              "</table>\n",
              "<p>80 rows × 1 columns</p>\n",
              "</div>"
            ],
            "text/plain": [
              "     Purchased\n",
              "132          0\n",
              "309          0\n",
              "341          0\n",
              "196          0\n",
              "246          0\n",
              "..         ...\n",
              "14           0\n",
              "363          0\n",
              "304          0\n",
              "361          1\n",
              "329          1\n",
              "\n",
              "[80 rows x 1 columns]"
            ]
          },
          "metadata": {},
          "execution_count": 68
        }
      ]
    },
    {
      "cell_type": "code",
      "metadata": {
        "id": "QbatONpyjMA1"
      },
      "source": [
        "y_pred"
      ],
      "execution_count": null,
      "outputs": []
    },
    {
      "cell_type": "code",
      "metadata": {
        "id": "gqXyQ7kQjAKR"
      },
      "source": [
        "y_pred = y_pred > 0.5\n",
        "y_pred"
      ],
      "execution_count": null,
      "outputs": []
    },
    {
      "cell_type": "code",
      "metadata": {
        "id": "BiFUasSajRou"
      },
      "source": [
        "pred = y_pred.astype('uint8')\n",
        "pred"
      ],
      "execution_count": null,
      "outputs": []
    },
    {
      "cell_type": "code",
      "metadata": {
        "colab": {
          "base_uri": "https://localhost:8080/"
        },
        "id": "c_GEPpkFJFPK",
        "outputId": "7886c587-0e2c-4e6d-f7c3-905b26c97155"
      },
      "source": [
        "#Classification Report\n",
        "print(classification_report(y_test,y_pred))"
      ],
      "execution_count": null,
      "outputs": [
        {
          "output_type": "stream",
          "name": "stdout",
          "text": [
            "              precision    recall  f1-score   support\n",
            "\n",
            "           0       0.98      0.95      0.96        58\n",
            "           1       0.88      0.95      0.91        22\n",
            "\n",
            "    accuracy                           0.95        80\n",
            "   macro avg       0.93      0.95      0.94        80\n",
            "weighted avg       0.95      0.95      0.95        80\n",
            "\n"
          ]
        }
      ]
    },
    {
      "cell_type": "markdown",
      "metadata": {
        "id": "KMyoaDOjs8hF"
      },
      "source": [
        "#Reference\n",
        "\n",
        "\n",
        "1.   [SuperDataScience](https://www.superdatascience.com/pages/machine-learning)\n",
        "\n"
      ]
    }
  ]
}
