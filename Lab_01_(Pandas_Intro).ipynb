{
  "nbformat": 4,
  "nbformat_minor": 0,
  "metadata": {
    "colab": {
      "name": "Lab-01_(Pandas Intro).ipynb",
      "provenance": [],
      "collapsed_sections": [],
      "authorship_tag": "ABX9TyNVmxw7Ps0T56Jo56QBc4Pa",
      "include_colab_link": true
    },
    "kernelspec": {
      "name": "python3",
      "display_name": "Python 3"
    },
    "language_info": {
      "name": "python"
    }
  },
  "cells": [
    {
      "cell_type": "markdown",
      "metadata": {
        "id": "view-in-github",
        "colab_type": "text"
      },
      "source": [
        "<a href=\"https://colab.research.google.com/github/eftekhar-hossain/Teaching/blob/main/Lab_01_(Pandas_Intro).ipynb\" target=\"_parent\"><img src=\"https://colab.research.google.com/assets/colab-badge.svg\" alt=\"Open In Colab\"/></a>"
      ]
    },
    {
      "cell_type": "markdown",
      "metadata": {
        "id": "Q30pJUgw60mX"
      },
      "source": [
        "#ETE-456 Machine Learning Sessional\n",
        "\n",
        "Lab-01: **Data Manipulation using *Pandas* Library**\n",
        "\n",
        "> Objective: \n",
        " 1. *Get familiar with Pandas Library.*\n",
        " 2. *Manipulate data by applying it on a real world dataset.*\n"
      ]
    },
    {
      "cell_type": "markdown",
      "metadata": {
        "id": "ui61lEr88NUD"
      },
      "source": [
        "##Creating, Reading and Writing\n",
        "**In this section, you will learn how to create your own data, along with how to work with data that already exists.**"
      ]
    },
    {
      "cell_type": "code",
      "metadata": {
        "id": "X4LXDto3xDc3"
      },
      "source": [
        "# To use pandas, you'll typically start with the following line of code.\n",
        "\n",
        "import pandas as pd"
      ],
      "execution_count": 1,
      "outputs": []
    },
    {
      "cell_type": "markdown",
      "metadata": {
        "id": "RuDQKYKp8wSt"
      },
      "source": [
        "###Creating data\n",
        "\n",
        "There are two core objects in pandas: the **DataFrame** and the **Series**.\n",
        "\n",
        "**DataFrame**\n",
        "\n",
        "A DataFrame is a table. It contains an array of individual entries, each of which has a certain value. Each entry corresponds to a row (or record) and a column. For example, consider the following simple DataFrame:"
      ]
    },
    {
      "cell_type": "code",
      "metadata": {
        "colab": {
          "base_uri": "https://localhost:8080/",
          "height": 112
        },
        "id": "N-feE8pd86Y-",
        "outputId": "59988ec9-f9bd-42c5-adf9-101708f0e22c"
      },
      "source": [
        "pd.DataFrame({'Yes': [50, 21], 'No': [131, 2]})"
      ],
      "execution_count": 21,
      "outputs": [
        {
          "output_type": "execute_result",
          "data": {
            "text/html": [
              "<div>\n",
              "<style scoped>\n",
              "    .dataframe tbody tr th:only-of-type {\n",
              "        vertical-align: middle;\n",
              "    }\n",
              "\n",
              "    .dataframe tbody tr th {\n",
              "        vertical-align: top;\n",
              "    }\n",
              "\n",
              "    .dataframe thead th {\n",
              "        text-align: right;\n",
              "    }\n",
              "</style>\n",
              "<table border=\"1\" class=\"dataframe\">\n",
              "  <thead>\n",
              "    <tr style=\"text-align: right;\">\n",
              "      <th></th>\n",
              "      <th>Yes</th>\n",
              "      <th>No</th>\n",
              "    </tr>\n",
              "  </thead>\n",
              "  <tbody>\n",
              "    <tr>\n",
              "      <th>0</th>\n",
              "      <td>50</td>\n",
              "      <td>131</td>\n",
              "    </tr>\n",
              "    <tr>\n",
              "      <th>1</th>\n",
              "      <td>21</td>\n",
              "      <td>2</td>\n",
              "    </tr>\n",
              "  </tbody>\n",
              "</table>\n",
              "</div>"
            ],
            "text/plain": [
              "   Yes   No\n",
              "0   50  131\n",
              "1   21    2"
            ]
          },
          "metadata": {},
          "execution_count": 21
        }
      ]
    },
    {
      "cell_type": "markdown",
      "metadata": {
        "id": "161iZlZK9XC7"
      },
      "source": [
        "DataFrame entries are not limited to integers. For instance, here's a DataFrame whose values are strings:"
      ]
    },
    {
      "cell_type": "code",
      "metadata": {
        "colab": {
          "base_uri": "https://localhost:8080/",
          "height": 112
        },
        "id": "o4t300Vj9WY2",
        "outputId": "acbe36dc-0cfb-495c-fec3-4286136acfe6"
      },
      "source": [
        "pd.DataFrame({'Bob': ['I liked it.', 'It was awful.'], 'Sue': ['Pretty good.', 'Bland.']})"
      ],
      "execution_count": null,
      "outputs": [
        {
          "output_type": "execute_result",
          "data": {
            "text/html": [
              "<div>\n",
              "<style scoped>\n",
              "    .dataframe tbody tr th:only-of-type {\n",
              "        vertical-align: middle;\n",
              "    }\n",
              "\n",
              "    .dataframe tbody tr th {\n",
              "        vertical-align: top;\n",
              "    }\n",
              "\n",
              "    .dataframe thead th {\n",
              "        text-align: right;\n",
              "    }\n",
              "</style>\n",
              "<table border=\"1\" class=\"dataframe\">\n",
              "  <thead>\n",
              "    <tr style=\"text-align: right;\">\n",
              "      <th></th>\n",
              "      <th>Bob</th>\n",
              "      <th>Sue</th>\n",
              "    </tr>\n",
              "  </thead>\n",
              "  <tbody>\n",
              "    <tr>\n",
              "      <th>0</th>\n",
              "      <td>I liked it.</td>\n",
              "      <td>Pretty good.</td>\n",
              "    </tr>\n",
              "    <tr>\n",
              "      <th>1</th>\n",
              "      <td>It was awful.</td>\n",
              "      <td>Bland.</td>\n",
              "    </tr>\n",
              "  </tbody>\n",
              "</table>\n",
              "</div>"
            ],
            "text/plain": [
              "             Bob           Sue\n",
              "0    I liked it.  Pretty good.\n",
              "1  It was awful.        Bland."
            ]
          },
          "metadata": {},
          "execution_count": 3
        }
      ]
    },
    {
      "cell_type": "markdown",
      "metadata": {
        "id": "EwuPGC3E9nCr"
      },
      "source": [
        "We are using the pd.DataFrame() constructor to generate these DataFrame objects. The syntax for declaring a new one is a dictionary whose keys are the column names (Bob and Sue in this example), and whose values are a list of entries. This is the standard way of constructing a new DataFrame, and the one you are most likely to encounter.\n",
        "\n",
        "The list of row labels used in a DataFrame is known as an **Index**. We can assign values to it by using an index parameter in our constructor:"
      ]
    },
    {
      "cell_type": "code",
      "metadata": {
        "colab": {
          "base_uri": "https://localhost:8080/",
          "height": 112
        },
        "id": "q7eL_rrY9qWH",
        "outputId": "c1ca7c18-1439-4697-e154-a6488a218b13"
      },
      "source": [
        "pd.DataFrame({'Bob': ['I liked it.', 'It was awful.'], \n",
        "              'Sue': ['Pretty good.', 'Bland.']},\n",
        "             index=['Product A', 'Product B'])"
      ],
      "execution_count": null,
      "outputs": [
        {
          "output_type": "execute_result",
          "data": {
            "text/html": [
              "<div>\n",
              "<style scoped>\n",
              "    .dataframe tbody tr th:only-of-type {\n",
              "        vertical-align: middle;\n",
              "    }\n",
              "\n",
              "    .dataframe tbody tr th {\n",
              "        vertical-align: top;\n",
              "    }\n",
              "\n",
              "    .dataframe thead th {\n",
              "        text-align: right;\n",
              "    }\n",
              "</style>\n",
              "<table border=\"1\" class=\"dataframe\">\n",
              "  <thead>\n",
              "    <tr style=\"text-align: right;\">\n",
              "      <th></th>\n",
              "      <th>Bob</th>\n",
              "      <th>Sue</th>\n",
              "    </tr>\n",
              "  </thead>\n",
              "  <tbody>\n",
              "    <tr>\n",
              "      <th>Product A</th>\n",
              "      <td>I liked it.</td>\n",
              "      <td>Pretty good.</td>\n",
              "    </tr>\n",
              "    <tr>\n",
              "      <th>Product B</th>\n",
              "      <td>It was awful.</td>\n",
              "      <td>Bland.</td>\n",
              "    </tr>\n",
              "  </tbody>\n",
              "</table>\n",
              "</div>"
            ],
            "text/plain": [
              "                     Bob           Sue\n",
              "Product A    I liked it.  Pretty good.\n",
              "Product B  It was awful.        Bland."
            ]
          },
          "metadata": {},
          "execution_count": 4
        }
      ]
    },
    {
      "cell_type": "markdown",
      "metadata": {
        "id": "JFNQ7fPU9386"
      },
      "source": [
        "**Series**\n",
        "\n",
        "A Series, by contrast, is a sequence of data values. If a DataFrame is a table, a Series is a list. And in fact you can create one with nothing more than a list:"
      ]
    },
    {
      "cell_type": "code",
      "metadata": {
        "colab": {
          "base_uri": "https://localhost:8080/"
        },
        "id": "Id0dNooL93ZB",
        "outputId": "4df7938b-b5a4-4dcd-d9bb-c27e2899ac14"
      },
      "source": [
        "pd.Series([1, 2, 3, 4, 5])"
      ],
      "execution_count": null,
      "outputs": [
        {
          "output_type": "execute_result",
          "data": {
            "text/plain": [
              "0    1\n",
              "1    2\n",
              "2    3\n",
              "3    4\n",
              "4    5\n",
              "dtype: int64"
            ]
          },
          "metadata": {},
          "execution_count": 5
        }
      ]
    },
    {
      "cell_type": "markdown",
      "metadata": {
        "id": "bsBVVzjZ-Jm5"
      },
      "source": [
        "A Series is, in essence, a single column of a DataFrame. So you can assign column values to the Series the same way as before, using an ***index:*** parameter. However, a Series does not have a column name, it only has one overall name"
      ]
    },
    {
      "cell_type": "code",
      "metadata": {
        "colab": {
          "base_uri": "https://localhost:8080/"
        },
        "id": "7eIODIrb-Of3",
        "outputId": "82af4f8f-2d39-4b1b-d08b-3d72277fc3fd"
      },
      "source": [
        "pd.Series([30, 35, 40], index=['2015 Sales', '2016 Sales', '2017 Sales'], name='Product A')"
      ],
      "execution_count": null,
      "outputs": [
        {
          "output_type": "execute_result",
          "data": {
            "text/plain": [
              "2015 Sales    30\n",
              "2016 Sales    35\n",
              "2017 Sales    40\n",
              "Name: Product A, dtype: int64"
            ]
          },
          "metadata": {},
          "execution_count": 6
        }
      ]
    },
    {
      "cell_type": "markdown",
      "metadata": {
        "id": "C2_rEktR-VFT"
      },
      "source": [
        "The Series and the **DataFrame** are intimately related. It's helpful to think of a **DataFrame** as actually being just a bunch of Series \"glued together\". We'll see more of this in the next section of this tutorial."
      ]
    },
    {
      "cell_type": "markdown",
      "metadata": {
        "id": "X4UuYjc_-vnv"
      },
      "source": [
        "###Reading data files\n",
        "\n",
        "Being able to create a DataFrame or Series by hand is handy. But, most of the time, we won't actually be creating our own data by hand. Instead, we'll be working with data that already exists.\n",
        "\n",
        "Data can be stored in any of a number of different forms and formats. By far the most basic of these is the humble CSV file. When you open a CSV file you get something that looks like this:\n",
        "\n",
        "\n",
        "\n",
        "\n",
        "```\n",
        "Product A,Product B,Product C,\n",
        "30,21,9,\n",
        "35,34,1,\n",
        "41,11,11\n",
        "```\n",
        "\n",
        "So a CSV file is a table of values separated by commas. Hence the name: \"Comma-Separated Values\", or CSV.\n",
        "\n",
        "Let's now set aside our toy datasets and see what a real dataset looks like when we read it into a DataFrame. We'll use the pd.read_csv() function to read the data into a DataFrame. This goes thusly:\n",
        "\n"
      ]
    },
    {
      "cell_type": "code",
      "metadata": {
        "id": "v1526yTu5fo6",
        "colab": {
          "base_uri": "https://localhost:8080/"
        },
        "outputId": "356a3f5f-3f0c-4fd3-d93e-2fd022a1beb7"
      },
      "source": [
        "## Download the wine reviews dataset\n",
        "!wget -O winemag-data-130k-v2.csv https://www.dropbox.com/s/kudzdtyel2zg1s8/winemag-data-130k-v2.csv?dl=0"
      ],
      "execution_count": 22,
      "outputs": [
        {
          "output_type": "stream",
          "name": "stdout",
          "text": [
            "--2021-11-21 05:55:17--  https://www.dropbox.com/s/kudzdtyel2zg1s8/winemag-data-130k-v2.csv?dl=0\n",
            "Resolving www.dropbox.com (www.dropbox.com)... 162.125.65.18, 2620:100:6027:18::a27d:4812\n",
            "Connecting to www.dropbox.com (www.dropbox.com)|162.125.65.18|:443... connected.\n",
            "HTTP request sent, awaiting response... 301 Moved Permanently\n",
            "Location: /s/raw/kudzdtyel2zg1s8/winemag-data-130k-v2.csv [following]\n",
            "--2021-11-21 05:55:17--  https://www.dropbox.com/s/raw/kudzdtyel2zg1s8/winemag-data-130k-v2.csv\n",
            "Reusing existing connection to www.dropbox.com:443.\n",
            "HTTP request sent, awaiting response... 302 Found\n",
            "Location: https://uc3531118353e81cae587f420405.dl.dropboxusercontent.com/cd/0/inline/BaaVBYAVeZMTRa1LgLaZ55PfPvwH6B8hzgee1go5CljRJQFqMwSNmBsW6zfc8KoxjAdzEsSwoJ0suKjqdvP6Nz55ChHM6glw5aftEbztgpEgcD7fWFeiJNCjdwiYThWqPT-81rop1wTclRoHE9taQ-84/file# [following]\n",
            "--2021-11-21 05:55:18--  https://uc3531118353e81cae587f420405.dl.dropboxusercontent.com/cd/0/inline/BaaVBYAVeZMTRa1LgLaZ55PfPvwH6B8hzgee1go5CljRJQFqMwSNmBsW6zfc8KoxjAdzEsSwoJ0suKjqdvP6Nz55ChHM6glw5aftEbztgpEgcD7fWFeiJNCjdwiYThWqPT-81rop1wTclRoHE9taQ-84/file\n",
            "Resolving uc3531118353e81cae587f420405.dl.dropboxusercontent.com (uc3531118353e81cae587f420405.dl.dropboxusercontent.com)... 162.125.65.15, 2620:100:6027:15::a27d:480f\n",
            "Connecting to uc3531118353e81cae587f420405.dl.dropboxusercontent.com (uc3531118353e81cae587f420405.dl.dropboxusercontent.com)|162.125.65.15|:443... connected.\n",
            "HTTP request sent, awaiting response... 200 OK\n",
            "Length: 52908706 (50M) [text/plain]\n",
            "Saving to: ‘winemag-data-130k-v2.csv’\n",
            "\n",
            "winemag-data-130k-v 100%[===================>]  50.46M  13.7MB/s    in 3.7s    \n",
            "\n",
            "2021-11-21 05:55:22 (13.7 MB/s) - ‘winemag-data-130k-v2.csv’ saved [52908706/52908706]\n",
            "\n"
          ]
        }
      ]
    },
    {
      "cell_type": "code",
      "metadata": {
        "id": "8tYLI0Gq2BZF"
      },
      "source": [
        "## Read the data\n",
        "wine_reviews = pd.read_csv(\"winemag-data-130k-v2.csv\")"
      ],
      "execution_count": 24,
      "outputs": []
    },
    {
      "cell_type": "markdown",
      "metadata": {
        "id": "_Hq4sFFX_-2_"
      },
      "source": [
        "We can use the shape attribute to check how large the resulting DataFrame is:"
      ]
    },
    {
      "cell_type": "code",
      "metadata": {
        "colab": {
          "base_uri": "https://localhost:8080/"
        },
        "id": "NpdclJa___b3",
        "outputId": "7429877b-da4c-4c95-eed4-50749b7f5976"
      },
      "source": [
        "wine_reviews.shape"
      ],
      "execution_count": 25,
      "outputs": [
        {
          "output_type": "execute_result",
          "data": {
            "text/plain": [
              "(129971, 14)"
            ]
          },
          "metadata": {},
          "execution_count": 25
        }
      ]
    },
    {
      "cell_type": "code",
      "metadata": {
        "colab": {
          "base_uri": "https://localhost:8080/"
        },
        "id": "hTHXK7UZFGya",
        "outputId": "0a8592a2-e9aa-4bf2-dbe8-855e6559db22"
      },
      "source": [
        "wine_reviews.shape[0]"
      ],
      "execution_count": 26,
      "outputs": [
        {
          "output_type": "execute_result",
          "data": {
            "text/plain": [
              "129971"
            ]
          },
          "metadata": {},
          "execution_count": 26
        }
      ]
    },
    {
      "cell_type": "markdown",
      "metadata": {
        "id": "rZNDQG3GAORR"
      },
      "source": [
        "We can examine the contents of the resultant DataFrame using the **head()** command, which grabs the first five rows:"
      ]
    },
    {
      "cell_type": "code",
      "metadata": {
        "id": "LyslODOuAPHa",
        "colab": {
          "base_uri": "https://localhost:8080/",
          "height": 640
        },
        "outputId": "b0a32353-61ca-4672-ff0c-6fd421d776aa"
      },
      "source": [
        "wine_reviews.head(10)"
      ],
      "execution_count": 28,
      "outputs": [
        {
          "output_type": "execute_result",
          "data": {
            "text/html": [
              "<div>\n",
              "<style scoped>\n",
              "    .dataframe tbody tr th:only-of-type {\n",
              "        vertical-align: middle;\n",
              "    }\n",
              "\n",
              "    .dataframe tbody tr th {\n",
              "        vertical-align: top;\n",
              "    }\n",
              "\n",
              "    .dataframe thead th {\n",
              "        text-align: right;\n",
              "    }\n",
              "</style>\n",
              "<table border=\"1\" class=\"dataframe\">\n",
              "  <thead>\n",
              "    <tr style=\"text-align: right;\">\n",
              "      <th></th>\n",
              "      <th>Unnamed: 0</th>\n",
              "      <th>country</th>\n",
              "      <th>description</th>\n",
              "      <th>designation</th>\n",
              "      <th>points</th>\n",
              "      <th>price</th>\n",
              "      <th>province</th>\n",
              "      <th>region_1</th>\n",
              "      <th>region_2</th>\n",
              "      <th>taster_name</th>\n",
              "      <th>taster_twitter_handle</th>\n",
              "      <th>title</th>\n",
              "      <th>variety</th>\n",
              "      <th>winery</th>\n",
              "    </tr>\n",
              "  </thead>\n",
              "  <tbody>\n",
              "    <tr>\n",
              "      <th>0</th>\n",
              "      <td>0</td>\n",
              "      <td>Italy</td>\n",
              "      <td>Aromas include tropical fruit, broom, brimston...</td>\n",
              "      <td>Vulkà Bianco</td>\n",
              "      <td>87</td>\n",
              "      <td>NaN</td>\n",
              "      <td>Sicily &amp; Sardinia</td>\n",
              "      <td>Etna</td>\n",
              "      <td>NaN</td>\n",
              "      <td>Kerin O’Keefe</td>\n",
              "      <td>@kerinokeefe</td>\n",
              "      <td>Nicosia 2013 Vulkà Bianco  (Etna)</td>\n",
              "      <td>White Blend</td>\n",
              "      <td>Nicosia</td>\n",
              "    </tr>\n",
              "    <tr>\n",
              "      <th>1</th>\n",
              "      <td>1</td>\n",
              "      <td>Portugal</td>\n",
              "      <td>This is ripe and fruity, a wine that is smooth...</td>\n",
              "      <td>Avidagos</td>\n",
              "      <td>87</td>\n",
              "      <td>15.0</td>\n",
              "      <td>Douro</td>\n",
              "      <td>NaN</td>\n",
              "      <td>NaN</td>\n",
              "      <td>Roger Voss</td>\n",
              "      <td>@vossroger</td>\n",
              "      <td>Quinta dos Avidagos 2011 Avidagos Red (Douro)</td>\n",
              "      <td>Portuguese Red</td>\n",
              "      <td>Quinta dos Avidagos</td>\n",
              "    </tr>\n",
              "    <tr>\n",
              "      <th>2</th>\n",
              "      <td>2</td>\n",
              "      <td>US</td>\n",
              "      <td>Tart and snappy, the flavors of lime flesh and...</td>\n",
              "      <td>NaN</td>\n",
              "      <td>87</td>\n",
              "      <td>14.0</td>\n",
              "      <td>Oregon</td>\n",
              "      <td>Willamette Valley</td>\n",
              "      <td>Willamette Valley</td>\n",
              "      <td>Paul Gregutt</td>\n",
              "      <td>@paulgwine</td>\n",
              "      <td>Rainstorm 2013 Pinot Gris (Willamette Valley)</td>\n",
              "      <td>Pinot Gris</td>\n",
              "      <td>Rainstorm</td>\n",
              "    </tr>\n",
              "    <tr>\n",
              "      <th>3</th>\n",
              "      <td>3</td>\n",
              "      <td>US</td>\n",
              "      <td>Pineapple rind, lemon pith and orange blossom ...</td>\n",
              "      <td>Reserve Late Harvest</td>\n",
              "      <td>87</td>\n",
              "      <td>13.0</td>\n",
              "      <td>Michigan</td>\n",
              "      <td>Lake Michigan Shore</td>\n",
              "      <td>NaN</td>\n",
              "      <td>Alexander Peartree</td>\n",
              "      <td>NaN</td>\n",
              "      <td>St. Julian 2013 Reserve Late Harvest Riesling ...</td>\n",
              "      <td>Riesling</td>\n",
              "      <td>St. Julian</td>\n",
              "    </tr>\n",
              "    <tr>\n",
              "      <th>4</th>\n",
              "      <td>4</td>\n",
              "      <td>US</td>\n",
              "      <td>Much like the regular bottling from 2012, this...</td>\n",
              "      <td>Vintner's Reserve Wild Child Block</td>\n",
              "      <td>87</td>\n",
              "      <td>65.0</td>\n",
              "      <td>Oregon</td>\n",
              "      <td>Willamette Valley</td>\n",
              "      <td>Willamette Valley</td>\n",
              "      <td>Paul Gregutt</td>\n",
              "      <td>@paulgwine</td>\n",
              "      <td>Sweet Cheeks 2012 Vintner's Reserve Wild Child...</td>\n",
              "      <td>Pinot Noir</td>\n",
              "      <td>Sweet Cheeks</td>\n",
              "    </tr>\n",
              "  </tbody>\n",
              "</table>\n",
              "</div>"
            ],
            "text/plain": [
              "   Unnamed: 0   country  ...         variety               winery\n",
              "0           0     Italy  ...     White Blend              Nicosia\n",
              "1           1  Portugal  ...  Portuguese Red  Quinta dos Avidagos\n",
              "2           2        US  ...      Pinot Gris            Rainstorm\n",
              "3           3        US  ...        Riesling           St. Julian\n",
              "4           4        US  ...      Pinot Noir         Sweet Cheeks\n",
              "\n",
              "[5 rows x 14 columns]"
            ]
          },
          "metadata": {},
          "execution_count": 28
        }
      ]
    },
    {
      "cell_type": "markdown",
      "metadata": {
        "id": "qHN7qtr8AZ6k"
      },
      "source": [
        "The `pd.read_csv() `function is well-endowed, with over 30 optional parameters you can specify. For example, you can see in this dataset that the CSV file has a built-in index, which pandas did not pick up on automatically. To make pandas use that column for the index (instead of creating a new one from scratch), we can specify an `index_col`"
      ]
    },
    {
      "cell_type": "code",
      "metadata": {
        "id": "JHdsCmuyAfo8",
        "colab": {
          "base_uri": "https://localhost:8080/",
          "height": 484
        },
        "outputId": "4ac85f50-38e0-4992-bd16-ba6ec7058235"
      },
      "source": [
        "wine_reviews = pd.read_csv(\"winemag-data-130k-v2.csv\",index_col = 0)\n",
        "wine_reviews.head()"
      ],
      "execution_count": 29,
      "outputs": [
        {
          "output_type": "execute_result",
          "data": {
            "text/html": [
              "<div>\n",
              "<style scoped>\n",
              "    .dataframe tbody tr th:only-of-type {\n",
              "        vertical-align: middle;\n",
              "    }\n",
              "\n",
              "    .dataframe tbody tr th {\n",
              "        vertical-align: top;\n",
              "    }\n",
              "\n",
              "    .dataframe thead th {\n",
              "        text-align: right;\n",
              "    }\n",
              "</style>\n",
              "<table border=\"1\" class=\"dataframe\">\n",
              "  <thead>\n",
              "    <tr style=\"text-align: right;\">\n",
              "      <th></th>\n",
              "      <th>country</th>\n",
              "      <th>description</th>\n",
              "      <th>designation</th>\n",
              "      <th>points</th>\n",
              "      <th>price</th>\n",
              "      <th>province</th>\n",
              "      <th>region_1</th>\n",
              "      <th>region_2</th>\n",
              "      <th>taster_name</th>\n",
              "      <th>taster_twitter_handle</th>\n",
              "      <th>title</th>\n",
              "      <th>variety</th>\n",
              "      <th>winery</th>\n",
              "    </tr>\n",
              "  </thead>\n",
              "  <tbody>\n",
              "    <tr>\n",
              "      <th>0</th>\n",
              "      <td>Italy</td>\n",
              "      <td>Aromas include tropical fruit, broom, brimston...</td>\n",
              "      <td>Vulkà Bianco</td>\n",
              "      <td>87</td>\n",
              "      <td>NaN</td>\n",
              "      <td>Sicily &amp; Sardinia</td>\n",
              "      <td>Etna</td>\n",
              "      <td>NaN</td>\n",
              "      <td>Kerin O’Keefe</td>\n",
              "      <td>@kerinokeefe</td>\n",
              "      <td>Nicosia 2013 Vulkà Bianco  (Etna)</td>\n",
              "      <td>White Blend</td>\n",
              "      <td>Nicosia</td>\n",
              "    </tr>\n",
              "    <tr>\n",
              "      <th>1</th>\n",
              "      <td>Portugal</td>\n",
              "      <td>This is ripe and fruity, a wine that is smooth...</td>\n",
              "      <td>Avidagos</td>\n",
              "      <td>87</td>\n",
              "      <td>15.0</td>\n",
              "      <td>Douro</td>\n",
              "      <td>NaN</td>\n",
              "      <td>NaN</td>\n",
              "      <td>Roger Voss</td>\n",
              "      <td>@vossroger</td>\n",
              "      <td>Quinta dos Avidagos 2011 Avidagos Red (Douro)</td>\n",
              "      <td>Portuguese Red</td>\n",
              "      <td>Quinta dos Avidagos</td>\n",
              "    </tr>\n",
              "    <tr>\n",
              "      <th>2</th>\n",
              "      <td>US</td>\n",
              "      <td>Tart and snappy, the flavors of lime flesh and...</td>\n",
              "      <td>NaN</td>\n",
              "      <td>87</td>\n",
              "      <td>14.0</td>\n",
              "      <td>Oregon</td>\n",
              "      <td>Willamette Valley</td>\n",
              "      <td>Willamette Valley</td>\n",
              "      <td>Paul Gregutt</td>\n",
              "      <td>@paulgwine</td>\n",
              "      <td>Rainstorm 2013 Pinot Gris (Willamette Valley)</td>\n",
              "      <td>Pinot Gris</td>\n",
              "      <td>Rainstorm</td>\n",
              "    </tr>\n",
              "    <tr>\n",
              "      <th>3</th>\n",
              "      <td>US</td>\n",
              "      <td>Pineapple rind, lemon pith and orange blossom ...</td>\n",
              "      <td>Reserve Late Harvest</td>\n",
              "      <td>87</td>\n",
              "      <td>13.0</td>\n",
              "      <td>Michigan</td>\n",
              "      <td>Lake Michigan Shore</td>\n",
              "      <td>NaN</td>\n",
              "      <td>Alexander Peartree</td>\n",
              "      <td>NaN</td>\n",
              "      <td>St. Julian 2013 Reserve Late Harvest Riesling ...</td>\n",
              "      <td>Riesling</td>\n",
              "      <td>St. Julian</td>\n",
              "    </tr>\n",
              "    <tr>\n",
              "      <th>4</th>\n",
              "      <td>US</td>\n",
              "      <td>Much like the regular bottling from 2012, this...</td>\n",
              "      <td>Vintner's Reserve Wild Child Block</td>\n",
              "      <td>87</td>\n",
              "      <td>65.0</td>\n",
              "      <td>Oregon</td>\n",
              "      <td>Willamette Valley</td>\n",
              "      <td>Willamette Valley</td>\n",
              "      <td>Paul Gregutt</td>\n",
              "      <td>@paulgwine</td>\n",
              "      <td>Sweet Cheeks 2012 Vintner's Reserve Wild Child...</td>\n",
              "      <td>Pinot Noir</td>\n",
              "      <td>Sweet Cheeks</td>\n",
              "    </tr>\n",
              "  </tbody>\n",
              "</table>\n",
              "</div>"
            ],
            "text/plain": [
              "    country  ...               winery\n",
              "0     Italy  ...              Nicosia\n",
              "1  Portugal  ...  Quinta dos Avidagos\n",
              "2        US  ...            Rainstorm\n",
              "3        US  ...           St. Julian\n",
              "4        US  ...         Sweet Cheeks\n",
              "\n",
              "[5 rows x 13 columns]"
            ]
          },
          "metadata": {},
          "execution_count": 29
        }
      ]
    },
    {
      "cell_type": "code",
      "metadata": {
        "colab": {
          "base_uri": "https://localhost:8080/"
        },
        "id": "Qh7vxcb7HA5s",
        "outputId": "993b616a-2120-434f-98d1-57b7653b53b3"
      },
      "source": [
        "wine_reviews.columns"
      ],
      "execution_count": 30,
      "outputs": [
        {
          "output_type": "execute_result",
          "data": {
            "text/plain": [
              "Index(['country', 'description', 'designation', 'points', 'price', 'province',\n",
              "       'region_1', 'region_2', 'taster_name', 'taster_twitter_handle', 'title',\n",
              "       'variety', 'winery'],\n",
              "      dtype='object')"
            ]
          },
          "metadata": {},
          "execution_count": 30
        }
      ]
    },
    {
      "cell_type": "markdown",
      "metadata": {
        "id": "snJlbw5UBdqH"
      },
      "source": [
        "##Indexing, Selecting & Assigning\n",
        "\n",
        "\n",
        "Selecting specific values of a pandas DataFrame or Series to work on is an implicit step in almost any data operation you'll run, so one of the first things you need to learn in working with data in Python is how to go about selecting the data points relevant to you quickly and effectively."
      ]
    },
    {
      "cell_type": "code",
      "metadata": {
        "id": "MtBEJ3hYB74d"
      },
      "source": [
        "wine_reviews"
      ],
      "execution_count": null,
      "outputs": []
    },
    {
      "cell_type": "markdown",
      "metadata": {
        "id": "hjAzEz4sCL2N"
      },
      "source": [
        "In Python, we can access the property of an object by accessing it as an attribute. A `book` object, for example, might have a `title` property, which we can access by calling **`book.title`**. Columns in a pandas DataFrame work in much the same way.\n",
        "\n",
        "**Hence to access the country property of reviews we can use:**"
      ]
    },
    {
      "cell_type": "code",
      "metadata": {
        "colab": {
          "base_uri": "https://localhost:8080/"
        },
        "id": "7D0VmiYiCWoS",
        "outputId": "47d708ac-6134-4402-b831-baa9367ea7e1"
      },
      "source": [
        "wine_reviews.country"
      ],
      "execution_count": 31,
      "outputs": [
        {
          "output_type": "execute_result",
          "data": {
            "text/plain": [
              "0            Italy\n",
              "1         Portugal\n",
              "2               US\n",
              "3               US\n",
              "4               US\n",
              "            ...   \n",
              "129966     Germany\n",
              "129967          US\n",
              "129968      France\n",
              "129969      France\n",
              "129970      France\n",
              "Name: country, Length: 129971, dtype: object"
            ]
          },
          "metadata": {},
          "execution_count": 31
        }
      ]
    },
    {
      "cell_type": "code",
      "metadata": {
        "id": "63dBJ6cDCfU0"
      },
      "source": [
        "# We can do the same with columns in a DataFrame:\n",
        "wine_reviews['country']"
      ],
      "execution_count": null,
      "outputs": []
    },
    {
      "cell_type": "code",
      "metadata": {
        "colab": {
          "base_uri": "https://localhost:8080/"
        },
        "id": "FS8dbI9HCvwg",
        "outputId": "518aec05-821c-4ad6-ed3c-8a11eb9b5baf"
      },
      "source": [
        "wine_reviews['country'][0:5]"
      ],
      "execution_count": 34,
      "outputs": [
        {
          "output_type": "execute_result",
          "data": {
            "text/plain": [
              "0       Italy\n",
              "1    Portugal\n",
              "2          US\n",
              "3          US\n",
              "4          US\n",
              "Name: country, dtype: object"
            ]
          },
          "metadata": {},
          "execution_count": 34
        }
      ]
    },
    {
      "cell_type": "markdown",
      "metadata": {
        "id": "pXJITCYoCx7-"
      },
      "source": [
        "###Indexing in pandas\n",
        "\n",
        "pandas has its own accessor operators, `loc` and `iloc`\n",
        "\n",
        "\n",
        "**Index based selection**\n",
        "\n",
        "The first is index-based selection: selecting data based on its numerical position in the data. `iloc` follows this paradigm.\n",
        "\n",
        "To select the first row of data in a DataFrame, we may use the following:"
      ]
    },
    {
      "cell_type": "code",
      "metadata": {
        "id": "YtFSFGdRC6-X",
        "colab": {
          "base_uri": "https://localhost:8080/"
        },
        "outputId": "f85cf614-cf55-4179-e9b5-0c715fa7c3c0"
      },
      "source": [
        "wine_reviews.iloc[0]"
      ],
      "execution_count": 35,
      "outputs": [
        {
          "output_type": "execute_result",
          "data": {
            "text/plain": [
              "country                                                              Italy\n",
              "description              Aromas include tropical fruit, broom, brimston...\n",
              "designation                                                   Vulkà Bianco\n",
              "points                                                                  87\n",
              "price                                                                  NaN\n",
              "province                                                 Sicily & Sardinia\n",
              "region_1                                                              Etna\n",
              "region_2                                                               NaN\n",
              "taster_name                                                  Kerin O’Keefe\n",
              "taster_twitter_handle                                         @kerinokeefe\n",
              "title                                    Nicosia 2013 Vulkà Bianco  (Etna)\n",
              "variety                                                        White Blend\n",
              "winery                                                             Nicosia\n",
              "Name: 0, dtype: object"
            ]
          },
          "metadata": {},
          "execution_count": 35
        }
      ]
    },
    {
      "cell_type": "code",
      "metadata": {
        "colab": {
          "base_uri": "https://localhost:8080/"
        },
        "id": "slyAfdBnDs_a",
        "outputId": "e3eaade6-10c8-4262-c19f-0878f4f91dea"
      },
      "source": [
        "wine_reviews.iloc[:, 0]"
      ],
      "execution_count": 36,
      "outputs": [
        {
          "output_type": "execute_result",
          "data": {
            "text/plain": [
              "0            Italy\n",
              "1         Portugal\n",
              "2               US\n",
              "3               US\n",
              "4               US\n",
              "            ...   \n",
              "129966     Germany\n",
              "129967          US\n",
              "129968      France\n",
              "129969      France\n",
              "129970      France\n",
              "Name: country, Length: 129971, dtype: object"
            ]
          },
          "metadata": {},
          "execution_count": 36
        }
      ]
    },
    {
      "cell_type": "code",
      "metadata": {
        "colab": {
          "base_uri": "https://localhost:8080/"
        },
        "id": "VSbZp0tmEEoC",
        "outputId": "b2e9a092-16c8-4f6f-8c29-2583ed93b01b"
      },
      "source": [
        "wine_reviews.iloc[:3, 0]"
      ],
      "execution_count": null,
      "outputs": [
        {
          "output_type": "execute_result",
          "data": {
            "text/plain": [
              "0       Italy\n",
              "1    Portugal\n",
              "2          US\n",
              "Name: country, dtype: object"
            ]
          },
          "metadata": {},
          "execution_count": 22
        }
      ]
    },
    {
      "cell_type": "code",
      "metadata": {
        "colab": {
          "base_uri": "https://localhost:8080/"
        },
        "id": "ijpWwsrXELee",
        "outputId": "f3210720-4fa9-4cde-8fe5-bff350eade37"
      },
      "source": [
        "wine_reviews.iloc[1:3, 0]"
      ],
      "execution_count": null,
      "outputs": [
        {
          "output_type": "execute_result",
          "data": {
            "text/plain": [
              "1    Portugal\n",
              "2          US\n",
              "Name: country, dtype: object"
            ]
          },
          "metadata": {},
          "execution_count": 23
        }
      ]
    },
    {
      "cell_type": "code",
      "metadata": {
        "id": "7sUUFBUjERJ0"
      },
      "source": [
        "# It's also possible to pass a list:\n",
        "\n",
        "wine_reviews.iloc[[0, 1, 2], 0]"
      ],
      "execution_count": null,
      "outputs": []
    },
    {
      "cell_type": "markdown",
      "metadata": {
        "id": "DjTEmCcUEu5B"
      },
      "source": [
        "Finally, it's worth knowing that negative numbers can be used in selection. This will start counting forwards from the end of the values. So for example here are the last five elements of the dataset."
      ]
    },
    {
      "cell_type": "code",
      "metadata": {
        "id": "q67ei23EEv7i"
      },
      "source": [
        "wine_reviews.iloc[-5:]"
      ],
      "execution_count": null,
      "outputs": []
    },
    {
      "cell_type": "markdown",
      "metadata": {
        "id": "js9SsGsYFNwO"
      },
      "source": [
        "**Label-based selection**\n",
        "\n",
        "The second paradigm for attribute selection is the one followed by the **`loc `**operator: label-based selection. In this paradigm, it's the data index value, not its position, which matters.\n",
        "\n",
        "For example, to get the first entry in reviews, we would now do the following:"
      ]
    },
    {
      "cell_type": "code",
      "metadata": {
        "id": "dDLQv9iEFUiD",
        "colab": {
          "base_uri": "https://localhost:8080/",
          "height": 35
        },
        "outputId": "fa4d6411-cdd1-46d6-9c38-79c7754dc819"
      },
      "source": [
        "wine_reviews.loc[0, 'country']"
      ],
      "execution_count": 37,
      "outputs": [
        {
          "output_type": "execute_result",
          "data": {
            "application/vnd.google.colaboratory.intrinsic+json": {
              "type": "string"
            },
            "text/plain": [
              "'Italy'"
            ]
          },
          "metadata": {},
          "execution_count": 37
        }
      ]
    },
    {
      "cell_type": "code",
      "metadata": {
        "id": "1lyAF5rpFaiH"
      },
      "source": [
        "wine_reviews.loc[:, ['taster_name', 'taster_twitter_handle', 'points']]"
      ],
      "execution_count": null,
      "outputs": []
    },
    {
      "cell_type": "markdown",
      "metadata": {
        "id": "YMU3grphhiks"
      },
      "source": [
        "###Conditional selection\n"
      ]
    },
    {
      "cell_type": "markdown",
      "metadata": {
        "id": "rucqj_j9hn-5"
      },
      "source": [
        "So far we've been indexing various strides of data, using structural properties of the DataFrame itself. To do interesting things with the data, however, we often need to ask questions based on conditions.\n",
        "\n",
        "For example, suppose that we're interested specifically in better-than-average wines produced in Italy.\n",
        "\n",
        "We can start by checking if each wine is Italian or not:"
      ]
    },
    {
      "cell_type": "code",
      "metadata": {
        "colab": {
          "base_uri": "https://localhost:8080/"
        },
        "id": "O4DMNbZWhqtR",
        "outputId": "4516cd9a-4440-4022-d7f7-05a8bf708bd5"
      },
      "source": [
        "wine_reviews.country == 'Italy'"
      ],
      "execution_count": 39,
      "outputs": [
        {
          "output_type": "execute_result",
          "data": {
            "text/plain": [
              "0          True\n",
              "1         False\n",
              "2         False\n",
              "3         False\n",
              "4         False\n",
              "          ...  \n",
              "129966    False\n",
              "129967    False\n",
              "129968    False\n",
              "129969    False\n",
              "129970    False\n",
              "Name: country, Length: 129971, dtype: bool"
            ]
          },
          "metadata": {},
          "execution_count": 39
        }
      ]
    },
    {
      "cell_type": "markdown",
      "metadata": {
        "id": "lj6WYvRch9Jd"
      },
      "source": [
        "This operation produced a Series of `True/False` booleans based on the `country` of each record. This result can then be used inside of `loc` to select the relevant data:"
      ]
    },
    {
      "cell_type": "code",
      "metadata": {
        "id": "BDLgv2PmiERo"
      },
      "source": [
        "wine_reviews.loc[wine_reviews.country == 'Italy']"
      ],
      "execution_count": null,
      "outputs": []
    },
    {
      "cell_type": "code",
      "metadata": {
        "colab": {
          "base_uri": "https://localhost:8080/",
          "height": 1000
        },
        "id": "WzytomrsKbZZ",
        "outputId": "1329f4f4-a8d1-4338-91e0-8b4da4b663a4"
      },
      "source": [
        "wine_reviews[wine_reviews.country == 'Italy']"
      ],
      "execution_count": 41,
      "outputs": [
        {
          "output_type": "execute_result",
          "data": {
            "text/html": [
              "<div>\n",
              "<style scoped>\n",
              "    .dataframe tbody tr th:only-of-type {\n",
              "        vertical-align: middle;\n",
              "    }\n",
              "\n",
              "    .dataframe tbody tr th {\n",
              "        vertical-align: top;\n",
              "    }\n",
              "\n",
              "    .dataframe thead th {\n",
              "        text-align: right;\n",
              "    }\n",
              "</style>\n",
              "<table border=\"1\" class=\"dataframe\">\n",
              "  <thead>\n",
              "    <tr style=\"text-align: right;\">\n",
              "      <th></th>\n",
              "      <th>country</th>\n",
              "      <th>description</th>\n",
              "      <th>designation</th>\n",
              "      <th>points</th>\n",
              "      <th>price</th>\n",
              "      <th>province</th>\n",
              "      <th>region_1</th>\n",
              "      <th>region_2</th>\n",
              "      <th>taster_name</th>\n",
              "      <th>taster_twitter_handle</th>\n",
              "      <th>title</th>\n",
              "      <th>variety</th>\n",
              "      <th>winery</th>\n",
              "    </tr>\n",
              "  </thead>\n",
              "  <tbody>\n",
              "    <tr>\n",
              "      <th>0</th>\n",
              "      <td>Italy</td>\n",
              "      <td>Aromas include tropical fruit, broom, brimston...</td>\n",
              "      <td>Vulkà Bianco</td>\n",
              "      <td>87</td>\n",
              "      <td>NaN</td>\n",
              "      <td>Sicily &amp; Sardinia</td>\n",
              "      <td>Etna</td>\n",
              "      <td>NaN</td>\n",
              "      <td>Kerin O’Keefe</td>\n",
              "      <td>@kerinokeefe</td>\n",
              "      <td>Nicosia 2013 Vulkà Bianco  (Etna)</td>\n",
              "      <td>White Blend</td>\n",
              "      <td>Nicosia</td>\n",
              "    </tr>\n",
              "    <tr>\n",
              "      <th>6</th>\n",
              "      <td>Italy</td>\n",
              "      <td>Here's a bright, informal red that opens with ...</td>\n",
              "      <td>Belsito</td>\n",
              "      <td>87</td>\n",
              "      <td>16.0</td>\n",
              "      <td>Sicily &amp; Sardinia</td>\n",
              "      <td>Vittoria</td>\n",
              "      <td>NaN</td>\n",
              "      <td>Kerin O’Keefe</td>\n",
              "      <td>@kerinokeefe</td>\n",
              "      <td>Terre di Giurfo 2013 Belsito Frappato (Vittoria)</td>\n",
              "      <td>Frappato</td>\n",
              "      <td>Terre di Giurfo</td>\n",
              "    </tr>\n",
              "    <tr>\n",
              "      <th>13</th>\n",
              "      <td>Italy</td>\n",
              "      <td>This is dominated by oak and oak-driven aromas...</td>\n",
              "      <td>Rosso</td>\n",
              "      <td>87</td>\n",
              "      <td>NaN</td>\n",
              "      <td>Sicily &amp; Sardinia</td>\n",
              "      <td>Etna</td>\n",
              "      <td>NaN</td>\n",
              "      <td>Kerin O’Keefe</td>\n",
              "      <td>@kerinokeefe</td>\n",
              "      <td>Masseria Setteporte 2012 Rosso  (Etna)</td>\n",
              "      <td>Nerello Mascalese</td>\n",
              "      <td>Masseria Setteporte</td>\n",
              "    </tr>\n",
              "    <tr>\n",
              "      <th>22</th>\n",
              "      <td>Italy</td>\n",
              "      <td>Delicate aromas recall white flower and citrus...</td>\n",
              "      <td>Ficiligno</td>\n",
              "      <td>87</td>\n",
              "      <td>19.0</td>\n",
              "      <td>Sicily &amp; Sardinia</td>\n",
              "      <td>Sicilia</td>\n",
              "      <td>NaN</td>\n",
              "      <td>Kerin O’Keefe</td>\n",
              "      <td>@kerinokeefe</td>\n",
              "      <td>Baglio di Pianetto 2007 Ficiligno White (Sicilia)</td>\n",
              "      <td>White Blend</td>\n",
              "      <td>Baglio di Pianetto</td>\n",
              "    </tr>\n",
              "    <tr>\n",
              "      <th>24</th>\n",
              "      <td>Italy</td>\n",
              "      <td>Aromas of prune, blackcurrant, toast and oak c...</td>\n",
              "      <td>Aynat</td>\n",
              "      <td>87</td>\n",
              "      <td>35.0</td>\n",
              "      <td>Sicily &amp; Sardinia</td>\n",
              "      <td>Sicilia</td>\n",
              "      <td>NaN</td>\n",
              "      <td>Kerin O’Keefe</td>\n",
              "      <td>@kerinokeefe</td>\n",
              "      <td>Canicattì 2009 Aynat Nero d'Avola (Sicilia)</td>\n",
              "      <td>Nero d'Avola</td>\n",
              "      <td>Canicattì</td>\n",
              "    </tr>\n",
              "    <tr>\n",
              "      <th>...</th>\n",
              "      <td>...</td>\n",
              "      <td>...</td>\n",
              "      <td>...</td>\n",
              "      <td>...</td>\n",
              "      <td>...</td>\n",
              "      <td>...</td>\n",
              "      <td>...</td>\n",
              "      <td>...</td>\n",
              "      <td>...</td>\n",
              "      <td>...</td>\n",
              "      <td>...</td>\n",
              "      <td>...</td>\n",
              "      <td>...</td>\n",
              "    </tr>\n",
              "    <tr>\n",
              "      <th>129929</th>\n",
              "      <td>Italy</td>\n",
              "      <td>This luminous sparkler has a sweet, fruit-forw...</td>\n",
              "      <td>NaN</td>\n",
              "      <td>91</td>\n",
              "      <td>38.0</td>\n",
              "      <td>Veneto</td>\n",
              "      <td>Prosecco Superiore di Cartizze</td>\n",
              "      <td>NaN</td>\n",
              "      <td>NaN</td>\n",
              "      <td>NaN</td>\n",
              "      <td>Col Vetoraz Spumanti NV  Prosecco Superiore di...</td>\n",
              "      <td>Prosecco</td>\n",
              "      <td>Col Vetoraz Spumanti</td>\n",
              "    </tr>\n",
              "    <tr>\n",
              "      <th>129943</th>\n",
              "      <td>Italy</td>\n",
              "      <td>A blend of Nero d'Avola and Syrah, this convey...</td>\n",
              "      <td>Adènzia</td>\n",
              "      <td>90</td>\n",
              "      <td>29.0</td>\n",
              "      <td>Sicily &amp; Sardinia</td>\n",
              "      <td>Sicilia</td>\n",
              "      <td>NaN</td>\n",
              "      <td>Kerin O’Keefe</td>\n",
              "      <td>@kerinokeefe</td>\n",
              "      <td>Baglio del Cristo di Campobello 2012 Adènzia R...</td>\n",
              "      <td>Red Blend</td>\n",
              "      <td>Baglio del Cristo di Campobello</td>\n",
              "    </tr>\n",
              "    <tr>\n",
              "      <th>129947</th>\n",
              "      <td>Italy</td>\n",
              "      <td>A blend of 65% Cabernet Sauvignon, 30% Merlot ...</td>\n",
              "      <td>Symposio</td>\n",
              "      <td>90</td>\n",
              "      <td>20.0</td>\n",
              "      <td>Sicily &amp; Sardinia</td>\n",
              "      <td>Terre Siciliane</td>\n",
              "      <td>NaN</td>\n",
              "      <td>Kerin O’Keefe</td>\n",
              "      <td>@kerinokeefe</td>\n",
              "      <td>Feudo Principi di Butera 2012 Symposio Red (Te...</td>\n",
              "      <td>Red Blend</td>\n",
              "      <td>Feudo Principi di Butera</td>\n",
              "    </tr>\n",
              "    <tr>\n",
              "      <th>129961</th>\n",
              "      <td>Italy</td>\n",
              "      <td>Intense aromas of wild cherry, baking spice, t...</td>\n",
              "      <td>NaN</td>\n",
              "      <td>90</td>\n",
              "      <td>30.0</td>\n",
              "      <td>Sicily &amp; Sardinia</td>\n",
              "      <td>Sicilia</td>\n",
              "      <td>NaN</td>\n",
              "      <td>Kerin O’Keefe</td>\n",
              "      <td>@kerinokeefe</td>\n",
              "      <td>COS 2013 Frappato (Sicilia)</td>\n",
              "      <td>Frappato</td>\n",
              "      <td>COS</td>\n",
              "    </tr>\n",
              "    <tr>\n",
              "      <th>129962</th>\n",
              "      <td>Italy</td>\n",
              "      <td>Blackberry, cassis, grilled herb and toasted a...</td>\n",
              "      <td>Sàgana Tenuta San Giacomo</td>\n",
              "      <td>90</td>\n",
              "      <td>40.0</td>\n",
              "      <td>Sicily &amp; Sardinia</td>\n",
              "      <td>Sicilia</td>\n",
              "      <td>NaN</td>\n",
              "      <td>Kerin O’Keefe</td>\n",
              "      <td>@kerinokeefe</td>\n",
              "      <td>Cusumano 2012 Sàgana Tenuta San Giacomo Nero d...</td>\n",
              "      <td>Nero d'Avola</td>\n",
              "      <td>Cusumano</td>\n",
              "    </tr>\n",
              "  </tbody>\n",
              "</table>\n",
              "<p>19540 rows × 13 columns</p>\n",
              "</div>"
            ],
            "text/plain": [
              "       country  ...                           winery\n",
              "0        Italy  ...                          Nicosia\n",
              "6        Italy  ...                  Terre di Giurfo\n",
              "13       Italy  ...              Masseria Setteporte\n",
              "22       Italy  ...               Baglio di Pianetto\n",
              "24       Italy  ...                        Canicattì\n",
              "...        ...  ...                              ...\n",
              "129929   Italy  ...             Col Vetoraz Spumanti\n",
              "129943   Italy  ...  Baglio del Cristo di Campobello\n",
              "129947   Italy  ...         Feudo Principi di Butera\n",
              "129961   Italy  ...                              COS\n",
              "129962   Italy  ...                         Cusumano\n",
              "\n",
              "[19540 rows x 13 columns]"
            ]
          },
          "metadata": {},
          "execution_count": 41
        }
      ]
    },
    {
      "cell_type": "markdown",
      "metadata": {
        "id": "NiyQarYLiUHb"
      },
      "source": [
        "This DataFrame has ~20,000 rows. The original had ~130,000. That means that around 15% of wines originate from Italy.\n",
        "\n",
        "We also wanted to know which ones are better than average. Wines are reviewed on a 80-to-100 point scale, so this could mean wines that accrued at least 90 points.\n",
        "\n",
        "We can use the ampersand (&) to bring the two questions together:"
      ]
    },
    {
      "cell_type": "code",
      "metadata": {
        "colab": {
          "base_uri": "https://localhost:8080/",
          "height": 1000
        },
        "id": "0US0OrZ8iaoY",
        "outputId": "ccb132b7-d55e-4a39-8c58-491d64dd0308"
      },
      "source": [
        "wine_reviews[(wine_reviews.country == 'Italy') & (wine_reviews.points >= 90)]"
      ],
      "execution_count": 42,
      "outputs": [
        {
          "output_type": "execute_result",
          "data": {
            "text/html": [
              "<div>\n",
              "<style scoped>\n",
              "    .dataframe tbody tr th:only-of-type {\n",
              "        vertical-align: middle;\n",
              "    }\n",
              "\n",
              "    .dataframe tbody tr th {\n",
              "        vertical-align: top;\n",
              "    }\n",
              "\n",
              "    .dataframe thead th {\n",
              "        text-align: right;\n",
              "    }\n",
              "</style>\n",
              "<table border=\"1\" class=\"dataframe\">\n",
              "  <thead>\n",
              "    <tr style=\"text-align: right;\">\n",
              "      <th></th>\n",
              "      <th>country</th>\n",
              "      <th>description</th>\n",
              "      <th>designation</th>\n",
              "      <th>points</th>\n",
              "      <th>price</th>\n",
              "      <th>province</th>\n",
              "      <th>region_1</th>\n",
              "      <th>region_2</th>\n",
              "      <th>taster_name</th>\n",
              "      <th>taster_twitter_handle</th>\n",
              "      <th>title</th>\n",
              "      <th>variety</th>\n",
              "      <th>winery</th>\n",
              "    </tr>\n",
              "  </thead>\n",
              "  <tbody>\n",
              "    <tr>\n",
              "      <th>120</th>\n",
              "      <td>Italy</td>\n",
              "      <td>Slightly backward, particularly given the vint...</td>\n",
              "      <td>Bricco Rocche Prapó</td>\n",
              "      <td>92</td>\n",
              "      <td>70.0</td>\n",
              "      <td>Piedmont</td>\n",
              "      <td>Barolo</td>\n",
              "      <td>NaN</td>\n",
              "      <td>NaN</td>\n",
              "      <td>NaN</td>\n",
              "      <td>Ceretto 2003 Bricco Rocche Prapó  (Barolo)</td>\n",
              "      <td>Nebbiolo</td>\n",
              "      <td>Ceretto</td>\n",
              "    </tr>\n",
              "    <tr>\n",
              "      <th>130</th>\n",
              "      <td>Italy</td>\n",
              "      <td>At the first it was quite muted and subdued, b...</td>\n",
              "      <td>Bricco Rocche Brunate</td>\n",
              "      <td>91</td>\n",
              "      <td>70.0</td>\n",
              "      <td>Piedmont</td>\n",
              "      <td>Barolo</td>\n",
              "      <td>NaN</td>\n",
              "      <td>NaN</td>\n",
              "      <td>NaN</td>\n",
              "      <td>Ceretto 2003 Bricco Rocche Brunate  (Barolo)</td>\n",
              "      <td>Nebbiolo</td>\n",
              "      <td>Ceretto</td>\n",
              "    </tr>\n",
              "    <tr>\n",
              "      <th>133</th>\n",
              "      <td>Italy</td>\n",
              "      <td>Einaudi's wines have been improving lately, an...</td>\n",
              "      <td>NaN</td>\n",
              "      <td>91</td>\n",
              "      <td>68.0</td>\n",
              "      <td>Piedmont</td>\n",
              "      <td>Barolo</td>\n",
              "      <td>NaN</td>\n",
              "      <td>NaN</td>\n",
              "      <td>NaN</td>\n",
              "      <td>Poderi Luigi Einaudi 2003  Barolo</td>\n",
              "      <td>Nebbiolo</td>\n",
              "      <td>Poderi Luigi Einaudi</td>\n",
              "    </tr>\n",
              "    <tr>\n",
              "      <th>135</th>\n",
              "      <td>Italy</td>\n",
              "      <td>The color is just beginning to show signs of b...</td>\n",
              "      <td>Sorano</td>\n",
              "      <td>91</td>\n",
              "      <td>60.0</td>\n",
              "      <td>Piedmont</td>\n",
              "      <td>Barolo</td>\n",
              "      <td>NaN</td>\n",
              "      <td>NaN</td>\n",
              "      <td>NaN</td>\n",
              "      <td>Giacomo Ascheri 2001 Sorano  (Barolo)</td>\n",
              "      <td>Nebbiolo</td>\n",
              "      <td>Giacomo Ascheri</td>\n",
              "    </tr>\n",
              "    <tr>\n",
              "      <th>140</th>\n",
              "      <td>Italy</td>\n",
              "      <td>A big, fat, luscious wine with plenty of toast...</td>\n",
              "      <td>Costa Bruna</td>\n",
              "      <td>90</td>\n",
              "      <td>26.0</td>\n",
              "      <td>Piedmont</td>\n",
              "      <td>Barbera d'Alba</td>\n",
              "      <td>NaN</td>\n",
              "      <td>NaN</td>\n",
              "      <td>NaN</td>\n",
              "      <td>Poderi Colla 2005 Costa Bruna  (Barbera d'Alba)</td>\n",
              "      <td>Barbera</td>\n",
              "      <td>Poderi Colla</td>\n",
              "    </tr>\n",
              "    <tr>\n",
              "      <th>...</th>\n",
              "      <td>...</td>\n",
              "      <td>...</td>\n",
              "      <td>...</td>\n",
              "      <td>...</td>\n",
              "      <td>...</td>\n",
              "      <td>...</td>\n",
              "      <td>...</td>\n",
              "      <td>...</td>\n",
              "      <td>...</td>\n",
              "      <td>...</td>\n",
              "      <td>...</td>\n",
              "      <td>...</td>\n",
              "      <td>...</td>\n",
              "    </tr>\n",
              "    <tr>\n",
              "      <th>129929</th>\n",
              "      <td>Italy</td>\n",
              "      <td>This luminous sparkler has a sweet, fruit-forw...</td>\n",
              "      <td>NaN</td>\n",
              "      <td>91</td>\n",
              "      <td>38.0</td>\n",
              "      <td>Veneto</td>\n",
              "      <td>Prosecco Superiore di Cartizze</td>\n",
              "      <td>NaN</td>\n",
              "      <td>NaN</td>\n",
              "      <td>NaN</td>\n",
              "      <td>Col Vetoraz Spumanti NV  Prosecco Superiore di...</td>\n",
              "      <td>Prosecco</td>\n",
              "      <td>Col Vetoraz Spumanti</td>\n",
              "    </tr>\n",
              "    <tr>\n",
              "      <th>129943</th>\n",
              "      <td>Italy</td>\n",
              "      <td>A blend of Nero d'Avola and Syrah, this convey...</td>\n",
              "      <td>Adènzia</td>\n",
              "      <td>90</td>\n",
              "      <td>29.0</td>\n",
              "      <td>Sicily &amp; Sardinia</td>\n",
              "      <td>Sicilia</td>\n",
              "      <td>NaN</td>\n",
              "      <td>Kerin O’Keefe</td>\n",
              "      <td>@kerinokeefe</td>\n",
              "      <td>Baglio del Cristo di Campobello 2012 Adènzia R...</td>\n",
              "      <td>Red Blend</td>\n",
              "      <td>Baglio del Cristo di Campobello</td>\n",
              "    </tr>\n",
              "    <tr>\n",
              "      <th>129947</th>\n",
              "      <td>Italy</td>\n",
              "      <td>A blend of 65% Cabernet Sauvignon, 30% Merlot ...</td>\n",
              "      <td>Symposio</td>\n",
              "      <td>90</td>\n",
              "      <td>20.0</td>\n",
              "      <td>Sicily &amp; Sardinia</td>\n",
              "      <td>Terre Siciliane</td>\n",
              "      <td>NaN</td>\n",
              "      <td>Kerin O’Keefe</td>\n",
              "      <td>@kerinokeefe</td>\n",
              "      <td>Feudo Principi di Butera 2012 Symposio Red (Te...</td>\n",
              "      <td>Red Blend</td>\n",
              "      <td>Feudo Principi di Butera</td>\n",
              "    </tr>\n",
              "    <tr>\n",
              "      <th>129961</th>\n",
              "      <td>Italy</td>\n",
              "      <td>Intense aromas of wild cherry, baking spice, t...</td>\n",
              "      <td>NaN</td>\n",
              "      <td>90</td>\n",
              "      <td>30.0</td>\n",
              "      <td>Sicily &amp; Sardinia</td>\n",
              "      <td>Sicilia</td>\n",
              "      <td>NaN</td>\n",
              "      <td>Kerin O’Keefe</td>\n",
              "      <td>@kerinokeefe</td>\n",
              "      <td>COS 2013 Frappato (Sicilia)</td>\n",
              "      <td>Frappato</td>\n",
              "      <td>COS</td>\n",
              "    </tr>\n",
              "    <tr>\n",
              "      <th>129962</th>\n",
              "      <td>Italy</td>\n",
              "      <td>Blackberry, cassis, grilled herb and toasted a...</td>\n",
              "      <td>Sàgana Tenuta San Giacomo</td>\n",
              "      <td>90</td>\n",
              "      <td>40.0</td>\n",
              "      <td>Sicily &amp; Sardinia</td>\n",
              "      <td>Sicilia</td>\n",
              "      <td>NaN</td>\n",
              "      <td>Kerin O’Keefe</td>\n",
              "      <td>@kerinokeefe</td>\n",
              "      <td>Cusumano 2012 Sàgana Tenuta San Giacomo Nero d...</td>\n",
              "      <td>Nero d'Avola</td>\n",
              "      <td>Cusumano</td>\n",
              "    </tr>\n",
              "  </tbody>\n",
              "</table>\n",
              "<p>6648 rows × 13 columns</p>\n",
              "</div>"
            ],
            "text/plain": [
              "       country  ...                           winery\n",
              "120      Italy  ...                          Ceretto\n",
              "130      Italy  ...                          Ceretto\n",
              "133      Italy  ...             Poderi Luigi Einaudi\n",
              "135      Italy  ...                  Giacomo Ascheri\n",
              "140      Italy  ...                     Poderi Colla\n",
              "...        ...  ...                              ...\n",
              "129929   Italy  ...             Col Vetoraz Spumanti\n",
              "129943   Italy  ...  Baglio del Cristo di Campobello\n",
              "129947   Italy  ...         Feudo Principi di Butera\n",
              "129961   Italy  ...                              COS\n",
              "129962   Italy  ...                         Cusumano\n",
              "\n",
              "[6648 rows x 13 columns]"
            ]
          },
          "metadata": {},
          "execution_count": 42
        }
      ]
    },
    {
      "cell_type": "markdown",
      "metadata": {
        "id": "afrnT0MwinuL"
      },
      "source": [
        "Suppose we'll buy any wine that's made in Italy or which is rated above average. For this we use a pipe `(|)`:"
      ]
    },
    {
      "cell_type": "code",
      "metadata": {
        "colab": {
          "base_uri": "https://localhost:8080/",
          "height": 1000
        },
        "id": "JejD4xc3iqem",
        "outputId": "ea9dd3d7-ad43-4c36-ac27-8a0ff41e519c"
      },
      "source": [
        "wine_reviews[(wine_reviews.country == 'Italy') | (wine_reviews.points >= 90)]"
      ],
      "execution_count": 43,
      "outputs": [
        {
          "output_type": "execute_result",
          "data": {
            "text/html": [
              "<div>\n",
              "<style scoped>\n",
              "    .dataframe tbody tr th:only-of-type {\n",
              "        vertical-align: middle;\n",
              "    }\n",
              "\n",
              "    .dataframe tbody tr th {\n",
              "        vertical-align: top;\n",
              "    }\n",
              "\n",
              "    .dataframe thead th {\n",
              "        text-align: right;\n",
              "    }\n",
              "</style>\n",
              "<table border=\"1\" class=\"dataframe\">\n",
              "  <thead>\n",
              "    <tr style=\"text-align: right;\">\n",
              "      <th></th>\n",
              "      <th>country</th>\n",
              "      <th>description</th>\n",
              "      <th>designation</th>\n",
              "      <th>points</th>\n",
              "      <th>price</th>\n",
              "      <th>province</th>\n",
              "      <th>region_1</th>\n",
              "      <th>region_2</th>\n",
              "      <th>taster_name</th>\n",
              "      <th>taster_twitter_handle</th>\n",
              "      <th>title</th>\n",
              "      <th>variety</th>\n",
              "      <th>winery</th>\n",
              "    </tr>\n",
              "  </thead>\n",
              "  <tbody>\n",
              "    <tr>\n",
              "      <th>0</th>\n",
              "      <td>Italy</td>\n",
              "      <td>Aromas include tropical fruit, broom, brimston...</td>\n",
              "      <td>Vulkà Bianco</td>\n",
              "      <td>87</td>\n",
              "      <td>NaN</td>\n",
              "      <td>Sicily &amp; Sardinia</td>\n",
              "      <td>Etna</td>\n",
              "      <td>NaN</td>\n",
              "      <td>Kerin O’Keefe</td>\n",
              "      <td>@kerinokeefe</td>\n",
              "      <td>Nicosia 2013 Vulkà Bianco  (Etna)</td>\n",
              "      <td>White Blend</td>\n",
              "      <td>Nicosia</td>\n",
              "    </tr>\n",
              "    <tr>\n",
              "      <th>6</th>\n",
              "      <td>Italy</td>\n",
              "      <td>Here's a bright, informal red that opens with ...</td>\n",
              "      <td>Belsito</td>\n",
              "      <td>87</td>\n",
              "      <td>16.0</td>\n",
              "      <td>Sicily &amp; Sardinia</td>\n",
              "      <td>Vittoria</td>\n",
              "      <td>NaN</td>\n",
              "      <td>Kerin O’Keefe</td>\n",
              "      <td>@kerinokeefe</td>\n",
              "      <td>Terre di Giurfo 2013 Belsito Frappato (Vittoria)</td>\n",
              "      <td>Frappato</td>\n",
              "      <td>Terre di Giurfo</td>\n",
              "    </tr>\n",
              "    <tr>\n",
              "      <th>13</th>\n",
              "      <td>Italy</td>\n",
              "      <td>This is dominated by oak and oak-driven aromas...</td>\n",
              "      <td>Rosso</td>\n",
              "      <td>87</td>\n",
              "      <td>NaN</td>\n",
              "      <td>Sicily &amp; Sardinia</td>\n",
              "      <td>Etna</td>\n",
              "      <td>NaN</td>\n",
              "      <td>Kerin O’Keefe</td>\n",
              "      <td>@kerinokeefe</td>\n",
              "      <td>Masseria Setteporte 2012 Rosso  (Etna)</td>\n",
              "      <td>Nerello Mascalese</td>\n",
              "      <td>Masseria Setteporte</td>\n",
              "    </tr>\n",
              "    <tr>\n",
              "      <th>22</th>\n",
              "      <td>Italy</td>\n",
              "      <td>Delicate aromas recall white flower and citrus...</td>\n",
              "      <td>Ficiligno</td>\n",
              "      <td>87</td>\n",
              "      <td>19.0</td>\n",
              "      <td>Sicily &amp; Sardinia</td>\n",
              "      <td>Sicilia</td>\n",
              "      <td>NaN</td>\n",
              "      <td>Kerin O’Keefe</td>\n",
              "      <td>@kerinokeefe</td>\n",
              "      <td>Baglio di Pianetto 2007 Ficiligno White (Sicilia)</td>\n",
              "      <td>White Blend</td>\n",
              "      <td>Baglio di Pianetto</td>\n",
              "    </tr>\n",
              "    <tr>\n",
              "      <th>24</th>\n",
              "      <td>Italy</td>\n",
              "      <td>Aromas of prune, blackcurrant, toast and oak c...</td>\n",
              "      <td>Aynat</td>\n",
              "      <td>87</td>\n",
              "      <td>35.0</td>\n",
              "      <td>Sicily &amp; Sardinia</td>\n",
              "      <td>Sicilia</td>\n",
              "      <td>NaN</td>\n",
              "      <td>Kerin O’Keefe</td>\n",
              "      <td>@kerinokeefe</td>\n",
              "      <td>Canicattì 2009 Aynat Nero d'Avola (Sicilia)</td>\n",
              "      <td>Nero d'Avola</td>\n",
              "      <td>Canicattì</td>\n",
              "    </tr>\n",
              "    <tr>\n",
              "      <th>...</th>\n",
              "      <td>...</td>\n",
              "      <td>...</td>\n",
              "      <td>...</td>\n",
              "      <td>...</td>\n",
              "      <td>...</td>\n",
              "      <td>...</td>\n",
              "      <td>...</td>\n",
              "      <td>...</td>\n",
              "      <td>...</td>\n",
              "      <td>...</td>\n",
              "      <td>...</td>\n",
              "      <td>...</td>\n",
              "      <td>...</td>\n",
              "    </tr>\n",
              "    <tr>\n",
              "      <th>129966</th>\n",
              "      <td>Germany</td>\n",
              "      <td>Notes of honeysuckle and cantaloupe sweeten th...</td>\n",
              "      <td>Brauneberger Juffer-Sonnenuhr Spätlese</td>\n",
              "      <td>90</td>\n",
              "      <td>28.0</td>\n",
              "      <td>Mosel</td>\n",
              "      <td>NaN</td>\n",
              "      <td>NaN</td>\n",
              "      <td>Anna Lee C. Iijima</td>\n",
              "      <td>NaN</td>\n",
              "      <td>Dr. H. Thanisch (Erben Müller-Burggraef) 2013 ...</td>\n",
              "      <td>Riesling</td>\n",
              "      <td>Dr. H. Thanisch (Erben Müller-Burggraef)</td>\n",
              "    </tr>\n",
              "    <tr>\n",
              "      <th>129967</th>\n",
              "      <td>US</td>\n",
              "      <td>Citation is given as much as a decade of bottl...</td>\n",
              "      <td>NaN</td>\n",
              "      <td>90</td>\n",
              "      <td>75.0</td>\n",
              "      <td>Oregon</td>\n",
              "      <td>Oregon</td>\n",
              "      <td>Oregon Other</td>\n",
              "      <td>Paul Gregutt</td>\n",
              "      <td>@paulgwine</td>\n",
              "      <td>Citation 2004 Pinot Noir (Oregon)</td>\n",
              "      <td>Pinot Noir</td>\n",
              "      <td>Citation</td>\n",
              "    </tr>\n",
              "    <tr>\n",
              "      <th>129968</th>\n",
              "      <td>France</td>\n",
              "      <td>Well-drained gravel soil gives this wine its c...</td>\n",
              "      <td>Kritt</td>\n",
              "      <td>90</td>\n",
              "      <td>30.0</td>\n",
              "      <td>Alsace</td>\n",
              "      <td>Alsace</td>\n",
              "      <td>NaN</td>\n",
              "      <td>Roger Voss</td>\n",
              "      <td>@vossroger</td>\n",
              "      <td>Domaine Gresser 2013 Kritt Gewurztraminer (Als...</td>\n",
              "      <td>Gewürztraminer</td>\n",
              "      <td>Domaine Gresser</td>\n",
              "    </tr>\n",
              "    <tr>\n",
              "      <th>129969</th>\n",
              "      <td>France</td>\n",
              "      <td>A dry style of Pinot Gris, this is crisp with ...</td>\n",
              "      <td>NaN</td>\n",
              "      <td>90</td>\n",
              "      <td>32.0</td>\n",
              "      <td>Alsace</td>\n",
              "      <td>Alsace</td>\n",
              "      <td>NaN</td>\n",
              "      <td>Roger Voss</td>\n",
              "      <td>@vossroger</td>\n",
              "      <td>Domaine Marcel Deiss 2012 Pinot Gris (Alsace)</td>\n",
              "      <td>Pinot Gris</td>\n",
              "      <td>Domaine Marcel Deiss</td>\n",
              "    </tr>\n",
              "    <tr>\n",
              "      <th>129970</th>\n",
              "      <td>France</td>\n",
              "      <td>Big, rich and off-dry, this is powered by inte...</td>\n",
              "      <td>Lieu-dit Harth Cuvée Caroline</td>\n",
              "      <td>90</td>\n",
              "      <td>21.0</td>\n",
              "      <td>Alsace</td>\n",
              "      <td>Alsace</td>\n",
              "      <td>NaN</td>\n",
              "      <td>Roger Voss</td>\n",
              "      <td>@vossroger</td>\n",
              "      <td>Domaine Schoffit 2012 Lieu-dit Harth Cuvée Car...</td>\n",
              "      <td>Gewürztraminer</td>\n",
              "      <td>Domaine Schoffit</td>\n",
              "    </tr>\n",
              "  </tbody>\n",
              "</table>\n",
              "<p>61937 rows × 13 columns</p>\n",
              "</div>"
            ],
            "text/plain": [
              "        country  ...                                    winery\n",
              "0         Italy  ...                                   Nicosia\n",
              "6         Italy  ...                           Terre di Giurfo\n",
              "13        Italy  ...                       Masseria Setteporte\n",
              "22        Italy  ...                        Baglio di Pianetto\n",
              "24        Italy  ...                                 Canicattì\n",
              "...         ...  ...                                       ...\n",
              "129966  Germany  ...  Dr. H. Thanisch (Erben Müller-Burggraef)\n",
              "129967       US  ...                                  Citation\n",
              "129968   France  ...                           Domaine Gresser\n",
              "129969   France  ...                      Domaine Marcel Deiss\n",
              "129970   France  ...                          Domaine Schoffit\n",
              "\n",
              "[61937 rows x 13 columns]"
            ]
          },
          "metadata": {},
          "execution_count": 43
        }
      ]
    },
    {
      "cell_type": "markdown",
      "metadata": {
        "id": "2XFIdJwNi93X"
      },
      "source": [
        "Pandas comes with a few built-in conditional selectors, two of which we will highlight here.\n",
        "\n",
        "The first is **`isin`**. **`isin`** is lets you select data whose value \"is in\" a list of values. For example, here's how we can use it to select wines only from Italy or France:"
      ]
    },
    {
      "cell_type": "code",
      "metadata": {
        "colab": {
          "base_uri": "https://localhost:8080/",
          "height": 1000
        },
        "id": "GmoaI9UZjETW",
        "outputId": "d86ce078-597c-4af4-c9f8-6756c50f54c7"
      },
      "source": [
        "wine_reviews[wine_reviews.country.isin(['Italy', 'France'])]"
      ],
      "execution_count": 44,
      "outputs": [
        {
          "output_type": "execute_result",
          "data": {
            "text/html": [
              "<div>\n",
              "<style scoped>\n",
              "    .dataframe tbody tr th:only-of-type {\n",
              "        vertical-align: middle;\n",
              "    }\n",
              "\n",
              "    .dataframe tbody tr th {\n",
              "        vertical-align: top;\n",
              "    }\n",
              "\n",
              "    .dataframe thead th {\n",
              "        text-align: right;\n",
              "    }\n",
              "</style>\n",
              "<table border=\"1\" class=\"dataframe\">\n",
              "  <thead>\n",
              "    <tr style=\"text-align: right;\">\n",
              "      <th></th>\n",
              "      <th>country</th>\n",
              "      <th>description</th>\n",
              "      <th>designation</th>\n",
              "      <th>points</th>\n",
              "      <th>price</th>\n",
              "      <th>province</th>\n",
              "      <th>region_1</th>\n",
              "      <th>region_2</th>\n",
              "      <th>taster_name</th>\n",
              "      <th>taster_twitter_handle</th>\n",
              "      <th>title</th>\n",
              "      <th>variety</th>\n",
              "      <th>winery</th>\n",
              "    </tr>\n",
              "  </thead>\n",
              "  <tbody>\n",
              "    <tr>\n",
              "      <th>0</th>\n",
              "      <td>Italy</td>\n",
              "      <td>Aromas include tropical fruit, broom, brimston...</td>\n",
              "      <td>Vulkà Bianco</td>\n",
              "      <td>87</td>\n",
              "      <td>NaN</td>\n",
              "      <td>Sicily &amp; Sardinia</td>\n",
              "      <td>Etna</td>\n",
              "      <td>NaN</td>\n",
              "      <td>Kerin O’Keefe</td>\n",
              "      <td>@kerinokeefe</td>\n",
              "      <td>Nicosia 2013 Vulkà Bianco  (Etna)</td>\n",
              "      <td>White Blend</td>\n",
              "      <td>Nicosia</td>\n",
              "    </tr>\n",
              "    <tr>\n",
              "      <th>6</th>\n",
              "      <td>Italy</td>\n",
              "      <td>Here's a bright, informal red that opens with ...</td>\n",
              "      <td>Belsito</td>\n",
              "      <td>87</td>\n",
              "      <td>16.0</td>\n",
              "      <td>Sicily &amp; Sardinia</td>\n",
              "      <td>Vittoria</td>\n",
              "      <td>NaN</td>\n",
              "      <td>Kerin O’Keefe</td>\n",
              "      <td>@kerinokeefe</td>\n",
              "      <td>Terre di Giurfo 2013 Belsito Frappato (Vittoria)</td>\n",
              "      <td>Frappato</td>\n",
              "      <td>Terre di Giurfo</td>\n",
              "    </tr>\n",
              "    <tr>\n",
              "      <th>7</th>\n",
              "      <td>France</td>\n",
              "      <td>This dry and restrained wine offers spice in p...</td>\n",
              "      <td>NaN</td>\n",
              "      <td>87</td>\n",
              "      <td>24.0</td>\n",
              "      <td>Alsace</td>\n",
              "      <td>Alsace</td>\n",
              "      <td>NaN</td>\n",
              "      <td>Roger Voss</td>\n",
              "      <td>@vossroger</td>\n",
              "      <td>Trimbach 2012 Gewurztraminer (Alsace)</td>\n",
              "      <td>Gewürztraminer</td>\n",
              "      <td>Trimbach</td>\n",
              "    </tr>\n",
              "    <tr>\n",
              "      <th>9</th>\n",
              "      <td>France</td>\n",
              "      <td>This has great depth of flavor with its fresh ...</td>\n",
              "      <td>Les Natures</td>\n",
              "      <td>87</td>\n",
              "      <td>27.0</td>\n",
              "      <td>Alsace</td>\n",
              "      <td>Alsace</td>\n",
              "      <td>NaN</td>\n",
              "      <td>Roger Voss</td>\n",
              "      <td>@vossroger</td>\n",
              "      <td>Jean-Baptiste Adam 2012 Les Natures Pinot Gris...</td>\n",
              "      <td>Pinot Gris</td>\n",
              "      <td>Jean-Baptiste Adam</td>\n",
              "    </tr>\n",
              "    <tr>\n",
              "      <th>11</th>\n",
              "      <td>France</td>\n",
              "      <td>This is a dry wine, very spicy, with a tight, ...</td>\n",
              "      <td>NaN</td>\n",
              "      <td>87</td>\n",
              "      <td>30.0</td>\n",
              "      <td>Alsace</td>\n",
              "      <td>Alsace</td>\n",
              "      <td>NaN</td>\n",
              "      <td>Roger Voss</td>\n",
              "      <td>@vossroger</td>\n",
              "      <td>Leon Beyer 2012 Gewurztraminer (Alsace)</td>\n",
              "      <td>Gewürztraminer</td>\n",
              "      <td>Leon Beyer</td>\n",
              "    </tr>\n",
              "    <tr>\n",
              "      <th>...</th>\n",
              "      <td>...</td>\n",
              "      <td>...</td>\n",
              "      <td>...</td>\n",
              "      <td>...</td>\n",
              "      <td>...</td>\n",
              "      <td>...</td>\n",
              "      <td>...</td>\n",
              "      <td>...</td>\n",
              "      <td>...</td>\n",
              "      <td>...</td>\n",
              "      <td>...</td>\n",
              "      <td>...</td>\n",
              "      <td>...</td>\n",
              "    </tr>\n",
              "    <tr>\n",
              "      <th>129964</th>\n",
              "      <td>France</td>\n",
              "      <td>Initially quite muted, this wine slowly develo...</td>\n",
              "      <td>Domaine Saint-Rémy Herrenweg</td>\n",
              "      <td>90</td>\n",
              "      <td>NaN</td>\n",
              "      <td>Alsace</td>\n",
              "      <td>Alsace</td>\n",
              "      <td>NaN</td>\n",
              "      <td>Roger Voss</td>\n",
              "      <td>@vossroger</td>\n",
              "      <td>Domaine Ehrhart 2013 Domaine Saint-Rémy Herren...</td>\n",
              "      <td>Gewürztraminer</td>\n",
              "      <td>Domaine Ehrhart</td>\n",
              "    </tr>\n",
              "    <tr>\n",
              "      <th>129965</th>\n",
              "      <td>France</td>\n",
              "      <td>While it's rich, this beautiful dry wine also ...</td>\n",
              "      <td>Seppi Landmann Vallée Noble</td>\n",
              "      <td>90</td>\n",
              "      <td>28.0</td>\n",
              "      <td>Alsace</td>\n",
              "      <td>Alsace</td>\n",
              "      <td>NaN</td>\n",
              "      <td>Roger Voss</td>\n",
              "      <td>@vossroger</td>\n",
              "      <td>Domaine Rieflé-Landmann 2013 Seppi Landmann Va...</td>\n",
              "      <td>Pinot Gris</td>\n",
              "      <td>Domaine Rieflé-Landmann</td>\n",
              "    </tr>\n",
              "    <tr>\n",
              "      <th>129968</th>\n",
              "      <td>France</td>\n",
              "      <td>Well-drained gravel soil gives this wine its c...</td>\n",
              "      <td>Kritt</td>\n",
              "      <td>90</td>\n",
              "      <td>30.0</td>\n",
              "      <td>Alsace</td>\n",
              "      <td>Alsace</td>\n",
              "      <td>NaN</td>\n",
              "      <td>Roger Voss</td>\n",
              "      <td>@vossroger</td>\n",
              "      <td>Domaine Gresser 2013 Kritt Gewurztraminer (Als...</td>\n",
              "      <td>Gewürztraminer</td>\n",
              "      <td>Domaine Gresser</td>\n",
              "    </tr>\n",
              "    <tr>\n",
              "      <th>129969</th>\n",
              "      <td>France</td>\n",
              "      <td>A dry style of Pinot Gris, this is crisp with ...</td>\n",
              "      <td>NaN</td>\n",
              "      <td>90</td>\n",
              "      <td>32.0</td>\n",
              "      <td>Alsace</td>\n",
              "      <td>Alsace</td>\n",
              "      <td>NaN</td>\n",
              "      <td>Roger Voss</td>\n",
              "      <td>@vossroger</td>\n",
              "      <td>Domaine Marcel Deiss 2012 Pinot Gris (Alsace)</td>\n",
              "      <td>Pinot Gris</td>\n",
              "      <td>Domaine Marcel Deiss</td>\n",
              "    </tr>\n",
              "    <tr>\n",
              "      <th>129970</th>\n",
              "      <td>France</td>\n",
              "      <td>Big, rich and off-dry, this is powered by inte...</td>\n",
              "      <td>Lieu-dit Harth Cuvée Caroline</td>\n",
              "      <td>90</td>\n",
              "      <td>21.0</td>\n",
              "      <td>Alsace</td>\n",
              "      <td>Alsace</td>\n",
              "      <td>NaN</td>\n",
              "      <td>Roger Voss</td>\n",
              "      <td>@vossroger</td>\n",
              "      <td>Domaine Schoffit 2012 Lieu-dit Harth Cuvée Car...</td>\n",
              "      <td>Gewürztraminer</td>\n",
              "      <td>Domaine Schoffit</td>\n",
              "    </tr>\n",
              "  </tbody>\n",
              "</table>\n",
              "<p>41633 rows × 13 columns</p>\n",
              "</div>"
            ],
            "text/plain": [
              "       country  ...                   winery\n",
              "0        Italy  ...                  Nicosia\n",
              "6        Italy  ...          Terre di Giurfo\n",
              "7       France  ...                 Trimbach\n",
              "9       France  ...       Jean-Baptiste Adam\n",
              "11      France  ...               Leon Beyer\n",
              "...        ...  ...                      ...\n",
              "129964  France  ...          Domaine Ehrhart\n",
              "129965  France  ...  Domaine Rieflé-Landmann\n",
              "129968  France  ...          Domaine Gresser\n",
              "129969  France  ...     Domaine Marcel Deiss\n",
              "129970  France  ...         Domaine Schoffit\n",
              "\n",
              "[41633 rows x 13 columns]"
            ]
          },
          "metadata": {},
          "execution_count": 44
        }
      ]
    },
    {
      "cell_type": "markdown",
      "metadata": {
        "id": "28MA3R6GjNxJ"
      },
      "source": [
        "The second is **`isnull`** (and its companion notnull). These methods let you highlight values which are (or are not) empty (NaN). For example, to filter out wines lacking a price tag in the dataset, here's what we would do:"
      ]
    },
    {
      "cell_type": "code",
      "metadata": {
        "colab": {
          "base_uri": "https://localhost:8080/"
        },
        "id": "8XKuDguqL6Fy",
        "outputId": "a2c26b0b-ebd3-4771-b6f2-ef553f09fcfd"
      },
      "source": [
        "wine_reviews.price"
      ],
      "execution_count": 46,
      "outputs": [
        {
          "output_type": "execute_result",
          "data": {
            "text/plain": [
              "0          NaN\n",
              "1         15.0\n",
              "2         14.0\n",
              "3         13.0\n",
              "4         65.0\n",
              "          ... \n",
              "129966    28.0\n",
              "129967    75.0\n",
              "129968    30.0\n",
              "129969    32.0\n",
              "129970    21.0\n",
              "Name: price, Length: 129971, dtype: float64"
            ]
          },
          "metadata": {},
          "execution_count": 46
        }
      ]
    },
    {
      "cell_type": "code",
      "metadata": {
        "colab": {
          "base_uri": "https://localhost:8080/",
          "height": 1000
        },
        "id": "K4VJstlxjVGd",
        "outputId": "cf75388b-2b1b-42f3-fc58-b78521d96152"
      },
      "source": [
        "wine_reviews[wine_reviews.price.notnull()]"
      ],
      "execution_count": 45,
      "outputs": [
        {
          "output_type": "execute_result",
          "data": {
            "text/html": [
              "<div>\n",
              "<style scoped>\n",
              "    .dataframe tbody tr th:only-of-type {\n",
              "        vertical-align: middle;\n",
              "    }\n",
              "\n",
              "    .dataframe tbody tr th {\n",
              "        vertical-align: top;\n",
              "    }\n",
              "\n",
              "    .dataframe thead th {\n",
              "        text-align: right;\n",
              "    }\n",
              "</style>\n",
              "<table border=\"1\" class=\"dataframe\">\n",
              "  <thead>\n",
              "    <tr style=\"text-align: right;\">\n",
              "      <th></th>\n",
              "      <th>country</th>\n",
              "      <th>description</th>\n",
              "      <th>designation</th>\n",
              "      <th>points</th>\n",
              "      <th>price</th>\n",
              "      <th>province</th>\n",
              "      <th>region_1</th>\n",
              "      <th>region_2</th>\n",
              "      <th>taster_name</th>\n",
              "      <th>taster_twitter_handle</th>\n",
              "      <th>title</th>\n",
              "      <th>variety</th>\n",
              "      <th>winery</th>\n",
              "    </tr>\n",
              "  </thead>\n",
              "  <tbody>\n",
              "    <tr>\n",
              "      <th>1</th>\n",
              "      <td>Portugal</td>\n",
              "      <td>This is ripe and fruity, a wine that is smooth...</td>\n",
              "      <td>Avidagos</td>\n",
              "      <td>87</td>\n",
              "      <td>15.0</td>\n",
              "      <td>Douro</td>\n",
              "      <td>NaN</td>\n",
              "      <td>NaN</td>\n",
              "      <td>Roger Voss</td>\n",
              "      <td>@vossroger</td>\n",
              "      <td>Quinta dos Avidagos 2011 Avidagos Red (Douro)</td>\n",
              "      <td>Portuguese Red</td>\n",
              "      <td>Quinta dos Avidagos</td>\n",
              "    </tr>\n",
              "    <tr>\n",
              "      <th>2</th>\n",
              "      <td>US</td>\n",
              "      <td>Tart and snappy, the flavors of lime flesh and...</td>\n",
              "      <td>NaN</td>\n",
              "      <td>87</td>\n",
              "      <td>14.0</td>\n",
              "      <td>Oregon</td>\n",
              "      <td>Willamette Valley</td>\n",
              "      <td>Willamette Valley</td>\n",
              "      <td>Paul Gregutt</td>\n",
              "      <td>@paulgwine</td>\n",
              "      <td>Rainstorm 2013 Pinot Gris (Willamette Valley)</td>\n",
              "      <td>Pinot Gris</td>\n",
              "      <td>Rainstorm</td>\n",
              "    </tr>\n",
              "    <tr>\n",
              "      <th>3</th>\n",
              "      <td>US</td>\n",
              "      <td>Pineapple rind, lemon pith and orange blossom ...</td>\n",
              "      <td>Reserve Late Harvest</td>\n",
              "      <td>87</td>\n",
              "      <td>13.0</td>\n",
              "      <td>Michigan</td>\n",
              "      <td>Lake Michigan Shore</td>\n",
              "      <td>NaN</td>\n",
              "      <td>Alexander Peartree</td>\n",
              "      <td>NaN</td>\n",
              "      <td>St. Julian 2013 Reserve Late Harvest Riesling ...</td>\n",
              "      <td>Riesling</td>\n",
              "      <td>St. Julian</td>\n",
              "    </tr>\n",
              "    <tr>\n",
              "      <th>4</th>\n",
              "      <td>US</td>\n",
              "      <td>Much like the regular bottling from 2012, this...</td>\n",
              "      <td>Vintner's Reserve Wild Child Block</td>\n",
              "      <td>87</td>\n",
              "      <td>65.0</td>\n",
              "      <td>Oregon</td>\n",
              "      <td>Willamette Valley</td>\n",
              "      <td>Willamette Valley</td>\n",
              "      <td>Paul Gregutt</td>\n",
              "      <td>@paulgwine</td>\n",
              "      <td>Sweet Cheeks 2012 Vintner's Reserve Wild Child...</td>\n",
              "      <td>Pinot Noir</td>\n",
              "      <td>Sweet Cheeks</td>\n",
              "    </tr>\n",
              "    <tr>\n",
              "      <th>5</th>\n",
              "      <td>Spain</td>\n",
              "      <td>Blackberry and raspberry aromas show a typical...</td>\n",
              "      <td>Ars In Vitro</td>\n",
              "      <td>87</td>\n",
              "      <td>15.0</td>\n",
              "      <td>Northern Spain</td>\n",
              "      <td>Navarra</td>\n",
              "      <td>NaN</td>\n",
              "      <td>Michael Schachner</td>\n",
              "      <td>@wineschach</td>\n",
              "      <td>Tandem 2011 Ars In Vitro Tempranillo-Merlot (N...</td>\n",
              "      <td>Tempranillo-Merlot</td>\n",
              "      <td>Tandem</td>\n",
              "    </tr>\n",
              "    <tr>\n",
              "      <th>...</th>\n",
              "      <td>...</td>\n",
              "      <td>...</td>\n",
              "      <td>...</td>\n",
              "      <td>...</td>\n",
              "      <td>...</td>\n",
              "      <td>...</td>\n",
              "      <td>...</td>\n",
              "      <td>...</td>\n",
              "      <td>...</td>\n",
              "      <td>...</td>\n",
              "      <td>...</td>\n",
              "      <td>...</td>\n",
              "      <td>...</td>\n",
              "    </tr>\n",
              "    <tr>\n",
              "      <th>129966</th>\n",
              "      <td>Germany</td>\n",
              "      <td>Notes of honeysuckle and cantaloupe sweeten th...</td>\n",
              "      <td>Brauneberger Juffer-Sonnenuhr Spätlese</td>\n",
              "      <td>90</td>\n",
              "      <td>28.0</td>\n",
              "      <td>Mosel</td>\n",
              "      <td>NaN</td>\n",
              "      <td>NaN</td>\n",
              "      <td>Anna Lee C. Iijima</td>\n",
              "      <td>NaN</td>\n",
              "      <td>Dr. H. Thanisch (Erben Müller-Burggraef) 2013 ...</td>\n",
              "      <td>Riesling</td>\n",
              "      <td>Dr. H. Thanisch (Erben Müller-Burggraef)</td>\n",
              "    </tr>\n",
              "    <tr>\n",
              "      <th>129967</th>\n",
              "      <td>US</td>\n",
              "      <td>Citation is given as much as a decade of bottl...</td>\n",
              "      <td>NaN</td>\n",
              "      <td>90</td>\n",
              "      <td>75.0</td>\n",
              "      <td>Oregon</td>\n",
              "      <td>Oregon</td>\n",
              "      <td>Oregon Other</td>\n",
              "      <td>Paul Gregutt</td>\n",
              "      <td>@paulgwine</td>\n",
              "      <td>Citation 2004 Pinot Noir (Oregon)</td>\n",
              "      <td>Pinot Noir</td>\n",
              "      <td>Citation</td>\n",
              "    </tr>\n",
              "    <tr>\n",
              "      <th>129968</th>\n",
              "      <td>France</td>\n",
              "      <td>Well-drained gravel soil gives this wine its c...</td>\n",
              "      <td>Kritt</td>\n",
              "      <td>90</td>\n",
              "      <td>30.0</td>\n",
              "      <td>Alsace</td>\n",
              "      <td>Alsace</td>\n",
              "      <td>NaN</td>\n",
              "      <td>Roger Voss</td>\n",
              "      <td>@vossroger</td>\n",
              "      <td>Domaine Gresser 2013 Kritt Gewurztraminer (Als...</td>\n",
              "      <td>Gewürztraminer</td>\n",
              "      <td>Domaine Gresser</td>\n",
              "    </tr>\n",
              "    <tr>\n",
              "      <th>129969</th>\n",
              "      <td>France</td>\n",
              "      <td>A dry style of Pinot Gris, this is crisp with ...</td>\n",
              "      <td>NaN</td>\n",
              "      <td>90</td>\n",
              "      <td>32.0</td>\n",
              "      <td>Alsace</td>\n",
              "      <td>Alsace</td>\n",
              "      <td>NaN</td>\n",
              "      <td>Roger Voss</td>\n",
              "      <td>@vossroger</td>\n",
              "      <td>Domaine Marcel Deiss 2012 Pinot Gris (Alsace)</td>\n",
              "      <td>Pinot Gris</td>\n",
              "      <td>Domaine Marcel Deiss</td>\n",
              "    </tr>\n",
              "    <tr>\n",
              "      <th>129970</th>\n",
              "      <td>France</td>\n",
              "      <td>Big, rich and off-dry, this is powered by inte...</td>\n",
              "      <td>Lieu-dit Harth Cuvée Caroline</td>\n",
              "      <td>90</td>\n",
              "      <td>21.0</td>\n",
              "      <td>Alsace</td>\n",
              "      <td>Alsace</td>\n",
              "      <td>NaN</td>\n",
              "      <td>Roger Voss</td>\n",
              "      <td>@vossroger</td>\n",
              "      <td>Domaine Schoffit 2012 Lieu-dit Harth Cuvée Car...</td>\n",
              "      <td>Gewürztraminer</td>\n",
              "      <td>Domaine Schoffit</td>\n",
              "    </tr>\n",
              "  </tbody>\n",
              "</table>\n",
              "<p>120975 rows × 13 columns</p>\n",
              "</div>"
            ],
            "text/plain": [
              "         country  ...                                    winery\n",
              "1       Portugal  ...                       Quinta dos Avidagos\n",
              "2             US  ...                                 Rainstorm\n",
              "3             US  ...                                St. Julian\n",
              "4             US  ...                              Sweet Cheeks\n",
              "5          Spain  ...                                    Tandem\n",
              "...          ...  ...                                       ...\n",
              "129966   Germany  ...  Dr. H. Thanisch (Erben Müller-Burggraef)\n",
              "129967        US  ...                                  Citation\n",
              "129968    France  ...                           Domaine Gresser\n",
              "129969    France  ...                      Domaine Marcel Deiss\n",
              "129970    France  ...                          Domaine Schoffit\n",
              "\n",
              "[120975 rows x 13 columns]"
            ]
          },
          "metadata": {},
          "execution_count": 45
        }
      ]
    },
    {
      "cell_type": "markdown",
      "metadata": {
        "id": "Tkpn8FzfjfpW"
      },
      "source": [
        "###Assigning data\n",
        "\n",
        "Going the other way, assigning data to a DataFrame is easy. You can assign either a constant value:"
      ]
    },
    {
      "cell_type": "code",
      "metadata": {
        "colab": {
          "base_uri": "https://localhost:8080/",
          "height": 605
        },
        "id": "HuS7PjP4jnha",
        "outputId": "35626e70-c17f-4a5e-ec24-e308bef082d2"
      },
      "source": [
        "wine_reviews['critic'] = 'everyone'\n",
        "wine_reviews.head()"
      ],
      "execution_count": 48,
      "outputs": [
        {
          "output_type": "execute_result",
          "data": {
            "text/html": [
              "<div>\n",
              "<style scoped>\n",
              "    .dataframe tbody tr th:only-of-type {\n",
              "        vertical-align: middle;\n",
              "    }\n",
              "\n",
              "    .dataframe tbody tr th {\n",
              "        vertical-align: top;\n",
              "    }\n",
              "\n",
              "    .dataframe thead th {\n",
              "        text-align: right;\n",
              "    }\n",
              "</style>\n",
              "<table border=\"1\" class=\"dataframe\">\n",
              "  <thead>\n",
              "    <tr style=\"text-align: right;\">\n",
              "      <th></th>\n",
              "      <th>country</th>\n",
              "      <th>description</th>\n",
              "      <th>designation</th>\n",
              "      <th>points</th>\n",
              "      <th>price</th>\n",
              "      <th>province</th>\n",
              "      <th>region_1</th>\n",
              "      <th>region_2</th>\n",
              "      <th>taster_name</th>\n",
              "      <th>taster_twitter_handle</th>\n",
              "      <th>title</th>\n",
              "      <th>variety</th>\n",
              "      <th>winery</th>\n",
              "      <th>critic</th>\n",
              "    </tr>\n",
              "  </thead>\n",
              "  <tbody>\n",
              "    <tr>\n",
              "      <th>0</th>\n",
              "      <td>Italy</td>\n",
              "      <td>Aromas include tropical fruit, broom, brimston...</td>\n",
              "      <td>Vulkà Bianco</td>\n",
              "      <td>87</td>\n",
              "      <td>NaN</td>\n",
              "      <td>Sicily &amp; Sardinia</td>\n",
              "      <td>Etna</td>\n",
              "      <td>NaN</td>\n",
              "      <td>Kerin O’Keefe</td>\n",
              "      <td>@kerinokeefe</td>\n",
              "      <td>Nicosia 2013 Vulkà Bianco  (Etna)</td>\n",
              "      <td>White Blend</td>\n",
              "      <td>Nicosia</td>\n",
              "      <td>everyone</td>\n",
              "    </tr>\n",
              "    <tr>\n",
              "      <th>1</th>\n",
              "      <td>Portugal</td>\n",
              "      <td>This is ripe and fruity, a wine that is smooth...</td>\n",
              "      <td>Avidagos</td>\n",
              "      <td>87</td>\n",
              "      <td>15.0</td>\n",
              "      <td>Douro</td>\n",
              "      <td>NaN</td>\n",
              "      <td>NaN</td>\n",
              "      <td>Roger Voss</td>\n",
              "      <td>@vossroger</td>\n",
              "      <td>Quinta dos Avidagos 2011 Avidagos Red (Douro)</td>\n",
              "      <td>Portuguese Red</td>\n",
              "      <td>Quinta dos Avidagos</td>\n",
              "      <td>everyone</td>\n",
              "    </tr>\n",
              "    <tr>\n",
              "      <th>2</th>\n",
              "      <td>US</td>\n",
              "      <td>Tart and snappy, the flavors of lime flesh and...</td>\n",
              "      <td>NaN</td>\n",
              "      <td>87</td>\n",
              "      <td>14.0</td>\n",
              "      <td>Oregon</td>\n",
              "      <td>Willamette Valley</td>\n",
              "      <td>Willamette Valley</td>\n",
              "      <td>Paul Gregutt</td>\n",
              "      <td>@paulgwine</td>\n",
              "      <td>Rainstorm 2013 Pinot Gris (Willamette Valley)</td>\n",
              "      <td>Pinot Gris</td>\n",
              "      <td>Rainstorm</td>\n",
              "      <td>everyone</td>\n",
              "    </tr>\n",
              "    <tr>\n",
              "      <th>3</th>\n",
              "      <td>US</td>\n",
              "      <td>Pineapple rind, lemon pith and orange blossom ...</td>\n",
              "      <td>Reserve Late Harvest</td>\n",
              "      <td>87</td>\n",
              "      <td>13.0</td>\n",
              "      <td>Michigan</td>\n",
              "      <td>Lake Michigan Shore</td>\n",
              "      <td>NaN</td>\n",
              "      <td>Alexander Peartree</td>\n",
              "      <td>NaN</td>\n",
              "      <td>St. Julian 2013 Reserve Late Harvest Riesling ...</td>\n",
              "      <td>Riesling</td>\n",
              "      <td>St. Julian</td>\n",
              "      <td>everyone</td>\n",
              "    </tr>\n",
              "    <tr>\n",
              "      <th>4</th>\n",
              "      <td>US</td>\n",
              "      <td>Much like the regular bottling from 2012, this...</td>\n",
              "      <td>Vintner's Reserve Wild Child Block</td>\n",
              "      <td>87</td>\n",
              "      <td>65.0</td>\n",
              "      <td>Oregon</td>\n",
              "      <td>Willamette Valley</td>\n",
              "      <td>Willamette Valley</td>\n",
              "      <td>Paul Gregutt</td>\n",
              "      <td>@paulgwine</td>\n",
              "      <td>Sweet Cheeks 2012 Vintner's Reserve Wild Child...</td>\n",
              "      <td>Pinot Noir</td>\n",
              "      <td>Sweet Cheeks</td>\n",
              "      <td>everyone</td>\n",
              "    </tr>\n",
              "  </tbody>\n",
              "</table>\n",
              "</div>"
            ],
            "text/plain": [
              "    country  ...    critic\n",
              "0     Italy  ...  everyone\n",
              "1  Portugal  ...  everyone\n",
              "2        US  ...  everyone\n",
              "3        US  ...  everyone\n",
              "4        US  ...  everyone\n",
              "\n",
              "[5 rows x 14 columns]"
            ]
          },
          "metadata": {},
          "execution_count": 48
        }
      ]
    },
    {
      "cell_type": "code",
      "metadata": {
        "colab": {
          "base_uri": "https://localhost:8080/",
          "height": 424
        },
        "id": "px4aeZe6Ng5j",
        "outputId": "d96a2654-a3df-4c22-b4c2-15009016c1e9"
      },
      "source": [
        "wine_reviews[['country','taster_name']]\n",
        "\n",
        "wine_reviews_l = wine_reviews[['country','taster_name']]"
      ],
      "execution_count": 51,
      "outputs": [
        {
          "output_type": "execute_result",
          "data": {
            "text/html": [
              "<div>\n",
              "<style scoped>\n",
              "    .dataframe tbody tr th:only-of-type {\n",
              "        vertical-align: middle;\n",
              "    }\n",
              "\n",
              "    .dataframe tbody tr th {\n",
              "        vertical-align: top;\n",
              "    }\n",
              "\n",
              "    .dataframe thead th {\n",
              "        text-align: right;\n",
              "    }\n",
              "</style>\n",
              "<table border=\"1\" class=\"dataframe\">\n",
              "  <thead>\n",
              "    <tr style=\"text-align: right;\">\n",
              "      <th></th>\n",
              "      <th>country</th>\n",
              "      <th>taster_name</th>\n",
              "    </tr>\n",
              "  </thead>\n",
              "  <tbody>\n",
              "    <tr>\n",
              "      <th>0</th>\n",
              "      <td>Italy</td>\n",
              "      <td>Kerin O’Keefe</td>\n",
              "    </tr>\n",
              "    <tr>\n",
              "      <th>1</th>\n",
              "      <td>Portugal</td>\n",
              "      <td>Roger Voss</td>\n",
              "    </tr>\n",
              "    <tr>\n",
              "      <th>2</th>\n",
              "      <td>US</td>\n",
              "      <td>Paul Gregutt</td>\n",
              "    </tr>\n",
              "    <tr>\n",
              "      <th>3</th>\n",
              "      <td>US</td>\n",
              "      <td>Alexander Peartree</td>\n",
              "    </tr>\n",
              "    <tr>\n",
              "      <th>4</th>\n",
              "      <td>US</td>\n",
              "      <td>Paul Gregutt</td>\n",
              "    </tr>\n",
              "    <tr>\n",
              "      <th>...</th>\n",
              "      <td>...</td>\n",
              "      <td>...</td>\n",
              "    </tr>\n",
              "    <tr>\n",
              "      <th>129966</th>\n",
              "      <td>Germany</td>\n",
              "      <td>Anna Lee C. Iijima</td>\n",
              "    </tr>\n",
              "    <tr>\n",
              "      <th>129967</th>\n",
              "      <td>US</td>\n",
              "      <td>Paul Gregutt</td>\n",
              "    </tr>\n",
              "    <tr>\n",
              "      <th>129968</th>\n",
              "      <td>France</td>\n",
              "      <td>Roger Voss</td>\n",
              "    </tr>\n",
              "    <tr>\n",
              "      <th>129969</th>\n",
              "      <td>France</td>\n",
              "      <td>Roger Voss</td>\n",
              "    </tr>\n",
              "    <tr>\n",
              "      <th>129970</th>\n",
              "      <td>France</td>\n",
              "      <td>Roger Voss</td>\n",
              "    </tr>\n",
              "  </tbody>\n",
              "</table>\n",
              "<p>129971 rows × 2 columns</p>\n",
              "</div>"
            ],
            "text/plain": [
              "         country         taster_name\n",
              "0          Italy       Kerin O’Keefe\n",
              "1       Portugal          Roger Voss\n",
              "2             US        Paul Gregutt\n",
              "3             US  Alexander Peartree\n",
              "4             US        Paul Gregutt\n",
              "...          ...                 ...\n",
              "129966   Germany  Anna Lee C. Iijima\n",
              "129967        US        Paul Gregutt\n",
              "129968    France          Roger Voss\n",
              "129969    France          Roger Voss\n",
              "129970    France          Roger Voss\n",
              "\n",
              "[129971 rows x 2 columns]"
            ]
          },
          "metadata": {},
          "execution_count": 51
        }
      ]
    },
    {
      "cell_type": "markdown",
      "metadata": {
        "id": "WfYWqWQfjyxp"
      },
      "source": [
        "#Summary Functions and Maps\n",
        "\n",
        "The data does not always come out of memory in the format we want it in right out of the bat. Sometimes we have to do some more work ourselves to reformat it for the task at hand. This tutorial will cover different operations we can apply to our data to get the input \"just right\"."
      ]
    },
    {
      "cell_type": "markdown",
      "metadata": {
        "id": "RymLVWU0kL_Y"
      },
      "source": [
        "**Summary functions**\n",
        "\n",
        "\n",
        "Pandas provides many simple \"summary functions\" (not an official name) which restructure the data in some useful way. For example, consider the `describe()` method:"
      ]
    },
    {
      "cell_type": "code",
      "metadata": {
        "colab": {
          "base_uri": "https://localhost:8080/"
        },
        "id": "jXTOa1oGj2fr",
        "outputId": "1ffc2af4-8923-4400-8252-3748abc83a43"
      },
      "source": [
        "wine_reviews.points.describe()"
      ],
      "execution_count": 10,
      "outputs": [
        {
          "output_type": "execute_result",
          "data": {
            "text/plain": [
              "count    129971.000000\n",
              "mean         88.447138\n",
              "std           3.039730\n",
              "min          80.000000\n",
              "25%          86.000000\n",
              "50%          88.000000\n",
              "75%          91.000000\n",
              "max         100.000000\n",
              "Name: points, dtype: float64"
            ]
          },
          "metadata": {},
          "execution_count": 10
        }
      ]
    },
    {
      "cell_type": "markdown",
      "metadata": {
        "id": "pw_CmIhUkgK2"
      },
      "source": [
        "This method generates a high-level summary of the attributes of the given column. It is type-aware, meaning that its output changes based on the data type of the input. The output above only makes sense for numerical data; for string data here's what we get:"
      ]
    },
    {
      "cell_type": "code",
      "metadata": {
        "id": "SElmx2p4ki-a"
      },
      "source": [
        "wine_reviews.taster_name.describe()"
      ],
      "execution_count": null,
      "outputs": []
    },
    {
      "cell_type": "markdown",
      "metadata": {
        "id": "eTPFETmfkqRi"
      },
      "source": [
        "If you want to get some particular simple summary statistic about a column in a DataFrame or a Series, there is usually a helpful pandas function that makes it happen.\n",
        "\n",
        "For example, to see the mean of the points allotted (e.g. how well an averagely rated wine does), we can use the **mean()** function:"
      ]
    },
    {
      "cell_type": "code",
      "metadata": {
        "colab": {
          "base_uri": "https://localhost:8080/"
        },
        "id": "WssMYyxRky5v",
        "outputId": "1281af75-449c-4a8e-f336-d2f7645ca316"
      },
      "source": [
        "wine_reviews.points.mean()"
      ],
      "execution_count": 52,
      "outputs": [
        {
          "output_type": "execute_result",
          "data": {
            "text/plain": [
              "88.44713820775404"
            ]
          },
          "metadata": {},
          "execution_count": 52
        }
      ]
    },
    {
      "cell_type": "markdown",
      "metadata": {
        "id": "PwGCkC6vk4NM"
      },
      "source": [
        "To see a list of unique values we can use the **unique()** function:"
      ]
    },
    {
      "cell_type": "code",
      "metadata": {
        "colab": {
          "base_uri": "https://localhost:8080/"
        },
        "id": "tFKJsiCvk7Eb",
        "outputId": "90348727-8bff-43d7-f894-da17c3fd2a52"
      },
      "source": [
        "wine_reviews.taster_name.unique()"
      ],
      "execution_count": 53,
      "outputs": [
        {
          "output_type": "execute_result",
          "data": {
            "text/plain": [
              "array(['Kerin O’Keefe', 'Roger Voss', 'Paul Gregutt',\n",
              "       'Alexander Peartree', 'Michael Schachner', 'Anna Lee C. Iijima',\n",
              "       'Virginie Boone', 'Matt Kettmann', nan, 'Sean P. Sullivan',\n",
              "       'Jim Gordon', 'Joe Czerwinski', 'Anne Krebiehl\\xa0MW',\n",
              "       'Lauren Buzzeo', 'Mike DeSimone', 'Jeff Jenssen',\n",
              "       'Susan Kostrzewa', 'Carrie Dykes', 'Fiona Adams',\n",
              "       'Christina Pickard'], dtype=object)"
            ]
          },
          "metadata": {},
          "execution_count": 53
        }
      ]
    },
    {
      "cell_type": "markdown",
      "metadata": {
        "id": "64IzVxnUk_DH"
      },
      "source": [
        "To see a list of unique values and how often they occur in the dataset, we can use the `value_counts()` method:"
      ]
    },
    {
      "cell_type": "code",
      "metadata": {
        "colab": {
          "base_uri": "https://localhost:8080/"
        },
        "id": "j6-O-FljlCO3",
        "outputId": "8dbc3871-d3e0-4dc8-d297-a58b73117a75"
      },
      "source": [
        "wine_reviews.taster_name.value_counts()"
      ],
      "execution_count": 54,
      "outputs": [
        {
          "output_type": "execute_result",
          "data": {
            "text/plain": [
              "Roger Voss            25514\n",
              "Michael Schachner     15134\n",
              "Kerin O’Keefe         10776\n",
              "Virginie Boone         9537\n",
              "Paul Gregutt           9532\n",
              "Matt Kettmann          6332\n",
              "Joe Czerwinski         5147\n",
              "Sean P. Sullivan       4966\n",
              "Anna Lee C. Iijima     4415\n",
              "Jim Gordon             4177\n",
              "Anne Krebiehl MW       3685\n",
              "Lauren Buzzeo          1835\n",
              "Susan Kostrzewa        1085\n",
              "Mike DeSimone           514\n",
              "Jeff Jenssen            491\n",
              "Alexander Peartree      415\n",
              "Carrie Dykes            139\n",
              "Fiona Adams              27\n",
              "Christina Pickard         6\n",
              "Name: taster_name, dtype: int64"
            ]
          },
          "metadata": {},
          "execution_count": 54
        }
      ]
    },
    {
      "cell_type": "markdown",
      "metadata": {
        "id": "6wqWIZLalTOj"
      },
      "source": [
        "**A map is a term**, borrowed from mathematics, for a function that takes one set of values and \"maps\" them to another set of values. In data science we often have a need for creating new representations from existing data, or for transforming data from the format it is in now to the format that we want it to be in later. Maps are what handle this work, making them extremely important for getting your work done!"
      ]
    },
    {
      "cell_type": "markdown",
      "metadata": {
        "id": "do3KfkcSlZ2A"
      },
      "source": [
        "**`apply()`** is the equivalent method if we want to transform a whole DataFrame by calling a custom method on each row.\n",
        "\n",
        "\n",
        "For example, suppose that we wanted to remean the scores the wines received to 0. We can do this as follows:"
      ]
    },
    {
      "cell_type": "code",
      "metadata": {
        "colab": {
          "base_uri": "https://localhost:8080/"
        },
        "id": "TwMusngXPRwS",
        "outputId": "5ec9c853-e068-45bd-eafc-51fa36118f65"
      },
      "source": [
        "wine_reviews.points"
      ],
      "execution_count": 56,
      "outputs": [
        {
          "output_type": "execute_result",
          "data": {
            "text/plain": [
              "0         87\n",
              "1         87\n",
              "2         87\n",
              "3         87\n",
              "4         87\n",
              "          ..\n",
              "129966    90\n",
              "129967    90\n",
              "129968    90\n",
              "129969    90\n",
              "129970    90\n",
              "Name: points, Length: 129971, dtype: int64"
            ]
          },
          "metadata": {},
          "execution_count": 56
        }
      ]
    },
    {
      "cell_type": "code",
      "metadata": {
        "id": "hZ2Xi6eiljCm"
      },
      "source": [
        "review_points_mean = wine_reviews.points.mean()"
      ],
      "execution_count": 55,
      "outputs": []
    },
    {
      "cell_type": "code",
      "metadata": {
        "id": "LBOQYQvlQNb9"
      },
      "source": [
        "def remean_points(row):\n",
        "    row = row - review_points_mean\n",
        "    return row\n",
        "\n",
        "wine_reviews['points_update']= wine_reviews.points.apply(remean_points)"
      ],
      "execution_count": 60,
      "outputs": []
    },
    {
      "cell_type": "code",
      "metadata": {
        "id": "OGtD5ualRUzy"
      },
      "source": [
        "wine_reviews"
      ],
      "execution_count": null,
      "outputs": []
    },
    {
      "cell_type": "markdown",
      "metadata": {
        "id": "O-JGTXr6mqg9"
      },
      "source": [
        "#Data Types and Missing Values\n",
        "\n",
        "In this part, you'll learn how to investigate data types within a DataFrame or Series. You'll also learn how to find and replace entries."
      ]
    },
    {
      "cell_type": "markdown",
      "metadata": {
        "id": "nB0x5rTUm5dW"
      },
      "source": [
        "###Dtypes\n",
        "The data type for a column in a DataFrame or a Series is known as the **dtype**.\n",
        "\n",
        "You can use the `dtype` property to grab the type of a specific column. For instance, we can get the dtype of the `price` column in the `reviews` DataFrame:"
      ]
    },
    {
      "cell_type": "code",
      "metadata": {
        "id": "uoZ_3UJ5mu0N"
      },
      "source": [
        "wine_reviews.price.dtype"
      ],
      "execution_count": null,
      "outputs": []
    },
    {
      "cell_type": "markdown",
      "metadata": {
        "id": "HEVOs-CxnplO"
      },
      "source": [
        "Alternatively, the **dtypes** property returns the dtype of every column in the DataFrame:"
      ]
    },
    {
      "cell_type": "code",
      "metadata": {
        "id": "M7u0PUTGnr1A"
      },
      "source": [
        "wine_reviews.dtypes"
      ],
      "execution_count": null,
      "outputs": []
    },
    {
      "cell_type": "markdown",
      "metadata": {
        "id": "3RFxhCUgn1Qs"
      },
      "source": [
        "Data types tell us something about how pandas is storing the data internally. float64 means that it's using a 64-bit floating point number; int64 means a similarly sized integer instead, and so on.\n",
        "\n",
        "**One peculiarity to keep in mind (and on display very clearly here) is that columns consisting entirely of strings do not get their own type; they are instead given the object type.**\n",
        "\n",
        "It's possible to convert a column of one type into another wherever such a conversion makes sense by using the astype() function. For example, we may transform the points column from its existing int64 data type into a float64 data type:"
      ]
    },
    {
      "cell_type": "code",
      "metadata": {
        "id": "MOcxh3Lqn4_p"
      },
      "source": [
        "wine_reviews.points.astype('float64')"
      ],
      "execution_count": null,
      "outputs": []
    },
    {
      "cell_type": "markdown",
      "metadata": {
        "id": "ON3zU_LJn-nx"
      },
      "source": [
        "###Missing data\n",
        "\n",
        "Entries missing values are given the value **NaN**, short for \"Not a Number\". For technical reasons these NaN values are always of the float64 dtype.\n",
        "\n",
        "Pandas provides some methods specific to missing data. To select NaN entries you can use `pd.isnull()` (or its companion `pd.notnull()`). This is meant to be used thusly:"
      ]
    },
    {
      "cell_type": "code",
      "metadata": {
        "colab": {
          "base_uri": "https://localhost:8080/",
          "height": 1000
        },
        "id": "7V8PO-t3oFi4",
        "outputId": "d60877b1-6ea1-4cbc-b441-5ac439beb663"
      },
      "source": [
        "wine_reviews[pd.isnull(wine_reviews.country)]"
      ],
      "execution_count": 62,
      "outputs": [
        {
          "output_type": "execute_result",
          "data": {
            "text/html": [
              "<div>\n",
              "<style scoped>\n",
              "    .dataframe tbody tr th:only-of-type {\n",
              "        vertical-align: middle;\n",
              "    }\n",
              "\n",
              "    .dataframe tbody tr th {\n",
              "        vertical-align: top;\n",
              "    }\n",
              "\n",
              "    .dataframe thead th {\n",
              "        text-align: right;\n",
              "    }\n",
              "</style>\n",
              "<table border=\"1\" class=\"dataframe\">\n",
              "  <thead>\n",
              "    <tr style=\"text-align: right;\">\n",
              "      <th></th>\n",
              "      <th>country</th>\n",
              "      <th>description</th>\n",
              "      <th>designation</th>\n",
              "      <th>points</th>\n",
              "      <th>price</th>\n",
              "      <th>province</th>\n",
              "      <th>region_1</th>\n",
              "      <th>region_2</th>\n",
              "      <th>taster_name</th>\n",
              "      <th>taster_twitter_handle</th>\n",
              "      <th>title</th>\n",
              "      <th>variety</th>\n",
              "      <th>winery</th>\n",
              "      <th>critic</th>\n",
              "      <th>points_update</th>\n",
              "    </tr>\n",
              "  </thead>\n",
              "  <tbody>\n",
              "    <tr>\n",
              "      <th>913</th>\n",
              "      <td>NaN</td>\n",
              "      <td>Amber in color, this wine has aromas of peach ...</td>\n",
              "      <td>Asureti Valley</td>\n",
              "      <td>87</td>\n",
              "      <td>30.0</td>\n",
              "      <td>NaN</td>\n",
              "      <td>NaN</td>\n",
              "      <td>NaN</td>\n",
              "      <td>Mike DeSimone</td>\n",
              "      <td>@worldwineguys</td>\n",
              "      <td>Gotsa Family Wines 2014 Asureti Valley Chinuri</td>\n",
              "      <td>Chinuri</td>\n",
              "      <td>Gotsa Family Wines</td>\n",
              "      <td>everyone</td>\n",
              "      <td>-1.447138</td>\n",
              "    </tr>\n",
              "    <tr>\n",
              "      <th>3131</th>\n",
              "      <td>NaN</td>\n",
              "      <td>Soft, fruity and juicy, this is a pleasant, si...</td>\n",
              "      <td>Partager</td>\n",
              "      <td>83</td>\n",
              "      <td>NaN</td>\n",
              "      <td>NaN</td>\n",
              "      <td>NaN</td>\n",
              "      <td>NaN</td>\n",
              "      <td>Roger Voss</td>\n",
              "      <td>@vossroger</td>\n",
              "      <td>Barton &amp; Guestier NV Partager Red</td>\n",
              "      <td>Red Blend</td>\n",
              "      <td>Barton &amp; Guestier</td>\n",
              "      <td>everyone</td>\n",
              "      <td>-5.447138</td>\n",
              "    </tr>\n",
              "    <tr>\n",
              "      <th>4243</th>\n",
              "      <td>NaN</td>\n",
              "      <td>Violet-red in color, this semisweet wine has a...</td>\n",
              "      <td>Red Naturally Semi-Sweet</td>\n",
              "      <td>88</td>\n",
              "      <td>18.0</td>\n",
              "      <td>NaN</td>\n",
              "      <td>NaN</td>\n",
              "      <td>NaN</td>\n",
              "      <td>Mike DeSimone</td>\n",
              "      <td>@worldwineguys</td>\n",
              "      <td>Kakhetia Traditional Winemaking 2012 Red Natur...</td>\n",
              "      <td>Ojaleshi</td>\n",
              "      <td>Kakhetia Traditional Winemaking</td>\n",
              "      <td>everyone</td>\n",
              "      <td>-0.447138</td>\n",
              "    </tr>\n",
              "    <tr>\n",
              "      <th>9509</th>\n",
              "      <td>NaN</td>\n",
              "      <td>This mouthwatering blend starts with a nose of...</td>\n",
              "      <td>Theopetra Malagouzia-Assyrtiko</td>\n",
              "      <td>92</td>\n",
              "      <td>28.0</td>\n",
              "      <td>NaN</td>\n",
              "      <td>NaN</td>\n",
              "      <td>NaN</td>\n",
              "      <td>Susan Kostrzewa</td>\n",
              "      <td>@suskostrzewa</td>\n",
              "      <td>Tsililis 2015 Theopetra Malagouzia-Assyrtiko W...</td>\n",
              "      <td>White Blend</td>\n",
              "      <td>Tsililis</td>\n",
              "      <td>everyone</td>\n",
              "      <td>3.552862</td>\n",
              "    </tr>\n",
              "    <tr>\n",
              "      <th>9750</th>\n",
              "      <td>NaN</td>\n",
              "      <td>This orange-style wine has a cloudy yellow-gol...</td>\n",
              "      <td>Orange Nikolaevo Vineyard</td>\n",
              "      <td>89</td>\n",
              "      <td>28.0</td>\n",
              "      <td>NaN</td>\n",
              "      <td>NaN</td>\n",
              "      <td>NaN</td>\n",
              "      <td>Jeff Jenssen</td>\n",
              "      <td>@worldwineguys</td>\n",
              "      <td>Ross-idi 2015 Orange Nikolaevo Vineyard Chardo...</td>\n",
              "      <td>Chardonnay</td>\n",
              "      <td>Ross-idi</td>\n",
              "      <td>everyone</td>\n",
              "      <td>0.552862</td>\n",
              "    </tr>\n",
              "    <tr>\n",
              "      <th>...</th>\n",
              "      <td>...</td>\n",
              "      <td>...</td>\n",
              "      <td>...</td>\n",
              "      <td>...</td>\n",
              "      <td>...</td>\n",
              "      <td>...</td>\n",
              "      <td>...</td>\n",
              "      <td>...</td>\n",
              "      <td>...</td>\n",
              "      <td>...</td>\n",
              "      <td>...</td>\n",
              "      <td>...</td>\n",
              "      <td>...</td>\n",
              "      <td>...</td>\n",
              "      <td>...</td>\n",
              "    </tr>\n",
              "    <tr>\n",
              "      <th>124176</th>\n",
              "      <td>NaN</td>\n",
              "      <td>This Swiss red blend is composed of four varie...</td>\n",
              "      <td>Les Romaines</td>\n",
              "      <td>90</td>\n",
              "      <td>30.0</td>\n",
              "      <td>NaN</td>\n",
              "      <td>NaN</td>\n",
              "      <td>NaN</td>\n",
              "      <td>Jeff Jenssen</td>\n",
              "      <td>@worldwineguys</td>\n",
              "      <td>Les Frères Dutruy 2014 Les Romaines Red</td>\n",
              "      <td>Red Blend</td>\n",
              "      <td>Les Frères Dutruy</td>\n",
              "      <td>everyone</td>\n",
              "      <td>1.552862</td>\n",
              "    </tr>\n",
              "    <tr>\n",
              "      <th>129407</th>\n",
              "      <td>NaN</td>\n",
              "      <td>Dry spicy aromas of dusty plum and tomato add ...</td>\n",
              "      <td>Reserve</td>\n",
              "      <td>89</td>\n",
              "      <td>22.0</td>\n",
              "      <td>NaN</td>\n",
              "      <td>NaN</td>\n",
              "      <td>NaN</td>\n",
              "      <td>Michael Schachner</td>\n",
              "      <td>@wineschach</td>\n",
              "      <td>El Capricho 2015 Reserve Cabernet Sauvignon</td>\n",
              "      <td>Cabernet Sauvignon</td>\n",
              "      <td>El Capricho</td>\n",
              "      <td>everyone</td>\n",
              "      <td>0.552862</td>\n",
              "    </tr>\n",
              "    <tr>\n",
              "      <th>129408</th>\n",
              "      <td>NaN</td>\n",
              "      <td>El Capricho is one of Uruguay's more consisten...</td>\n",
              "      <td>Reserve</td>\n",
              "      <td>89</td>\n",
              "      <td>22.0</td>\n",
              "      <td>NaN</td>\n",
              "      <td>NaN</td>\n",
              "      <td>NaN</td>\n",
              "      <td>Michael Schachner</td>\n",
              "      <td>@wineschach</td>\n",
              "      <td>El Capricho 2015 Reserve Tempranillo</td>\n",
              "      <td>Tempranillo</td>\n",
              "      <td>El Capricho</td>\n",
              "      <td>everyone</td>\n",
              "      <td>0.552862</td>\n",
              "    </tr>\n",
              "    <tr>\n",
              "      <th>129590</th>\n",
              "      <td>NaN</td>\n",
              "      <td>A blend of 60% Syrah, 30% Cabernet Sauvignon a...</td>\n",
              "      <td>Shah</td>\n",
              "      <td>90</td>\n",
              "      <td>30.0</td>\n",
              "      <td>NaN</td>\n",
              "      <td>NaN</td>\n",
              "      <td>NaN</td>\n",
              "      <td>Mike DeSimone</td>\n",
              "      <td>@worldwineguys</td>\n",
              "      <td>Büyülübağ 2012 Shah Red</td>\n",
              "      <td>Red Blend</td>\n",
              "      <td>Büyülübağ</td>\n",
              "      <td>everyone</td>\n",
              "      <td>1.552862</td>\n",
              "    </tr>\n",
              "    <tr>\n",
              "      <th>129900</th>\n",
              "      <td>NaN</td>\n",
              "      <td>This wine offers a delightful bouquet of black...</td>\n",
              "      <td>NaN</td>\n",
              "      <td>91</td>\n",
              "      <td>32.0</td>\n",
              "      <td>NaN</td>\n",
              "      <td>NaN</td>\n",
              "      <td>NaN</td>\n",
              "      <td>Mike DeSimone</td>\n",
              "      <td>@worldwineguys</td>\n",
              "      <td>Psagot 2014 Merlot</td>\n",
              "      <td>Merlot</td>\n",
              "      <td>Psagot</td>\n",
              "      <td>everyone</td>\n",
              "      <td>2.552862</td>\n",
              "    </tr>\n",
              "  </tbody>\n",
              "</table>\n",
              "<p>63 rows × 15 columns</p>\n",
              "</div>"
            ],
            "text/plain": [
              "       country  ... points_update\n",
              "913        NaN  ...     -1.447138\n",
              "3131       NaN  ...     -5.447138\n",
              "4243       NaN  ...     -0.447138\n",
              "9509       NaN  ...      3.552862\n",
              "9750       NaN  ...      0.552862\n",
              "...        ...  ...           ...\n",
              "124176     NaN  ...      1.552862\n",
              "129407     NaN  ...      0.552862\n",
              "129408     NaN  ...      0.552862\n",
              "129590     NaN  ...      1.552862\n",
              "129900     NaN  ...      2.552862\n",
              "\n",
              "[63 rows x 15 columns]"
            ]
          },
          "metadata": {},
          "execution_count": 62
        }
      ]
    },
    {
      "cell_type": "markdown",
      "metadata": {
        "id": "M2wCtXOJoOZW"
      },
      "source": [
        "Replacing missing values is a common operation. Pandas provides a really handy method for this problem: `fillna()`. `fillna()` provides a few different strategies for mitigating such data. For example, we can simply replace each **NaN** with an **\"Unknown\"**:"
      ]
    },
    {
      "cell_type": "code",
      "metadata": {
        "id": "hg9hkVcgoVEA"
      },
      "source": [
        "wine_reviews.region_2.fillna(\"Unknown\")"
      ],
      "execution_count": null,
      "outputs": []
    },
    {
      "cell_type": "markdown",
      "metadata": {
        "id": "C7g780RiohAx"
      },
      "source": [
        "Or we could fill each missing value with the first non-null value that appears sometime after the given record in the database. **This is known as the backfill strategy**."
      ]
    },
    {
      "cell_type": "markdown",
      "metadata": {
        "id": "CCoDmHk_omlr"
      },
      "source": [
        "Alternatively, we may have a non-null value that we would like to replace. For example, suppose that since this dataset was published, reviewer Kerin O'Keefe has changed her Twitter handle from `@kerinokeefe` to `@kerino`. One way to reflect this in the dataset is using the **`replace()`** method:"
      ]
    },
    {
      "cell_type": "code",
      "metadata": {
        "id": "FNS7lbfHox2S"
      },
      "source": [
        "wine_reviews.taster_twitter_handle.replace(\"@kerinokeefe\", \"@kerino\")"
      ],
      "execution_count": null,
      "outputs": []
    },
    {
      "cell_type": "markdown",
      "metadata": {
        "id": "PhJEN-Xuo8Ts"
      },
      "source": [
        "The **`replace() method`** is worth mentioning here because it's handy for replacing missing data which is given some kind of sentinel value in the dataset: things like \"Unknown\", \"Undisclosed\", \"Invalid\", and so on."
      ]
    },
    {
      "cell_type": "markdown",
      "metadata": {
        "id": "C1avLAd9paha"
      },
      "source": [
        "#Renaming and Combining\n",
        "\n",
        "Oftentimes data will come to us with column names, index names, or other naming conventions that we are not satisfied with. In that case, you'll learn how to use pandas functions to change the names of the offending entries to something better."
      ]
    },
    {
      "cell_type": "markdown",
      "metadata": {
        "id": "6ERQOHfYpmEY"
      },
      "source": [
        "###Renaming\n",
        "The first function we'll introduce here is **`rename()`**, which lets you change index names and/or column names. For example, to change the points column in our dataset to score, we would do:"
      ]
    },
    {
      "cell_type": "code",
      "metadata": {
        "id": "OYE0tn5jo-Hf"
      },
      "source": [
        "wine_reviews.rename(columns={'points': 'score'})"
      ],
      "execution_count": null,
      "outputs": []
    },
    {
      "cell_type": "markdown",
      "metadata": {
        "id": "cM_qX6lNpvoH"
      },
      "source": [
        "**`rename()`** lets you rename index or column values by specifying a **`index`** or **`column`** keyword parameter, respectively."
      ]
    },
    {
      "cell_type": "markdown",
      "metadata": {
        "id": "tDArHF6qp8Js"
      },
      "source": [
        "###Combining\n",
        "When performing operations on a dataset, we will sometimes need to combine different DataFrames and/or Series in non-trivial ways. Pandas has three core methods for doing this. In order of increasing complexity, these are concat(), join(), and merge(). Most of what merge() can do can also be done more simply with join(), so we will omit it and focus on the first two functions here.\n",
        "\n",
        "The simplest combining method is concat(). Given a list of elements, this function will smush those elements together along an axis."
      ]
    },
    {
      "cell_type": "markdown",
      "metadata": {
        "id": "1vJhCpZcsUVP"
      },
      "source": [
        "**This is useful when we have data in different DataFrame or Series objects but having the same fields (columns)**"
      ]
    },
    {
      "cell_type": "code",
      "metadata": {
        "id": "jKhpHhQDsN6P"
      },
      "source": [
        "# Don't Run it\n",
        "\n",
        "canadian_youtube = pd.read_csv(\"../input/youtube-new/CAvideos.csv\")\n",
        "british_youtube = pd.read_csv(\"../input/youtube-new/GBvideos.csv\")\n",
        "\n",
        "pd.concat([canadian_youtube, british_youtube])"
      ],
      "execution_count": null,
      "outputs": []
    },
    {
      "cell_type": "markdown",
      "metadata": {
        "id": "KMyoaDOjs8hF"
      },
      "source": [
        "#Reference\n",
        "\n",
        "\n",
        "1.   https://www.kaggle.com/learn/pandas\n",
        "\n"
      ]
    }
  ]
}