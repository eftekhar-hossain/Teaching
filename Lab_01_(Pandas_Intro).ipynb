{
  "nbformat": 4,
  "nbformat_minor": 0,
  "metadata": {
    "colab": {
      "name": "Lab-01_(Pandas Intro).ipynb",
      "provenance": [],
      "collapsed_sections": [],
      "authorship_tag": "ABX9TyP9P5gm1wMMjuJZOSAmwvPV",
      "include_colab_link": true
    },
    "kernelspec": {
      "name": "python3",
      "display_name": "Python 3"
    },
    "language_info": {
      "name": "python"
    }
  },
  "cells": [
    {
      "cell_type": "markdown",
      "metadata": {
        "id": "view-in-github",
        "colab_type": "text"
      },
      "source": [
        "<a href=\"https://colab.research.google.com/github/eftekhar-hossain/Teaching/blob/main/Lab_01_(Pandas_Intro).ipynb\" target=\"_parent\"><img src=\"https://colab.research.google.com/assets/colab-badge.svg\" alt=\"Open In Colab\"/></a>"
      ]
    },
    {
      "cell_type": "markdown",
      "metadata": {
        "id": "Q30pJUgw60mX"
      },
      "source": [
        "#ETE-456 Machine Learning Sessional\n",
        "\n",
        "Lab-01: **Data Manipulation using *Pandas* Library**\n",
        "\n",
        "> Objective: \n",
        " 1. *Get familiar with Pandas Library.*\n",
        " 2. *Manipulate data by applying it on a real world dataset.*\n"
      ]
    },
    {
      "cell_type": "markdown",
      "metadata": {
        "id": "ui61lEr88NUD"
      },
      "source": [
        "##Creating, Reading and Writing\n",
        "**In this section, you will learn how to create your own data, along with how to work with data that already exists.**"
      ]
    },
    {
      "cell_type": "code",
      "metadata": {
        "id": "X4LXDto3xDc3"
      },
      "source": [
        "# To use pandas, you'll typically start with the following line of code.\n",
        "\n",
        "import pandas as pd"
      ],
      "execution_count": 1,
      "outputs": []
    },
    {
      "cell_type": "markdown",
      "metadata": {
        "id": "RuDQKYKp8wSt"
      },
      "source": [
        "###Creating data\n",
        "\n",
        "There are two core objects in pandas: the **DataFrame** and the **Series**.\n",
        "\n",
        "**DataFrame**\n",
        "\n",
        "A DataFrame is a table. It contains an array of individual entries, each of which has a certain value. Each entry corresponds to a row (or record) and a column. For example, consider the following simple DataFrame:"
      ]
    },
    {
      "cell_type": "code",
      "metadata": {
        "colab": {
          "base_uri": "https://localhost:8080/",
          "height": 112
        },
        "id": "N-feE8pd86Y-",
        "outputId": "bb15d2e4-4fbc-439e-8017-c830506c70e7"
      },
      "source": [
        "pd.DataFrame({'Yes': [50, 21], 'No': [131, 2]})"
      ],
      "execution_count": null,
      "outputs": [
        {
          "output_type": "execute_result",
          "data": {
            "text/html": [
              "<div>\n",
              "<style scoped>\n",
              "    .dataframe tbody tr th:only-of-type {\n",
              "        vertical-align: middle;\n",
              "    }\n",
              "\n",
              "    .dataframe tbody tr th {\n",
              "        vertical-align: top;\n",
              "    }\n",
              "\n",
              "    .dataframe thead th {\n",
              "        text-align: right;\n",
              "    }\n",
              "</style>\n",
              "<table border=\"1\" class=\"dataframe\">\n",
              "  <thead>\n",
              "    <tr style=\"text-align: right;\">\n",
              "      <th></th>\n",
              "      <th>Yes</th>\n",
              "      <th>No</th>\n",
              "    </tr>\n",
              "  </thead>\n",
              "  <tbody>\n",
              "    <tr>\n",
              "      <th>0</th>\n",
              "      <td>50</td>\n",
              "      <td>131</td>\n",
              "    </tr>\n",
              "    <tr>\n",
              "      <th>1</th>\n",
              "      <td>21</td>\n",
              "      <td>2</td>\n",
              "    </tr>\n",
              "  </tbody>\n",
              "</table>\n",
              "</div>"
            ],
            "text/plain": [
              "   Yes   No\n",
              "0   50  131\n",
              "1   21    2"
            ]
          },
          "metadata": {},
          "execution_count": 2
        }
      ]
    },
    {
      "cell_type": "markdown",
      "metadata": {
        "id": "161iZlZK9XC7"
      },
      "source": [
        "DataFrame entries are not limited to integers. For instance, here's a DataFrame whose values are strings:"
      ]
    },
    {
      "cell_type": "code",
      "metadata": {
        "colab": {
          "base_uri": "https://localhost:8080/",
          "height": 112
        },
        "id": "o4t300Vj9WY2",
        "outputId": "acbe36dc-0cfb-495c-fec3-4286136acfe6"
      },
      "source": [
        "pd.DataFrame({'Bob': ['I liked it.', 'It was awful.'], 'Sue': ['Pretty good.', 'Bland.']})"
      ],
      "execution_count": null,
      "outputs": [
        {
          "output_type": "execute_result",
          "data": {
            "text/html": [
              "<div>\n",
              "<style scoped>\n",
              "    .dataframe tbody tr th:only-of-type {\n",
              "        vertical-align: middle;\n",
              "    }\n",
              "\n",
              "    .dataframe tbody tr th {\n",
              "        vertical-align: top;\n",
              "    }\n",
              "\n",
              "    .dataframe thead th {\n",
              "        text-align: right;\n",
              "    }\n",
              "</style>\n",
              "<table border=\"1\" class=\"dataframe\">\n",
              "  <thead>\n",
              "    <tr style=\"text-align: right;\">\n",
              "      <th></th>\n",
              "      <th>Bob</th>\n",
              "      <th>Sue</th>\n",
              "    </tr>\n",
              "  </thead>\n",
              "  <tbody>\n",
              "    <tr>\n",
              "      <th>0</th>\n",
              "      <td>I liked it.</td>\n",
              "      <td>Pretty good.</td>\n",
              "    </tr>\n",
              "    <tr>\n",
              "      <th>1</th>\n",
              "      <td>It was awful.</td>\n",
              "      <td>Bland.</td>\n",
              "    </tr>\n",
              "  </tbody>\n",
              "</table>\n",
              "</div>"
            ],
            "text/plain": [
              "             Bob           Sue\n",
              "0    I liked it.  Pretty good.\n",
              "1  It was awful.        Bland."
            ]
          },
          "metadata": {},
          "execution_count": 3
        }
      ]
    },
    {
      "cell_type": "markdown",
      "metadata": {
        "id": "EwuPGC3E9nCr"
      },
      "source": [
        "We are using the pd.DataFrame() constructor to generate these DataFrame objects. The syntax for declaring a new one is a dictionary whose keys are the column names (Bob and Sue in this example), and whose values are a list of entries. This is the standard way of constructing a new DataFrame, and the one you are most likely to encounter.\n",
        "\n",
        "The list of row labels used in a DataFrame is known as an **Index**. We can assign values to it by using an index parameter in our constructor:"
      ]
    },
    {
      "cell_type": "code",
      "metadata": {
        "colab": {
          "base_uri": "https://localhost:8080/",
          "height": 112
        },
        "id": "q7eL_rrY9qWH",
        "outputId": "c1ca7c18-1439-4697-e154-a6488a218b13"
      },
      "source": [
        "pd.DataFrame({'Bob': ['I liked it.', 'It was awful.'], \n",
        "              'Sue': ['Pretty good.', 'Bland.']},\n",
        "             index=['Product A', 'Product B'])"
      ],
      "execution_count": null,
      "outputs": [
        {
          "output_type": "execute_result",
          "data": {
            "text/html": [
              "<div>\n",
              "<style scoped>\n",
              "    .dataframe tbody tr th:only-of-type {\n",
              "        vertical-align: middle;\n",
              "    }\n",
              "\n",
              "    .dataframe tbody tr th {\n",
              "        vertical-align: top;\n",
              "    }\n",
              "\n",
              "    .dataframe thead th {\n",
              "        text-align: right;\n",
              "    }\n",
              "</style>\n",
              "<table border=\"1\" class=\"dataframe\">\n",
              "  <thead>\n",
              "    <tr style=\"text-align: right;\">\n",
              "      <th></th>\n",
              "      <th>Bob</th>\n",
              "      <th>Sue</th>\n",
              "    </tr>\n",
              "  </thead>\n",
              "  <tbody>\n",
              "    <tr>\n",
              "      <th>Product A</th>\n",
              "      <td>I liked it.</td>\n",
              "      <td>Pretty good.</td>\n",
              "    </tr>\n",
              "    <tr>\n",
              "      <th>Product B</th>\n",
              "      <td>It was awful.</td>\n",
              "      <td>Bland.</td>\n",
              "    </tr>\n",
              "  </tbody>\n",
              "</table>\n",
              "</div>"
            ],
            "text/plain": [
              "                     Bob           Sue\n",
              "Product A    I liked it.  Pretty good.\n",
              "Product B  It was awful.        Bland."
            ]
          },
          "metadata": {},
          "execution_count": 4
        }
      ]
    },
    {
      "cell_type": "markdown",
      "metadata": {
        "id": "JFNQ7fPU9386"
      },
      "source": [
        "**Series**\n",
        "\n",
        "A Series, by contrast, is a sequence of data values. If a DataFrame is a table, a Series is a list. And in fact you can create one with nothing more than a list:"
      ]
    },
    {
      "cell_type": "code",
      "metadata": {
        "colab": {
          "base_uri": "https://localhost:8080/"
        },
        "id": "Id0dNooL93ZB",
        "outputId": "4df7938b-b5a4-4dcd-d9bb-c27e2899ac14"
      },
      "source": [
        "pd.Series([1, 2, 3, 4, 5])"
      ],
      "execution_count": null,
      "outputs": [
        {
          "output_type": "execute_result",
          "data": {
            "text/plain": [
              "0    1\n",
              "1    2\n",
              "2    3\n",
              "3    4\n",
              "4    5\n",
              "dtype: int64"
            ]
          },
          "metadata": {},
          "execution_count": 5
        }
      ]
    },
    {
      "cell_type": "markdown",
      "metadata": {
        "id": "bsBVVzjZ-Jm5"
      },
      "source": [
        "A Series is, in essence, a single column of a DataFrame. So you can assign column values to the Series the same way as before, using an ***index:*** parameter. However, a Series does not have a column name, it only has one overall name"
      ]
    },
    {
      "cell_type": "code",
      "metadata": {
        "colab": {
          "base_uri": "https://localhost:8080/"
        },
        "id": "7eIODIrb-Of3",
        "outputId": "82af4f8f-2d39-4b1b-d08b-3d72277fc3fd"
      },
      "source": [
        "pd.Series([30, 35, 40], index=['2015 Sales', '2016 Sales', '2017 Sales'], name='Product A')"
      ],
      "execution_count": null,
      "outputs": [
        {
          "output_type": "execute_result",
          "data": {
            "text/plain": [
              "2015 Sales    30\n",
              "2016 Sales    35\n",
              "2017 Sales    40\n",
              "Name: Product A, dtype: int64"
            ]
          },
          "metadata": {},
          "execution_count": 6
        }
      ]
    },
    {
      "cell_type": "markdown",
      "metadata": {
        "id": "C2_rEktR-VFT"
      },
      "source": [
        "The Series and the **DataFrame** are intimately related. It's helpful to think of a **DataFrame** as actually being just a bunch of Series \"glued together\". We'll see more of this in the next section of this tutorial."
      ]
    },
    {
      "cell_type": "markdown",
      "metadata": {
        "id": "X4UuYjc_-vnv"
      },
      "source": [
        "###Reading data files\n",
        "\n",
        "Being able to create a DataFrame or Series by hand is handy. But, most of the time, we won't actually be creating our own data by hand. Instead, we'll be working with data that already exists.\n",
        "\n",
        "Data can be stored in any of a number of different forms and formats. By far the most basic of these is the humble CSV file. When you open a CSV file you get something that looks like this:\n",
        "\n",
        "\n",
        "\n",
        "\n",
        "```\n",
        "Product A,Product B,Product C,\n",
        "30,21,9,\n",
        "35,34,1,\n",
        "41,11,11\n",
        "```\n",
        "\n",
        "So a CSV file is a table of values separated by commas. Hence the name: \"Comma-Separated Values\", or CSV.\n",
        "\n",
        "Let's now set aside our toy datasets and see what a real dataset looks like when we read it into a DataFrame. We'll use the pd.read_csv() function to read the data into a DataFrame. This goes thusly:\n",
        "\n"
      ]
    },
    {
      "cell_type": "code",
      "metadata": {
        "id": "v1526yTu5fo6"
      },
      "source": [
        "## Download the wine reviews dataset\n",
        "!wget -O winemag-data-130k-v2.csv https://www.dropbox.com/s/kudzdtyel2zg1s8/winemag-data-130k-v2.csv?dl=0"
      ],
      "execution_count": null,
      "outputs": []
    },
    {
      "cell_type": "code",
      "metadata": {
        "id": "8tYLI0Gq2BZF"
      },
      "source": [
        "## Read the data\n",
        "wine_reviews = pd.read_csv(\"winemag-data-130k-v2.csv\")"
      ],
      "execution_count": 3,
      "outputs": []
    },
    {
      "cell_type": "markdown",
      "metadata": {
        "id": "_Hq4sFFX_-2_"
      },
      "source": [
        "We can use the shape attribute to check how large the resulting DataFrame is:"
      ]
    },
    {
      "cell_type": "code",
      "metadata": {
        "colab": {
          "base_uri": "https://localhost:8080/"
        },
        "id": "NpdclJa___b3",
        "outputId": "4b33a441-341c-460f-d8e6-93082d003463"
      },
      "source": [
        "wine_reviews.shape"
      ],
      "execution_count": null,
      "outputs": [
        {
          "output_type": "execute_result",
          "data": {
            "text/plain": [
              "(129971, 14)"
            ]
          },
          "metadata": {},
          "execution_count": 11
        }
      ]
    },
    {
      "cell_type": "markdown",
      "metadata": {
        "id": "rZNDQG3GAORR"
      },
      "source": [
        "We can examine the contents of the resultant DataFrame using the **head()** command, which grabs the first five rows:"
      ]
    },
    {
      "cell_type": "code",
      "metadata": {
        "id": "LyslODOuAPHa"
      },
      "source": [
        "wine_reviews.head()"
      ],
      "execution_count": null,
      "outputs": []
    },
    {
      "cell_type": "markdown",
      "metadata": {
        "id": "qHN7qtr8AZ6k"
      },
      "source": [
        "The `pd.read_csv() `function is well-endowed, with over 30 optional parameters you can specify. For example, you can see in this dataset that the CSV file has a built-in index, which pandas did not pick up on automatically. To make pandas use that column for the index (instead of creating a new one from scratch), we can specify an `index_col`"
      ]
    },
    {
      "cell_type": "code",
      "metadata": {
        "id": "JHdsCmuyAfo8"
      },
      "source": [
        "wine_reviews = pd.read_csv(\"winemag-data-130k-v2.csv\",index_col = 0)\n",
        "wine_reviews.head()"
      ],
      "execution_count": null,
      "outputs": []
    },
    {
      "cell_type": "markdown",
      "metadata": {
        "id": "snJlbw5UBdqH"
      },
      "source": [
        "##Indexing, Selecting & Assigning\n",
        "\n",
        "\n",
        "Selecting specific values of a pandas DataFrame or Series to work on is an implicit step in almost any data operation you'll run, so one of the first things you need to learn in working with data in Python is how to go about selecting the data points relevant to you quickly and effectively."
      ]
    },
    {
      "cell_type": "code",
      "metadata": {
        "id": "MtBEJ3hYB74d"
      },
      "source": [
        "wine_reviews"
      ],
      "execution_count": null,
      "outputs": []
    },
    {
      "cell_type": "markdown",
      "metadata": {
        "id": "hjAzEz4sCL2N"
      },
      "source": [
        "In Python, we can access the property of an object by accessing it as an attribute. A `book` object, for example, might have a `title` property, which we can access by calling **`book.title`**. Columns in a pandas DataFrame work in much the same way.\n",
        "\n",
        "**Hence to access the country property of reviews we can use:**"
      ]
    },
    {
      "cell_type": "code",
      "metadata": {
        "colab": {
          "base_uri": "https://localhost:8080/"
        },
        "id": "7D0VmiYiCWoS",
        "outputId": "1a02fc63-94f5-490e-d0be-b7a16326fe35"
      },
      "source": [
        "wine_reviews.country"
      ],
      "execution_count": null,
      "outputs": [
        {
          "output_type": "execute_result",
          "data": {
            "text/plain": [
              "0            Italy\n",
              "1         Portugal\n",
              "2               US\n",
              "3               US\n",
              "4               US\n",
              "            ...   \n",
              "129966     Germany\n",
              "129967          US\n",
              "129968      France\n",
              "129969      France\n",
              "129970      France\n",
              "Name: country, Length: 129971, dtype: object"
            ]
          },
          "metadata": {},
          "execution_count": 14
        }
      ]
    },
    {
      "cell_type": "code",
      "metadata": {
        "id": "63dBJ6cDCfU0"
      },
      "source": [
        "# We can do the same with columns in a DataFrame:\n",
        "wine_reviews['country']"
      ],
      "execution_count": null,
      "outputs": []
    },
    {
      "cell_type": "code",
      "metadata": {
        "colab": {
          "base_uri": "https://localhost:8080/",
          "height": 35
        },
        "id": "FS8dbI9HCvwg",
        "outputId": "cb1b984b-a827-48ae-a9b5-ecbc9a4f4b8b"
      },
      "source": [
        "wine_reviews['country'][0]"
      ],
      "execution_count": null,
      "outputs": [
        {
          "output_type": "execute_result",
          "data": {
            "application/vnd.google.colaboratory.intrinsic+json": {
              "type": "string"
            },
            "text/plain": [
              "'Italy'"
            ]
          },
          "metadata": {},
          "execution_count": 17
        }
      ]
    },
    {
      "cell_type": "markdown",
      "metadata": {
        "id": "pXJITCYoCx7-"
      },
      "source": [
        "###Indexing in pandas\n",
        "\n",
        "pandas has its own accessor operators, `loc` and `iloc`\n",
        "\n",
        "\n",
        "**Index based selection**\n",
        "\n",
        "The first is index-based selection: selecting data based on its numerical position in the data. `iloc` follows this paradigm.\n",
        "\n",
        "To select the first row of data in a DataFrame, we may use the following:"
      ]
    },
    {
      "cell_type": "code",
      "metadata": {
        "id": "YtFSFGdRC6-X"
      },
      "source": [
        "wine_reviews.iloc[0]"
      ],
      "execution_count": null,
      "outputs": []
    },
    {
      "cell_type": "code",
      "metadata": {
        "colab": {
          "base_uri": "https://localhost:8080/"
        },
        "id": "slyAfdBnDs_a",
        "outputId": "4fc3ae0a-29d1-4aa6-c24e-48230056c0fe"
      },
      "source": [
        "wine_reviews.iloc[:, 0]"
      ],
      "execution_count": null,
      "outputs": [
        {
          "output_type": "execute_result",
          "data": {
            "text/plain": [
              "0            Italy\n",
              "1         Portugal\n",
              "2               US\n",
              "3               US\n",
              "4               US\n",
              "            ...   \n",
              "129966     Germany\n",
              "129967          US\n",
              "129968      France\n",
              "129969      France\n",
              "129970      France\n",
              "Name: country, Length: 129971, dtype: object"
            ]
          },
          "metadata": {},
          "execution_count": 19
        }
      ]
    },
    {
      "cell_type": "code",
      "metadata": {
        "colab": {
          "base_uri": "https://localhost:8080/"
        },
        "id": "VSbZp0tmEEoC",
        "outputId": "b2e9a092-16c8-4f6f-8c29-2583ed93b01b"
      },
      "source": [
        "wine_reviews.iloc[:3, 0]"
      ],
      "execution_count": null,
      "outputs": [
        {
          "output_type": "execute_result",
          "data": {
            "text/plain": [
              "0       Italy\n",
              "1    Portugal\n",
              "2          US\n",
              "Name: country, dtype: object"
            ]
          },
          "metadata": {},
          "execution_count": 22
        }
      ]
    },
    {
      "cell_type": "code",
      "metadata": {
        "colab": {
          "base_uri": "https://localhost:8080/"
        },
        "id": "ijpWwsrXELee",
        "outputId": "f3210720-4fa9-4cde-8fe5-bff350eade37"
      },
      "source": [
        "wine_reviews.iloc[1:3, 0]"
      ],
      "execution_count": null,
      "outputs": [
        {
          "output_type": "execute_result",
          "data": {
            "text/plain": [
              "1    Portugal\n",
              "2          US\n",
              "Name: country, dtype: object"
            ]
          },
          "metadata": {},
          "execution_count": 23
        }
      ]
    },
    {
      "cell_type": "code",
      "metadata": {
        "id": "7sUUFBUjERJ0"
      },
      "source": [
        "# It's also possible to pass a list:\n",
        "\n",
        "wine_reviews.iloc[[0, 1, 2], 0]"
      ],
      "execution_count": null,
      "outputs": []
    },
    {
      "cell_type": "markdown",
      "metadata": {
        "id": "DjTEmCcUEu5B"
      },
      "source": [
        "Finally, it's worth knowing that negative numbers can be used in selection. This will start counting forwards from the end of the values. So for example here are the last five elements of the dataset."
      ]
    },
    {
      "cell_type": "code",
      "metadata": {
        "id": "q67ei23EEv7i"
      },
      "source": [
        "wine_reviews.iloc[-5:]"
      ],
      "execution_count": null,
      "outputs": []
    },
    {
      "cell_type": "markdown",
      "metadata": {
        "id": "js9SsGsYFNwO"
      },
      "source": [
        "**Label-based selection**\n",
        "\n",
        "The second paradigm for attribute selection is the one followed by the **`loc `**operator: label-based selection. In this paradigm, it's the data index value, not its position, which matters.\n",
        "\n",
        "For example, to get the first entry in reviews, we would now do the following:"
      ]
    },
    {
      "cell_type": "code",
      "metadata": {
        "id": "dDLQv9iEFUiD"
      },
      "source": [
        "wine_reviews.loc[0, 'country']"
      ],
      "execution_count": null,
      "outputs": []
    },
    {
      "cell_type": "code",
      "metadata": {
        "id": "1lyAF5rpFaiH"
      },
      "source": [
        "wine_reviews.loc[:, ['taster_name', 'taster_twitter_handle', 'points']]"
      ],
      "execution_count": null,
      "outputs": []
    },
    {
      "cell_type": "markdown",
      "metadata": {
        "id": "YMU3grphhiks"
      },
      "source": [
        "###Conditional selection\n"
      ]
    },
    {
      "cell_type": "markdown",
      "metadata": {
        "id": "rucqj_j9hn-5"
      },
      "source": [
        "So far we've been indexing various strides of data, using structural properties of the DataFrame itself. To do interesting things with the data, however, we often need to ask questions based on conditions.\n",
        "\n",
        "For example, suppose that we're interested specifically in better-than-average wines produced in Italy.\n",
        "\n",
        "We can start by checking if each wine is Italian or not:"
      ]
    },
    {
      "cell_type": "code",
      "metadata": {
        "id": "O4DMNbZWhqtR"
      },
      "source": [
        "wine_reviews.country == 'Italy'"
      ],
      "execution_count": null,
      "outputs": []
    },
    {
      "cell_type": "markdown",
      "metadata": {
        "id": "lj6WYvRch9Jd"
      },
      "source": [
        "This operation produced a Series of `True/False` booleans based on the `country` of each record. This result can then be used inside of `loc` to select the relevant data:"
      ]
    },
    {
      "cell_type": "code",
      "metadata": {
        "id": "BDLgv2PmiERo"
      },
      "source": [
        "wine_reviews.loc[wine_reviews.country == 'Italy']"
      ],
      "execution_count": null,
      "outputs": []
    },
    {
      "cell_type": "markdown",
      "metadata": {
        "id": "NiyQarYLiUHb"
      },
      "source": [
        "This DataFrame has ~20,000 rows. The original had ~130,000. That means that around 15% of wines originate from Italy.\n",
        "\n",
        "We also wanted to know which ones are better than average. Wines are reviewed on a 80-to-100 point scale, so this could mean wines that accrued at least 90 points.\n",
        "\n",
        "We can use the ampersand (&) to bring the two questions together:"
      ]
    },
    {
      "cell_type": "code",
      "metadata": {
        "id": "0US0OrZ8iaoY"
      },
      "source": [
        "wine_reviews.loc[(wine_reviews.country == 'Italy') & (wine_reviews.points >= 90)]"
      ],
      "execution_count": null,
      "outputs": []
    },
    {
      "cell_type": "markdown",
      "metadata": {
        "id": "afrnT0MwinuL"
      },
      "source": [
        "Suppose we'll buy any wine that's made in Italy or which is rated above average. For this we use a pipe `(|)`:"
      ]
    },
    {
      "cell_type": "code",
      "metadata": {
        "id": "JejD4xc3iqem"
      },
      "source": [
        "wine_reviews.loc[(wine_reviews.country == 'Italy') | (wine_reviews.points >= 90)]"
      ],
      "execution_count": null,
      "outputs": []
    },
    {
      "cell_type": "markdown",
      "metadata": {
        "id": "2XFIdJwNi93X"
      },
      "source": [
        "Pandas comes with a few built-in conditional selectors, two of which we will highlight here.\n",
        "\n",
        "The first is **`isin`**. **`isin`** is lets you select data whose value \"is in\" a list of values. For example, here's how we can use it to select wines only from Italy or France:"
      ]
    },
    {
      "cell_type": "code",
      "metadata": {
        "id": "GmoaI9UZjETW"
      },
      "source": [
        "wine_reviews.loc[wine_reviews.country.isin(['Italy', 'France'])]"
      ],
      "execution_count": null,
      "outputs": []
    },
    {
      "cell_type": "markdown",
      "metadata": {
        "id": "28MA3R6GjNxJ"
      },
      "source": [
        "The second is **`isnull`** (and its companion notnull). These methods let you highlight values which are (or are not) empty (NaN). For example, to filter out wines lacking a price tag in the dataset, here's what we would do:"
      ]
    },
    {
      "cell_type": "code",
      "metadata": {
        "id": "K4VJstlxjVGd"
      },
      "source": [
        "wine_reviews.loc[wine_reviews.price.notnull()]"
      ],
      "execution_count": null,
      "outputs": []
    },
    {
      "cell_type": "markdown",
      "metadata": {
        "id": "Tkpn8FzfjfpW"
      },
      "source": [
        "###Assigning data\n",
        "\n",
        "Going the other way, assigning data to a DataFrame is easy. You can assign either a constant value:"
      ]
    },
    {
      "cell_type": "code",
      "metadata": {
        "id": "HuS7PjP4jnha"
      },
      "source": [
        "wine_reviews['critic'] = 'everyone'\n",
        "wine_reviews['critic']"
      ],
      "execution_count": null,
      "outputs": []
    },
    {
      "cell_type": "markdown",
      "metadata": {
        "id": "WfYWqWQfjyxp"
      },
      "source": [
        "#Summary Functions and Maps\n",
        "\n",
        "The data does not always come out of memory in the format we want it in right out of the bat. Sometimes we have to do some more work ourselves to reformat it for the task at hand. This tutorial will cover different operations we can apply to our data to get the input \"just right\"."
      ]
    },
    {
      "cell_type": "markdown",
      "metadata": {
        "id": "RymLVWU0kL_Y"
      },
      "source": [
        "**Summary functions**\n",
        "\n",
        "\n",
        "Pandas provides many simple \"summary functions\" (not an official name) which restructure the data in some useful way. For example, consider the `describe()` method:"
      ]
    },
    {
      "cell_type": "code",
      "metadata": {
        "colab": {
          "base_uri": "https://localhost:8080/"
        },
        "id": "jXTOa1oGj2fr",
        "outputId": "1ffc2af4-8923-4400-8252-3748abc83a43"
      },
      "source": [
        "wine_reviews.points.describe()"
      ],
      "execution_count": 10,
      "outputs": [
        {
          "output_type": "execute_result",
          "data": {
            "text/plain": [
              "count    129971.000000\n",
              "mean         88.447138\n",
              "std           3.039730\n",
              "min          80.000000\n",
              "25%          86.000000\n",
              "50%          88.000000\n",
              "75%          91.000000\n",
              "max         100.000000\n",
              "Name: points, dtype: float64"
            ]
          },
          "metadata": {},
          "execution_count": 10
        }
      ]
    },
    {
      "cell_type": "markdown",
      "metadata": {
        "id": "pw_CmIhUkgK2"
      },
      "source": [
        "This method generates a high-level summary of the attributes of the given column. It is type-aware, meaning that its output changes based on the data type of the input. The output above only makes sense for numerical data; for string data here's what we get:"
      ]
    },
    {
      "cell_type": "code",
      "metadata": {
        "id": "SElmx2p4ki-a"
      },
      "source": [
        "wine_reviews.taster_name.describe()"
      ],
      "execution_count": null,
      "outputs": []
    },
    {
      "cell_type": "markdown",
      "metadata": {
        "id": "eTPFETmfkqRi"
      },
      "source": [
        "If you want to get some particular simple summary statistic about a column in a DataFrame or a Series, there is usually a helpful pandas function that makes it happen.\n",
        "\n",
        "For example, to see the mean of the points allotted (e.g. how well an averagely rated wine does), we can use the **mean()** function:"
      ]
    },
    {
      "cell_type": "code",
      "metadata": {
        "id": "WssMYyxRky5v"
      },
      "source": [
        "wine_reviews.points.mean()"
      ],
      "execution_count": null,
      "outputs": []
    },
    {
      "cell_type": "markdown",
      "metadata": {
        "id": "PwGCkC6vk4NM"
      },
      "source": [
        "To see a list of unique values we can use the **unique()** function:"
      ]
    },
    {
      "cell_type": "code",
      "metadata": {
        "id": "tFKJsiCvk7Eb"
      },
      "source": [
        "wine_reviews.taster_name.unique()"
      ],
      "execution_count": null,
      "outputs": []
    },
    {
      "cell_type": "markdown",
      "metadata": {
        "id": "64IzVxnUk_DH"
      },
      "source": [
        "To see a list of unique values and how often they occur in the dataset, we can use the `value_counts()` method:"
      ]
    },
    {
      "cell_type": "code",
      "metadata": {
        "id": "j6-O-FljlCO3"
      },
      "source": [
        "wine_reviews.taster_name.value_counts()"
      ],
      "execution_count": null,
      "outputs": []
    },
    {
      "cell_type": "markdown",
      "metadata": {
        "id": "6wqWIZLalTOj"
      },
      "source": [
        "**A map is a term**, borrowed from mathematics, for a function that takes one set of values and \"maps\" them to another set of values. In data science we often have a need for creating new representations from existing data, or for transforming data from the format it is in now to the format that we want it to be in later. Maps are what handle this work, making them extremely important for getting your work done!"
      ]
    },
    {
      "cell_type": "markdown",
      "metadata": {
        "id": "do3KfkcSlZ2A"
      },
      "source": [
        "**`apply()`** is the equivalent method if we want to transform a whole DataFrame by calling a custom method on each row.\n",
        "\n",
        "\n",
        "For example, suppose that we wanted to remean the scores the wines received to 0. We can do this as follows:"
      ]
    },
    {
      "cell_type": "code",
      "metadata": {
        "id": "hZ2Xi6eiljCm"
      },
      "source": [
        "review_points_mean = wine_reviews.points.mean()"
      ],
      "execution_count": 13,
      "outputs": []
    },
    {
      "cell_type": "code",
      "metadata": {
        "id": "8I3iqrw2lVLx"
      },
      "source": [
        "def remean_points(row):\n",
        "    row.points = row.points - review_points_mean\n",
        "    return row\n",
        "\n",
        "wine_reviews.apply(remean_points, axis='columns')"
      ],
      "execution_count": null,
      "outputs": []
    },
    {
      "cell_type": "markdown",
      "metadata": {
        "id": "O-JGTXr6mqg9"
      },
      "source": [
        "#Data Types and Missing Values\n",
        "\n",
        "In this part, you'll learn how to investigate data types within a DataFrame or Series. You'll also learn how to find and replace entries."
      ]
    },
    {
      "cell_type": "markdown",
      "metadata": {
        "id": "nB0x5rTUm5dW"
      },
      "source": [
        "###Dtypes\n",
        "The data type for a column in a DataFrame or a Series is known as the **dtype**.\n",
        "\n",
        "You can use the `dtype` property to grab the type of a specific column. For instance, we can get the dtype of the `price` column in the `reviews` DataFrame:"
      ]
    },
    {
      "cell_type": "code",
      "metadata": {
        "id": "uoZ_3UJ5mu0N"
      },
      "source": [
        "wine_reviews.price.dtype"
      ],
      "execution_count": null,
      "outputs": []
    },
    {
      "cell_type": "markdown",
      "metadata": {
        "id": "HEVOs-CxnplO"
      },
      "source": [
        "Alternatively, the **dtypes** property returns the dtype of every column in the DataFrame:"
      ]
    },
    {
      "cell_type": "code",
      "metadata": {
        "id": "M7u0PUTGnr1A"
      },
      "source": [
        "wine_reviews.dtypes"
      ],
      "execution_count": null,
      "outputs": []
    },
    {
      "cell_type": "markdown",
      "metadata": {
        "id": "3RFxhCUgn1Qs"
      },
      "source": [
        "Data types tell us something about how pandas is storing the data internally. float64 means that it's using a 64-bit floating point number; int64 means a similarly sized integer instead, and so on.\n",
        "\n",
        "**One peculiarity to keep in mind (and on display very clearly here) is that columns consisting entirely of strings do not get their own type; they are instead given the object type.**\n",
        "\n",
        "It's possible to convert a column of one type into another wherever such a conversion makes sense by using the astype() function. For example, we may transform the points column from its existing int64 data type into a float64 data type:"
      ]
    },
    {
      "cell_type": "code",
      "metadata": {
        "id": "MOcxh3Lqn4_p"
      },
      "source": [
        "wine_reviews.points.astype('float64')"
      ],
      "execution_count": null,
      "outputs": []
    },
    {
      "cell_type": "markdown",
      "metadata": {
        "id": "ON3zU_LJn-nx"
      },
      "source": [
        "###Missing data\n",
        "\n",
        "Entries missing values are given the value **NaN**, short for \"Not a Number\". For technical reasons these NaN values are always of the float64 dtype.\n",
        "\n",
        "Pandas provides some methods specific to missing data. To select NaN entries you can use `pd.isnull()` (or its companion `pd.notnull()`). This is meant to be used thusly:"
      ]
    },
    {
      "cell_type": "code",
      "metadata": {
        "id": "7V8PO-t3oFi4"
      },
      "source": [
        "wine_reviews[pd.isnull(wine_reviews.country)]"
      ],
      "execution_count": null,
      "outputs": []
    },
    {
      "cell_type": "markdown",
      "metadata": {
        "id": "M2wCtXOJoOZW"
      },
      "source": [
        "Replacing missing values is a common operation. Pandas provides a really handy method for this problem: `fillna()`. `fillna()` provides a few different strategies for mitigating such data. For example, we can simply replace each **NaN** with an **\"Unknown\"**:"
      ]
    },
    {
      "cell_type": "code",
      "metadata": {
        "id": "hg9hkVcgoVEA"
      },
      "source": [
        "wine_reviews.region_2.fillna(\"Unknown\")"
      ],
      "execution_count": null,
      "outputs": []
    },
    {
      "cell_type": "markdown",
      "metadata": {
        "id": "C7g780RiohAx"
      },
      "source": [
        "Or we could fill each missing value with the first non-null value that appears sometime after the given record in the database. **This is known as the backfill strategy**."
      ]
    },
    {
      "cell_type": "markdown",
      "metadata": {
        "id": "CCoDmHk_omlr"
      },
      "source": [
        "Alternatively, we may have a non-null value that we would like to replace. For example, suppose that since this dataset was published, reviewer Kerin O'Keefe has changed her Twitter handle from `@kerinokeefe` to `@kerino`. One way to reflect this in the dataset is using the **`replace()`** method:"
      ]
    },
    {
      "cell_type": "code",
      "metadata": {
        "id": "FNS7lbfHox2S"
      },
      "source": [
        "wine_reviews.taster_twitter_handle.replace(\"@kerinokeefe\", \"@kerino\")"
      ],
      "execution_count": null,
      "outputs": []
    },
    {
      "cell_type": "markdown",
      "metadata": {
        "id": "PhJEN-Xuo8Ts"
      },
      "source": [
        "The **`replace() method`** is worth mentioning here because it's handy for replacing missing data which is given some kind of sentinel value in the dataset: things like \"Unknown\", \"Undisclosed\", \"Invalid\", and so on."
      ]
    },
    {
      "cell_type": "markdown",
      "metadata": {
        "id": "C1avLAd9paha"
      },
      "source": [
        "#Renaming and Combining\n",
        "\n",
        "Oftentimes data will come to us with column names, index names, or other naming conventions that we are not satisfied with. In that case, you'll learn how to use pandas functions to change the names of the offending entries to something better."
      ]
    },
    {
      "cell_type": "markdown",
      "metadata": {
        "id": "6ERQOHfYpmEY"
      },
      "source": [
        "###Renaming\n",
        "The first function we'll introduce here is **`rename()`**, which lets you change index names and/or column names. For example, to change the points column in our dataset to score, we would do:"
      ]
    },
    {
      "cell_type": "code",
      "metadata": {
        "id": "OYE0tn5jo-Hf"
      },
      "source": [
        "wine_reviews.rename(columns={'points': 'score'})"
      ],
      "execution_count": null,
      "outputs": []
    },
    {
      "cell_type": "markdown",
      "metadata": {
        "id": "cM_qX6lNpvoH"
      },
      "source": [
        "**`rename()`** lets you rename index or column values by specifying a **`index`** or **`column`** keyword parameter, respectively."
      ]
    },
    {
      "cell_type": "markdown",
      "metadata": {
        "id": "tDArHF6qp8Js"
      },
      "source": [
        "###Combining\n",
        "When performing operations on a dataset, we will sometimes need to combine different DataFrames and/or Series in non-trivial ways. Pandas has three core methods for doing this. In order of increasing complexity, these are concat(), join(), and merge(). Most of what merge() can do can also be done more simply with join(), so we will omit it and focus on the first two functions here.\n",
        "\n",
        "The simplest combining method is concat(). Given a list of elements, this function will smush those elements together along an axis."
      ]
    },
    {
      "cell_type": "markdown",
      "metadata": {
        "id": "1vJhCpZcsUVP"
      },
      "source": [
        "**This is useful when we have data in different DataFrame or Series objects but having the same fields (columns)**"
      ]
    },
    {
      "cell_type": "code",
      "metadata": {
        "id": "jKhpHhQDsN6P"
      },
      "source": [
        "# Don't Run it\n",
        "\n",
        "canadian_youtube = pd.read_csv(\"../input/youtube-new/CAvideos.csv\")\n",
        "british_youtube = pd.read_csv(\"../input/youtube-new/GBvideos.csv\")\n",
        "\n",
        "pd.concat([canadian_youtube, british_youtube])"
      ],
      "execution_count": null,
      "outputs": []
    },
    {
      "cell_type": "markdown",
      "metadata": {
        "id": "KMyoaDOjs8hF"
      },
      "source": [
        "#Reference\n",
        "\n",
        "\n",
        "1.   https://www.kaggle.com/learn/pandas\n",
        "\n"
      ]
    }
  ]
}