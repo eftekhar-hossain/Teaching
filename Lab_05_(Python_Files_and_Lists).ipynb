{
  "nbformat": 4,
  "nbformat_minor": 0,
  "metadata": {
    "colab": {
      "name": "Lab-05 (Python Files and Lists).ipynb",
      "provenance": [],
      "collapsed_sections": [],
      "authorship_tag": "ABX9TyMVem8HkxwUw+R7m4bYYdr9",
      "include_colab_link": true
    },
    "kernelspec": {
      "name": "python3",
      "display_name": "Python 3"
    },
    "language_info": {
      "name": "python"
    }
  },
  "cells": [
    {
      "cell_type": "markdown",
      "metadata": {
        "id": "view-in-github",
        "colab_type": "text"
      },
      "source": [
        "<a href=\"https://colab.research.google.com/github/eftekhar-hossain/Teaching/blob/main/Lab_05_(Python_Files_and_Lists).ipynb\" target=\"_parent\"><img src=\"https://colab.research.google.com/assets/colab-badge.svg\" alt=\"Open In Colab\"/></a>"
      ]
    },
    {
      "cell_type": "markdown",
      "metadata": {
        "id": "C-BUBBYTWTYU"
      },
      "source": [
        "#ETE-407 Multimedia Communication Sessional\n",
        "\n",
        "Lab-05: **Python Files and Lists**\n",
        "\n",
        "\n",
        "> Objective: \n",
        " 1. *Get familiar with Python Files.*\n",
        " 2. *Get familiar with the Lists and its various operations .*\n"
      ]
    },
    {
      "cell_type": "code",
      "metadata": {
        "id": "ps_MOc1N3JJ0"
      },
      "source": [
        "# download the text file\n",
        "!wget https://www.py4e.com/code3/mbox-short.txt"
      ],
      "execution_count": null,
      "outputs": []
    },
    {
      "cell_type": "markdown",
      "metadata": {
        "id": "QhF4WYk54kYS"
      },
      "source": [
        "#Opening Files\n",
        "\n",
        "When we want to read or write a file (say on your hard drive), we first must\n",
        "open the file."
      ]
    },
    {
      "cell_type": "code",
      "metadata": {
        "id": "-7CCNMcG4mzr",
        "colab": {
          "base_uri": "https://localhost:8080/"
        },
        "outputId": "28330634-07bc-4486-a51a-7be0814e433c"
      },
      "source": [
        "fhand = open('mbox-short.txt')\n",
        "print(fhand)"
      ],
      "execution_count": null,
      "outputs": [
        {
          "output_type": "stream",
          "name": "stdout",
          "text": [
            "<_io.TextIOWrapper name='mbox-short.txt' mode='r' encoding='UTF-8'>\n"
          ]
        }
      ]
    },
    {
      "cell_type": "markdown",
      "metadata": {
        "id": "zIPs_O7y5LaX"
      },
      "source": [
        "If the open is successful, the operating system returns us a ***file handle***. The ***file handle*** is not the actual data contained in the file, but instead it is a “handle” that we can use to read the data. You are given a handle if the requested file exists and you have the proper permissions to read the file."
      ]
    },
    {
      "cell_type": "markdown",
      "metadata": {
        "id": "dTX_t5aC58Pl"
      },
      "source": [
        "#Text files and lines\n",
        "\n",
        "A text file can be thought of as a **sequence of lines**, much like a Python string can be thought of as a **sequence of characters**. For example, this is a sample of a text file which records mail activity from various individuals in an open source project development team:\n",
        "```\n",
        "From stephen.marquard@uct.ac.za Sat Jan 5 09:14:16 2008\n",
        "Return-Path: <postmaster@collab.sakaiproject.org>\n",
        "Date: Sat, 5 Jan 2008 09:12:18 -0500\n",
        "To: source@collab.sakaiproject.org\n",
        "From: stephen.marquard@uct.ac.za\n",
        "Subject: [sakai] svn commit: r39772 - content/branches/\n",
        "Details: http://source.sakaiproject.org/viewsvn/?view=rev&rev=39772\n",
        "```\n",
        "\n",
        "\n",
        "These files are in a standard format for a file containing multiple mail messages. The lines which start with **“From”** separate the messages and the lines which start with **“From:”** are part of the messages.\n",
        "\n",
        "To break the file into lines, there is a special character that represents the **“end of the line”** called the newline character.\n"
      ]
    },
    {
      "cell_type": "code",
      "metadata": {
        "id": "7qtTbOmG5YYQ",
        "colab": {
          "base_uri": "https://localhost:8080/"
        },
        "outputId": "46b86c86-f865-4cb6-8162-dd5248d79fe1"
      },
      "source": [
        "stuff = 'Hello\\nWorld!'\n",
        "#stuff\n",
        "\n",
        "\n",
        "print(stuff)\n"
      ],
      "execution_count": null,
      "outputs": [
        {
          "output_type": "stream",
          "name": "stdout",
          "text": [
            "Hello\n",
            "World!\n"
          ]
        }
      ]
    },
    {
      "cell_type": "code",
      "metadata": {
        "id": "-RH2I1Zp7vwW"
      },
      "source": [
        "stuff = 'X\\nY'\n",
        "print(stuff)\n",
        "len(stuff)"
      ],
      "execution_count": null,
      "outputs": []
    },
    {
      "cell_type": "markdown",
      "metadata": {
        "id": "hEqxkzBR7UM2"
      },
      "source": [
        "When we look at the variable by entering **“stuff”** in the interpreter, it shows us the `\\n` in the string, but when we use print to show the string, we see the string broken into two lines by the newline character. You can also see that the length of the string **X\\nY** is three characters because the newline character is a single character.\n",
        "\n",
        "**So when we look at the lines in a file, we need to `imagine` that there is a special invisible character called the` newline` at the end of each line that marks the end of the line. So the `newline` character separates the characters in the file into lines**."
      ]
    },
    {
      "cell_type": "markdown",
      "metadata": {
        "id": "uV8D8RRG8lHq"
      },
      "source": [
        "#Reading Files"
      ]
    },
    {
      "cell_type": "code",
      "metadata": {
        "id": "-YXhKohjxm1-"
      },
      "source": [
        "fhand = open('mbox-short.txt')\n",
        "\n",
        "for line in fhand:\n",
        "  print(line)"
      ],
      "execution_count": null,
      "outputs": []
    },
    {
      "cell_type": "code",
      "metadata": {
        "id": "1mwpAjtA8ivG",
        "colab": {
          "base_uri": "https://localhost:8080/"
        },
        "outputId": "6f46f1b8-b364-4689-d7a4-0e485a12668e"
      },
      "source": [
        "fhand = open('mbox-short.txt')\n",
        "count = 0\n",
        "for line in fhand:\n",
        "  count = count + 1\n",
        "print('Line Count:', count)"
      ],
      "execution_count": null,
      "outputs": [
        {
          "output_type": "stream",
          "name": "stdout",
          "text": [
            "Line Count: 1910\n"
          ]
        }
      ]
    },
    {
      "cell_type": "code",
      "metadata": {
        "id": "D5gJ6itJ9K1a"
      },
      "source": [
        "# read method convert whole text file into a string\n",
        "\n",
        "fhand = open('mbox-short.txt')\n",
        "inp = fhand.read()\n",
        "print(len(inp))\n",
        "\n",
        "inp"
      ],
      "execution_count": null,
      "outputs": []
    },
    {
      "cell_type": "markdown",
      "metadata": {
        "id": "4qkt8XDW-Qzv"
      },
      "source": [
        "#Searching through a file\n",
        "\n",
        "When you are searching through data in a file, it is a very common pattern to read through a file, ignoring most of the lines and only processing lines which meet a particular condition. We can combine the pattern for reading a file with string methods to build simple search mechanisms.\n",
        "\n",
        "For example, if we wanted to read a file and only print out lines which started with the prefix ***“From:”***, we could use the string method startswith to select only those lines with the desired prefix:"
      ]
    },
    {
      "cell_type": "code",
      "metadata": {
        "id": "hauePRRl-VE6"
      },
      "source": [
        "fhand = open('mbox-short.txt')\n",
        "count = 0\n",
        "for line in fhand:\n",
        "  if line.startswith('From:'):\n",
        "    count = count+1\n",
        "    print(line)\n",
        "print(count)    "
      ],
      "execution_count": null,
      "outputs": []
    },
    {
      "cell_type": "code",
      "metadata": {
        "id": "QPYYyhYGzlAh"
      },
      "source": [
        "# strip\n",
        "#lstrip\n",
        "#rstrip"
      ],
      "execution_count": null,
      "outputs": []
    },
    {
      "cell_type": "markdown",
      "metadata": {
        "id": "tZNRe7hT-3Xc"
      },
      "source": [
        "The output looks great since the only lines we are seeing are those which start with “From:”, but why are we seeing the extra blank lines? This is due to that invisible newline character. Each of the lines ends with a newline, so the print statement prints the string in the variable line which includes a newline and then print adds another newline, resulting in the double spacing effect we see."
      ]
    },
    {
      "cell_type": "code",
      "metadata": {
        "id": "n9abArsT_BcS"
      },
      "source": [
        "fhand = open('mbox-short.txt')\n",
        "for line in fhand:\n",
        "  line = line.rstrip()\n",
        "  if line.startswith('From:'):\n",
        "    print(line)"
      ],
      "execution_count": null,
      "outputs": []
    },
    {
      "cell_type": "markdown",
      "metadata": {
        "id": "O1vP78DZ_lDJ"
      },
      "source": [
        "We can structure the loop to follow the pattern of skipping uninteresting lines as follows:"
      ]
    },
    {
      "cell_type": "code",
      "metadata": {
        "id": "Fyu5t4RA_nR7"
      },
      "source": [
        "fhand = open('mbox-short.txt')\n",
        "for line in fhand:\n",
        "  line = line.rstrip()\n",
        "  # Skip 'uninteresting lines'\n",
        "  if not line.startswith('From:'):\n",
        "    continue\n",
        "  # Process our 'interesting' line\n",
        "  print(line)"
      ],
      "execution_count": null,
      "outputs": []
    },
    {
      "cell_type": "markdown",
      "metadata": {
        "id": "vpCk68T1CQv2"
      },
      "source": [
        "We can use the `find` string method to simulate a text editor search that finds lines where the search string is anywhere in the line. Since `find` looks for an occurrence of a string within another string and either returns the position of the string or -1 if the string was not found, we can write the following loop to show lines which contain the string **“@uct.ac.za”** (i.e., they come from the University of Cape Town in South Africa):"
      ]
    },
    {
      "cell_type": "code",
      "metadata": {
        "id": "dA81PYi1Cqns"
      },
      "source": [
        "fhand = open('mbox-short.txt')\n",
        "for line in fhand:\n",
        "  line = line.rstrip()\n",
        "  if line.find('@uct.ac.za') == -1: \n",
        "    continue\n",
        "  print(line)"
      ],
      "execution_count": null,
      "outputs": []
    },
    {
      "cell_type": "markdown",
      "metadata": {
        "id": "UWBVpsvkMuvJ"
      },
      "source": [
        "#Lists\n",
        "\n",
        "Like a string, a list is a sequence of values. In a string, the values are characters; in a list, they can be any type. The values in list are called elements or sometimes items."
      ]
    },
    {
      "cell_type": "code",
      "metadata": {
        "id": "hm_W7_rNMwNb"
      },
      "source": [
        "a = [10, 20, 30, 40]\n",
        "b = ['crunchy frog', 'ram bladder', 'lark vomit']"
      ],
      "execution_count": null,
      "outputs": []
    },
    {
      "cell_type": "markdown",
      "metadata": {
        "id": "AFSI1-4dNLGR"
      },
      "source": [
        "The elements of a list don’t have to be the same type. The following list contains a string, a float, an integer, and (lo!) another list:"
      ]
    },
    {
      "cell_type": "code",
      "metadata": {
        "id": "ZAr-7Zs8NO6K"
      },
      "source": [
        "c = ['spam', 2.0, 5, [10, 20]]"
      ],
      "execution_count": null,
      "outputs": []
    },
    {
      "cell_type": "code",
      "metadata": {
        "id": "HcxXKDyE272B"
      },
      "source": [
        "for i in c:\n",
        "  print (i)"
      ],
      "execution_count": null,
      "outputs": []
    },
    {
      "cell_type": "markdown",
      "metadata": {
        "id": "gRb2kcoANTft"
      },
      "source": [
        "A list within another list is nested.\n",
        "A list that contains no elements is called an empty list; you can create one with empty brackets, **`[]`**"
      ]
    },
    {
      "cell_type": "code",
      "metadata": {
        "id": "VnhSwEsgNaRK"
      },
      "source": [
        "cheeses = ['Cheddar', 'Edam', 'Gouda']\n",
        "numbers = [17, 123]\n",
        "empty = []\n",
        "print(cheeses, numbers, empty)"
      ],
      "execution_count": null,
      "outputs": []
    },
    {
      "cell_type": "markdown",
      "metadata": {
        "id": "60jydMaHNnl7"
      },
      "source": [
        "##Lists are mutable"
      ]
    },
    {
      "cell_type": "code",
      "metadata": {
        "id": "bnwaQqlJNtlF",
        "colab": {
          "base_uri": "https://localhost:8080/"
        },
        "outputId": "5f701b3e-f83d-41c0-c3c3-9b9ae2ce644a"
      },
      "source": [
        "numbers = [17, 123]\n",
        "numbers[1] = 5\n",
        "print(numbers)"
      ],
      "execution_count": null,
      "outputs": [
        {
          "output_type": "stream",
          "name": "stdout",
          "text": [
            "[17, 5]\n"
          ]
        }
      ]
    },
    {
      "cell_type": "code",
      "metadata": {
        "colab": {
          "base_uri": "https://localhost:8080/"
        },
        "id": "1OAltYJtNz_O",
        "outputId": "21b475e5-b5c7-4e32-96fe-201cd696b741"
      },
      "source": [
        "cheeses = ['Cheddar', 'Edam', 'Gouda']\n",
        "'Edam' in cheeses\n",
        "'Brie' in cheeses"
      ],
      "execution_count": null,
      "outputs": [
        {
          "output_type": "execute_result",
          "data": {
            "text/plain": [
              "False"
            ]
          },
          "metadata": {},
          "execution_count": 32
        }
      ]
    },
    {
      "cell_type": "markdown",
      "metadata": {
        "id": "i8QquZ9pOLVb"
      },
      "source": [
        "##Traversing a list"
      ]
    },
    {
      "cell_type": "markdown",
      "metadata": {
        "id": "htDm3EsDO3jP"
      },
      "source": [
        "The most common way to traverse the elements of a list is with a for loop. The\n",
        "syntax is the same as for strings:"
      ]
    },
    {
      "cell_type": "code",
      "metadata": {
        "id": "QNM_3hksOM70"
      },
      "source": [
        "for cheese in cheeses:\n",
        "  print(cheese)"
      ],
      "execution_count": null,
      "outputs": []
    },
    {
      "cell_type": "markdown",
      "metadata": {
        "id": "IPOZ9V_EPGSg"
      },
      "source": [
        "This works well if you only need to read the elements of the list. But if you want to write or update the elements, you need the indices. A common way to do that is to combine the functions range and len:"
      ]
    },
    {
      "cell_type": "code",
      "metadata": {
        "id": "2H77sqrZPKA6",
        "colab": {
          "base_uri": "https://localhost:8080/"
        },
        "outputId": "fe960715-351c-4413-e321-9a2dc1adbe6f"
      },
      "source": [
        "for i in range(len(numbers)):\n",
        "  numbers[i] = numbers[i] * 2\n",
        " \n",
        "print(numbers)"
      ],
      "execution_count": null,
      "outputs": [
        {
          "output_type": "stream",
          "name": "stdout",
          "text": [
            "[34, 10]\n"
          ]
        }
      ]
    },
    {
      "cell_type": "markdown",
      "metadata": {
        "id": "JNT_3YtfPhYK"
      },
      "source": [
        "##List operations"
      ]
    },
    {
      "cell_type": "code",
      "metadata": {
        "id": "qqCJPxi0Pisf",
        "colab": {
          "base_uri": "https://localhost:8080/"
        },
        "outputId": "9bbbe0a4-681c-48b7-abc9-eb04d7dca05a"
      },
      "source": [
        "# The + operator concatenates lists:\n",
        "\n",
        "a = [1, 2, 3]\n",
        "b = [4, 5, 6]\n",
        "c = a + b\n",
        "print(c)"
      ],
      "execution_count": null,
      "outputs": [
        {
          "output_type": "stream",
          "name": "stdout",
          "text": [
            "[1, 2, 3, 4, 5, 6]\n"
          ]
        }
      ]
    },
    {
      "cell_type": "code",
      "metadata": {
        "id": "7LSjhdqyPtCU"
      },
      "source": [
        "# Similarly, the * operator repeats a list a given number of times:\n",
        "\n",
        "a = [0] * 4\n",
        "\n",
        "b = [1, 2, 3] * 3\n",
        "\n",
        "print(a)\n",
        "print(b)"
      ],
      "execution_count": null,
      "outputs": []
    },
    {
      "cell_type": "markdown",
      "metadata": {
        "id": "NGbJ7-F8QDLK"
      },
      "source": [
        "##List slices"
      ]
    },
    {
      "cell_type": "code",
      "metadata": {
        "id": "MEL6JaiVQGrS"
      },
      "source": [
        "t = ['a', 'b', 'c', 'd', 'e', 'f']\n",
        "t[1:3]\n",
        "t[:4]\n",
        "t[3:]"
      ],
      "execution_count": null,
      "outputs": []
    },
    {
      "cell_type": "markdown",
      "metadata": {
        "id": "OXwp_Z2ZQR9h"
      },
      "source": [
        "**If you omit the first index, the slice starts at the beginning. If you omit the second, the slice goes to the end. So if you omit both, the slice is a copy of the whole list.**"
      ]
    },
    {
      "cell_type": "code",
      "metadata": {
        "id": "vrVLGebbQUzN"
      },
      "source": [
        "t[:]"
      ],
      "execution_count": null,
      "outputs": []
    },
    {
      "cell_type": "code",
      "metadata": {
        "id": "lVbyhXfERPVz"
      },
      "source": [
        "t = ['a', 'b', 'c', 'd', 'e', 'f']\n",
        "t[1:3] = ['x', 'y']\n",
        "print(t)"
      ],
      "execution_count": null,
      "outputs": []
    },
    {
      "cell_type": "markdown",
      "metadata": {
        "id": "DPPjLaXrRcRS"
      },
      "source": [
        "##List methods"
      ]
    },
    {
      "cell_type": "code",
      "metadata": {
        "id": "TsRLrK8KRdlT"
      },
      "source": [
        "# Python provides methods that operate on lists. For example, append adds a new\n",
        "# element to the end of a list:\n",
        "\n",
        "t = list()\n",
        "\n",
        "t = ['a', 'b', 'c']\n",
        "t.append('d')\n",
        "print(t)"
      ],
      "execution_count": null,
      "outputs": []
    },
    {
      "cell_type": "code",
      "metadata": {
        "id": "R1MGsEZ9RqHr",
        "colab": {
          "base_uri": "https://localhost:8080/"
        },
        "outputId": "b880ff37-0c90-493d-ec40-9f3718add5c0"
      },
      "source": [
        "#extend takes a list as an argument and appends all of the elements:\n",
        "\n",
        "t1 = ['a', 'b', 'c']\n",
        "t2 = ['d', 'e']\n",
        "t1.extend(t2)\n",
        "print(t1)"
      ],
      "execution_count": null,
      "outputs": [
        {
          "output_type": "stream",
          "name": "stdout",
          "text": [
            "['a', 'b', 'c', 'd', 'e']\n"
          ]
        }
      ]
    },
    {
      "cell_type": "code",
      "metadata": {
        "id": "hNYaCDmhSWXy"
      },
      "source": [
        "#sort arranges the elements of the list from low to high\n",
        "t = ['d', 'c', 'e', 'b', 'a']\n",
        "t.sort()\n",
        "print(t)"
      ],
      "execution_count": null,
      "outputs": []
    },
    {
      "cell_type": "markdown",
      "metadata": {
        "id": "j3LaHVvcSs2x"
      },
      "source": [
        "## Deleting elements"
      ]
    },
    {
      "cell_type": "code",
      "metadata": {
        "id": "_HaZIIFTSuhp",
        "colab": {
          "base_uri": "https://localhost:8080/"
        },
        "outputId": "5c28aac7-afaa-4068-e91b-39511ff0b213"
      },
      "source": [
        "#There are several ways to delete elements from a list. If you know the index of the\n",
        "#element you want, you can use pop:\n",
        "t = ['a', 'b', 'c']\n",
        "x = t.pop(1)\n",
        "print(t)"
      ],
      "execution_count": null,
      "outputs": [
        {
          "output_type": "stream",
          "name": "stdout",
          "text": [
            "['a', 'c']\n"
          ]
        }
      ]
    },
    {
      "cell_type": "markdown",
      "metadata": {
        "id": "oHM8ajO5S7RS"
      },
      "source": [
        "pop modifies the list and returns the element that was removed. If you don’t\n",
        "provide an index, it deletes and returns the last element."
      ]
    },
    {
      "cell_type": "code",
      "metadata": {
        "id": "xvj7TVgaS_by"
      },
      "source": [
        "# If you don’t need the removed value, you can use the del operator:\n",
        "t = ['a', 'b', 'c']\n",
        "del t[1]\n",
        "print(t)"
      ],
      "execution_count": null,
      "outputs": []
    },
    {
      "cell_type": "code",
      "metadata": {
        "id": "8IKHnuOvTIsy"
      },
      "source": [
        "# If you know the element you want to remove (but not the index), you can use\n",
        "# remove:\n",
        "t = ['a', 'b', 'c']\n",
        "t.remove('b')\n",
        "print(t)\n",
        "\n",
        "# The return value from remove is None."
      ],
      "execution_count": null,
      "outputs": []
    },
    {
      "cell_type": "code",
      "metadata": {
        "id": "Ym9dbrL9TUb0"
      },
      "source": [
        "# To remove more than one element, you can use del with a slice index\n",
        "\n",
        "t = ['a', 'b', 'c', 'd', 'e', 'f']\n",
        "del t[1:5]\n",
        "print(t)"
      ],
      "execution_count": null,
      "outputs": []
    },
    {
      "cell_type": "markdown",
      "metadata": {
        "id": "UzOvsfIlT6pD"
      },
      "source": [
        "##Lists and functions\n",
        "\n",
        "There are a number of built-in functions that can be used on lists that allow you to quickly look through a list without writing your own loops:"
      ]
    },
    {
      "cell_type": "code",
      "metadata": {
        "id": "KWwjZoF3T7x2"
      },
      "source": [
        "nums = [3, 41, 12, 9, 74, 15]\n",
        "print(len(nums))\n",
        "print(max(nums))\n",
        "print(min(nums))\n",
        "print(sum(nums))\n",
        "print(sum(nums)/len(nums))"
      ],
      "execution_count": null,
      "outputs": []
    },
    {
      "cell_type": "code",
      "metadata": {
        "id": "MNaW1zEUUUF-"
      },
      "source": [
        "# We could rewrite an earlier program that computed the average of a list of numbers\n",
        "# entered by the user using a list.\n",
        "# First, the program to compute an average without a list:\n",
        "\n",
        "total = 0\n",
        "count = 0\n",
        "while True:\n",
        "  inp = input('Enter a number: ')\n",
        "  if inp == 'done': \n",
        "    break\n",
        "  value = float(inp)\n",
        "  total = total + value\n",
        "  count = count + 1\n",
        "\n",
        "average = total / count\n",
        "print('Average:', average)"
      ],
      "execution_count": null,
      "outputs": []
    },
    {
      "cell_type": "markdown",
      "metadata": {
        "id": "38OSK8GIUo1d"
      },
      "source": [
        "In this program, we have count and total variables to keep the number and\n",
        "running total of the user’s numbers as we repeatedly prompt the user for a number.\n",
        "We could simply remember each number as the user entered it and use built-in\n",
        "functions to compute the sum and count at the end."
      ]
    },
    {
      "cell_type": "code",
      "metadata": {
        "id": "BQAhFsE7Uw2O"
      },
      "source": [
        "numlist = list()\n",
        "while True:\n",
        "  inp = input('Enter a number: ')\n",
        "  if inp == 'done': \n",
        "    break\n",
        "  value = float(inp)\n",
        "  numlist.append(value)\n",
        "\n",
        "average = sum(numlist) / len(numlist)\n",
        "print('Average:', average)"
      ],
      "execution_count": null,
      "outputs": []
    },
    {
      "cell_type": "code",
      "metadata": {
        "colab": {
          "base_uri": "https://localhost:8080/"
        },
        "id": "7Y7KztGh66KN",
        "outputId": "27cf722a-4820-4ac2-ed40-6d4388682e31"
      },
      "source": [
        "numlist"
      ],
      "execution_count": null,
      "outputs": [
        {
          "output_type": "execute_result",
          "data": {
            "text/plain": [
              "[2.0, 5.0, 7.0]"
            ]
          },
          "metadata": {},
          "execution_count": 51
        }
      ]
    },
    {
      "cell_type": "markdown",
      "metadata": {
        "id": "R4lFgFg4U-Se"
      },
      "source": [
        "We make an empty list before the loop starts, and then each time we have a number, we append it to the list. At the end of the program, we simply compute the sum of the numbers in the list and divide it by the count of the numbers in the list to come up with the average."
      ]
    },
    {
      "cell_type": "markdown",
      "metadata": {
        "id": "TH-XVbz8VHXD"
      },
      "source": [
        "##Lists and strings"
      ]
    },
    {
      "cell_type": "markdown",
      "metadata": {
        "id": "3ut15U5pVLgi"
      },
      "source": [
        "A string is a sequence of characters and a list is a sequence of values, but a list\n",
        "of characters is not the same as a string. To convert from a string to a list of\n",
        "characters, you can use list:"
      ]
    },
    {
      "cell_type": "code",
      "metadata": {
        "id": "IF6yvo_2VOge",
        "colab": {
          "base_uri": "https://localhost:8080/"
        },
        "outputId": "0bef69d2-8012-4ebb-c4a5-46d202677f1e"
      },
      "source": [
        "s = 'spam'\n",
        "t = list(s)\n",
        "print(t)"
      ],
      "execution_count": null,
      "outputs": [
        {
          "output_type": "stream",
          "name": "stdout",
          "text": [
            "['s', 'p', 'a', 'm']\n"
          ]
        }
      ]
    },
    {
      "cell_type": "markdown",
      "metadata": {
        "id": "17HnsqaOVXQK"
      },
      "source": [
        "The list function breaks a string into individual letters. If you want to break a string into words, you can use the **`split method`**"
      ]
    },
    {
      "cell_type": "code",
      "metadata": {
        "id": "488S6jMDVblY"
      },
      "source": [
        "s = 'pining for the fjords'\n",
        "t = s.split()\n",
        "print(t)\n",
        "print(t[2])"
      ],
      "execution_count": null,
      "outputs": []
    },
    {
      "cell_type": "markdown",
      "metadata": {
        "id": "88XXbwpPVitT"
      },
      "source": [
        "You can call **`split`** with an optional argument called a delimiter that specifies which characters to use as word boundaries. The following example uses a hyphen as a delimiter:"
      ]
    },
    {
      "cell_type": "code",
      "metadata": {
        "id": "MDS_T2qCVrWv",
        "colab": {
          "base_uri": "https://localhost:8080/"
        },
        "outputId": "0d5da4df-683c-4af7-c34e-a4ad13b56d73"
      },
      "source": [
        "s = 'spam-spam-spam'\n",
        "delimiter = '-'\n",
        "s.split(delimiter)"
      ],
      "execution_count": null,
      "outputs": [
        {
          "output_type": "execute_result",
          "data": {
            "text/plain": [
              "['spam', 'spam', 'spam']"
            ]
          },
          "metadata": {},
          "execution_count": 54
        }
      ]
    },
    {
      "cell_type": "markdown",
      "metadata": {
        "id": "jz2X_78HVvax"
      },
      "source": [
        "**`join`** is the inverse of split. It takes a list of strings and concatenates the elements. join is a string method, so you have to invoke it on the delimiter and pass the list as a parameter:"
      ]
    },
    {
      "cell_type": "code",
      "metadata": {
        "id": "F7fkGGoOV0np"
      },
      "source": [
        "t = ['pining', 'for', 'the', 'fjords']\n",
        "delimiter = ' '\n",
        "delimiter.join(t)"
      ],
      "execution_count": null,
      "outputs": []
    },
    {
      "cell_type": "markdown",
      "metadata": {
        "id": "X80MGPVvWBvk"
      },
      "source": [
        "## Parsing lines\n",
        "\n",
        "Usually when we are reading a file we want to do something to the lines other than just printing the whole line. Often we want to find the “interesting lines” and then parse the line to find some interesting part of the line. What if we wanted to print out the day of the week from those lines that start with “From”?\n",
        "```\n",
        "From stephen.marquard@uct.ac.za Sat Jan 5 09:14:16 2008\n",
        "```\n",
        "\n",
        "The split method is very effective when faced with this kind of problem. We can\n",
        "write a small program that looks for lines where the line starts with “From”, **`split`** those lines, and then print out the third word in the line:"
      ]
    },
    {
      "cell_type": "code",
      "metadata": {
        "id": "2JgUR80jWUXI"
      },
      "source": [
        "fhand = open('mbox-short.txt')\n",
        "for line in fhand:\n",
        "  line = line.rstrip()\n",
        "  if line.startswith('From '): \n",
        "    words = line.split()\n",
        "    print(words[2])"
      ],
      "execution_count": null,
      "outputs": []
    },
    {
      "cell_type": "code",
      "metadata": {
        "id": "XrvUzLit9MyX"
      },
      "source": [
        "#### Append into list\n",
        "\n",
        "week_day = list()\n",
        "\n",
        "fhand = open('mbox-short.txt')\n",
        "for line in fhand:\n",
        "  line = line.rstrip()\n",
        "  if line.startswith('From '): \n",
        "    words = line.split()\n",
        "    week_day.append(words[2])\n",
        "\n",
        "week_day    "
      ],
      "execution_count": null,
      "outputs": []
    },
    {
      "cell_type": "markdown",
      "metadata": {
        "id": "thgufqabF0gp"
      },
      "source": [
        "#Practice Excercises\n",
        "1. Write a program to read through a file and print the contents\n",
        "of the file (line by line) all in upper case. Executing the program will\n",
        "look as follows: (mbox-data)\n",
        "```\n",
        "Enter a file name: mbox-short.txt\n",
        "FROM STEPHEN.MARQUARD@UCT.AC.ZA SAT JAN 5 09:14:16 2008\n",
        "RETURN-PATH: <POSTMASTER@COLLAB.SAKAIPROJECT.ORG>\n",
        "RECEIVED: FROM MURDER (MAIL.UMICH.EDU [141.211.14.90])\n",
        "BY FRANKENSTEIN.MAIL.UMICH.EDU (CYRUS V2.3.8) WITH LMTPA;\n",
        "SAT, 05 JAN 2008 09:14:16 -0500\n",
        "```\n",
        "\n",
        "2. Write a program to prompt for a file name, and then read\n",
        "through the file and look for lines of the form: \n",
        "  ```\n",
        "  X-DSPAM-Confidence: 0.8475\n",
        "```\n",
        "When you encounter a line that starts with “X-DSPAM-Confidence:”\n",
        "pull apart the line to extract the floating-point number on the line.\n",
        "Count these lines and then compute the total of the spam confidence \n",
        "values from these lines. When you reach the end of the file, print out\n",
        "the average spam confidence. (mbox data)\n",
        "\n",
        "3. **Find all unique words in a file.** Shakespeare used over 20,000 words in his works. But how would you\n",
        "determine that? How would you produce the list of all the words that\n",
        "Shakespeare used? Would you download all his work, read it and track\n",
        "all unique words by hand?\n",
        "Let’s use Python to achieve that instead. List all unique words, sorted\n",
        "in alphabetical order, that are stored in a file romeo.txt containing a\n",
        "subset of Shakespeare’s work. To get started, download a copy of the file(https://www.py4e.com/code3/romeo.txt).\n",
        "Create a list of unique words, which will contain the final result. Write\n",
        "a program to open the file romeo.txt and read it line by line. For each\n",
        "line, split the line into a list of words using the split function. For\n",
        "each word, check to see if the word is already in the list of unique\n",
        "words. If the word is not in the list of unique words, add it to the list.\n",
        "When the program completes, sort and print the list of unique words\n",
        "in alphabetical order.\n",
        "\n",
        "  ```\n",
        "  Enter file: romeo.txt\n",
        "  ['Arise', 'But', 'It', 'Juliet', 'Who', 'already',\n",
        "  'and', 'breaks', 'east', 'envious', 'fair', 'grief',\n",
        "  'is', 'kill', 'light', 'moon', 'pale', 'sick', 'soft',\n",
        "  'sun', 'the', 'through', 'what', 'window',\n",
        "  'with', 'yonder']\n",
        "\n",
        "  ```\n",
        "\n",
        "4. **Remove the following stopwords** from the romeo.txt file and then find the list of unique words.\n",
        "```\n",
        "stp = [\"But\",'is','the','with','and']  \n",
        "```\n",
        "Output:\n",
        "  ```\n",
        "  soft what light through yonder window breaks\n",
        "  It east Juliet sun\n",
        "  Arise fair sun kill envious moon\n",
        "  Who already sick pale grief\n",
        "```\n",
        "\n",
        "5. **Minimalist Email Client.**\n",
        "MBOX (mail box) is a popular file format to store and share a collection\n",
        "of emails. This was used by early email servers and desktop apps.\n",
        "Without getting into too many details, MBOX is a text file, which\n",
        "stores emails consecutively. Emails are separated by a special line which\n",
        "starts with From (notice the space). Importantly, lines starting with\n",
        "From: (notice the colon) describes the email itself and does not act as\n",
        "a separator. Imagine you wrote a minimalist email app, that lists the\n",
        "email of the senders in the user’s Inbox and counts the number of emails.\n",
        "Write a program to read through the mail box data and when you find\n",
        "line that starts with “From”, you will split the line into words using the\n",
        "split function. We are interested in who sent the message, which is the\n",
        "second word on the From line. (mbox-data)\n",
        "```\n",
        "From stephen.marquard@uct.ac.za Sat Jan 5 09:14:16 2008\n",
        "```\n",
        "You will parse the From line and print out the second word for each\n",
        "From line, then you will also count the number of From (not From:)\n",
        "lines and print out a count at the end. This is a good sample output\n",
        "with a few lines removed:\n",
        "\n",
        "  ```\n",
        "  Enter a file name: mbox-short.txt\n",
        "  stephen.marquard@uct.ac.za\n",
        "  louis@media.berkeley.edu\n",
        "  zqian@umich.edu\n",
        "  [...some output removed...]\n",
        "  ray@media.berkeley.edu\n",
        "  cwen@iupui.edu\n",
        "  cwen@iupui.edu\n",
        "  cwen@iupui.edu\n",
        "  There were 27 lines in the file with From as the first word\n",
        "  ```\n",
        "\n",
        "6. Rewrite the program that prompts the user for a list of\n",
        "numbers and prints out the maximum and minimum of the numbers at the end when the user enters “done”. Write the program to store the\n",
        "numbers the user enters in a list and use the max() and min() functions to\n",
        "compute the maximum and minimum numbers after the loop completes.\n",
        "\n",
        "  ```\n",
        "  Enter a number: 6\n",
        "  Enter a number: 2\n",
        "  Enter a number: 9\n",
        "  Enter a number: 3\n",
        "  Enter a number: 5\n",
        "  Enter a number: done\n",
        "  Maximum: 9.0\n",
        "  Minimum: 2.0\n",
        "\n",
        "  ```"
      ]
    },
    {
      "cell_type": "markdown",
      "metadata": {
        "id": "8S2gXlr9-CqC"
      },
      "source": [
        "#References:\n",
        "1. [Programiz.com](https://www.programiz.com/python-programming/operators)\n",
        "2. [Python for Everybody-Coursera](https://www.coursera.org/learn/python)"
      ]
    }
  ]
}