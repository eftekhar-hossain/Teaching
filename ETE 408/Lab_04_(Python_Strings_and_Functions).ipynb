{
  "nbformat": 4,
  "nbformat_minor": 0,
  "metadata": {
    "colab": {
      "name": "Lab-04 (Python Strings and Functions).ipynb",
      "provenance": [],
      "collapsed_sections": [],
      "authorship_tag": "ABX9TyPx8FVoO38L1MeAZ6fgg9Qm",
      "include_colab_link": true
    },
    "kernelspec": {
      "name": "python3",
      "display_name": "Python 3"
    },
    "language_info": {
      "name": "python"
    }
  },
  "cells": [
    {
      "cell_type": "markdown",
      "metadata": {
        "id": "view-in-github",
        "colab_type": "text"
      },
      "source": [
        "<a href=\"https://colab.research.google.com/github/eftekhar-hossain/Teaching/blob/main/Lab_04_(Python_Strings_and_Functions).ipynb\" target=\"_parent\"><img src=\"https://colab.research.google.com/assets/colab-badge.svg\" alt=\"Open In Colab\"/></a>"
      ]
    },
    {
      "cell_type": "markdown",
      "metadata": {
        "id": "C-BUBBYTWTYU"
      },
      "source": [
        "#ETE-408 Multimedia Communication Sessional\n",
        "\n",
        "Lab-04: **Python Strings and User defined functions**\n",
        "\n",
        "\n",
        "> Objective: \n",
        " 1. *Get familiar with various operations and methods of python strings.*\n",
        " 2. *Get familiar with user defined functions in pyhton.*\n"
      ]
    },
    {
      "cell_type": "markdown",
      "metadata": {
        "id": "9Au7iVkORz6M"
      },
      "source": [
        "#Strings"
      ]
    },
    {
      "cell_type": "markdown",
      "metadata": {
        "id": "76R6su74Rdy9"
      },
      "source": [
        "A string is a sequence of characters. You can access the characters one at a time with the bracket operator:"
      ]
    },
    {
      "cell_type": "code",
      "metadata": {
        "id": "OgcwiN5FODoR",
        "colab": {
          "base_uri": "https://localhost:8080/"
        },
        "outputId": "73a94bff-21cf-4a94-a8b1-6f02886271ec"
      },
      "source": [
        "fruit = 'banana' \n",
        "letter = fruit[1]\n",
        "print(letter)"
      ],
      "execution_count": 33,
      "outputs": [
        {
          "output_type": "stream",
          "name": "stdout",
          "text": [
            "a\n"
          ]
        }
      ]
    },
    {
      "cell_type": "markdown",
      "metadata": {
        "id": "8Hfbn51fJKgE"
      },
      "source": [
        "The second statement extracts the character at index position 1 from the fruit\n",
        "variable and assigns it to the ***letter*** variable."
      ]
    },
    {
      "cell_type": "markdown",
      "metadata": {
        "id": "DIPHYJuzJiNn"
      },
      "source": [
        "##Getting the length of a string using len\n",
        "\n",
        "*len* is a built-in function that returns the number of characters in a string:"
      ]
    },
    {
      "cell_type": "code",
      "metadata": {
        "id": "Wh5j0qgf3fG3",
        "colab": {
          "base_uri": "https://localhost:8080/"
        },
        "outputId": "c653ca3a-2c07-453f-866a-419962437ce5"
      },
      "source": [
        "fruit = 'banana'\n",
        "len(fruit)"
      ],
      "execution_count": 34,
      "outputs": [
        {
          "output_type": "execute_result",
          "data": {
            "text/plain": [
              "6"
            ]
          },
          "metadata": {},
          "execution_count": 34
        }
      ]
    },
    {
      "cell_type": "code",
      "metadata": {
        "id": "iJMGvmZK26SJ"
      },
      "source": [
        "#To get the last letter of a string, you might be tempted to try something like this:\n",
        "\n",
        "length = len(fruit)\n",
        "last = fruit[length]\n",
        "#print(last)"
      ],
      "execution_count": null,
      "outputs": []
    },
    {
      "cell_type": "markdown",
      "metadata": {
        "id": "j0HD59eyK66R"
      },
      "source": [
        "The reason for the ***IndexError*** is that there is no letter in ***“banana”*** with the index 6. Since we started counting at zero, the six letters are numbered 0 to 5. To get the last character, you have to subtract 1 from length:"
      ]
    },
    {
      "cell_type": "code",
      "metadata": {
        "id": "b7PJdxcpK5r7"
      },
      "source": [
        "last = fruit[length-1]\n",
        "print(last)\n"
      ],
      "execution_count": null,
      "outputs": []
    },
    {
      "cell_type": "markdown",
      "metadata": {
        "id": "6zT-nzwNPjTL"
      },
      "source": [
        "Alternatively, you can use negative indices, which count backward from the end of the string. The expression ***fruit[-1]*** yields the last letter, ***fruit[-2]*** yields the second to last, and so on."
      ]
    },
    {
      "cell_type": "markdown",
      "metadata": {
        "id": "TyIhiHq-QSfV"
      },
      "source": [
        "##Traversal through a string with a loop\n",
        "\n",
        "A lot of computations involve processing a string one character at a time. Often\n",
        "they start at the beginning, select each character in turn, do something to it, and continue until the end. This pattern of processing is called a *`traversal`*. One way to write a traversal is with a *`while`* loop:"
      ]
    },
    {
      "cell_type": "code",
      "metadata": {
        "colab": {
          "base_uri": "https://localhost:8080/"
        },
        "id": "C7npoN4oRDqn",
        "outputId": "1599df1b-05a3-420b-e6dc-401eae02b0b1"
      },
      "source": [
        "index = 0\n",
        "while index < len(fruit):\n",
        "  letter = fruit[index]\n",
        "  print(letter)\n",
        "  index = index + 1"
      ],
      "execution_count": 39,
      "outputs": [
        {
          "output_type": "stream",
          "name": "stdout",
          "text": [
            "b\n",
            "a\n",
            "n\n",
            "a\n",
            "n\n",
            "a\n"
          ]
        }
      ]
    },
    {
      "cell_type": "markdown",
      "metadata": {
        "id": "TsM8dgdyNG-L"
      },
      "source": [
        "This loop traverses the string and displays each letter on a line by itself. The\n",
        "loop condition is *`index < len(fruit)`*, so when ***index*** is equal to the length of\n",
        "the string, the condition is ***false***, and the body of the loop is not executed. The\n",
        "last character accessed is the one with the index ***len(fruit)-1***, which is the last\n",
        "character in the string."
      ]
    },
    {
      "cell_type": "code",
      "metadata": {
        "id": "4X21X-zoQPr7"
      },
      "source": [
        "# Exercise 1: Write a while loop that starts at the last character in the\n",
        "# string and works its way backwards to the first character in the string,\n",
        "# printing each letter on a separate line, except backwards.\n",
        "\n",
        "# Another way to write a traversal is with a for loop:\n",
        "\n",
        "for char in fruit:\n",
        "  print(char)\n"
      ],
      "execution_count": null,
      "outputs": []
    },
    {
      "cell_type": "code",
      "metadata": {
        "id": "HIfHvNnBuZFi"
      },
      "source": [
        "sent = \"Another way to write\"\n",
        "for char in sent:\n",
        "  print(char)"
      ],
      "execution_count": null,
      "outputs": []
    },
    {
      "cell_type": "markdown",
      "metadata": {
        "id": "Lz83bn-mNnqE"
      },
      "source": [
        "Each time through the loop, the next character in the string is assigned to the\n",
        "variable char. The loop continues until no characters are left."
      ]
    },
    {
      "cell_type": "markdown",
      "metadata": {
        "id": "vyCMDTw5O454"
      },
      "source": [
        "##String slices\n",
        "A segment of a string is called a slice. Selecting a slice is similar to selecting a character:\n",
        "\n",
        "The operator returns the part of the string from the **“n-th”** character to the **“m-th”** character, including the first but excluding the last.\n",
        "If you omit the first index (before the colon), the slice starts at the beginning of the string. If you omit the second index, the slice goes to the end of the string:"
      ]
    },
    {
      "cell_type": "code",
      "metadata": {
        "id": "dL5TD6wo6JD3",
        "colab": {
          "base_uri": "https://localhost:8080/"
        },
        "outputId": "9fd66ef4-17d9-415d-98dd-bd6d0738ef92"
      },
      "source": [
        "s = 'Monty Python'\n",
        "print(s[0:5])\n",
        "print(s[6:12])\n"
      ],
      "execution_count": 42,
      "outputs": [
        {
          "output_type": "stream",
          "name": "stdout",
          "text": [
            "Monty\n",
            "Python\n"
          ]
        }
      ]
    },
    {
      "cell_type": "code",
      "metadata": {
        "id": "jP2hx4tN6xJE",
        "colab": {
          "base_uri": "https://localhost:8080/"
        },
        "outputId": "c8656f84-1850-4d53-ddcd-99cb1c60b0c0"
      },
      "source": [
        "fruit = 'banana'\n",
        "print(fruit[:3])\n",
        "\n",
        "print(fruit[3:])\n"
      ],
      "execution_count": 46,
      "outputs": [
        {
          "output_type": "stream",
          "name": "stdout",
          "text": [
            "ban\n",
            "ana\n",
            "n\n"
          ]
        }
      ]
    },
    {
      "cell_type": "markdown",
      "metadata": {
        "id": "on-iZOjMPg8C"
      },
      "source": [
        "If the first index is greater than or equal to the second the result is an empty string, represented by two quotation marks:\n",
        "\n",
        "An empty string contains no characters and has length 0, but other than that, it\n",
        "is the same as any other string."
      ]
    },
    {
      "cell_type": "code",
      "metadata": {
        "id": "9jN6l0KmPjcN"
      },
      "source": [
        "######\n",
        "fruit = 'banana'\n",
        "fruit[3:3]"
      ],
      "execution_count": null,
      "outputs": []
    },
    {
      "cell_type": "code",
      "metadata": {
        "id": "dvuBq1aCPyhi"
      },
      "source": [
        "# Exercise 2: Given that fruit is a string, what does fruit[:] mean?\n",
        "fruit[:]"
      ],
      "execution_count": null,
      "outputs": []
    },
    {
      "cell_type": "markdown",
      "metadata": {
        "id": "ys7h8zsNPzxn"
      },
      "source": [
        "##Strings are immutable\n"
      ]
    },
    {
      "cell_type": "code",
      "metadata": {
        "id": "3oIsgHMlPiuy"
      },
      "source": [
        "greeting = 'Hello, world!'\n",
        "greeting[0] = 'J'"
      ],
      "execution_count": null,
      "outputs": []
    },
    {
      "cell_type": "markdown",
      "metadata": {
        "id": "oA5sz8DJQTs5"
      },
      "source": [
        "**`TypeError: 'str'`** object does not support item assignment\n",
        "The **`“object”`** in this case is the string and the **`“item”`** is the character you tried to assign. For now, an object is the same thing as a value, but we will refine that definition later. An item is one of the values in a sequence.\n",
        "\n",
        "The reason for the error is that strings are ***immutable***, which means you can’t\n",
        "change an existing string. The best you can do is create a new string that is a\n",
        "variation on the original:"
      ]
    },
    {
      "cell_type": "code",
      "metadata": {
        "id": "CX_uXtCo5Thg",
        "colab": {
          "base_uri": "https://localhost:8080/"
        },
        "outputId": "05f3e430-ad2c-4663-d2cd-5ca7fd65b1bd"
      },
      "source": [
        "# String Concatenation\n",
        "greeting = 'Hello, world!'\n",
        "new_greeting = 'J' + greeting[1:]\n",
        "print(new_greeting)"
      ],
      "execution_count": 50,
      "outputs": [
        {
          "output_type": "stream",
          "name": "stdout",
          "text": [
            "Jello, world!\n"
          ]
        }
      ]
    },
    {
      "cell_type": "markdown",
      "metadata": {
        "id": "owkBJgaGRdNE"
      },
      "source": [
        "This example concatenates a new first letter onto a slice of greeting. It has no\n",
        "effect on the original string."
      ]
    },
    {
      "cell_type": "markdown",
      "metadata": {
        "id": "-Wbe04_9RfN8"
      },
      "source": [
        "##Looping and counting\n",
        "The following program counts the number of times the letter “a” appears in a\n",
        "string:\n"
      ]
    },
    {
      "cell_type": "code",
      "metadata": {
        "colab": {
          "base_uri": "https://localhost:8080/"
        },
        "id": "DoD8GefERoOL",
        "outputId": "654a62db-4071-40ba-8e9d-217e2ab942de"
      },
      "source": [
        "word = 'banana'\n",
        "count = 0\n",
        "for letter in word:\n",
        "  if letter == 'a':\n",
        "    count = count + 1\n",
        "print(count)"
      ],
      "execution_count": 52,
      "outputs": [
        {
          "output_type": "stream",
          "name": "stdout",
          "text": [
            "3\n"
          ]
        }
      ]
    },
    {
      "cell_type": "markdown",
      "metadata": {
        "id": "NwW7gTrTRv7r"
      },
      "source": [
        "This program demonstrates another pattern of computation called a **`counter`**. The\n",
        "variable count is initialized to 0 and then incremented each time an “a” is found.\n",
        "When the loop exits, count contains the result: the total number of a’s."
      ]
    },
    {
      "cell_type": "markdown",
      "metadata": {
        "id": "MRB-AXYsR7CF"
      },
      "source": [
        "## The in operator\n",
        "The word in is a boolean operator that takes two strings and returns True if the\n",
        "first appears as a substring in the second:"
      ]
    },
    {
      "cell_type": "code",
      "metadata": {
        "id": "WRPJJz6-9doQ"
      },
      "source": [
        "print('a' in 'banana')\n",
        "print('seed' in 'banana')\n"
      ],
      "execution_count": null,
      "outputs": []
    },
    {
      "cell_type": "markdown",
      "metadata": {
        "id": "iwzio13gScRm"
      },
      "source": [
        "## String methods\n",
        "\n",
        "**Strings are an example of Python objects**. An object contains both data (the actual\n",
        "string itself) and methods, which are effectively functions that are built into the\n",
        "object and are available to any instance of the object.\n",
        "Python has a function called **`dir`** which lists the methods available for an object.\n",
        "The type function shows the type of an object and the dir function shows the\n",
        "available methods."
      ]
    },
    {
      "cell_type": "code",
      "metadata": {
        "id": "247_sYMqSuio"
      },
      "source": [
        "a = 'Hello world'\n",
        "type(a)\n",
        "\n",
        "dir(a)"
      ],
      "execution_count": null,
      "outputs": []
    },
    {
      "cell_type": "code",
      "metadata": {
        "colab": {
          "base_uri": "https://localhost:8080/"
        },
        "id": "FemKfAKSyeXe",
        "outputId": "738f0fa9-0bf0-46f8-a133-7f886906da76"
      },
      "source": [
        "w = \"Hello\"\n",
        "\n",
        "w.isalpha()\n",
        "\n",
        "w.find('l')\n",
        "\n",
        "#w.count('l')"
      ],
      "execution_count": 63,
      "outputs": [
        {
          "output_type": "execute_result",
          "data": {
            "text/plain": [
              "2"
            ]
          },
          "metadata": {},
          "execution_count": 63
        }
      ]
    },
    {
      "cell_type": "code",
      "metadata": {
        "colab": {
          "base_uri": "https://localhost:8080/"
        },
        "id": "VRJVRT-YTCTk",
        "outputId": "c9613d91-5cd6-4028-e793-6600d2bed1ae"
      },
      "source": [
        "help(str.capitalize)"
      ],
      "execution_count": 60,
      "outputs": [
        {
          "output_type": "stream",
          "name": "stdout",
          "text": [
            "Help on method_descriptor:\n",
            "\n",
            "capitalize(self, /)\n",
            "    Return a capitalized version of the string.\n",
            "    \n",
            "    More specifically, make the first character have upper case and the rest lower\n",
            "    case.\n",
            "\n"
          ]
        }
      ]
    },
    {
      "cell_type": "markdown",
      "metadata": {
        "id": "pP1kJVcRTJw6"
      },
      "source": [
        "Calling a method is similar to calling a function (it takes arguments and returnsa value) but the syntax is different. ***We call a method by appending the method name to the variable name using the period as a delimiter.***\n",
        "\n",
        "For example, the method *`upper`* takes a string and returns a new string with all uppercase letters:\n",
        "Instead of the function syntax upper(word), it uses the method syntax\n",
        "**`word.upper()`**."
      ]
    },
    {
      "cell_type": "code",
      "metadata": {
        "colab": {
          "base_uri": "https://localhost:8080/"
        },
        "id": "DEj4kWWrTcTg",
        "outputId": "86b74da7-d6ab-4d6e-db40-6acfe4a3fddb"
      },
      "source": [
        "word = 'banana'\n",
        "new_word = word.upper()\n",
        "print(new_word)\n"
      ],
      "execution_count": 64,
      "outputs": [
        {
          "output_type": "stream",
          "name": "stdout",
          "text": [
            "BANANA\n"
          ]
        }
      ]
    },
    {
      "cell_type": "markdown",
      "metadata": {
        "id": "-VdRDasRTk1h"
      },
      "source": [
        "This form of dot notation specifies the name of the method, **`upper`**, and the name of the string to apply the method to, **`word`**. The empty parentheses indicate that this method takes no argument.\n",
        "A method call is called an **`invocation`** ; in this case, we would say that we are invoking **`upper`** on the word.\n",
        "\n",
        "For example, there is a string method named **`find`** that searches for the position of one string within another:"
      ]
    },
    {
      "cell_type": "code",
      "metadata": {
        "colab": {
          "base_uri": "https://localhost:8080/"
        },
        "id": "gaKPF_aST1-o",
        "outputId": "c9e97f9d-b350-475f-ab62-0185fbe60bee"
      },
      "source": [
        "word = 'banana'\n",
        "index = word.find('a')\n",
        "print(index)\n"
      ],
      "execution_count": 65,
      "outputs": [
        {
          "output_type": "stream",
          "name": "stdout",
          "text": [
            "1\n"
          ]
        }
      ]
    },
    {
      "cell_type": "markdown",
      "metadata": {
        "id": "2wiLVLRWUD1v"
      },
      "source": [
        "In this example, we invoke **`find`** on word and pass the letter we are looking for as a parameter. The find method can find substrings as well as characters:\n"
      ]
    },
    {
      "cell_type": "code",
      "metadata": {
        "colab": {
          "base_uri": "https://localhost:8080/"
        },
        "id": "JyJDRrFuUJA3",
        "outputId": "d547edbe-f4b9-41c7-c0c1-0e1d5028eaee"
      },
      "source": [
        "word = 'banana'\n",
        "\n",
        "print(word.find('na'))\n",
        "\n",
        "#It can take as a second argument the index where it should start:\n",
        "\n",
        "print(word.find('na', 3))\n"
      ],
      "execution_count": 66,
      "outputs": [
        {
          "output_type": "stream",
          "name": "stdout",
          "text": [
            "2\n",
            "4\n"
          ]
        }
      ]
    },
    {
      "cell_type": "markdown",
      "metadata": {
        "id": "W0Q-3lccUWEW"
      },
      "source": [
        "One common task is to remove white space (spaces, tabs, or newlines) from the\n",
        "beginning and end of a string using the strip method:\n"
      ]
    },
    {
      "cell_type": "code",
      "metadata": {
        "colab": {
          "base_uri": "https://localhost:8080/",
          "height": 35
        },
        "id": "NXJE3w1vUYLR",
        "outputId": "00bae3dc-a599-4774-8de1-519644e37202"
      },
      "source": [
        "line = '       Here we go '\n",
        "line.strip()\n",
        "\n",
        "#line.lstrip()\n",
        "#line.rstrip()\n"
      ],
      "execution_count": 68,
      "outputs": [
        {
          "output_type": "execute_result",
          "data": {
            "application/vnd.google.colaboratory.intrinsic+json": {
              "type": "string"
            },
            "text/plain": [
              "'Here we go'"
            ]
          },
          "metadata": {},
          "execution_count": 68
        }
      ]
    },
    {
      "cell_type": "code",
      "metadata": {
        "colab": {
          "base_uri": "https://localhost:8080/"
        },
        "id": "V3ni8B2HUheE",
        "outputId": "f2bbe932-3382-4445-9d5d-60944a3f76d1"
      },
      "source": [
        "#Some methods such as startswith return boolean values.\n",
        "line = 'Have a nice day'\n",
        "print(line.startswith('Have'))\n",
        "print(line.startswith('h'))\n"
      ],
      "execution_count": 69,
      "outputs": [
        {
          "output_type": "stream",
          "name": "stdout",
          "text": [
            "True\n",
            "False\n"
          ]
        }
      ]
    },
    {
      "cell_type": "code",
      "metadata": {
        "colab": {
          "base_uri": "https://localhost:8080/"
        },
        "id": "SpnMJ301UtSI",
        "outputId": "cf61a66c-fcc9-42f4-96c6-9831f62a2697"
      },
      "source": [
        "# You will note that startswith requires case to match, so sometimes we take a line\n",
        "# and map it all to lowercase before we do any checking using the lower method.\n",
        "\n",
        "line = 'Have a nice day'\n",
        "line= line.lower()\n",
        "line.startswith('h')"
      ],
      "execution_count": 73,
      "outputs": [
        {
          "output_type": "execute_result",
          "data": {
            "text/plain": [
              "True"
            ]
          },
          "metadata": {},
          "execution_count": 73
        }
      ]
    },
    {
      "cell_type": "code",
      "metadata": {
        "colab": {
          "base_uri": "https://localhost:8080/"
        },
        "id": "E_ZCgKU9U0So",
        "outputId": "a677d3db-2afa-421c-f8bf-72c84a14026c"
      },
      "source": [
        "line.lower().startswith('h')"
      ],
      "execution_count": 74,
      "outputs": [
        {
          "output_type": "execute_result",
          "data": {
            "text/plain": [
              "True"
            ]
          },
          "metadata": {},
          "execution_count": 74
        }
      ]
    },
    {
      "cell_type": "markdown",
      "metadata": {
        "id": "aBDkkdXzU8xN"
      },
      "source": [
        "In the last example, the method **`lower`** is called and then we use **`startswith`** to see if the resulting lowercase string starts with the letter **`“h”`**. As long as we are careful with the order, we can make multiple method calls in a single expression."
      ]
    },
    {
      "cell_type": "markdown",
      "metadata": {
        "id": "EVNf3CO7VWvt"
      },
      "source": [
        "## Parsing strings"
      ]
    },
    {
      "cell_type": "markdown",
      "metadata": {
        "id": "TRkSW40-VclU"
      },
      "source": [
        "Often, we want to look into a string and find a substring. For example if we were presented a series of lines formatted as follows:\n",
        "\n",
        "`From stephen.marquard@ uct.ac.za Sat Jan 5 09:14:16 2008`\n",
        "\n",
        "and we wanted to pull out only the second half of the address **`(i.e., uct.ac.za)`**\n",
        "from each line, we can do this by using the **`find`** method and **`string slicing`**.\n",
        "\n",
        "First, we will find the position of the **`at-sign`** in the string. Then we will find the\n",
        "position of the first space after the **`at-sign`**. And then we will use string slicing to\n",
        "extract the portion of the string which we are looking for."
      ]
    },
    {
      "cell_type": "code",
      "metadata": {
        "colab": {
          "base_uri": "https://localhost:8080/"
        },
        "id": "xMzUSvZZVY0u",
        "outputId": "2b02a644-56c8-4291-a1f3-17b18687bc65"
      },
      "source": [
        "data = 'From stephen.marquard@uct.ac.za Sat Jan 5 09:14:16 2008',\n",
        "        \n",
        "atpos = data.find('@')\n",
        "print(atpos)\n",
        "\n",
        "sppos = data.find(' ',atpos)\n",
        "print(sppos)\n",
        "\n",
        "host = data[atpos+1:sppos]\n",
        "print(host)\n"
      ],
      "execution_count": 77,
      "outputs": [
        {
          "output_type": "stream",
          "name": "stdout",
          "text": [
            "21\n",
            "31\n",
            "uct.ac.za\n"
          ]
        }
      ]
    },
    {
      "cell_type": "code",
      "metadata": {
        "colab": {
          "base_uri": "https://localhost:8080/",
          "height": 52
        },
        "id": "jsXPlcL93r-G",
        "outputId": "37c9b034-7964-4b5a-eff8-34b4c9c63759"
      },
      "source": [
        "## Split related to list\n",
        "# data = 'From stephen.marquard@uct.ac.za Sat Jan 5 09:14:16 2008'\n",
        "# d = data.split()\n",
        "\n",
        "w  = 'Apple Banana Tom'\n",
        "t = w.split()\n",
        "print(t)\n",
        "\n",
        "a = 't'.join(t)\n"
      ],
      "execution_count": 89,
      "outputs": [
        {
          "output_type": "stream",
          "name": "stdout",
          "text": [
            "['Apple', 'Banana', 'Tom']\n"
          ]
        },
        {
          "output_type": "execute_result",
          "data": {
            "application/vnd.google.colaboratory.intrinsic+json": {
              "type": "string"
            },
            "text/plain": [
              "'AppletBananatTom'"
            ]
          },
          "metadata": {},
          "execution_count": 89
        }
      ]
    },
    {
      "cell_type": "code",
      "metadata": {
        "colab": {
          "base_uri": "https://localhost:8080/",
          "height": 35
        },
        "id": "0_Ov-yIa6-XH",
        "outputId": "fc757029-eb8d-4f59-89cb-21705febc9a3"
      },
      "source": [
        "w  = 'Apple'\n",
        "a = w.replace('A','b')\n",
        "a\n"
      ],
      "execution_count": 94,
      "outputs": [
        {
          "output_type": "execute_result",
          "data": {
            "application/vnd.google.colaboratory.intrinsic+json": {
              "type": "string"
            },
            "text/plain": [
              "'bpple'"
            ]
          },
          "metadata": {},
          "execution_count": 94
        }
      ]
    },
    {
      "cell_type": "code",
      "metadata": {
        "id": "FpqZMfsp7HRR"
      },
      "source": [
        "help(str.replace)"
      ],
      "execution_count": null,
      "outputs": []
    },
    {
      "cell_type": "markdown",
      "metadata": {
        "id": "7vl6b_hHWNZ6"
      },
      "source": [
        "We use a version of the find method which allows us to specify a position in\n",
        "the string where we want find to start looking. When we slice, we extract the\n",
        "characters from “one beyond the at-sign through up to but not including the space\n",
        "character”."
      ]
    },
    {
      "cell_type": "markdown",
      "metadata": {
        "id": "d5MbaOeQj3gf"
      },
      "source": [
        "#Functions\n",
        "\n",
        "**Why functions?**\n",
        "\n",
        "It may not be clear why it is worth the trouble to divide a program into functions.\n",
        "\n",
        "There are several reasons:\n",
        "\n",
        "\n",
        "\n",
        "\n",
        "\n",
        "*   Creating a new function gives you an opportunity to name a group of statements, which makes your program easier to read, understand, and debug.\n",
        "*   Functions can make a program smaller by eliminating repetitive code. Later,\n",
        "if you make a change, you only have to make it in one place.\n",
        "*   Dividing a long program into functions allows you to debug the parts one at\n",
        "a time and then assemble them into a working whole.\n",
        "\n",
        "*   Well-designed functions are often useful for many programs. Once you write\n",
        "and debug one, you can reuse it.\n",
        "\n"
      ]
    },
    {
      "cell_type": "markdown",
      "metadata": {
        "id": "IU-v9Hk6nIvV"
      },
      "source": [
        "**Parameters and arguments**\n",
        "\n",
        "\n",
        "Some of the built-in functions we have seen require arguments. For example, when\n",
        "you call `math.sin` you pass a number as an argument. Some functions take more\n",
        "than one argument: `math.pow `takes two, the base and the exponent.\n",
        "\n",
        "Inside the function, the arguments are assigned to variables called **`parameters`**.\n",
        "Here is an example of a user-defined function that takes an argument:"
      ]
    },
    {
      "cell_type": "code",
      "metadata": {
        "id": "loYzzETuoGYS"
      },
      "source": [
        "## argument without return value\n",
        "\n",
        "# void function ---- without return\n",
        "# user defined function\n",
        "\n",
        "def print_twice(bruce):\n",
        "  print(bruce)\n",
        "  print(bruce)\n",
        "\n",
        "# This function assigns the argument to a parameter named bruce. \n",
        "# When the function is called, it prints the value of the parameter (whatever it is) twice.\n",
        "# This function works with any value that can be printed.\n"
      ],
      "execution_count": 95,
      "outputs": []
    },
    {
      "cell_type": "code",
      "metadata": {
        "id": "CLDpKgQs9Y-f"
      },
      "source": [
        "len(fruit)"
      ],
      "execution_count": null,
      "outputs": []
    },
    {
      "cell_type": "code",
      "metadata": {
        "colab": {
          "base_uri": "https://localhost:8080/"
        },
        "id": "g4pCi9pfoLIE",
        "outputId": "5ac38a58-7676-446b-b2ac-bd0de97b6d25"
      },
      "source": [
        "a = print_twice('Spam')    #   ------> arguments\n",
        "#print_twice(17)\n",
        "\n",
        "print(a)"
      ],
      "execution_count": 98,
      "outputs": [
        {
          "output_type": "stream",
          "name": "stdout",
          "text": [
            "Spam\n",
            "Spam\n",
            "None\n"
          ]
        }
      ]
    },
    {
      "cell_type": "code",
      "metadata": {
        "id": "2dggNT09oPkP"
      },
      "source": [
        "# You can also use a variable as an argument:\n",
        "michael = 'Eric, the half a bee.'\n",
        "print_twice(michael)"
      ],
      "execution_count": null,
      "outputs": []
    },
    {
      "cell_type": "markdown",
      "metadata": {
        "id": "mO32Nb87ojbV"
      },
      "source": [
        "The name of the variable we pass as an argument (michael) has nothing to do\n",
        "with the name of the parameter (bruce). It doesn’t matter what the value was\n",
        "called back home (in the caller); here in print_twice, we call everybody bruce."
      ]
    },
    {
      "cell_type": "markdown",
      "metadata": {
        "id": "jIyYOYfco9jU"
      },
      "source": [
        "## Fruitful functions and void functions\n",
        "\n",
        "Some of the functions we are using, such as the **`math function`**s, yield results;\n",
        "for lack of a better name, I call them **`fruitful functions`**. Other functions, like\n",
        "**`print_twice`**, perform an action but don’t return a value. They are called **`void functions`**."
      ]
    },
    {
      "cell_type": "markdown",
      "metadata": {
        "id": "PnguFxNlpV4Q"
      },
      "source": [
        "When you call a fruitful function, you almost always want to do something with\n",
        "the result; for example, you might assign it to a variable or use it as part of an\n",
        "expression:"
      ]
    },
    {
      "cell_type": "code",
      "metadata": {
        "id": "LE09bCV6pSHc"
      },
      "source": [
        "import math\n",
        "x = cos(radians)\n",
        "golden = (sqrt(5) + 1) / 2\n",
        "\n",
        "# When you call a function in interactive mode, Python displays the result:\n",
        "\n",
        "math.sqrt(5)\n"
      ],
      "execution_count": null,
      "outputs": []
    },
    {
      "cell_type": "markdown",
      "metadata": {
        "id": "gh-9H2YIpfod"
      },
      "source": [
        "But in a script, if you call a fruitful function and do not store the result of the function in a variable, the return value vanishes into the mist!"
      ]
    },
    {
      "cell_type": "code",
      "metadata": {
        "id": "KeHpLDIDpru9"
      },
      "source": [
        "math.sqrt(5)\n",
        "\n",
        "# This script computes the square root of 5, but since it doesn’t store the result in\n",
        "# a variable or display the result, it is not very useful.\n"
      ],
      "execution_count": null,
      "outputs": []
    },
    {
      "cell_type": "code",
      "metadata": {
        "colab": {
          "base_uri": "https://localhost:8080/"
        },
        "id": "k21thIOKpyda",
        "outputId": "ef221531-cbed-4eb9-f027-ca3c6da27066"
      },
      "source": [
        "\n",
        "# Void functions might display something on the screen or have some other effect,\n",
        "# but they don’t have a return value. If you try to assign the result to a variable,\n",
        "# you get a special value called None.\n",
        "\n",
        "result = print_twice('Bing')\n",
        "print(result)"
      ],
      "execution_count": 100,
      "outputs": [
        {
          "output_type": "stream",
          "name": "stdout",
          "text": [
            "Bing\n",
            "Bing\n",
            "None\n"
          ]
        }
      ]
    },
    {
      "cell_type": "markdown",
      "metadata": {
        "id": "ePF__0tLp9FQ"
      },
      "source": [
        "**To return a result from a function, we use the return statement in our function** \n",
        "\n",
        "For example, we could make a very simple function called **`addtwo`** that adds two\n",
        "numbers together and returns a result."
      ]
    },
    {
      "cell_type": "code",
      "metadata": {
        "id": "X3u0VFGJqCTg"
      },
      "source": [
        "# arguments with return value\n",
        "\n",
        "def addtwo(a, b):\n",
        "  added = a + b\n",
        "  return added\n"
      ],
      "execution_count": 102,
      "outputs": []
    },
    {
      "cell_type": "code",
      "metadata": {
        "id": "Cxftq340qH3D"
      },
      "source": [
        "x = addtwo(3, 5)\n",
        "# print(x)"
      ],
      "execution_count": null,
      "outputs": []
    },
    {
      "cell_type": "code",
      "metadata": {
        "id": "ufdJPmnK_vmP"
      },
      "source": [
        "# arguments with return value\n",
        "\n",
        "def arith(a,b):\n",
        "  added = a + b\n",
        "  sub = a- b\n",
        "  m = a*b\n",
        "  return added, sub , m\n"
      ],
      "execution_count": 106,
      "outputs": []
    },
    {
      "cell_type": "code",
      "metadata": {
        "id": "nH1lJtnF_-6T"
      },
      "source": [
        "x,y,z = arith(3)\n",
        "\n",
        "print(x)\n",
        "print(y)\n",
        "print(z)\n"
      ],
      "execution_count": null,
      "outputs": []
    },
    {
      "cell_type": "markdown",
      "metadata": {
        "id": "thgufqabF0gp"
      },
      "source": [
        "#Practice Excercises\n",
        "1. Take the following Python code that stores a string:\n",
        "\n",
        "      ```str = 'X-DSPAM-Confidence:0.8475' ```\n",
        "\n",
        "  Use **find** and **string slicing** to extract the portion of the string after the colon character and then use the float function to convert the extracted string into a floating point number.\n",
        "\n",
        "2. Write a Python program to get a string made of the first 2 and the last 2 chars from a given a string. If the string length is less than 2, return instead of the empty string.\n",
        "  ```\n",
        "  Sample String : 'w3resource'\n",
        "  Expected Result : 'w3ce'\n",
        "  Sample String : 'w3'\n",
        "  Expected Result : 'w3w3'\n",
        "  Sample String : ' w'\n",
        "  Expected Result : Empty String\n",
        "```\n",
        "\n",
        "3.  Write a Python program to add 'ing' at the end of a given string (length should be at least 3). If the given string already ends with 'ing' then add 'ly' instead. If the string length of the given string is less than 3, leave it unchanged. (use endswith)\n",
        "  ```\n",
        "  Sample String : 'abc'\n",
        "  Expected Result : 'abcing'\n",
        "  Sample String : 'string'\n",
        "  Expected Result : 'stringly'\n",
        "  ```\n",
        "4. Write a Python program to find the first appearance of the substring 'not' and 'poor' from a given string, if 'not' follows the 'poor', replace the whole 'not'...'poor' substring with 'good'. Return the resulting string. \n",
        "  ```\n",
        "  Sample String : 'The lyrics is not that poor!'\n",
        "  'The lyrics is poor!'\n",
        "  Expected Result : 'The lyrics is good!'\n",
        "  'The lyrics is poor!'\n",
        "  ```\n",
        "\n",
        "5. Rewrite your pay computation (from lab-02) with time-and-a-half for overtime and create a function called computepay which takes two parameters\n",
        "(hours and rate).\n",
        "  ```\n",
        "  Enter Hours: 45\n",
        "  Enter Rate: 10\n",
        "  Pay: 475.0\n",
        "  ```\n",
        "\n",
        "6. Rewrite the grade program from the previous lab(02) using\n",
        "a function called computegrade that takes a score as its parameter and\n",
        "returns a grade as a string.  \n",
        "  ```\n",
        "  Score Grade\n",
        "  >= 0.9 A\n",
        "  >= 0.8 B\n",
        "  >= 0.7 C\n",
        "  >= 0.6 D\n",
        "  < 0.6 F\n",
        "  ```\n",
        "    ```\n",
        "    Enter score: 0.95\n",
        "    A\n",
        "    Enter score: perfect\n",
        "    Bad score\n",
        "    Enter score: 10.0\n",
        "    Bad score\n",
        "    Enter score: 0.75\n",
        "    C\n",
        "    Enter score: 0.5\n",
        "    ```\n",
        "\n",
        "\n",
        "\n",
        "\n",
        "\n",
        "\n",
        "\n"
      ]
    },
    {
      "cell_type": "markdown",
      "metadata": {
        "id": "8S2gXlr9-CqC"
      },
      "source": [
        "#References:\n",
        "1. [Programiz.com](https://www.programiz.com/python-programming/operators)\n",
        "2. [Python for Everybody-Coursera](https://www.coursera.org/learn/python)"
      ]
    }
  ]
}
