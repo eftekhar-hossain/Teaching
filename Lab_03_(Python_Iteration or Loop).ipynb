{
  "nbformat": 4,
  "nbformat_minor": 0,
  "metadata": {
    "colab": {
      "name": "Lab-03 (Python Iteration and Functions).ipynb",
      "provenance": [],
      "collapsed_sections": [],
      "authorship_tag": "ABX9TyPRRIZ6mPpSEjJY8mptHBsI",
      "include_colab_link": true
    },
    "kernelspec": {
      "name": "python3",
      "display_name": "Python 3"
    },
    "language_info": {
      "name": "python"
    }
  },
  "cells": [
    {
      "cell_type": "markdown",
      "metadata": {
        "id": "view-in-github",
        "colab_type": "text"
      },
      "source": [
        "<a href=\"https://colab.research.google.com/github/eftekhar-hossain/Teaching/blob/main/Lab_03_(Python_Iteration%20or%20Loop).ipynb\" target=\"_parent\"><img src=\"https://colab.research.google.com/assets/colab-badge.svg\" alt=\"Open In Colab\"/></a>"
      ]
    },
    {
      "cell_type": "markdown",
      "metadata": {
        "id": "C-BUBBYTWTYU"
      },
      "source": [
        "#ETE-407 Multimedia Communication Sessional\n",
        "\n",
        "Lab-03: **Introduction to Python Iteration or Loops**\n",
        "\n",
        "\n",
        "> Objective: \n",
        " 1. *Get familiar with the Python control flow statements such as for loop and while loop.*\n",
        " 2. *Write Programs using python loops.*"
      ]
    },
    {
      "cell_type": "markdown",
      "metadata": {
        "id": "9Au7iVkORz6M"
      },
      "source": [
        "#For Loop"
      ]
    },
    {
      "cell_type": "markdown",
      "metadata": {
        "id": "76R6su74Rdy9"
      },
      "source": [
        "Sometimes we want to loop through a set of things such as a **list of words**, **the lines in a file** bold text, or a **list of numbers**. When we have a list of things to loop through, we can construct a definite loop using a for statement. We call the while statement an indefinite loop because it simply loops until some condition becomes False, whereas the for loop is looping through a known set of items so it runs through as many iterations as there are items in the set."
      ]
    },
    {
      "cell_type": "markdown",
      "metadata": {
        "id": "2jgLrtimOERL"
      },
      "source": [
        "The for loop in Python is used to iterate over a sequence (list, tuple, string) or other iterable objects. Iterating over a sequence is called traversal."
      ]
    },
    {
      "cell_type": "code",
      "metadata": {
        "id": "OgcwiN5FODoR"
      },
      "source": [
        "# Syntax of for Loop\n",
        "\n",
        "'''\n",
        "for val in sequence:\n",
        "     loop body\n",
        "'''     "
      ],
      "execution_count": null,
      "outputs": []
    },
    {
      "cell_type": "code",
      "metadata": {
        "id": "Wh5j0qgf3fG3"
      },
      "source": [
        "## data structure \n",
        "\n",
        "# list\n",
        "# tuple\n",
        "# dictionary"
      ],
      "execution_count": null,
      "outputs": []
    },
    {
      "cell_type": "code",
      "metadata": {
        "colab": {
          "base_uri": "https://localhost:8080/"
        },
        "id": "iJMGvmZK26SJ",
        "outputId": "1788bd2c-8396-47c0-8c12-c7724b793f48"
      },
      "source": [
        "a = [1,2,3,5,6]\n",
        "\n",
        "\n",
        "for (int i =0; i<5; i++)\n",
        "\n",
        "for i in a:\n",
        "  print(i)"
      ],
      "execution_count": 10,
      "outputs": [
        {
          "output_type": "stream",
          "name": "stdout",
          "text": [
            "1\n",
            "2\n",
            "3\n",
            "5\n",
            "6\n"
          ]
        }
      ]
    },
    {
      "cell_type": "markdown",
      "metadata": {
        "id": "6zT-nzwNPjTL"
      },
      "source": [
        "Here, **`val `**is the variable that takes the value of the item inside the sequence on each iteration. Loop continues until we reach the last item in the sequence. The body of for loop is separated from the rest of the code using indentation."
      ]
    },
    {
      "cell_type": "markdown",
      "metadata": {
        "id": "TyIhiHq-QSfV"
      },
      "source": [
        "##The range() function\n",
        "\n",
        "We can generate a sequence of numbers using **`range()`** function. **`range(10)`** will generate numbers from 0 to 9 (10 numbers).\n",
        "\n",
        "We can also define the start, stop and step size as **`range(start, stop,step_size)`**. step_size defaults to 1 if not provided."
      ]
    },
    {
      "cell_type": "code",
      "metadata": {
        "colab": {
          "base_uri": "https://localhost:8080/"
        },
        "id": "C7npoN4oRDqn",
        "outputId": "65e07b43-ee47-4e02-9fd0-c7bd61f59143"
      },
      "source": [
        "print(range(10))\n",
        "\n",
        "print(list(range(10)))\n",
        "\n",
        "print(list(range(2, 8)))\n",
        "\n",
        "print(list(range(2, 20, 3)))"
      ],
      "execution_count": 11,
      "outputs": [
        {
          "output_type": "stream",
          "name": "stdout",
          "text": [
            "range(0, 10)\n",
            "[0, 1, 2, 3, 4, 5, 6, 7, 8, 9]\n",
            "[2, 3, 4, 5, 6, 7]\n",
            "[2, 5, 8, 11, 14, 17]\n"
          ]
        }
      ]
    },
    {
      "cell_type": "code",
      "metadata": {
        "colab": {
          "base_uri": "https://localhost:8080/"
        },
        "id": "4X21X-zoQPr7",
        "outputId": "65f92ed9-b0b1-4ebe-a624-39658761d7d6"
      },
      "source": [
        "# Python program to illustrate\n",
        "# Iterating over range 0 to n-1\n",
        " \n",
        "n = 4\n",
        "for i in range(0, n):\n",
        "    print(i)"
      ],
      "execution_count": 12,
      "outputs": [
        {
          "output_type": "stream",
          "name": "stdout",
          "text": [
            "0\n",
            "1\n",
            "2\n",
            "3\n"
          ]
        }
      ]
    },
    {
      "cell_type": "code",
      "metadata": {
        "id": "dL5TD6wo6JD3"
      },
      "source": [
        "#function(argument)\n",
        "\n",
        "# argument\n",
        "# return value\n",
        "\n",
        "b = \"Hello World\"\n",
        "\n",
        "len(numbers)"
      ],
      "execution_count": null,
      "outputs": []
    },
    {
      "cell_type": "code",
      "metadata": {
        "id": "jP2hx4tN6xJE"
      },
      "source": [
        "numbers = [6, 5, 3, 8, 4, 2, 5, 4, 11]\n",
        "max(numbers)"
      ],
      "execution_count": null,
      "outputs": []
    },
    {
      "cell_type": "markdown",
      "metadata": {
        "id": "ys7h8zsNPzxn"
      },
      "source": [
        "##Example-1"
      ]
    },
    {
      "cell_type": "code",
      "metadata": {
        "colab": {
          "base_uri": "https://localhost:8080/"
        },
        "id": "3oIsgHMlPiuy",
        "outputId": "275a5e74-e19d-49df-af9c-f4a7ca2f4e2c"
      },
      "source": [
        "# Program to find the sum of all numbers stored in a list\n",
        "\n",
        "# List of numbers\n",
        "numbers = [6, 5, 3, 8, 4, 2, 5, 4, 11]\n",
        "\n",
        "# variable to store the sum\n",
        "sum = 0\n",
        "\n",
        "# iterate over the list\n",
        "for number in numbers:\n",
        "    sum = sum+number\n",
        "print(\"The sum is\", sum)"
      ],
      "execution_count": 16,
      "outputs": [
        {
          "output_type": "stream",
          "name": "stdout",
          "text": [
            "The sum is 48\n"
          ]
        }
      ]
    },
    {
      "cell_type": "code",
      "metadata": {
        "id": "CX_uXtCo5Thg"
      },
      "source": [
        "sum = 0\n",
        "for i in range(len(numbers)):\n",
        "  sum = sum + numbers[i]\n",
        "  print(sum)\n"
      ],
      "execution_count": null,
      "outputs": []
    },
    {
      "cell_type": "code",
      "metadata": {
        "id": "v_SUYsHbSBku"
      },
      "source": [
        "# Program to wish the friends with new year greetings \n",
        "\n",
        "friends = ['Joseph', 'Glenn', 'Sally']\n",
        "\n",
        "for friend in friends:\n",
        "  print('Happy New Year:', friend)\n",
        "  \n",
        "print('Done!')"
      ],
      "execution_count": null,
      "outputs": []
    },
    {
      "cell_type": "code",
      "metadata": {
        "id": "WRPJJz6-9doQ"
      },
      "source": [
        "for i in range(len(friends)):\n",
        "  print('Happy New Year:', friends[i])"
      ],
      "execution_count": null,
      "outputs": []
    },
    {
      "cell_type": "markdown",
      "metadata": {
        "id": "X98kyDiKSqhV"
      },
      "source": [
        "In particular, **friend** is the iteration variable for the for loop. The variable friend changes for each iteration of the loop and controls when the for loop completes. The iteration variable steps successively through the three strings stored in the **friends** variable."
      ]
    },
    {
      "cell_type": "markdown",
      "metadata": {
        "id": "IChS2KRyUQEK"
      },
      "source": [
        "##Example-2"
      ]
    },
    {
      "cell_type": "code",
      "metadata": {
        "id": "QX6pr8h9TkTu"
      },
      "source": [
        "# program to count the number of items in a list\n",
        "\n",
        "count = 0\n",
        "for itervar in [3, 41, 12, 9, 74, 15]:\n",
        "  count = count + 1\n",
        "print('Count: ', count)"
      ],
      "execution_count": null,
      "outputs": []
    },
    {
      "cell_type": "code",
      "metadata": {
        "id": "prFDyS4CTz1b"
      },
      "source": [
        "# computes the total of a set of numbers\n",
        "total = 0\n",
        "for itervar in [3, 41, 12, 9, 74, 15]:\n",
        "  total = total + itervar\n",
        "print('Total: ', total)"
      ],
      "execution_count": null,
      "outputs": []
    },
    {
      "cell_type": "markdown",
      "metadata": {
        "id": "5o6BmUJqUUUv"
      },
      "source": [
        "##Example-3"
      ]
    },
    {
      "cell_type": "code",
      "metadata": {
        "colab": {
          "base_uri": "https://localhost:8080/"
        },
        "id": "i_XRnkgJUXOq",
        "outputId": "a5ea81a4-b1b2-44fa-d2ae-9d1c3a1734bf"
      },
      "source": [
        "#To find the largest value in a list or sequence, we construct the following loop:\n",
        "\n",
        "largest = None\n",
        "print('Before:', largest)\n",
        "\n",
        "for itervar in [3, 41, 12, 9, 74, 15]:\n",
        "  if largest is None or itervar > largest :\n",
        "    largest = itervar\n",
        "  print('Loop:', itervar, largest)\n",
        "\n",
        "print('Largest:', largest)"
      ],
      "execution_count": 32,
      "outputs": [
        {
          "output_type": "stream",
          "name": "stdout",
          "text": [
            "Before: None\n",
            "Loop: 3 3\n",
            "Loop: 41 41\n",
            "Loop: 12 41\n",
            "Loop: 9 41\n",
            "Loop: 74 74\n",
            "Loop: 15 74\n",
            "Largest: 74\n"
          ]
        }
      ]
    },
    {
      "cell_type": "code",
      "metadata": {
        "id": "xEaS4ok-Ab7E"
      },
      "source": [
        "#To find the largest value in a list or sequence, we construct the following loop:\n",
        "\n",
        "numbers = [3, 41, 12, 9, 74, 15]\n",
        "largest= numbers[0]\n",
        "\n",
        "for itervar in numbers:\n",
        "  if itervar > largest :\n",
        "    largest = itervar\n",
        "  print('Loop:', itervar, largest)\n",
        "\n",
        "print('Largest:', largest)"
      ],
      "execution_count": null,
      "outputs": []
    },
    {
      "cell_type": "markdown",
      "metadata": {
        "id": "QOU-zQTmVDN1"
      },
      "source": [
        "#While Loop\n",
        "\n",
        "The while loop in Python is used to iterate over a block of code as long as the test expression (condition) is true.\n",
        "\n",
        "We generally use this loop when we don't know the number of times to iterate beforehand."
      ]
    },
    {
      "cell_type": "code",
      "metadata": {
        "id": "AIhHUZFyVFrl"
      },
      "source": [
        "# Program to add natural\n",
        "# numbers up to \n",
        "# sum = 1+2+3+...+n\n",
        "\n",
        "# To take input from the user,\n",
        "# n = int(input(\"Enter n: \"))\n",
        "\n",
        "n = 10\n",
        "\n",
        "# initialize sum and counter\n",
        "sum = 0\n",
        "i = 1\n",
        "\n",
        "while i <= n:\n",
        "    sum = sum + i\n",
        "    i = i+1    # update counter\n",
        "\n",
        "# print the sum\n",
        "print(\"The sum is\", sum)"
      ],
      "execution_count": null,
      "outputs": []
    },
    {
      "cell_type": "code",
      "metadata": {
        "id": "kMrQBzjXHE4j"
      },
      "source": [
        "while True:\n",
        "  if inp = 'Done':\n",
        "    break"
      ],
      "execution_count": null,
      "outputs": []
    },
    {
      "cell_type": "code",
      "metadata": {
        "id": "11YWhoAsWwty"
      },
      "source": [
        "# Print i as long as i is less than 6:\n",
        "i = 1\n",
        "while i < 6:\n",
        "  print(i)\n",
        "  i += 1"
      ],
      "execution_count": null,
      "outputs": []
    },
    {
      "cell_type": "markdown",
      "metadata": {
        "id": "jy9T5vLuXwlW"
      },
      "source": [
        "##Break and Continue Statement"
      ]
    },
    {
      "cell_type": "markdown",
      "metadata": {
        "id": "Kp1PG-xIYBtY"
      },
      "source": [
        "In Python, **`break`** and **`continue`** statements can alter the flow of a normal loop.\n",
        "Loops iterate over a block of code until the test expression is false, but sometimes we wish to terminate the current iteration or even the whole loop without checking test expression.\n",
        "\n",
        "The break and continue statements are used in these cases."
      ]
    },
    {
      "cell_type": "code",
      "metadata": {
        "id": "NkJFLKIkX0KV"
      },
      "source": [
        "# Use of break statement inside the loop\n",
        "\n",
        "for val in \"string\":\n",
        "    if val == \"i\":\n",
        "        break\n",
        "    print(val)\n",
        "\n",
        "print(\"The end\")"
      ],
      "execution_count": null,
      "outputs": []
    },
    {
      "cell_type": "markdown",
      "metadata": {
        "id": "4RhVS8OTYojP"
      },
      "source": [
        "In this program, we iterate through the \"string\" sequence. We check if the letter is **`i`**, upon which we break from the loop. Hence, we see in our output that all the letters up till i gets printed. After that, the loop terminates."
      ]
    },
    {
      "cell_type": "code",
      "metadata": {
        "id": "nNhZy9HQYu6A"
      },
      "source": [
        "# Program to show the use of continue statement inside loops\n",
        "\n",
        "for val in \"string\":\n",
        "    if val == \"i\":\n",
        "        continue\n",
        "    print(val)\n",
        "\n",
        "print(\"The end\")"
      ],
      "execution_count": null,
      "outputs": []
    },
    {
      "cell_type": "markdown",
      "metadata": {
        "id": "a6dYEsUBY1-W"
      },
      "source": [
        "This program is same as the above example except the **` break`** statement has been replaced with **`continue`**.\n",
        "\n",
        "We continue with the loop, if the string is i, not executing the rest of the block. Hence, we see in our output that all the letters except i gets printed."
      ]
    },
    {
      "cell_type": "markdown",
      "metadata": {
        "id": "BRJgSDchv0l5"
      },
      "source": [
        "##Exception Handling (Try except)\n",
        "\n",
        "Python has built-in exceptions which can output an error. If an error occurs while running the program, it’s called an exception. If an exception occurs, the type of exception is shown. Exceptions needs to be dealt with or the program will crash. To handle exceptions, the try-catch block is used.\n",
        "  ```\n",
        "  try:\n",
        "      <do something>\n",
        "  except Exception:\n",
        "      <handle the error>\n",
        "  ```\n",
        "\n"
      ]
    },
    {
      "cell_type": "code",
      "metadata": {
        "colab": {
          "base_uri": "https://localhost:8080/"
        },
        "id": "w9Sl_Je4EA_D",
        "outputId": "4acfdc09-24ae-40eb-db54-a38d8b0697e1"
      },
      "source": [
        "##  score  1> or str    bad score\n",
        "score = input(\"Enter a score: \")\n",
        "\n",
        "try:\n",
        "  score = float(score)\n",
        "  if score> 0.8:\n",
        "      print(\"Grade A+ \")\n",
        "  elif 0.7<score<0.8:\n",
        "      print(\"Grade B+ \")  \n",
        "  else:\n",
        "      print(\"Failed\")  \n",
        "except:\n",
        "  print(\"Bad Score\")\n",
        "\n"
      ],
      "execution_count": 54,
      "outputs": [
        {
          "output_type": "stream",
          "name": "stdout",
          "text": [
            "Enter a score: 0.78\n",
            "Grade B+ \n"
          ]
        }
      ]
    },
    {
      "cell_type": "markdown",
      "metadata": {
        "id": "imFH-g-ExAZg"
      },
      "source": [
        "The idea of the try-except block is this:\n",
        "\n",
        "**try:** the code with the exception(s) to catch. If an exception is raised, it jumps straight into the except block.\n",
        "\n",
        "**except:** this code is only executed if an exception occured in the try block. The except block is required with a try block, even if it contains only the pass statement."
      ]
    },
    {
      "cell_type": "markdown",
      "metadata": {
        "id": "thgufqabF0gp"
      },
      "source": [
        "#Practice Excercises\n",
        "1. Write a program which repeatedly reads numbers until the\n",
        "user enters “done”. Once “done” is entered, print out the total, count,\n",
        "and average of the numbers. If the user enters anything other than a\n",
        "number, detect their mistake using try and except and print an error\n",
        "message and skip to the next number.   \n",
        "```\n",
        "          Enter a number: 4\n",
        "          Enter a number: 5\n",
        "          Enter a number: bad data\n",
        "          Invalid input\n",
        "          Enter a number: 7\n",
        "          Enter a number: done\n",
        "          16 3 5.333333333333333\n",
        "```\n",
        "2. Write a Python program to find those numbers which are divisible by 7 and multiple of 5, between 1500 and 2700 (both included).\n",
        "\n",
        "3. Write a Python program to count the number of even and odd numbers from a series of numbers.\n",
        "```\n",
        "    Sample numbers : numbers = (1, 2, 3, 4, 5, 6, 7, 8, 9) \n",
        "    Expected Output :\n",
        "    Number of even numbers : 5\n",
        "    Number of odd numbers : 4\n",
        "```\n",
        "4. Write a Python program that prints all the numbers from 0 to 6 except 3 and 6.\n",
        "5. Write a Python program to get the Fibonacci series between 0 to 50.\n",
        "6. Write a program to display all prime numbers within a range.\n",
        "7. Write a program to accept a number from a user and calculate the sum of all numbers from 1 to a given number.\n",
        "```\n",
        "          Enter number 10\n",
        "          Sum is:  55\n",
        "```\n",
        "\n",
        "\n"
      ]
    },
    {
      "cell_type": "markdown",
      "metadata": {
        "id": "8S2gXlr9-CqC"
      },
      "source": [
        "#References:\n",
        "1. [Programiz.com](https://www.programiz.com/python-programming/operators)\n",
        "2. [Python for Everybody-Coursera](https://www.coursera.org/learn/python)"
      ]
    }
  ]
}